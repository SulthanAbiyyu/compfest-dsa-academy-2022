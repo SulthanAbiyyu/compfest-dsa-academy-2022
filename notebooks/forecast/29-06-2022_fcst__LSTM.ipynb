{
 "cells": [
  {
   "cell_type": "code",
   "execution_count": 2,
   "metadata": {},
   "outputs": [],
   "source": [
    "import numpy as np\n",
    "import pandas as pd\n",
    "import matplotlib.pyplot as plt\n",
    "import tensorflow as tf\n",
    "from tensorflow import keras\n",
    "from keras.layers import Dense, LSTM, Dropout\n",
    "from keras.models import Sequential\n",
    "from keras.callbacks import EarlyStopping\n",
    "from datetime import timedelta\n",
    "from sklearn.preprocessing import MinMaxScaler\n",
    "from sklearn.metrics import mean_squared_error\n",
    "\n",
    "import warnings\n",
    "warnings.filterwarnings(\"ignore\")"
   ]
  },
  {
   "cell_type": "code",
   "execution_count": 3,
   "metadata": {},
   "outputs": [],
   "source": [
    "np.random.seed(2022)"
   ]
  },
  {
   "cell_type": "markdown",
   "metadata": {},
   "source": [
    "## Forecast positif harian"
   ]
  },
  {
   "cell_type": "code",
   "execution_count": 5,
   "metadata": {},
   "outputs": [
    {
     "data": {
      "text/html": [
       "<div>\n",
       "<style scoped>\n",
       "    .dataframe tbody tr th:only-of-type {\n",
       "        vertical-align: middle;\n",
       "    }\n",
       "\n",
       "    .dataframe tbody tr th {\n",
       "        vertical-align: top;\n",
       "    }\n",
       "\n",
       "    .dataframe thead th {\n",
       "        text-align: right;\n",
       "    }\n",
       "</style>\n",
       "<table border=\"1\" class=\"dataframe\">\n",
       "  <thead>\n",
       "    <tr style=\"text-align: right;\">\n",
       "      <th></th>\n",
       "      <th>Positif Harian</th>\n",
       "    </tr>\n",
       "    <tr>\n",
       "      <th>Tanggal</th>\n",
       "      <th></th>\n",
       "    </tr>\n",
       "  </thead>\n",
       "  <tbody>\n",
       "    <tr>\n",
       "      <th>2020-03-01</th>\n",
       "      <td>0</td>\n",
       "    </tr>\n",
       "    <tr>\n",
       "      <th>2020-03-02</th>\n",
       "      <td>0</td>\n",
       "    </tr>\n",
       "    <tr>\n",
       "      <th>2020-03-03</th>\n",
       "      <td>3</td>\n",
       "    </tr>\n",
       "    <tr>\n",
       "      <th>2020-03-04</th>\n",
       "      <td>0</td>\n",
       "    </tr>\n",
       "    <tr>\n",
       "      <th>2020-03-05</th>\n",
       "      <td>4</td>\n",
       "    </tr>\n",
       "  </tbody>\n",
       "</table>\n",
       "</div>"
      ],
      "text/plain": [
       "            Positif Harian\n",
       "Tanggal                   \n",
       "2020-03-01               0\n",
       "2020-03-02               0\n",
       "2020-03-03               3\n",
       "2020-03-04               0\n",
       "2020-03-05               4"
      ]
     },
     "execution_count": 5,
     "metadata": {},
     "output_type": "execute_result"
    }
   ],
   "source": [
    "data = pd.read_excel(\n",
    "    \"../../data/Daily Update Data Agregat Covid-19 Jakarta.xlsx\", sheet_name=\"Data Jakarta\")\n",
    "positif_harian = data[[\"Tanggal\", \"Positif Harian\"]]\n",
    "positif_harian[\"Tanggal\"] = pd.to_datetime(positif_harian[\"Tanggal\"])\n",
    "positif_harian.set_index(\"Tanggal\", inplace=True)\n",
    "positif_harian.head()"
   ]
  },
  {
   "cell_type": "code",
   "execution_count": 10,
   "metadata": {},
   "outputs": [
    {
     "name": "stdout",
     "output_type": "stream",
     "text": [
      "(680, 1) (171, 1)\n"
     ]
    }
   ],
   "source": [
    "s = MinMaxScaler(feature_range=(0, 1))\n",
    "positif_harian_scaled = s.fit_transform(positif_harian)\n",
    "\n",
    "train_indices = len(positif_harian_scaled) * 0.8\n",
    "test_indices = len(positif_harian_scaled) * 0.2\n",
    "train_data = positif_harian_scaled[:int(train_indices)]\n",
    "test_data = positif_harian_scaled[int(train_indices):]\n",
    "\n",
    "print(train_data.shape, test_data.shape)"
   ]
  },
  {
   "cell_type": "code",
   "execution_count": 17,
   "metadata": {},
   "outputs": [],
   "source": [
    "def make_dataset(dataset, look_back=1):\n",
    "    dataX, dataY = [], []\n",
    "    for i in range(len(dataset) - look_back):\n",
    "        a = dataset[i:(i + look_back), 0]\n",
    "        dataX.append(a)\n",
    "        dataY.append(dataset[i + look_back, 0])\n",
    "    return np.array(dataX), np.array(dataY)\n",
    "\n",
    "LOOK_BACK = 1\n",
    "X_train, y_train = make_dataset(train_data, look_back=LOOK_BACK)\n",
    "X_test, y_test = make_dataset(test_data, look_back=LOOK_BACK)"
   ]
  },
  {
   "cell_type": "code",
   "execution_count": 18,
   "metadata": {},
   "outputs": [],
   "source": [
    "X_train = np.reshape(X_train, (X_train.shape[0], 1, X_train.shape[1]))\n",
    "X_test = np.reshape(X_test, (X_test.shape[0], 1, X_test.shape[1]))"
   ]
  },
  {
   "cell_type": "code",
   "execution_count": 19,
   "metadata": {},
   "outputs": [
    {
     "name": "stdout",
     "output_type": "stream",
     "text": [
      "Model: \"sequential_1\"\n",
      "_________________________________________________________________\n",
      " Layer (type)                Output Shape              Param #   \n",
      "=================================================================\n",
      " lstm (LSTM)                 (None, 4)                 96        \n",
      "                                                                 \n",
      " dense (Dense)               (None, 1)                 5         \n",
      "                                                                 \n",
      "=================================================================\n",
      "Total params: 101\n",
      "Trainable params: 101\n",
      "Non-trainable params: 0\n",
      "_________________________________________________________________\n"
     ]
    }
   ],
   "source": [
    "model = Sequential()\n",
    "model.add(LSTM(4, input_shape=(1, LOOK_BACK)))\n",
    "model.add(Dense(1))\n",
    "model.compile(loss=\"mse\", optimizer=\"adam\")\n",
    "model.summary()"
   ]
  },
  {
   "cell_type": "code",
   "execution_count": 27,
   "metadata": {},
   "outputs": [
    {
     "name": "stdout",
     "output_type": "stream",
     "text": [
      "Epoch 1/100\n",
      "611/611 [==============================] - 3s 5ms/step - loss: 0.0012 - val_loss: 1.1881e-05\n",
      "Epoch 2/100\n",
      "611/611 [==============================] - 3s 5ms/step - loss: 0.0012 - val_loss: 2.3801e-05\n",
      "Epoch 3/100\n",
      "611/611 [==============================] - 3s 5ms/step - loss: 0.0012 - val_loss: 8.1099e-05\n",
      "Epoch 4/100\n",
      "611/611 [==============================] - 3s 5ms/step - loss: 0.0011 - val_loss: 2.7005e-05\n",
      "Epoch 5/100\n",
      "611/611 [==============================] - 3s 5ms/step - loss: 0.0012 - val_loss: 8.1980e-05\n",
      "Epoch 6/100\n",
      "611/611 [==============================] - 3s 5ms/step - loss: 0.0011 - val_loss: 9.4750e-05\n",
      "Epoch 7/100\n",
      "611/611 [==============================] - 3s 5ms/step - loss: 0.0011 - val_loss: 6.6062e-06\n",
      "Epoch 8/100\n",
      "611/611 [==============================] - 3s 5ms/step - loss: 0.0011 - val_loss: 1.9347e-04\n",
      "Epoch 9/100\n",
      "611/611 [==============================] - 3s 5ms/step - loss: 0.0012 - val_loss: 1.0793e-05\n",
      "Epoch 10/100\n",
      "611/611 [==============================] - 3s 5ms/step - loss: 0.0011 - val_loss: 2.8418e-05\n",
      "Epoch 11/100\n",
      "611/611 [==============================] - 3s 5ms/step - loss: 0.0011 - val_loss: 8.0621e-06\n",
      "Epoch 12/100\n",
      "611/611 [==============================] - 3s 5ms/step - loss: 0.0012 - val_loss: 1.8025e-04\n",
      "Epoch 13/100\n",
      "611/611 [==============================] - 3s 5ms/step - loss: 0.0011 - val_loss: 1.1781e-04\n",
      "Epoch 14/100\n",
      "611/611 [==============================] - 3s 5ms/step - loss: 0.0011 - val_loss: 1.0739e-05\n",
      "Epoch 15/100\n",
      "611/611 [==============================] - 3s 5ms/step - loss: 0.0012 - val_loss: 3.3755e-05\n",
      "Epoch 16/100\n",
      "611/611 [==============================] - 3s 5ms/step - loss: 0.0012 - val_loss: 4.2222e-05\n",
      "Epoch 17/100\n",
      "611/611 [==============================] - 3s 5ms/step - loss: 0.0011 - val_loss: 1.1422e-05\n"
     ]
    }
   ],
   "source": [
    "history = model.fit(X_train, y_train, epochs=100, batch_size=1, validation_split=0.1, callbacks=[EarlyStopping(monitor=\"val_loss\", patience=10)])"
   ]
  },
  {
   "cell_type": "code",
   "execution_count": 28,
   "metadata": {},
   "outputs": [
    {
     "data": {
      "text/plain": [
       "<AxesSubplot:>"
      ]
     },
     "execution_count": 28,
     "metadata": {},
     "output_type": "execute_result"
    },
    {
     "data": {
      "image/png": "[encoded data removed]",
      "text/plain": [
       "<Figure size 576x360 with 1 Axes>"
      ]
     },
     "metadata": {
      "needs_background": "light"
     },
     "output_type": "display_data"
    }
   ],
   "source": [
    "pd.DataFrame(history.history).plot(figsize=(8, 5))"
   ]
  },
  {
   "cell_type": "code",
   "execution_count": 31,
   "metadata": {},
   "outputs": [
    {
     "name": "stdout",
     "output_type": "stream",
     "text": [
      "RMSE Train: 506.22216125119104\n",
      "RMSE Test: 949.4605582795162\n"
     ]
    }
   ],
   "source": [
    "train_x_pred = model.predict(X_train)\n",
    "test_x_pred = model.predict(X_test)\n",
    "\n",
    "train_x_pred = s.inverse_transform(train_x_pred)\n",
    "test_x_pred = s.inverse_transform(test_x_pred)\n",
    "\n",
    "y_train_inversed = s.inverse_transform(y_train.reshape(-1, 1))\n",
    "y_test_inversed = s.inverse_transform(y_test.reshape(-1, 1))\n",
    "\n",
    "print(f\"RMSE Train: {np.sqrt(mean_squared_error(y_train_inversed, train_x_pred))}\")\n",
    "print(f\"RMSE Test: {np.sqrt(mean_squared_error(y_test_inversed, test_x_pred))}\")"
   ]
  },
  {
   "cell_type": "code",
   "execution_count": 52,
   "metadata": {},
   "outputs": [
    {
     "data": {
      "text/plain": [
       "971"
      ]
     },
     "execution_count": 52,
     "metadata": {},
     "output_type": "execute_result"
    }
   ],
   "source": [
    "from pandas.tseries.offsets import DateOffset\n",
    "\n",
    "future_data = [positif_harian.index[-1]+DateOffset(days=x) for x in range(0, 120)]\n",
    "future_df = pd.DataFrame(future_data, columns=positif_harian.columns)\n",
    "future_df_merge = pd.concat([positif_harian, future_df], axis=1)\n",
    "len(future_df_merge)"
   ]
  },
  {
   "cell_type": "code",
   "execution_count": 55,
   "metadata": {},
   "outputs": [
    {
     "data": {
      "text/html": [
       "<div>\n",
       "<style scoped>\n",
       "    .dataframe tbody tr th:only-of-type {\n",
       "        vertical-align: middle;\n",
       "    }\n",
       "\n",
       "    .dataframe tbody tr th {\n",
       "        vertical-align: top;\n",
       "    }\n",
       "\n",
       "    .dataframe thead th {\n",
       "        text-align: right;\n",
       "    }\n",
       "</style>\n",
       "<table border=\"1\" class=\"dataframe\">\n",
       "  <thead>\n",
       "    <tr style=\"text-align: right;\">\n",
       "      <th></th>\n",
       "      <th>Positif Harian</th>\n",
       "      <th>Positif Harian</th>\n",
       "    </tr>\n",
       "  </thead>\n",
       "  <tbody>\n",
       "    <tr>\n",
       "      <th>1970-01-01 00:00:00.000000000</th>\n",
       "      <td>NaN</td>\n",
       "      <td>NaT</td>\n",
       "    </tr>\n",
       "    <tr>\n",
       "      <th>1970-01-01 00:00:00.000000001</th>\n",
       "      <td>NaN</td>\n",
       "      <td>NaT</td>\n",
       "    </tr>\n",
       "    <tr>\n",
       "      <th>1970-01-01 00:00:00.000000002</th>\n",
       "      <td>NaN</td>\n",
       "      <td>NaT</td>\n",
       "    </tr>\n",
       "    <tr>\n",
       "      <th>1970-01-01 00:00:00.000000003</th>\n",
       "      <td>NaN</td>\n",
       "      <td>NaT</td>\n",
       "    </tr>\n",
       "    <tr>\n",
       "      <th>1970-01-01 00:00:00.000000004</th>\n",
       "      <td>NaN</td>\n",
       "      <td>NaT</td>\n",
       "    </tr>\n",
       "    <tr>\n",
       "      <th>...</th>\n",
       "      <td>...</td>\n",
       "      <td>...</td>\n",
       "    </tr>\n",
       "    <tr>\n",
       "      <th>2022-06-25 00:00:00.000000000</th>\n",
       "      <td>1045.0</td>\n",
       "      <td>NaT</td>\n",
       "    </tr>\n",
       "    <tr>\n",
       "      <th>2022-06-26 00:00:00.000000000</th>\n",
       "      <td>1055.0</td>\n",
       "      <td>NaT</td>\n",
       "    </tr>\n",
       "    <tr>\n",
       "      <th>2022-06-27 00:00:00.000000000</th>\n",
       "      <td>838.0</td>\n",
       "      <td>NaT</td>\n",
       "    </tr>\n",
       "    <tr>\n",
       "      <th>2022-06-28 00:00:00.000000000</th>\n",
       "      <td>1250.0</td>\n",
       "      <td>NaT</td>\n",
       "    </tr>\n",
       "    <tr>\n",
       "      <th>2022-06-29 00:00:00.000000000</th>\n",
       "      <td>1134.0</td>\n",
       "      <td>NaT</td>\n",
       "    </tr>\n",
       "  </tbody>\n",
       "</table>\n",
       "<p>971 rows × 2 columns</p>\n",
       "</div>"
      ],
      "text/plain": [
       "                              Positif Harian Positif Harian\n",
       "1970-01-01 00:00:00.000000000            NaN            NaT\n",
       "1970-01-01 00:00:00.000000001            NaN            NaT\n",
       "1970-01-01 00:00:00.000000002            NaN            NaT\n",
       "1970-01-01 00:00:00.000000003            NaN            NaT\n",
       "1970-01-01 00:00:00.000000004            NaN            NaT\n",
       "...                                      ...            ...\n",
       "2022-06-25 00:00:00.000000000         1045.0            NaT\n",
       "2022-06-26 00:00:00.000000000         1055.0            NaT\n",
       "2022-06-27 00:00:00.000000000          838.0            NaT\n",
       "2022-06-28 00:00:00.000000000         1250.0            NaT\n",
       "2022-06-29 00:00:00.000000000         1134.0            NaT\n",
       "\n",
       "[971 rows x 2 columns]"
      ]
     },
     "execution_count": 55,
     "metadata": {},
     "output_type": "execute_result"
    }
   ],
   "source": [
    "future_df_merge"
   ]
  },
  {
   "cell_type": "code",
   "execution_count": 54,
   "metadata": {},
   "outputs": [
    {
     "ename": "KeyError",
     "evalue": "\"None of [Index(['Tanggal'], dtype='object')] are in the [columns]\"",
     "output_type": "error",
     "traceback": [
      "\u001b[1;31m---------------------------------------------------------------------------\u001b[0m",
      "\u001b[1;31mKeyError\u001b[0m                                  Traceback (most recent call last)",
      "\u001b[1;32mg:\\Other computers\\My Computer\\TIF UB\\2. Lomba\\COMPFEST DSA - 2022\\notebooks\\forecast\\29-06-2022_fcst__LSTM.ipynb Cell 13'\u001b[0m in \u001b[0;36m<module>\u001b[1;34m\u001b[0m\n\u001b[1;32m----> <a href='vscode-notebook-cell:/g%3A/Other%20computers/My%20Computer/TIF%20UB/2.%20Lomba/COMPFEST%20DSA%20-%202022/notebooks/forecast/29-06-2022_fcst__LSTM.ipynb#ch0000024?line=0'>1</a>\u001b[0m future_df_merge[\u001b[39m\"\u001b[39m\u001b[39mforecast\u001b[39m\u001b[39m\"\u001b[39m] \u001b[39m=\u001b[39m model\u001b[39m.\u001b[39mpredict(future_df_merge[[\u001b[39m\"\u001b[39;49m\u001b[39mTanggal\u001b[39;49m\u001b[39m\"\u001b[39;49m]]\u001b[39m.\u001b[39mvalues\u001b[39m.\u001b[39mreshape(\u001b[39m-\u001b[39m\u001b[39m1\u001b[39m, \u001b[39m1\u001b[39m, \u001b[39m1\u001b[39m))\n\u001b[0;32m      <a href='vscode-notebook-cell:/g%3A/Other%20computers/My%20Computer/TIF%20UB/2.%20Lomba/COMPFEST%20DSA%20-%202022/notebooks/forecast/29-06-2022_fcst__LSTM.ipynb#ch0000024?line=1'>2</a>\u001b[0m future_df_merge[\u001b[39m\"\u001b[39m\u001b[39mforecast\u001b[39m\u001b[39m\"\u001b[39m] \u001b[39m=\u001b[39m s\u001b[39m.\u001b[39minverse_transform(future_df_merge[\u001b[39m\"\u001b[39m\u001b[39mforecast\u001b[39m\u001b[39m\"\u001b[39m]\u001b[39m.\u001b[39mreshape(\u001b[39m-\u001b[39m\u001b[39m1\u001b[39m, \u001b[39m1\u001b[39m))\n\u001b[0;32m      <a href='vscode-notebook-cell:/g%3A/Other%20computers/My%20Computer/TIF%20UB/2.%20Lomba/COMPFEST%20DSA%20-%202022/notebooks/forecast/29-06-2022_fcst__LSTM.ipynb#ch0000024?line=2'>3</a>\u001b[0m \u001b[39m# future_df_merge.set_index(\"Tanggal\", inplace=True)\u001b[39;00m\n",
      "File \u001b[1;32mE:\\Users\\Asus\\AppData\\Roaming\\Python\\Python38\\site-packages\\pandas\\core\\frame.py:3464\u001b[0m, in \u001b[0;36mDataFrame.__getitem__\u001b[1;34m(self, key)\u001b[0m\n\u001b[0;32m   3462\u001b[0m     \u001b[39mif\u001b[39;00m is_iterator(key):\n\u001b[0;32m   3463\u001b[0m         key \u001b[39m=\u001b[39m \u001b[39mlist\u001b[39m(key)\n\u001b[1;32m-> 3464\u001b[0m     indexer \u001b[39m=\u001b[39m \u001b[39mself\u001b[39;49m\u001b[39m.\u001b[39;49mloc\u001b[39m.\u001b[39;49m_get_listlike_indexer(key, axis\u001b[39m=\u001b[39;49m\u001b[39m1\u001b[39;49m)[\u001b[39m1\u001b[39m]\n\u001b[0;32m   3466\u001b[0m \u001b[39m# take() does not accept boolean indexers\u001b[39;00m\n\u001b[0;32m   3467\u001b[0m \u001b[39mif\u001b[39;00m \u001b[39mgetattr\u001b[39m(indexer, \u001b[39m\"\u001b[39m\u001b[39mdtype\u001b[39m\u001b[39m\"\u001b[39m, \u001b[39mNone\u001b[39;00m) \u001b[39m==\u001b[39m \u001b[39mbool\u001b[39m:\n",
      "File \u001b[1;32mE:\\Users\\Asus\\AppData\\Roaming\\Python\\Python38\\site-packages\\pandas\\core\\indexing.py:1314\u001b[0m, in \u001b[0;36m_LocIndexer._get_listlike_indexer\u001b[1;34m(self, key, axis)\u001b[0m\n\u001b[0;32m   1311\u001b[0m \u001b[39melse\u001b[39;00m:\n\u001b[0;32m   1312\u001b[0m     keyarr, indexer, new_indexer \u001b[39m=\u001b[39m ax\u001b[39m.\u001b[39m_reindex_non_unique(keyarr)\n\u001b[1;32m-> 1314\u001b[0m \u001b[39mself\u001b[39;49m\u001b[39m.\u001b[39;49m_validate_read_indexer(keyarr, indexer, axis)\n\u001b[0;32m   1316\u001b[0m \u001b[39mif\u001b[39;00m needs_i8_conversion(ax\u001b[39m.\u001b[39mdtype) \u001b[39mor\u001b[39;00m \u001b[39misinstance\u001b[39m(\n\u001b[0;32m   1317\u001b[0m     ax, (IntervalIndex, CategoricalIndex)\n\u001b[0;32m   1318\u001b[0m ):\n\u001b[0;32m   1319\u001b[0m     \u001b[39m# For CategoricalIndex take instead of reindex to preserve dtype.\u001b[39;00m\n\u001b[0;32m   1320\u001b[0m     \u001b[39m#  For IntervalIndex this is to map integers to the Intervals they match to.\u001b[39;00m\n\u001b[0;32m   1321\u001b[0m     keyarr \u001b[39m=\u001b[39m ax\u001b[39m.\u001b[39mtake(indexer)\n",
      "File \u001b[1;32mE:\\Users\\Asus\\AppData\\Roaming\\Python\\Python38\\site-packages\\pandas\\core\\indexing.py:1374\u001b[0m, in \u001b[0;36m_LocIndexer._validate_read_indexer\u001b[1;34m(self, key, indexer, axis)\u001b[0m\n\u001b[0;32m   1372\u001b[0m     \u001b[39mif\u001b[39;00m use_interval_msg:\n\u001b[0;32m   1373\u001b[0m         key \u001b[39m=\u001b[39m \u001b[39mlist\u001b[39m(key)\n\u001b[1;32m-> 1374\u001b[0m     \u001b[39mraise\u001b[39;00m \u001b[39mKeyError\u001b[39;00m(\u001b[39mf\u001b[39m\u001b[39m\"\u001b[39m\u001b[39mNone of [\u001b[39m\u001b[39m{\u001b[39;00mkey\u001b[39m}\u001b[39;00m\u001b[39m] are in the [\u001b[39m\u001b[39m{\u001b[39;00maxis_name\u001b[39m}\u001b[39;00m\u001b[39m]\u001b[39m\u001b[39m\"\u001b[39m)\n\u001b[0;32m   1376\u001b[0m not_found \u001b[39m=\u001b[39m \u001b[39mlist\u001b[39m(ensure_index(key)[missing_mask\u001b[39m.\u001b[39mnonzero()[\u001b[39m0\u001b[39m]]\u001b[39m.\u001b[39munique())\n\u001b[0;32m   1377\u001b[0m \u001b[39mraise\u001b[39;00m \u001b[39mKeyError\u001b[39;00m(\u001b[39mf\u001b[39m\u001b[39m\"\u001b[39m\u001b[39m{\u001b[39;00mnot_found\u001b[39m}\u001b[39;00m\u001b[39m not in index\u001b[39m\u001b[39m\"\u001b[39m)\n",
      "\u001b[1;31mKeyError\u001b[0m: \"None of [Index(['Tanggal'], dtype='object')] are in the [columns]\""
     ]
    }
   ],
   "source": [
    "future_df_merge[\"forecast\"] = model.predict(future_df_merge[[\"Tanggal\"]].values.reshape(-1, 1, 1))\n",
    "future_df_merge[\"forecast\"] = s.inverse_transform(future_df_merge[\"forecast\"].reshape(-1, 1))\n",
    "# future_df_merge.set_index(\"Tanggal\", inplace=True)\n",
    "future_df_merge.plot()"
   ]
  },
  {
   "cell_type": "code",
   "execution_count": null,
   "metadata": {},
   "outputs": [],
   "source": []
  }
 ],
 "metadata": {
  "kernelspec": {
   "display_name": "Python 3.9.6 ('DataScience')",
   "language": "python",
   "name": "python3"
  },
  "language_info": {
   "codemirror_mode": {
    "name": "ipython",
    "version": 3
   },
   "file_extension": ".py",
   "mimetype": "text/x-python",
   "name": "python",
   "nbconvert_exporter": "python",
   "pygments_lexer": "ipython3",
   "version": "3.9.6"
  },
  "orig_nbformat": 4,
  "vscode": {
   "interpreter": {
    "hash": "d3120404ab40088dde46363bad1bdd78d1aeca7b6f18e79999fc72cb3d9151a5"
   }
  }
 },
 "nbformat": 4,
 "nbformat_minor": 2
}
