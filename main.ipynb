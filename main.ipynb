{
 "cells": [
  {
   "cell_type": "markdown",
   "metadata": {},
   "source": [
    "    a. Problem Statetement\n",
    "\n",
    "    b. Data Cleaning And Preprocessing\n",
    "\n",
    "    c. Exploratory Data Analysis\n",
    "\n",
    "    d. Modeling\n",
    "\n",
    "    e. Conclusion\n",
    "\n",
    "    f. Daftar Pustaka\n",
    "\n",
    "Submisi Jupyter Notebook berisi kode dalam bahasa python serta \n",
    "interpretasi dan penjelasan hasil penemuan insight data dalam bentuk \n",
    "markdown."
   ]
  },
  {
   "cell_type": "markdown",
   "metadata": {},
   "source": [
    "### A. Problem Statement\n",
    "\n",
    "<!-- - Apakah kenaikan kasus covid dapat dipicu oleh hari-hari besar?\n",
    "- Apakah kasus covid untuk 2 bulan kedepannya akan mengalami kenaikan atau penurunan?\n",
    "- Apakah ada pengaruh mobilitas pada kasus kenaikan covid kenaikan \n",
    "\n",
    "\n",
    "Rencana proyek\n",
    "- Memberikan forecasting untuk bulan kedepannya agar masyarakat atau pemerintah bisa melakukan tindak preventif untuk mencegah kenaikan covid. -->\n",
    "\n",
    "**Problem statement**\n",
    "\n",
    "Pandemi covid-19 memberikan dampak yang besar terhadap laju mobilitas negara-negara, termasuk Indonesia. Hal itu disebabkan dengan kenaikan kasus covid yang terus menerus serta varian covid baru yang bermunculan. Mobilitas yang terhampat dapat mempengaruhi berbagai aspek, seperti : ekonomi, sosial, kesehatan, dan lain-lain. Oleh karena itu perlu adanya tindakan yang tepat untuk menanggulangi kasus covid 19.\n",
    "\n",
    "\n",
    "**Tujuan**\n",
    "* Memberikan hasil Analisis untuk mencari pola kenaikan kasus covid\n",
    "* Menentukan apakah kasus covid dapat dipicu oleh hari-hari besar \n",
    "* Melakukan prediksi untuk beberapa bulan selanjutnya agar pemerintah atau masyarakat dapat memberikan langkah preventif\n",
    "\n",
    "**Rencana proyek**\n",
    "* Melakukan EDA\n",
    "- Melakukan prediksi beberapa bulan kedepan menggunakan algoritma sarimax"
   ]
  },
  {
   "cell_type": "markdown",
   "metadata": {},
   "source": [
    "### B. Data Cleaning And Preprocessing"
   ]
  },
  {
   "cell_type": "code",
   "execution_count": 206,
   "metadata": {},
   "outputs": [],
   "source": [
    "import pandas as pd\n",
    "import matplotlib.pyplot as plt\n",
    "import seaborn as sns\n",
    "import plotly.express as px\n",
    "import numpy as np\n",
    "plt.style.use('fivethirtyeight')"
   ]
  },
  {
   "cell_type": "markdown",
   "metadata": {},
   "source": [
    "#### **a. Dataset Daily Update Data Agregat Covid-19 Jakarta**\n",
    "pada dataset daily update terdapat 13 sheet, tetapi kami hanya menggunakan 5 sheet saja"
   ]
  },
  {
   "cell_type": "markdown",
   "metadata": {},
   "source": [
    "##### Data Jakarta"
   ]
  },
  {
   "cell_type": "code",
   "execution_count": 5,
   "metadata": {},
   "outputs": [
    {
     "data": {
      "text/plain": [
       "(838, 14)"
      ]
     },
     "execution_count": 5,
     "metadata": {},
     "output_type": "execute_result"
    }
   ],
   "source": [
    "df_DU_Jakarta = pd.read_excel('Daily Update Data Agregat Covid-19 Jakarta.xlsx', sheet_name='Data Jakarta')\n",
    "df_DU_Jakarta.shape"
   ]
  },
  {
   "cell_type": "code",
   "execution_count": 6,
   "metadata": {},
   "outputs": [
    {
     "data": {
      "text/plain": [
       "Tanggal              0\n",
       "Jam                838\n",
       "Tanggal Jam        838\n",
       "Meninggal            0\n",
       "Sembuh               0\n",
       "Self Isolation       0\n",
       "Masih Perawatan      0\n",
       "Total Pasien         0\n",
       "Positif Harian       0\n",
       "Positif Aktif        0\n",
       "Sembuh Harian        0\n",
       "Tanpa Gejala       140\n",
       "Bergejala          140\n",
       "Belum Ada Data     140\n",
       "dtype: int64"
      ]
     },
     "execution_count": 6,
     "metadata": {},
     "output_type": "execute_result"
    }
   ],
   "source": [
    "# check dataframe for missing values\n",
    "df_DU_Jakarta.isnull().sum()"
   ]
  },
  {
   "cell_type": "markdown",
   "metadata": {},
   "source": [
    "pada variabel jam dan tanggal jam memiliki keseluruhan data null sehingga dilakukan *dropping*, kemudian pada variabel tanpa gejala, bergejala, dan belum ada data tidak dilakukan *dropping* karena kami asumsikan akan menghilangkan informasi penting sehingga kami lakukan imputasi dengan mengisinya dengan nilai 0"
   ]
  },
  {
   "cell_type": "code",
   "execution_count": 7,
   "metadata": {},
   "outputs": [],
   "source": [
    "df_DU_Jakarta.drop(['Jam','Tanggal Jam'],axis=1,inplace=True)\n",
    "df_DU_Jakarta.fillna(0,inplace=True)"
   ]
  },
  {
   "cell_type": "code",
   "execution_count": 8,
   "metadata": {},
   "outputs": [
    {
     "name": "stdout",
     "output_type": "stream",
     "text": [
      "<class 'pandas.core.frame.DataFrame'>\n",
      "RangeIndex: 838 entries, 0 to 837\n",
      "Data columns (total 12 columns):\n",
      " #   Column           Non-Null Count  Dtype         \n",
      "---  ------           --------------  -----         \n",
      " 0   Tanggal          838 non-null    datetime64[ns]\n",
      " 1   Meninggal        838 non-null    int64         \n",
      " 2   Sembuh           838 non-null    int64         \n",
      " 3   Self Isolation   838 non-null    int64         \n",
      " 4   Masih Perawatan  838 non-null    int64         \n",
      " 5   Total Pasien     838 non-null    int64         \n",
      " 6   Positif Harian   838 non-null    int64         \n",
      " 7   Positif Aktif    838 non-null    int64         \n",
      " 8   Sembuh Harian    838 non-null    int64         \n",
      " 9   Tanpa Gejala     838 non-null    float64       \n",
      " 10  Bergejala        838 non-null    float64       \n",
      " 11  Belum Ada Data   838 non-null    float64       \n",
      "dtypes: datetime64[ns](1), float64(3), int64(8)\n",
      "memory usage: 78.7 KB\n"
     ]
    }
   ],
   "source": [
    "# check dataframe for information about data types\n",
    "df_DU_Jakarta.info()"
   ]
  },
  {
   "cell_type": "markdown",
   "metadata": {},
   "source": [
    "Karena Tanggal sudah bertipe datetime sehingga tidak perlu dilakukan preprocessing"
   ]
  },
  {
   "cell_type": "code",
   "execution_count": 9,
   "metadata": {},
   "outputs": [
    {
     "data": {
      "text/html": [
       "<div>\n",
       "<style scoped>\n",
       "    .dataframe tbody tr th:only-of-type {\n",
       "        vertical-align: middle;\n",
       "    }\n",
       "\n",
       "    .dataframe tbody tr th {\n",
       "        vertical-align: top;\n",
       "    }\n",
       "\n",
       "    .dataframe thead th {\n",
       "        text-align: right;\n",
       "    }\n",
       "</style>\n",
       "<table border=\"1\" class=\"dataframe\">\n",
       "  <thead>\n",
       "    <tr style=\"text-align: right;\">\n",
       "      <th></th>\n",
       "      <th>Tanggal</th>\n",
       "      <th>Meninggal</th>\n",
       "      <th>Sembuh</th>\n",
       "      <th>Self Isolation</th>\n",
       "      <th>Masih Perawatan</th>\n",
       "      <th>Total Pasien</th>\n",
       "      <th>Positif Harian</th>\n",
       "      <th>Positif Aktif</th>\n",
       "      <th>Sembuh Harian</th>\n",
       "      <th>Tanpa Gejala</th>\n",
       "      <th>Bergejala</th>\n",
       "      <th>Belum Ada Data</th>\n",
       "    </tr>\n",
       "  </thead>\n",
       "  <tbody>\n",
       "    <tr>\n",
       "      <th>0</th>\n",
       "      <td>2020-03-01</td>\n",
       "      <td>0</td>\n",
       "      <td>0</td>\n",
       "      <td>0</td>\n",
       "      <td>0</td>\n",
       "      <td>0</td>\n",
       "      <td>0</td>\n",
       "      <td>0</td>\n",
       "      <td>0</td>\n",
       "      <td>0.0</td>\n",
       "      <td>0.0</td>\n",
       "      <td>0.0</td>\n",
       "    </tr>\n",
       "    <tr>\n",
       "      <th>1</th>\n",
       "      <td>2020-03-02</td>\n",
       "      <td>0</td>\n",
       "      <td>0</td>\n",
       "      <td>0</td>\n",
       "      <td>0</td>\n",
       "      <td>0</td>\n",
       "      <td>0</td>\n",
       "      <td>0</td>\n",
       "      <td>0</td>\n",
       "      <td>0.0</td>\n",
       "      <td>0.0</td>\n",
       "      <td>0.0</td>\n",
       "    </tr>\n",
       "    <tr>\n",
       "      <th>2</th>\n",
       "      <td>2020-03-03</td>\n",
       "      <td>1</td>\n",
       "      <td>0</td>\n",
       "      <td>0</td>\n",
       "      <td>2</td>\n",
       "      <td>3</td>\n",
       "      <td>3</td>\n",
       "      <td>2</td>\n",
       "      <td>0</td>\n",
       "      <td>0.0</td>\n",
       "      <td>0.0</td>\n",
       "      <td>0.0</td>\n",
       "    </tr>\n",
       "    <tr>\n",
       "      <th>3</th>\n",
       "      <td>2020-03-04</td>\n",
       "      <td>1</td>\n",
       "      <td>0</td>\n",
       "      <td>0</td>\n",
       "      <td>2</td>\n",
       "      <td>3</td>\n",
       "      <td>0</td>\n",
       "      <td>2</td>\n",
       "      <td>0</td>\n",
       "      <td>0.0</td>\n",
       "      <td>0.0</td>\n",
       "      <td>0.0</td>\n",
       "    </tr>\n",
       "    <tr>\n",
       "      <th>4</th>\n",
       "      <td>2020-03-05</td>\n",
       "      <td>3</td>\n",
       "      <td>0</td>\n",
       "      <td>0</td>\n",
       "      <td>4</td>\n",
       "      <td>7</td>\n",
       "      <td>4</td>\n",
       "      <td>4</td>\n",
       "      <td>0</td>\n",
       "      <td>0.0</td>\n",
       "      <td>0.0</td>\n",
       "      <td>0.0</td>\n",
       "    </tr>\n",
       "    <tr>\n",
       "      <th>...</th>\n",
       "      <td>...</td>\n",
       "      <td>...</td>\n",
       "      <td>...</td>\n",
       "      <td>...</td>\n",
       "      <td>...</td>\n",
       "      <td>...</td>\n",
       "      <td>...</td>\n",
       "      <td>...</td>\n",
       "      <td>...</td>\n",
       "      <td>...</td>\n",
       "      <td>...</td>\n",
       "      <td>...</td>\n",
       "    </tr>\n",
       "    <tr>\n",
       "      <th>833</th>\n",
       "      <td>2022-06-12</td>\n",
       "      <td>15303</td>\n",
       "      <td>1236002</td>\n",
       "      <td>2000</td>\n",
       "      <td>214</td>\n",
       "      <td>1253519</td>\n",
       "      <td>322</td>\n",
       "      <td>2214</td>\n",
       "      <td>164</td>\n",
       "      <td>0.0</td>\n",
       "      <td>9.0</td>\n",
       "      <td>2205.0</td>\n",
       "    </tr>\n",
       "    <tr>\n",
       "      <th>834</th>\n",
       "      <td>2022-06-13</td>\n",
       "      <td>15304</td>\n",
       "      <td>1236184</td>\n",
       "      <td>2179</td>\n",
       "      <td>200</td>\n",
       "      <td>1253867</td>\n",
       "      <td>348</td>\n",
       "      <td>2379</td>\n",
       "      <td>182</td>\n",
       "      <td>0.0</td>\n",
       "      <td>14.0</td>\n",
       "      <td>2365.0</td>\n",
       "    </tr>\n",
       "    <tr>\n",
       "      <th>835</th>\n",
       "      <td>2022-06-14</td>\n",
       "      <td>15304</td>\n",
       "      <td>1236374</td>\n",
       "      <td>2446</td>\n",
       "      <td>260</td>\n",
       "      <td>1254384</td>\n",
       "      <td>517</td>\n",
       "      <td>2706</td>\n",
       "      <td>190</td>\n",
       "      <td>0.0</td>\n",
       "      <td>14.0</td>\n",
       "      <td>2692.0</td>\n",
       "    </tr>\n",
       "    <tr>\n",
       "      <th>836</th>\n",
       "      <td>2022-06-15</td>\n",
       "      <td>15304</td>\n",
       "      <td>1236528</td>\n",
       "      <td>2980</td>\n",
       "      <td>302</td>\n",
       "      <td>1255114</td>\n",
       "      <td>730</td>\n",
       "      <td>3282</td>\n",
       "      <td>154</td>\n",
       "      <td>0.0</td>\n",
       "      <td>15.0</td>\n",
       "      <td>3267.0</td>\n",
       "    </tr>\n",
       "    <tr>\n",
       "      <th>837</th>\n",
       "      <td>2022-06-16</td>\n",
       "      <td>15305</td>\n",
       "      <td>1236820</td>\n",
       "      <td>3346</td>\n",
       "      <td>339</td>\n",
       "      <td>1255810</td>\n",
       "      <td>696</td>\n",
       "      <td>3685</td>\n",
       "      <td>292</td>\n",
       "      <td>0.0</td>\n",
       "      <td>14.0</td>\n",
       "      <td>3671.0</td>\n",
       "    </tr>\n",
       "  </tbody>\n",
       "</table>\n",
       "<p>838 rows × 12 columns</p>\n",
       "</div>"
      ],
      "text/plain": [
       "       Tanggal  Meninggal   Sembuh  Self Isolation  Masih Perawatan  \\\n",
       "0   2020-03-01          0        0               0                0   \n",
       "1   2020-03-02          0        0               0                0   \n",
       "2   2020-03-03          1        0               0                2   \n",
       "3   2020-03-04          1        0               0                2   \n",
       "4   2020-03-05          3        0               0                4   \n",
       "..         ...        ...      ...             ...              ...   \n",
       "833 2022-06-12      15303  1236002            2000              214   \n",
       "834 2022-06-13      15304  1236184            2179              200   \n",
       "835 2022-06-14      15304  1236374            2446              260   \n",
       "836 2022-06-15      15304  1236528            2980              302   \n",
       "837 2022-06-16      15305  1236820            3346              339   \n",
       "\n",
       "     Total Pasien  Positif Harian  Positif Aktif  Sembuh Harian  Tanpa Gejala  \\\n",
       "0               0               0              0              0           0.0   \n",
       "1               0               0              0              0           0.0   \n",
       "2               3               3              2              0           0.0   \n",
       "3               3               0              2              0           0.0   \n",
       "4               7               4              4              0           0.0   \n",
       "..            ...             ...            ...            ...           ...   \n",
       "833       1253519             322           2214            164           0.0   \n",
       "834       1253867             348           2379            182           0.0   \n",
       "835       1254384             517           2706            190           0.0   \n",
       "836       1255114             730           3282            154           0.0   \n",
       "837       1255810             696           3685            292           0.0   \n",
       "\n",
       "     Bergejala  Belum Ada Data  \n",
       "0          0.0             0.0  \n",
       "1          0.0             0.0  \n",
       "2          0.0             0.0  \n",
       "3          0.0             0.0  \n",
       "4          0.0             0.0  \n",
       "..         ...             ...  \n",
       "833        9.0          2205.0  \n",
       "834       14.0          2365.0  \n",
       "835       14.0          2692.0  \n",
       "836       15.0          3267.0  \n",
       "837       14.0          3671.0  \n",
       "\n",
       "[838 rows x 12 columns]"
      ]
     },
     "execution_count": 9,
     "metadata": {},
     "output_type": "execute_result"
    }
   ],
   "source": [
    "df_DU_Jakarta"
   ]
  },
  {
   "cell_type": "markdown",
   "metadata": {},
   "source": [
    "##### Daily Vaksinasi Wilayah"
   ]
  },
  {
   "cell_type": "code",
   "execution_count": 15,
   "metadata": {},
   "outputs": [
    {
     "data": {
      "text/html": [
       "<div>\n",
       "<style scoped>\n",
       "    .dataframe tbody tr th:only-of-type {\n",
       "        vertical-align: middle;\n",
       "    }\n",
       "\n",
       "    .dataframe tbody tr th {\n",
       "        vertical-align: top;\n",
       "    }\n",
       "\n",
       "    .dataframe thead th {\n",
       "        text-align: right;\n",
       "    }\n",
       "</style>\n",
       "<table border=\"1\" class=\"dataframe\">\n",
       "  <thead>\n",
       "    <tr style=\"text-align: right;\">\n",
       "      <th></th>\n",
       "      <th>Tanggal</th>\n",
       "      <th>Cakupan Suntik 1</th>\n",
       "      <th>Cakupan Suntik 2</th>\n",
       "    </tr>\n",
       "  </thead>\n",
       "  <tbody>\n",
       "    <tr>\n",
       "      <th>0</th>\n",
       "      <td>2021-06-12</td>\n",
       "      <td>19281.0</td>\n",
       "      <td>1173.0</td>\n",
       "    </tr>\n",
       "    <tr>\n",
       "      <th>1</th>\n",
       "      <td>2021-06-13</td>\n",
       "      <td>198.0</td>\n",
       "      <td>29.0</td>\n",
       "    </tr>\n",
       "    <tr>\n",
       "      <th>2</th>\n",
       "      <td>2021-06-14</td>\n",
       "      <td>79491.0</td>\n",
       "      <td>3691.0</td>\n",
       "    </tr>\n",
       "    <tr>\n",
       "      <th>3</th>\n",
       "      <td>2021-06-15</td>\n",
       "      <td>81545.0</td>\n",
       "      <td>3385.0</td>\n",
       "    </tr>\n",
       "    <tr>\n",
       "      <th>4</th>\n",
       "      <td>2021-06-16</td>\n",
       "      <td>92210.0</td>\n",
       "      <td>3436.0</td>\n",
       "    </tr>\n",
       "    <tr>\n",
       "      <th>...</th>\n",
       "      <td>...</td>\n",
       "      <td>...</td>\n",
       "      <td>...</td>\n",
       "    </tr>\n",
       "    <tr>\n",
       "      <th>364</th>\n",
       "      <td>2022-06-11</td>\n",
       "      <td>430.0</td>\n",
       "      <td>280.0</td>\n",
       "    </tr>\n",
       "    <tr>\n",
       "      <th>365</th>\n",
       "      <td>2022-06-12</td>\n",
       "      <td>300.0</td>\n",
       "      <td>194.0</td>\n",
       "    </tr>\n",
       "    <tr>\n",
       "      <th>366</th>\n",
       "      <td>2022-06-13</td>\n",
       "      <td>900.0</td>\n",
       "      <td>1272.0</td>\n",
       "    </tr>\n",
       "    <tr>\n",
       "      <th>367</th>\n",
       "      <td>2022-06-14</td>\n",
       "      <td>1028.0</td>\n",
       "      <td>1112.0</td>\n",
       "    </tr>\n",
       "    <tr>\n",
       "      <th>368</th>\n",
       "      <td>2022-06-15</td>\n",
       "      <td>1141.0</td>\n",
       "      <td>1003.0</td>\n",
       "    </tr>\n",
       "  </tbody>\n",
       "</table>\n",
       "<p>369 rows × 3 columns</p>\n",
       "</div>"
      ],
      "text/plain": [
       "       Tanggal  Cakupan Suntik 1  Cakupan Suntik 2\n",
       "0   2021-06-12           19281.0            1173.0\n",
       "1   2021-06-13             198.0              29.0\n",
       "2   2021-06-14           79491.0            3691.0\n",
       "3   2021-06-15           81545.0            3385.0\n",
       "4   2021-06-16           92210.0            3436.0\n",
       "..         ...               ...               ...\n",
       "364 2022-06-11             430.0             280.0\n",
       "365 2022-06-12             300.0             194.0\n",
       "366 2022-06-13             900.0            1272.0\n",
       "367 2022-06-14            1028.0            1112.0\n",
       "368 2022-06-15            1141.0            1003.0\n",
       "\n",
       "[369 rows x 3 columns]"
      ]
     },
     "execution_count": 15,
     "metadata": {},
     "output_type": "execute_result"
    }
   ],
   "source": [
    "#vaksinasi wilayah\n",
    "df_DU_DVW = pd.read_excel('Daily Update Data Agregat Covid-19 Jakarta.xlsx', sheet_name='Daily Vaksinasi Wilayah').iloc[:,:3].dropna(axis=0, how='any')\n",
    "df_DU_DVW"
   ]
  },
  {
   "cell_type": "code",
   "execution_count": 14,
   "metadata": {},
   "outputs": [
    {
     "data": {
      "text/plain": [
       "Tanggal             0\n",
       "Cakupan Suntik 1    0\n",
       "Cakupan Suntik 2    0\n",
       "dtype: int64"
      ]
     },
     "execution_count": 14,
     "metadata": {},
     "output_type": "execute_result"
    }
   ],
   "source": [
    "df_DU_DVW.isna().sum()"
   ]
  },
  {
   "cell_type": "code",
   "execution_count": 13,
   "metadata": {},
   "outputs": [
    {
     "name": "stdout",
     "output_type": "stream",
     "text": [
      "<class 'pandas.core.frame.DataFrame'>\n",
      "Int64Index: 369 entries, 0 to 368\n",
      "Data columns (total 3 columns):\n",
      " #   Column            Non-Null Count  Dtype         \n",
      "---  ------            --------------  -----         \n",
      " 0   Tanggal           369 non-null    datetime64[ns]\n",
      " 1   Cakupan Suntik 1  369 non-null    float64       \n",
      " 2   Cakupan Suntik 2  369 non-null    float64       \n",
      "dtypes: datetime64[ns](1), float64(2)\n",
      "memory usage: 11.5 KB\n"
     ]
    }
   ],
   "source": [
    "df_DU_DVW.info()"
   ]
  },
  {
   "cell_type": "markdown",
   "metadata": {},
   "source": [
    "##### Vaksinasi Wilayah"
   ]
  },
  {
   "cell_type": "code",
   "execution_count": 29,
   "metadata": {},
   "outputs": [
    {
     "name": "stdout",
     "output_type": "stream",
     "text": [
      "<class 'pandas.core.frame.DataFrame'>\n",
      "RangeIndex: 44 entries, 0 to 43\n",
      "Columns: 1118 entries, No. to Cakupan Suntik 2.370\n",
      "dtypes: float64(4), int64(742), object(372)\n",
      "memory usage: 384.4+ KB\n"
     ]
    }
   ],
   "source": [
    "#vaksinasi wilayah\n",
    "df_DU_VW = pd.read_excel('Daily Update Data Agregat Covid-19 Jakarta.xlsx', sheet_name='Vaksinasi Wilayah',skiprows=1)\n",
    "df_DU_VW.info()"
   ]
  },
  {
   "cell_type": "code",
   "execution_count": 44,
   "metadata": {},
   "outputs": [
    {
     "data": {
      "text/plain": [
       "0"
      ]
     },
     "execution_count": 44,
     "metadata": {},
     "output_type": "execute_result"
    }
   ],
   "source": [
    "df_DU_VW.isna().sum().sum()"
   ]
  },
  {
   "cell_type": "code",
   "execution_count": 30,
   "metadata": {},
   "outputs": [
    {
     "data": {
      "text/html": [
       "<div>\n",
       "<style scoped>\n",
       "    .dataframe tbody tr th:only-of-type {\n",
       "        vertical-align: middle;\n",
       "    }\n",
       "\n",
       "    .dataframe tbody tr th {\n",
       "        vertical-align: top;\n",
       "    }\n",
       "\n",
       "    .dataframe thead th {\n",
       "        text-align: right;\n",
       "    }\n",
       "</style>\n",
       "<table border=\"1\" class=\"dataframe\">\n",
       "  <thead>\n",
       "    <tr style=\"text-align: right;\">\n",
       "      <th></th>\n",
       "      <th>No.</th>\n",
       "      <th>Kecamatan</th>\n",
       "      <th>Kota / Kabupaten</th>\n",
       "      <th>Target Total per Kecamatan</th>\n",
       "      <th>Target Harian per Kecamatan</th>\n",
       "      <th>Cakupan Suntik 1</th>\n",
       "      <th>Keterangan</th>\n",
       "      <th>Cakupan Suntik 2</th>\n",
       "      <th>Cakupan Suntik 1.1</th>\n",
       "      <th>Keterangan.1</th>\n",
       "      <th>...</th>\n",
       "      <th>Cakupan Suntik 2.367</th>\n",
       "      <th>Cakupan Suntik 1.368</th>\n",
       "      <th>Keterangan.368</th>\n",
       "      <th>Cakupan Suntik 2.368</th>\n",
       "      <th>Cakupan Suntik 1.369</th>\n",
       "      <th>Keterangan.369</th>\n",
       "      <th>Cakupan Suntik 2.369</th>\n",
       "      <th>Cakupan Suntik 1.370</th>\n",
       "      <th>Keterangan.370</th>\n",
       "      <th>Cakupan Suntik 2.370</th>\n",
       "    </tr>\n",
       "  </thead>\n",
       "  <tbody>\n",
       "    <tr>\n",
       "      <th>0</th>\n",
       "      <td>1</td>\n",
       "      <td>Cakung</td>\n",
       "      <td>Jakarta Timur</td>\n",
       "      <td>515628</td>\n",
       "      <td>5333</td>\n",
       "      <td>74966</td>\n",
       "      <td>Tidak Tercapai</td>\n",
       "      <td>37590</td>\n",
       "      <td>897</td>\n",
       "      <td>Tidak Tercapai</td>\n",
       "      <td>...</td>\n",
       "      <td>41</td>\n",
       "      <td>35</td>\n",
       "      <td>Tidak Tercapai</td>\n",
       "      <td>46</td>\n",
       "      <td>56</td>\n",
       "      <td>Tidak Tercapai</td>\n",
       "      <td>48</td>\n",
       "      <td>NaN</td>\n",
       "      <td>NaN</td>\n",
       "      <td>NaN</td>\n",
       "    </tr>\n",
       "    <tr>\n",
       "      <th>1</th>\n",
       "      <td>2</td>\n",
       "      <td>Cengkareng</td>\n",
       "      <td>Jakarta Barat</td>\n",
       "      <td>519118</td>\n",
       "      <td>5041</td>\n",
       "      <td>85668</td>\n",
       "      <td>Tidak Tercapai</td>\n",
       "      <td>47581</td>\n",
       "      <td>429</td>\n",
       "      <td>Tidak Tercapai</td>\n",
       "      <td>...</td>\n",
       "      <td>48</td>\n",
       "      <td>29</td>\n",
       "      <td>Tidak Tercapai</td>\n",
       "      <td>54</td>\n",
       "      <td>33</td>\n",
       "      <td>Tidak Tercapai</td>\n",
       "      <td>35</td>\n",
       "      <td>NaN</td>\n",
       "      <td>NaN</td>\n",
       "      <td>NaN</td>\n",
       "    </tr>\n",
       "    <tr>\n",
       "      <th>2</th>\n",
       "      <td>3</td>\n",
       "      <td>Kali Deres</td>\n",
       "      <td>Jakarta Barat</td>\n",
       "      <td>406018</td>\n",
       "      <td>4295</td>\n",
       "      <td>42991</td>\n",
       "      <td>Tidak Tercapai</td>\n",
       "      <td>23222</td>\n",
       "      <td>162</td>\n",
       "      <td>Tidak Tercapai</td>\n",
       "      <td>...</td>\n",
       "      <td>25</td>\n",
       "      <td>44</td>\n",
       "      <td>Tidak Tercapai</td>\n",
       "      <td>29</td>\n",
       "      <td>25</td>\n",
       "      <td>Tidak Tercapai</td>\n",
       "      <td>28</td>\n",
       "      <td>NaN</td>\n",
       "      <td>NaN</td>\n",
       "      <td>NaN</td>\n",
       "    </tr>\n",
       "    <tr>\n",
       "      <th>3</th>\n",
       "      <td>4</td>\n",
       "      <td>Cilincing</td>\n",
       "      <td>Jakarta Utara</td>\n",
       "      <td>392136</td>\n",
       "      <td>4073</td>\n",
       "      <td>41494</td>\n",
       "      <td>Tidak Tercapai</td>\n",
       "      <td>22305</td>\n",
       "      <td>17</td>\n",
       "      <td>Tidak Tercapai</td>\n",
       "      <td>...</td>\n",
       "      <td>76</td>\n",
       "      <td>38</td>\n",
       "      <td>Tidak Tercapai</td>\n",
       "      <td>57</td>\n",
       "      <td>64</td>\n",
       "      <td>Tidak Tercapai</td>\n",
       "      <td>52</td>\n",
       "      <td>NaN</td>\n",
       "      <td>NaN</td>\n",
       "      <td>NaN</td>\n",
       "    </tr>\n",
       "    <tr>\n",
       "      <th>4</th>\n",
       "      <td>5</td>\n",
       "      <td>Duren Sawit</td>\n",
       "      <td>Jakarta Timur</td>\n",
       "      <td>404329</td>\n",
       "      <td>4006</td>\n",
       "      <td>41413</td>\n",
       "      <td>Tidak Tercapai</td>\n",
       "      <td>28993</td>\n",
       "      <td>7</td>\n",
       "      <td>Tidak Tercapai</td>\n",
       "      <td>...</td>\n",
       "      <td>31</td>\n",
       "      <td>26</td>\n",
       "      <td>Tidak Tercapai</td>\n",
       "      <td>27</td>\n",
       "      <td>32</td>\n",
       "      <td>Tidak Tercapai</td>\n",
       "      <td>25</td>\n",
       "      <td>NaN</td>\n",
       "      <td>NaN</td>\n",
       "      <td>NaN</td>\n",
       "    </tr>\n",
       "  </tbody>\n",
       "</table>\n",
       "<p>5 rows × 1118 columns</p>\n",
       "</div>"
      ],
      "text/plain": [
       "   No.    Kecamatan Kota / Kabupaten  Target Total per Kecamatan  \\\n",
       "0    1       Cakung    Jakarta Timur                      515628   \n",
       "1    2   Cengkareng    Jakarta Barat                      519118   \n",
       "2    3   Kali Deres    Jakarta Barat                      406018   \n",
       "3    4    Cilincing    Jakarta Utara                      392136   \n",
       "4    5  Duren Sawit    Jakarta Timur                      404329   \n",
       "\n",
       "   Target Harian per Kecamatan  Cakupan Suntik 1      Keterangan  \\\n",
       "0                         5333             74966  Tidak Tercapai   \n",
       "1                         5041             85668  Tidak Tercapai   \n",
       "2                         4295             42991  Tidak Tercapai   \n",
       "3                         4073             41494  Tidak Tercapai   \n",
       "4                         4006             41413  Tidak Tercapai   \n",
       "\n",
       "   Cakupan Suntik 2  Cakupan Suntik 1.1    Keterangan.1  ...  \\\n",
       "0             37590                 897  Tidak Tercapai  ...   \n",
       "1             47581                 429  Tidak Tercapai  ...   \n",
       "2             23222                 162  Tidak Tercapai  ...   \n",
       "3             22305                  17  Tidak Tercapai  ...   \n",
       "4             28993                   7  Tidak Tercapai  ...   \n",
       "\n",
       "   Cakupan Suntik 2.367  Cakupan Suntik 1.368  Keterangan.368  \\\n",
       "0                    41                    35  Tidak Tercapai   \n",
       "1                    48                    29  Tidak Tercapai   \n",
       "2                    25                    44  Tidak Tercapai   \n",
       "3                    76                    38  Tidak Tercapai   \n",
       "4                    31                    26  Tidak Tercapai   \n",
       "\n",
       "   Cakupan Suntik 2.368  Cakupan Suntik 1.369  Keterangan.369  \\\n",
       "0                    46                    56  Tidak Tercapai   \n",
       "1                    54                    33  Tidak Tercapai   \n",
       "2                    29                    25  Tidak Tercapai   \n",
       "3                    57                    64  Tidak Tercapai   \n",
       "4                    27                    32  Tidak Tercapai   \n",
       "\n",
       "   Cakupan Suntik 2.369  Cakupan Suntik 1.370 Keterangan.370  \\\n",
       "0                    48                   NaN            NaN   \n",
       "1                    35                   NaN            NaN   \n",
       "2                    28                   NaN            NaN   \n",
       "3                    52                   NaN            NaN   \n",
       "4                    25                   NaN            NaN   \n",
       "\n",
       "   Cakupan Suntik 2.370  \n",
       "0                   NaN  \n",
       "1                   NaN  \n",
       "2                   NaN  \n",
       "3                   NaN  \n",
       "4                   NaN  \n",
       "\n",
       "[5 rows x 1118 columns]"
      ]
     },
     "execution_count": 30,
     "metadata": {},
     "output_type": "execute_result"
    }
   ],
   "source": [
    "df_DU_VW.head()"
   ]
  },
  {
   "cell_type": "code",
   "execution_count": 31,
   "metadata": {},
   "outputs": [],
   "source": [
    "df_DU_VW = df_DU_VW.drop(df_DU_VW.select_dtypes('float64'),axis=1)"
   ]
  },
  {
   "cell_type": "code",
   "execution_count": 32,
   "metadata": {},
   "outputs": [
    {
     "data": {
      "text/html": [
       "<div>\n",
       "<style scoped>\n",
       "    .dataframe tbody tr th:only-of-type {\n",
       "        vertical-align: middle;\n",
       "    }\n",
       "\n",
       "    .dataframe tbody tr th {\n",
       "        vertical-align: top;\n",
       "    }\n",
       "\n",
       "    .dataframe thead th {\n",
       "        text-align: right;\n",
       "    }\n",
       "</style>\n",
       "<table border=\"1\" class=\"dataframe\">\n",
       "  <thead>\n",
       "    <tr style=\"text-align: right;\">\n",
       "      <th></th>\n",
       "      <th>Kecamatan</th>\n",
       "      <th>Kota / Kabupaten</th>\n",
       "      <th>Total Vaksinasi</th>\n",
       "    </tr>\n",
       "  </thead>\n",
       "  <tbody>\n",
       "    <tr>\n",
       "      <th>0</th>\n",
       "      <td>Cakung</td>\n",
       "      <td>Jakarta Timur</td>\n",
       "      <td>555303</td>\n",
       "    </tr>\n",
       "    <tr>\n",
       "      <th>1</th>\n",
       "      <td>Cengkareng</td>\n",
       "      <td>Jakarta Barat</td>\n",
       "      <td>694473</td>\n",
       "    </tr>\n",
       "    <tr>\n",
       "      <th>2</th>\n",
       "      <td>Kali Deres</td>\n",
       "      <td>Jakarta Barat</td>\n",
       "      <td>587065</td>\n",
       "    </tr>\n",
       "    <tr>\n",
       "      <th>3</th>\n",
       "      <td>Cilincing</td>\n",
       "      <td>Jakarta Utara</td>\n",
       "      <td>483607</td>\n",
       "    </tr>\n",
       "    <tr>\n",
       "      <th>4</th>\n",
       "      <td>Duren Sawit</td>\n",
       "      <td>Jakarta Timur</td>\n",
       "      <td>470542</td>\n",
       "    </tr>\n",
       "    <tr>\n",
       "      <th>5</th>\n",
       "      <td>Tanjung Priok</td>\n",
       "      <td>Jakarta Utara</td>\n",
       "      <td>782796</td>\n",
       "    </tr>\n",
       "    <tr>\n",
       "      <th>6</th>\n",
       "      <td>Jagakarsa</td>\n",
       "      <td>Jakarta Selatan</td>\n",
       "      <td>406610</td>\n",
       "    </tr>\n",
       "    <tr>\n",
       "      <th>7</th>\n",
       "      <td>Kebon Jeruk</td>\n",
       "      <td>Jakarta Barat</td>\n",
       "      <td>485189</td>\n",
       "    </tr>\n",
       "    <tr>\n",
       "      <th>8</th>\n",
       "      <td>Koja</td>\n",
       "      <td>Jakarta Utara</td>\n",
       "      <td>608483</td>\n",
       "    </tr>\n",
       "    <tr>\n",
       "      <th>9</th>\n",
       "      <td>Kebayoran Lama</td>\n",
       "      <td>Jakarta Selatan</td>\n",
       "      <td>461942</td>\n",
       "    </tr>\n",
       "    <tr>\n",
       "      <th>10</th>\n",
       "      <td>Jatinegara</td>\n",
       "      <td>Jakarta Timur</td>\n",
       "      <td>517532</td>\n",
       "    </tr>\n",
       "    <tr>\n",
       "      <th>11</th>\n",
       "      <td>Kramat Jati</td>\n",
       "      <td>Jakarta Timur</td>\n",
       "      <td>461583</td>\n",
       "    </tr>\n",
       "    <tr>\n",
       "      <th>12</th>\n",
       "      <td>Pasar Minggu</td>\n",
       "      <td>Jakarta Selatan</td>\n",
       "      <td>421652</td>\n",
       "    </tr>\n",
       "    <tr>\n",
       "      <th>13</th>\n",
       "      <td>Penjaringan</td>\n",
       "      <td>Jakarta Utara</td>\n",
       "      <td>631374</td>\n",
       "    </tr>\n",
       "    <tr>\n",
       "      <th>14</th>\n",
       "      <td>Ciracas</td>\n",
       "      <td>Jakarta Timur</td>\n",
       "      <td>354163</td>\n",
       "    </tr>\n",
       "    <tr>\n",
       "      <th>15</th>\n",
       "      <td>Pulo Gadung</td>\n",
       "      <td>Jakarta Timur</td>\n",
       "      <td>408424</td>\n",
       "    </tr>\n",
       "    <tr>\n",
       "      <th>16</th>\n",
       "      <td>Kembangan</td>\n",
       "      <td>Jakarta Barat</td>\n",
       "      <td>468783</td>\n",
       "    </tr>\n",
       "    <tr>\n",
       "      <th>17</th>\n",
       "      <td>Cipayung</td>\n",
       "      <td>Jakarta Timur</td>\n",
       "      <td>652380</td>\n",
       "    </tr>\n",
       "    <tr>\n",
       "      <th>18</th>\n",
       "      <td>Tambora</td>\n",
       "      <td>Jakarta Barat</td>\n",
       "      <td>363288</td>\n",
       "    </tr>\n",
       "    <tr>\n",
       "      <th>19</th>\n",
       "      <td>Pesanggrahan</td>\n",
       "      <td>Jakarta Selatan</td>\n",
       "      <td>467896</td>\n",
       "    </tr>\n",
       "    <tr>\n",
       "      <th>20</th>\n",
       "      <td>Kemayoran</td>\n",
       "      <td>Jakarta Pusat</td>\n",
       "      <td>633835</td>\n",
       "    </tr>\n",
       "    <tr>\n",
       "      <th>21</th>\n",
       "      <td>Tebet</td>\n",
       "      <td>Jakarta Selatan</td>\n",
       "      <td>336648</td>\n",
       "    </tr>\n",
       "    <tr>\n",
       "      <th>22</th>\n",
       "      <td>Grogol Petamburan</td>\n",
       "      <td>Jakarta Barat</td>\n",
       "      <td>532183</td>\n",
       "    </tr>\n",
       "    <tr>\n",
       "      <th>23</th>\n",
       "      <td>Palmerah</td>\n",
       "      <td>Jakarta Barat</td>\n",
       "      <td>530845</td>\n",
       "    </tr>\n",
       "    <tr>\n",
       "      <th>24</th>\n",
       "      <td>Pasar Rebo</td>\n",
       "      <td>Jakarta Timur</td>\n",
       "      <td>425287</td>\n",
       "    </tr>\n",
       "    <tr>\n",
       "      <th>25</th>\n",
       "      <td>Cilandak</td>\n",
       "      <td>Jakarta Selatan</td>\n",
       "      <td>510094</td>\n",
       "    </tr>\n",
       "    <tr>\n",
       "      <th>26</th>\n",
       "      <td>Makasar</td>\n",
       "      <td>Jakarta Timur</td>\n",
       "      <td>428191</td>\n",
       "    </tr>\n",
       "    <tr>\n",
       "      <th>27</th>\n",
       "      <td>Matraman</td>\n",
       "      <td>Jakarta Timur</td>\n",
       "      <td>448440</td>\n",
       "    </tr>\n",
       "    <tr>\n",
       "      <th>28</th>\n",
       "      <td>Tanah Abang</td>\n",
       "      <td>Jakarta Pusat</td>\n",
       "      <td>1057709</td>\n",
       "    </tr>\n",
       "    <tr>\n",
       "      <th>29</th>\n",
       "      <td>Pancoran</td>\n",
       "      <td>Jakarta Selatan</td>\n",
       "      <td>382371</td>\n",
       "    </tr>\n",
       "    <tr>\n",
       "      <th>30</th>\n",
       "      <td>Pademangan</td>\n",
       "      <td>Jakarta Utara</td>\n",
       "      <td>384070</td>\n",
       "    </tr>\n",
       "    <tr>\n",
       "      <th>31</th>\n",
       "      <td>Mampang Prapatan</td>\n",
       "      <td>Jakarta Selatan</td>\n",
       "      <td>271122</td>\n",
       "    </tr>\n",
       "    <tr>\n",
       "      <th>32</th>\n",
       "      <td>Kebayoran Baru</td>\n",
       "      <td>Jakarta Selatan</td>\n",
       "      <td>1898024</td>\n",
       "    </tr>\n",
       "    <tr>\n",
       "      <th>33</th>\n",
       "      <td>Taman Sari</td>\n",
       "      <td>Jakarta Barat</td>\n",
       "      <td>227378</td>\n",
       "    </tr>\n",
       "    <tr>\n",
       "      <th>34</th>\n",
       "      <td>Sawah Besar</td>\n",
       "      <td>Jakarta Pusat</td>\n",
       "      <td>441525</td>\n",
       "    </tr>\n",
       "    <tr>\n",
       "      <th>35</th>\n",
       "      <td>Kelapa Gading</td>\n",
       "      <td>Jakarta Utara</td>\n",
       "      <td>458017</td>\n",
       "    </tr>\n",
       "    <tr>\n",
       "      <th>36</th>\n",
       "      <td>Johar Baru</td>\n",
       "      <td>Jakarta Pusat</td>\n",
       "      <td>351280</td>\n",
       "    </tr>\n",
       "    <tr>\n",
       "      <th>37</th>\n",
       "      <td>Senen</td>\n",
       "      <td>Jakarta Pusat</td>\n",
       "      <td>364070</td>\n",
       "    </tr>\n",
       "    <tr>\n",
       "      <th>38</th>\n",
       "      <td>Setia Budi</td>\n",
       "      <td>Jakarta Selatan</td>\n",
       "      <td>407826</td>\n",
       "    </tr>\n",
       "    <tr>\n",
       "      <th>39</th>\n",
       "      <td>Cempaka Putih</td>\n",
       "      <td>Jakarta Pusat</td>\n",
       "      <td>225989</td>\n",
       "    </tr>\n",
       "    <tr>\n",
       "      <th>40</th>\n",
       "      <td>Gambir</td>\n",
       "      <td>Jakarta Pusat</td>\n",
       "      <td>525019</td>\n",
       "    </tr>\n",
       "    <tr>\n",
       "      <th>41</th>\n",
       "      <td>Menteng</td>\n",
       "      <td>Jakarta Pusat</td>\n",
       "      <td>306413</td>\n",
       "    </tr>\n",
       "    <tr>\n",
       "      <th>42</th>\n",
       "      <td>Kep. Seribu Utara</td>\n",
       "      <td>Kepulauan Seribu</td>\n",
       "      <td>24283</td>\n",
       "    </tr>\n",
       "    <tr>\n",
       "      <th>43</th>\n",
       "      <td>Kep. Seribu Selatan</td>\n",
       "      <td>Kepulauan Seribu</td>\n",
       "      <td>21636</td>\n",
       "    </tr>\n",
       "  </tbody>\n",
       "</table>\n",
       "</div>"
      ],
      "text/plain": [
       "              Kecamatan  Kota / Kabupaten  Total Vaksinasi\n",
       "0                Cakung     Jakarta Timur           555303\n",
       "1            Cengkareng     Jakarta Barat           694473\n",
       "2            Kali Deres     Jakarta Barat           587065\n",
       "3             Cilincing     Jakarta Utara           483607\n",
       "4           Duren Sawit     Jakarta Timur           470542\n",
       "5         Tanjung Priok     Jakarta Utara           782796\n",
       "6             Jagakarsa   Jakarta Selatan           406610\n",
       "7           Kebon Jeruk     Jakarta Barat           485189\n",
       "8                  Koja     Jakarta Utara           608483\n",
       "9        Kebayoran Lama   Jakarta Selatan           461942\n",
       "10           Jatinegara     Jakarta Timur           517532\n",
       "11          Kramat Jati     Jakarta Timur           461583\n",
       "12         Pasar Minggu   Jakarta Selatan           421652\n",
       "13          Penjaringan     Jakarta Utara           631374\n",
       "14              Ciracas     Jakarta Timur           354163\n",
       "15          Pulo Gadung     Jakarta Timur           408424\n",
       "16            Kembangan     Jakarta Barat           468783\n",
       "17             Cipayung     Jakarta Timur           652380\n",
       "18              Tambora     Jakarta Barat           363288\n",
       "19         Pesanggrahan   Jakarta Selatan           467896\n",
       "20            Kemayoran     Jakarta Pusat           633835\n",
       "21                Tebet   Jakarta Selatan           336648\n",
       "22    Grogol Petamburan     Jakarta Barat           532183\n",
       "23             Palmerah     Jakarta Barat           530845\n",
       "24           Pasar Rebo     Jakarta Timur           425287\n",
       "25             Cilandak   Jakarta Selatan           510094\n",
       "26              Makasar     Jakarta Timur           428191\n",
       "27             Matraman     Jakarta Timur           448440\n",
       "28          Tanah Abang     Jakarta Pusat          1057709\n",
       "29             Pancoran   Jakarta Selatan           382371\n",
       "30           Pademangan     Jakarta Utara           384070\n",
       "31     Mampang Prapatan   Jakarta Selatan           271122\n",
       "32       Kebayoran Baru   Jakarta Selatan          1898024\n",
       "33           Taman Sari     Jakarta Barat           227378\n",
       "34          Sawah Besar     Jakarta Pusat           441525\n",
       "35        Kelapa Gading     Jakarta Utara           458017\n",
       "36           Johar Baru     Jakarta Pusat           351280\n",
       "37                Senen     Jakarta Pusat           364070\n",
       "38           Setia Budi   Jakarta Selatan           407826\n",
       "39        Cempaka Putih     Jakarta Pusat           225989\n",
       "40               Gambir     Jakarta Pusat           525019\n",
       "41              Menteng     Jakarta Pusat           306413\n",
       "42    Kep. Seribu Utara  Kepulauan Seribu            24283\n",
       "43  Kep. Seribu Selatan  Kepulauan Seribu            21636"
      ]
     },
     "execution_count": 32,
     "metadata": {},
     "output_type": "execute_result"
    }
   ],
   "source": [
    "df_DU_VW_grouped_kec = df_DU_VW.groupby([\"No.\",\"Kecamatan\",\"Kota / Kabupaten\",\"Target Total per Kecamatan\",\"Target Harian per Kecamatan\"]).sum().sum(axis=1).to_frame().rename(columns={0:'Total Vaksinasi'}).reset_index().drop(['No.','Target Total per Kecamatan','Target Harian per Kecamatan'],axis=1)\n",
    "df_DU_VW_grouped_kec"
   ]
  },
  {
   "cell_type": "code",
   "execution_count": 33,
   "metadata": {},
   "outputs": [
    {
     "data": {
      "text/html": [
       "<div>\n",
       "<style scoped>\n",
       "    .dataframe tbody tr th:only-of-type {\n",
       "        vertical-align: middle;\n",
       "    }\n",
       "\n",
       "    .dataframe tbody tr th {\n",
       "        vertical-align: top;\n",
       "    }\n",
       "\n",
       "    .dataframe thead th {\n",
       "        text-align: right;\n",
       "    }\n",
       "</style>\n",
       "<table border=\"1\" class=\"dataframe\">\n",
       "  <thead>\n",
       "    <tr style=\"text-align: right;\">\n",
       "      <th></th>\n",
       "      <th>Total Vaksinasi</th>\n",
       "    </tr>\n",
       "    <tr>\n",
       "      <th>Kota / Kabupaten</th>\n",
       "      <th></th>\n",
       "    </tr>\n",
       "  </thead>\n",
       "  <tbody>\n",
       "    <tr>\n",
       "      <th>Jakarta Barat</th>\n",
       "      <td>3889204</td>\n",
       "    </tr>\n",
       "    <tr>\n",
       "      <th>Jakarta Pusat</th>\n",
       "      <td>3905840</td>\n",
       "    </tr>\n",
       "    <tr>\n",
       "      <th>Jakarta Selatan</th>\n",
       "      <td>5564185</td>\n",
       "    </tr>\n",
       "    <tr>\n",
       "      <th>Jakarta Timur</th>\n",
       "      <td>4721845</td>\n",
       "    </tr>\n",
       "    <tr>\n",
       "      <th>Jakarta Utara</th>\n",
       "      <td>3348347</td>\n",
       "    </tr>\n",
       "    <tr>\n",
       "      <th>Kepulauan Seribu</th>\n",
       "      <td>45919</td>\n",
       "    </tr>\n",
       "  </tbody>\n",
       "</table>\n",
       "</div>"
      ],
      "text/plain": [
       "                  Total Vaksinasi\n",
       "Kota / Kabupaten                 \n",
       "Jakarta Barat             3889204\n",
       "Jakarta Pusat             3905840\n",
       "Jakarta Selatan           5564185\n",
       "Jakarta Timur             4721845\n",
       "Jakarta Utara             3348347\n",
       "Kepulauan Seribu            45919"
      ]
     },
     "execution_count": 33,
     "metadata": {},
     "output_type": "execute_result"
    }
   ],
   "source": [
    "df_DU_VW_grouped_kota = df_DU_VW_grouped_kec.copy()\n",
    "df_DU_VW_grouped_kota = df_DU_VW_grouped_kota.reset_index().drop(['Kecamatan','index'], axis=1).groupby(['Kota / Kabupaten']).sum()\n",
    "df_DU_VW_grouped_kota"
   ]
  },
  {
   "cell_type": "markdown",
   "metadata": {},
   "source": [
    "##### Vaksinasi Booster Wilayah"
   ]
  },
  {
   "cell_type": "code",
   "execution_count": 35,
   "metadata": {},
   "outputs": [
    {
     "data": {
      "text/html": [
       "<div>\n",
       "<style scoped>\n",
       "    .dataframe tbody tr th:only-of-type {\n",
       "        vertical-align: middle;\n",
       "    }\n",
       "\n",
       "    .dataframe tbody tr th {\n",
       "        vertical-align: top;\n",
       "    }\n",
       "\n",
       "    .dataframe thead th {\n",
       "        text-align: right;\n",
       "    }\n",
       "</style>\n",
       "<table border=\"1\" class=\"dataframe\">\n",
       "  <thead>\n",
       "    <tr style=\"text-align: right;\">\n",
       "      <th></th>\n",
       "      <th>Tanggal</th>\n",
       "      <th>Kecamatan</th>\n",
       "      <th>Wilayah</th>\n",
       "      <th>Akumulasi Cakupan D3</th>\n",
       "      <th>Persentase D3 terhadap D2 (Masyarakat Rentan/Umum)</th>\n",
       "      <th>Persentase D3 terhadap D2</th>\n",
       "    </tr>\n",
       "  </thead>\n",
       "  <tbody>\n",
       "    <tr>\n",
       "      <th>0</th>\n",
       "      <td>2022-02-06</td>\n",
       "      <td>Cakung</td>\n",
       "      <td>Jakarta Timur</td>\n",
       "      <td>12745</td>\n",
       "      <td>0.0672</td>\n",
       "      <td>0.0460</td>\n",
       "    </tr>\n",
       "    <tr>\n",
       "      <th>1</th>\n",
       "      <td>2022-02-06</td>\n",
       "      <td>Cengkareng</td>\n",
       "      <td>Jakarta Barat</td>\n",
       "      <td>16789</td>\n",
       "      <td>0.0601</td>\n",
       "      <td>0.0513</td>\n",
       "    </tr>\n",
       "    <tr>\n",
       "      <th>2</th>\n",
       "      <td>2022-02-06</td>\n",
       "      <td>Kali Deres</td>\n",
       "      <td>Jakarta Barat</td>\n",
       "      <td>12736</td>\n",
       "      <td>0.0516</td>\n",
       "      <td>0.0442</td>\n",
       "    </tr>\n",
       "    <tr>\n",
       "      <th>3</th>\n",
       "      <td>2022-02-06</td>\n",
       "      <td>Cilincing</td>\n",
       "      <td>Jakarta Utara</td>\n",
       "      <td>5756</td>\n",
       "      <td>0.0272</td>\n",
       "      <td>0.0243</td>\n",
       "    </tr>\n",
       "    <tr>\n",
       "      <th>4</th>\n",
       "      <td>2022-02-06</td>\n",
       "      <td>Duren Sawit</td>\n",
       "      <td>Jakarta Timur</td>\n",
       "      <td>20377</td>\n",
       "      <td>0.1087</td>\n",
       "      <td>0.0853</td>\n",
       "    </tr>\n",
       "    <tr>\n",
       "      <th>...</th>\n",
       "      <td>...</td>\n",
       "      <td>...</td>\n",
       "      <td>...</td>\n",
       "      <td>...</td>\n",
       "      <td>...</td>\n",
       "      <td>...</td>\n",
       "    </tr>\n",
       "    <tr>\n",
       "      <th>5715</th>\n",
       "      <td>2022-06-15</td>\n",
       "      <td>Taman Sari</td>\n",
       "      <td>Jakarta Barat</td>\n",
       "      <td>61254</td>\n",
       "      <td>0.5997</td>\n",
       "      <td>0.5287</td>\n",
       "    </tr>\n",
       "    <tr>\n",
       "      <th>5716</th>\n",
       "      <td>2022-06-15</td>\n",
       "      <td>Tambora</td>\n",
       "      <td>Jakarta Barat</td>\n",
       "      <td>57592</td>\n",
       "      <td>0.3853</td>\n",
       "      <td>0.3315</td>\n",
       "    </tr>\n",
       "    <tr>\n",
       "      <th>5717</th>\n",
       "      <td>2022-06-15</td>\n",
       "      <td>Tanah Abang</td>\n",
       "      <td>Jakarta Pusat</td>\n",
       "      <td>71266</td>\n",
       "      <td>0.2584</td>\n",
       "      <td>0.2035</td>\n",
       "    </tr>\n",
       "    <tr>\n",
       "      <th>5718</th>\n",
       "      <td>2022-06-15</td>\n",
       "      <td>Tanjung Priok</td>\n",
       "      <td>Jakarta Utara</td>\n",
       "      <td>130737</td>\n",
       "      <td>0.3808</td>\n",
       "      <td>0.3286</td>\n",
       "    </tr>\n",
       "    <tr>\n",
       "      <th>5719</th>\n",
       "      <td>2022-06-15</td>\n",
       "      <td>Tebet</td>\n",
       "      <td>Jakarta Selatan</td>\n",
       "      <td>60507</td>\n",
       "      <td>0.4225</td>\n",
       "      <td>0.3396</td>\n",
       "    </tr>\n",
       "  </tbody>\n",
       "</table>\n",
       "<p>5720 rows × 6 columns</p>\n",
       "</div>"
      ],
      "text/plain": [
       "        Tanggal      Kecamatan          Wilayah  Akumulasi Cakupan D3  \\\n",
       "0    2022-02-06         Cakung    Jakarta Timur                 12745   \n",
       "1    2022-02-06     Cengkareng    Jakarta Barat                 16789   \n",
       "2    2022-02-06     Kali Deres    Jakarta Barat                 12736   \n",
       "3    2022-02-06      Cilincing    Jakarta Utara                  5756   \n",
       "4    2022-02-06    Duren Sawit    Jakarta Timur                 20377   \n",
       "...         ...            ...              ...                   ...   \n",
       "5715 2022-06-15     Taman Sari    Jakarta Barat                 61254   \n",
       "5716 2022-06-15        Tambora    Jakarta Barat                 57592   \n",
       "5717 2022-06-15    Tanah Abang    Jakarta Pusat                 71266   \n",
       "5718 2022-06-15  Tanjung Priok    Jakarta Utara                130737   \n",
       "5719 2022-06-15          Tebet  Jakarta Selatan                 60507   \n",
       "\n",
       "      Persentase D3 terhadap D2 (Masyarakat Rentan/Umum)  \\\n",
       "0                                                0.0672    \n",
       "1                                                0.0601    \n",
       "2                                                0.0516    \n",
       "3                                                0.0272    \n",
       "4                                                0.1087    \n",
       "...                                                 ...    \n",
       "5715                                             0.5997    \n",
       "5716                                             0.3853    \n",
       "5717                                             0.2584    \n",
       "5718                                             0.3808    \n",
       "5719                                             0.4225    \n",
       "\n",
       "      Persentase D3 terhadap D2  \n",
       "0                        0.0460  \n",
       "1                        0.0513  \n",
       "2                        0.0442  \n",
       "3                        0.0243  \n",
       "4                        0.0853  \n",
       "...                         ...  \n",
       "5715                     0.5287  \n",
       "5716                     0.3315  \n",
       "5717                     0.2035  \n",
       "5718                     0.3286  \n",
       "5719                     0.3396  \n",
       "\n",
       "[5720 rows x 6 columns]"
      ]
     },
     "execution_count": 35,
     "metadata": {},
     "output_type": "execute_result"
    }
   ],
   "source": [
    "df_DU_VBW = pd.read_excel('Daily Update Data Agregat Covid-19 Jakarta.xlsx', sheet_name='Vaksinasi Booster Wilayah')\n",
    "df_DU_VBW"
   ]
  },
  {
   "cell_type": "code",
   "execution_count": 40,
   "metadata": {},
   "outputs": [
    {
     "data": {
      "text/plain": [
       "Tanggal                                               0\n",
       "Kecamatan                                             0\n",
       "Wilayah                                               0\n",
       "Akumulasi Cakupan D3                                  0\n",
       "Persentase D3 terhadap D2 (Masyarakat Rentan/Umum)    0\n",
       "Persentase D3 terhadap D2                             0\n",
       "dtype: int64"
      ]
     },
     "execution_count": 40,
     "metadata": {},
     "output_type": "execute_result"
    }
   ],
   "source": [
    "df_DU_VBW.isna().sum()"
   ]
  },
  {
   "cell_type": "code",
   "execution_count": 41,
   "metadata": {},
   "outputs": [
    {
     "name": "stdout",
     "output_type": "stream",
     "text": [
      "<class 'pandas.core.frame.DataFrame'>\n",
      "RangeIndex: 5720 entries, 0 to 5719\n",
      "Data columns (total 6 columns):\n",
      " #   Column                                              Non-Null Count  Dtype         \n",
      "---  ------                                              --------------  -----         \n",
      " 0   Tanggal                                             5720 non-null   datetime64[ns]\n",
      " 1   Kecamatan                                           5720 non-null   object        \n",
      " 2   Wilayah                                             5720 non-null   object        \n",
      " 3   Akumulasi Cakupan D3                                5720 non-null   int64         \n",
      " 4   Persentase D3 terhadap D2 (Masyarakat Rentan/Umum)  5720 non-null   float64       \n",
      " 5   Persentase D3 terhadap D2                           5720 non-null   float64       \n",
      "dtypes: datetime64[ns](1), float64(2), int64(1), object(2)\n",
      "memory usage: 268.2+ KB\n"
     ]
    }
   ],
   "source": [
    "df_DU_VBW.info()"
   ]
  },
  {
   "cell_type": "code",
   "execution_count": 39,
   "metadata": {},
   "outputs": [
    {
     "data": {
      "text/html": [
       "<div>\n",
       "<style scoped>\n",
       "    .dataframe tbody tr th:only-of-type {\n",
       "        vertical-align: middle;\n",
       "    }\n",
       "\n",
       "    .dataframe tbody tr th {\n",
       "        vertical-align: top;\n",
       "    }\n",
       "\n",
       "    .dataframe thead th {\n",
       "        text-align: right;\n",
       "    }\n",
       "</style>\n",
       "<table border=\"1\" class=\"dataframe\">\n",
       "  <thead>\n",
       "    <tr style=\"text-align: right;\">\n",
       "      <th></th>\n",
       "      <th>Tanggal</th>\n",
       "      <th>Wilayah</th>\n",
       "      <th>Akumulasi Cakupan D3</th>\n",
       "      <th>Persentase D3 terhadap D2 (Masyarakat Rentan/Umum)</th>\n",
       "      <th>Persentase D3 terhadap D2</th>\n",
       "    </tr>\n",
       "  </thead>\n",
       "  <tbody>\n",
       "    <tr>\n",
       "      <th>0</th>\n",
       "      <td>2022-02-06</td>\n",
       "      <td>Jakarta Barat</td>\n",
       "      <td>124888</td>\n",
       "      <td>0.086900</td>\n",
       "      <td>0.068612</td>\n",
       "    </tr>\n",
       "    <tr>\n",
       "      <th>1</th>\n",
       "      <td>2022-02-06</td>\n",
       "      <td>Jakarta Pusat</td>\n",
       "      <td>184916</td>\n",
       "      <td>0.151487</td>\n",
       "      <td>0.107938</td>\n",
       "    </tr>\n",
       "    <tr>\n",
       "      <th>2</th>\n",
       "      <td>2022-02-06</td>\n",
       "      <td>Jakarta Selatan</td>\n",
       "      <td>227642</td>\n",
       "      <td>0.114440</td>\n",
       "      <td>0.086190</td>\n",
       "    </tr>\n",
       "    <tr>\n",
       "      <th>3</th>\n",
       "      <td>2022-02-06</td>\n",
       "      <td>Jakarta Timur</td>\n",
       "      <td>184524</td>\n",
       "      <td>0.105720</td>\n",
       "      <td>0.083080</td>\n",
       "    </tr>\n",
       "    <tr>\n",
       "      <th>4</th>\n",
       "      <td>2022-02-06</td>\n",
       "      <td>Jakarta Utara</td>\n",
       "      <td>91900</td>\n",
       "      <td>0.072667</td>\n",
       "      <td>0.055100</td>\n",
       "    </tr>\n",
       "    <tr>\n",
       "      <th>...</th>\n",
       "      <td>...</td>\n",
       "      <td>...</td>\n",
       "      <td>...</td>\n",
       "      <td>...</td>\n",
       "      <td>...</td>\n",
       "    </tr>\n",
       "    <tr>\n",
       "      <th>775</th>\n",
       "      <td>2022-06-15</td>\n",
       "      <td>Jakarta Pusat</td>\n",
       "      <td>689767</td>\n",
       "      <td>0.469450</td>\n",
       "      <td>0.398838</td>\n",
       "    </tr>\n",
       "    <tr>\n",
       "      <th>776</th>\n",
       "      <td>2022-06-15</td>\n",
       "      <td>Jakarta Selatan</td>\n",
       "      <td>976313</td>\n",
       "      <td>0.389460</td>\n",
       "      <td>0.329740</td>\n",
       "    </tr>\n",
       "    <tr>\n",
       "      <th>777</th>\n",
       "      <td>2022-06-15</td>\n",
       "      <td>Jakarta Timur</td>\n",
       "      <td>944297</td>\n",
       "      <td>0.465350</td>\n",
       "      <td>0.392510</td>\n",
       "    </tr>\n",
       "    <tr>\n",
       "      <th>778</th>\n",
       "      <td>2022-06-15</td>\n",
       "      <td>Jakarta Utara</td>\n",
       "      <td>579402</td>\n",
       "      <td>0.410350</td>\n",
       "      <td>0.338600</td>\n",
       "    </tr>\n",
       "    <tr>\n",
       "      <th>779</th>\n",
       "      <td>2022-06-15</td>\n",
       "      <td>Kepulauan Seribu</td>\n",
       "      <td>15908</td>\n",
       "      <td>0.887350</td>\n",
       "      <td>0.681050</td>\n",
       "    </tr>\n",
       "  </tbody>\n",
       "</table>\n",
       "<p>780 rows × 5 columns</p>\n",
       "</div>"
      ],
      "text/plain": [
       "       Tanggal           Wilayah  Akumulasi Cakupan D3  \\\n",
       "0   2022-02-06     Jakarta Barat                124888   \n",
       "1   2022-02-06     Jakarta Pusat                184916   \n",
       "2   2022-02-06   Jakarta Selatan                227642   \n",
       "3   2022-02-06     Jakarta Timur                184524   \n",
       "4   2022-02-06     Jakarta Utara                 91900   \n",
       "..         ...               ...                   ...   \n",
       "775 2022-06-15     Jakarta Pusat                689767   \n",
       "776 2022-06-15   Jakarta Selatan                976313   \n",
       "777 2022-06-15     Jakarta Timur                944297   \n",
       "778 2022-06-15     Jakarta Utara                579402   \n",
       "779 2022-06-15  Kepulauan Seribu                 15908   \n",
       "\n",
       "     Persentase D3 terhadap D2 (Masyarakat Rentan/Umum)  \\\n",
       "0                                             0.086900    \n",
       "1                                             0.151487    \n",
       "2                                             0.114440    \n",
       "3                                             0.105720    \n",
       "4                                             0.072667    \n",
       "..                                                 ...    \n",
       "775                                           0.469450    \n",
       "776                                           0.389460    \n",
       "777                                           0.465350    \n",
       "778                                           0.410350    \n",
       "779                                           0.887350    \n",
       "\n",
       "     Persentase D3 terhadap D2  \n",
       "0                     0.068612  \n",
       "1                     0.107938  \n",
       "2                     0.086190  \n",
       "3                     0.083080  \n",
       "4                     0.055100  \n",
       "..                         ...  \n",
       "775                   0.398838  \n",
       "776                   0.329740  \n",
       "777                   0.392510  \n",
       "778                   0.338600  \n",
       "779                   0.681050  \n",
       "\n",
       "[780 rows x 5 columns]"
      ]
     },
     "execution_count": 39,
     "metadata": {},
     "output_type": "execute_result"
    }
   ],
   "source": [
    "df_DU_VBW_grouped = df_DU_VBW.groupby(['Tanggal','Wilayah']).agg({'Akumulasi Cakupan D3':'sum','Persentase D3 terhadap D2 (Masyarakat Rentan/Umum)':'mean','Persentase D3 terhadap D2':'mean'}).reset_index()\n",
    "df_DU_VBW_grouped"
   ]
  },
  {
   "cell_type": "markdown",
   "metadata": {},
   "source": [
    "##### Data Input Daily Vaksinasi Anak"
   ]
  },
  {
   "cell_type": "code",
   "execution_count": 47,
   "metadata": {},
   "outputs": [
    {
     "data": {
      "text/html": [
       "<div>\n",
       "<style scoped>\n",
       "    .dataframe tbody tr th:only-of-type {\n",
       "        vertical-align: middle;\n",
       "    }\n",
       "\n",
       "    .dataframe tbody tr th {\n",
       "        vertical-align: top;\n",
       "    }\n",
       "\n",
       "    .dataframe thead th {\n",
       "        text-align: right;\n",
       "    }\n",
       "</style>\n",
       "<table border=\"1\" class=\"dataframe\">\n",
       "  <thead>\n",
       "    <tr style=\"text-align: right;\">\n",
       "      <th></th>\n",
       "      <th>Tanggal</th>\n",
       "      <th>Dosis</th>\n",
       "      <th>JAKARTA PUSAT</th>\n",
       "      <th>JAKARTA UTARA</th>\n",
       "      <th>JAKARTA BARAT</th>\n",
       "      <th>JAKARTA SELATAN</th>\n",
       "      <th>JAKARTA TIMUR</th>\n",
       "      <th>ADM. KEPULAUAN SERIBU</th>\n",
       "      <th>Total</th>\n",
       "    </tr>\n",
       "  </thead>\n",
       "  <tbody>\n",
       "    <tr>\n",
       "      <th>0</th>\n",
       "      <td>2021-12-14</td>\n",
       "      <td>1</td>\n",
       "      <td>1860</td>\n",
       "      <td>1447</td>\n",
       "      <td>1738</td>\n",
       "      <td>2099</td>\n",
       "      <td>2440</td>\n",
       "      <td>105</td>\n",
       "      <td>9689</td>\n",
       "    </tr>\n",
       "    <tr>\n",
       "      <th>1</th>\n",
       "      <td>2021-12-15</td>\n",
       "      <td>1</td>\n",
       "      <td>4366</td>\n",
       "      <td>6742</td>\n",
       "      <td>6466</td>\n",
       "      <td>6810</td>\n",
       "      <td>7022</td>\n",
       "      <td>451</td>\n",
       "      <td>31857</td>\n",
       "    </tr>\n",
       "    <tr>\n",
       "      <th>2</th>\n",
       "      <td>2021-12-16</td>\n",
       "      <td>1</td>\n",
       "      <td>6981</td>\n",
       "      <td>9442</td>\n",
       "      <td>5807</td>\n",
       "      <td>6638</td>\n",
       "      <td>9279</td>\n",
       "      <td>595</td>\n",
       "      <td>38742</td>\n",
       "    </tr>\n",
       "    <tr>\n",
       "      <th>3</th>\n",
       "      <td>2021-12-17</td>\n",
       "      <td>1</td>\n",
       "      <td>6171</td>\n",
       "      <td>9621</td>\n",
       "      <td>7251</td>\n",
       "      <td>6009</td>\n",
       "      <td>11995</td>\n",
       "      <td>393</td>\n",
       "      <td>41440</td>\n",
       "    </tr>\n",
       "    <tr>\n",
       "      <th>4</th>\n",
       "      <td>2021-12-18</td>\n",
       "      <td>1</td>\n",
       "      <td>821</td>\n",
       "      <td>400</td>\n",
       "      <td>106</td>\n",
       "      <td>536</td>\n",
       "      <td>760</td>\n",
       "      <td>10</td>\n",
       "      <td>2633</td>\n",
       "    </tr>\n",
       "    <tr>\n",
       "      <th>...</th>\n",
       "      <td>...</td>\n",
       "      <td>...</td>\n",
       "      <td>...</td>\n",
       "      <td>...</td>\n",
       "      <td>...</td>\n",
       "      <td>...</td>\n",
       "      <td>...</td>\n",
       "      <td>...</td>\n",
       "      <td>...</td>\n",
       "    </tr>\n",
       "    <tr>\n",
       "      <th>345</th>\n",
       "      <td>2022-06-13</td>\n",
       "      <td>2</td>\n",
       "      <td>11</td>\n",
       "      <td>34</td>\n",
       "      <td>17</td>\n",
       "      <td>27</td>\n",
       "      <td>34</td>\n",
       "      <td>0</td>\n",
       "      <td>123</td>\n",
       "    </tr>\n",
       "    <tr>\n",
       "      <th>346</th>\n",
       "      <td>2022-06-14</td>\n",
       "      <td>1</td>\n",
       "      <td>13</td>\n",
       "      <td>29</td>\n",
       "      <td>21</td>\n",
       "      <td>21</td>\n",
       "      <td>32</td>\n",
       "      <td>0</td>\n",
       "      <td>116</td>\n",
       "    </tr>\n",
       "    <tr>\n",
       "      <th>347</th>\n",
       "      <td>2022-06-14</td>\n",
       "      <td>2</td>\n",
       "      <td>20</td>\n",
       "      <td>53</td>\n",
       "      <td>36</td>\n",
       "      <td>42</td>\n",
       "      <td>54</td>\n",
       "      <td>0</td>\n",
       "      <td>205</td>\n",
       "    </tr>\n",
       "    <tr>\n",
       "      <th>348</th>\n",
       "      <td>2022-06-15</td>\n",
       "      <td>1</td>\n",
       "      <td>13</td>\n",
       "      <td>21</td>\n",
       "      <td>19</td>\n",
       "      <td>29</td>\n",
       "      <td>43</td>\n",
       "      <td>0</td>\n",
       "      <td>125</td>\n",
       "    </tr>\n",
       "    <tr>\n",
       "      <th>349</th>\n",
       "      <td>2022-06-15</td>\n",
       "      <td>2</td>\n",
       "      <td>27</td>\n",
       "      <td>33</td>\n",
       "      <td>23</td>\n",
       "      <td>57</td>\n",
       "      <td>72</td>\n",
       "      <td>0</td>\n",
       "      <td>212</td>\n",
       "    </tr>\n",
       "  </tbody>\n",
       "</table>\n",
       "<p>350 rows × 9 columns</p>\n",
       "</div>"
      ],
      "text/plain": [
       "       Tanggal  Dosis  JAKARTA PUSAT  JAKARTA UTARA  JAKARTA BARAT  \\\n",
       "0   2021-12-14      1           1860           1447           1738   \n",
       "1   2021-12-15      1           4366           6742           6466   \n",
       "2   2021-12-16      1           6981           9442           5807   \n",
       "3   2021-12-17      1           6171           9621           7251   \n",
       "4   2021-12-18      1            821            400            106   \n",
       "..         ...    ...            ...            ...            ...   \n",
       "345 2022-06-13      2             11             34             17   \n",
       "346 2022-06-14      1             13             29             21   \n",
       "347 2022-06-14      2             20             53             36   \n",
       "348 2022-06-15      1             13             21             19   \n",
       "349 2022-06-15      2             27             33             23   \n",
       "\n",
       "     JAKARTA SELATAN  JAKARTA TIMUR  ADM. KEPULAUAN SERIBU  Total  \n",
       "0               2099           2440                    105   9689  \n",
       "1               6810           7022                    451  31857  \n",
       "2               6638           9279                    595  38742  \n",
       "3               6009          11995                    393  41440  \n",
       "4                536            760                     10   2633  \n",
       "..               ...            ...                    ...    ...  \n",
       "345               27             34                      0    123  \n",
       "346               21             32                      0    116  \n",
       "347               42             54                      0    205  \n",
       "348               29             43                      0    125  \n",
       "349               57             72                      0    212  \n",
       "\n",
       "[350 rows x 9 columns]"
      ]
     },
     "execution_count": 47,
     "metadata": {},
     "output_type": "execute_result"
    }
   ],
   "source": [
    "df_DU_Vaks_Anak = pd.read_excel('Daily Update Data Agregat Covid-19 Jakarta.xlsx', sheet_name='Data Input Daily Vaksinasi Anak')\n",
    "df_DU_Vaks_Anak"
   ]
  },
  {
   "cell_type": "code",
   "execution_count": 48,
   "metadata": {},
   "outputs": [
    {
     "name": "stdout",
     "output_type": "stream",
     "text": [
      "<class 'pandas.core.frame.DataFrame'>\n",
      "RangeIndex: 350 entries, 0 to 349\n",
      "Data columns (total 9 columns):\n",
      " #   Column                 Non-Null Count  Dtype         \n",
      "---  ------                 --------------  -----         \n",
      " 0   Tanggal                350 non-null    datetime64[ns]\n",
      " 1   Dosis                  350 non-null    int64         \n",
      " 2   JAKARTA PUSAT          350 non-null    int64         \n",
      " 3   JAKARTA UTARA          350 non-null    int64         \n",
      " 4   JAKARTA BARAT          350 non-null    int64         \n",
      " 5   JAKARTA SELATAN        350 non-null    int64         \n",
      " 6   JAKARTA TIMUR          350 non-null    int64         \n",
      " 7   ADM. KEPULAUAN SERIBU  350 non-null    int64         \n",
      " 8   Total                  350 non-null    int64         \n",
      "dtypes: datetime64[ns](1), int64(8)\n",
      "memory usage: 24.7 KB\n"
     ]
    }
   ],
   "source": [
    "df_DU_Vaks_Anak.info()"
   ]
  },
  {
   "cell_type": "code",
   "execution_count": 49,
   "metadata": {},
   "outputs": [
    {
     "data": {
      "text/plain": [
       "Tanggal                  0\n",
       "Dosis                    0\n",
       "JAKARTA PUSAT            0\n",
       "JAKARTA UTARA            0\n",
       "JAKARTA BARAT            0\n",
       "JAKARTA SELATAN          0\n",
       "JAKARTA TIMUR            0\n",
       "ADM. KEPULAUAN SERIBU    0\n",
       "Total                    0\n",
       "dtype: int64"
      ]
     },
     "execution_count": 49,
     "metadata": {},
     "output_type": "execute_result"
    }
   ],
   "source": [
    "df_DU_Vaks_Anak.isna().sum()"
   ]
  },
  {
   "cell_type": "markdown",
   "metadata": {},
   "source": [
    "#### **b. Dataset Mobilitas**"
   ]
  },
  {
   "cell_type": "code",
   "execution_count": 62,
   "metadata": {},
   "outputs": [
    {
     "data": {
      "text/plain": [
       "(11235, 15)"
      ]
     },
     "execution_count": 62,
     "metadata": {},
     "output_type": "execute_result"
    }
   ],
   "source": [
    "df_M = pd.read_csv('2020_ID_Region_Mobility_Report.csv')\n",
    "df_M.shape"
   ]
  },
  {
   "cell_type": "code",
   "execution_count": 63,
   "metadata": {},
   "outputs": [
    {
     "data": {
      "text/plain": [
       "country_region_code                                       0\n",
       "country_region                                            0\n",
       "sub_region_1                                            321\n",
       "sub_region_2                                          11235\n",
       "metro_area                                            11235\n",
       "iso_3166_2_code                                         321\n",
       "census_fips_code                                      11235\n",
       "place_id                                                  0\n",
       "date                                                      0\n",
       "retail_and_recreation_percent_change_from_baseline       50\n",
       "grocery_and_pharmacy_percent_change_from_baseline        99\n",
       "parks_percent_change_from_baseline                      118\n",
       "transit_stations_percent_change_from_baseline           391\n",
       "workplaces_percent_change_from_baseline                   0\n",
       "residential_percent_change_from_baseline                  0\n",
       "dtype: int64"
      ]
     },
     "execution_count": 63,
     "metadata": {},
     "output_type": "execute_result"
    }
   ],
   "source": [
    "df_M.isna().sum()"
   ]
  },
  {
   "cell_type": "code",
   "execution_count": 64,
   "metadata": {},
   "outputs": [
    {
     "name": "stdout",
     "output_type": "stream",
     "text": [
      "<class 'pandas.core.frame.DataFrame'>\n",
      "RangeIndex: 11235 entries, 0 to 11234\n",
      "Data columns (total 15 columns):\n",
      " #   Column                                              Non-Null Count  Dtype  \n",
      "---  ------                                              --------------  -----  \n",
      " 0   country_region_code                                 11235 non-null  object \n",
      " 1   country_region                                      11235 non-null  object \n",
      " 2   sub_region_1                                        10914 non-null  object \n",
      " 3   sub_region_2                                        0 non-null      float64\n",
      " 4   metro_area                                          0 non-null      float64\n",
      " 5   iso_3166_2_code                                     10914 non-null  object \n",
      " 6   census_fips_code                                    0 non-null      float64\n",
      " 7   place_id                                            11235 non-null  object \n",
      " 8   date                                                11235 non-null  object \n",
      " 9   retail_and_recreation_percent_change_from_baseline  11185 non-null  float64\n",
      " 10  grocery_and_pharmacy_percent_change_from_baseline   11136 non-null  float64\n",
      " 11  parks_percent_change_from_baseline                  11117 non-null  float64\n",
      " 12  transit_stations_percent_change_from_baseline       10844 non-null  float64\n",
      " 13  workplaces_percent_change_from_baseline             11235 non-null  int64  \n",
      " 14  residential_percent_change_from_baseline            11235 non-null  int64  \n",
      "dtypes: float64(7), int64(2), object(6)\n",
      "memory usage: 1.3+ MB\n"
     ]
    }
   ],
   "source": [
    "df_M.info()"
   ]
  },
  {
   "cell_type": "code",
   "execution_count": 65,
   "metadata": {},
   "outputs": [],
   "source": [
    "df_M.drop(['sub_region_2','metro_area','census_fips_code','place_id'],axis=1,inplace=True)"
   ]
  },
  {
   "cell_type": "code",
   "execution_count": 66,
   "metadata": {},
   "outputs": [
    {
     "data": {
      "text/html": [
       "<div>\n",
       "<style scoped>\n",
       "    .dataframe tbody tr th:only-of-type {\n",
       "        vertical-align: middle;\n",
       "    }\n",
       "\n",
       "    .dataframe tbody tr th {\n",
       "        vertical-align: top;\n",
       "    }\n",
       "\n",
       "    .dataframe thead th {\n",
       "        text-align: right;\n",
       "    }\n",
       "</style>\n",
       "<table border=\"1\" class=\"dataframe\">\n",
       "  <thead>\n",
       "    <tr style=\"text-align: right;\">\n",
       "      <th></th>\n",
       "      <th>country_region_code</th>\n",
       "      <th>country_region</th>\n",
       "      <th>sub_region_1</th>\n",
       "      <th>iso_3166_2_code</th>\n",
       "      <th>date</th>\n",
       "      <th>retail_and_recreation_percent_change_from_baseline</th>\n",
       "      <th>grocery_and_pharmacy_percent_change_from_baseline</th>\n",
       "      <th>parks_percent_change_from_baseline</th>\n",
       "      <th>transit_stations_percent_change_from_baseline</th>\n",
       "      <th>workplaces_percent_change_from_baseline</th>\n",
       "      <th>residential_percent_change_from_baseline</th>\n",
       "    </tr>\n",
       "  </thead>\n",
       "  <tbody>\n",
       "    <tr>\n",
       "      <th>0</th>\n",
       "      <td>ID</td>\n",
       "      <td>Indonesia</td>\n",
       "      <td>NaN</td>\n",
       "      <td>NaN</td>\n",
       "      <td>2020-02-15</td>\n",
       "      <td>-2.0</td>\n",
       "      <td>-2.0</td>\n",
       "      <td>-8.0</td>\n",
       "      <td>1.0</td>\n",
       "      <td>5</td>\n",
       "      <td>1</td>\n",
       "    </tr>\n",
       "    <tr>\n",
       "      <th>1</th>\n",
       "      <td>ID</td>\n",
       "      <td>Indonesia</td>\n",
       "      <td>NaN</td>\n",
       "      <td>NaN</td>\n",
       "      <td>2020-02-16</td>\n",
       "      <td>-3.0</td>\n",
       "      <td>-3.0</td>\n",
       "      <td>-7.0</td>\n",
       "      <td>-4.0</td>\n",
       "      <td>2</td>\n",
       "      <td>2</td>\n",
       "    </tr>\n",
       "    <tr>\n",
       "      <th>2</th>\n",
       "      <td>ID</td>\n",
       "      <td>Indonesia</td>\n",
       "      <td>NaN</td>\n",
       "      <td>NaN</td>\n",
       "      <td>2020-02-17</td>\n",
       "      <td>-3.0</td>\n",
       "      <td>-4.0</td>\n",
       "      <td>-7.0</td>\n",
       "      <td>-1.0</td>\n",
       "      <td>3</td>\n",
       "      <td>1</td>\n",
       "    </tr>\n",
       "    <tr>\n",
       "      <th>3</th>\n",
       "      <td>ID</td>\n",
       "      <td>Indonesia</td>\n",
       "      <td>NaN</td>\n",
       "      <td>NaN</td>\n",
       "      <td>2020-02-18</td>\n",
       "      <td>-3.0</td>\n",
       "      <td>-2.0</td>\n",
       "      <td>-4.0</td>\n",
       "      <td>1.0</td>\n",
       "      <td>2</td>\n",
       "      <td>1</td>\n",
       "    </tr>\n",
       "    <tr>\n",
       "      <th>4</th>\n",
       "      <td>ID</td>\n",
       "      <td>Indonesia</td>\n",
       "      <td>NaN</td>\n",
       "      <td>NaN</td>\n",
       "      <td>2020-02-19</td>\n",
       "      <td>-3.0</td>\n",
       "      <td>-4.0</td>\n",
       "      <td>-3.0</td>\n",
       "      <td>0.0</td>\n",
       "      <td>1</td>\n",
       "      <td>1</td>\n",
       "    </tr>\n",
       "    <tr>\n",
       "      <th>...</th>\n",
       "      <td>...</td>\n",
       "      <td>...</td>\n",
       "      <td>...</td>\n",
       "      <td>...</td>\n",
       "      <td>...</td>\n",
       "      <td>...</td>\n",
       "      <td>...</td>\n",
       "      <td>...</td>\n",
       "      <td>...</td>\n",
       "      <td>...</td>\n",
       "      <td>...</td>\n",
       "    </tr>\n",
       "    <tr>\n",
       "      <th>11230</th>\n",
       "      <td>ID</td>\n",
       "      <td>Indonesia</td>\n",
       "      <td>West Sumatra</td>\n",
       "      <td>ID-SB</td>\n",
       "      <td>2020-12-27</td>\n",
       "      <td>4.0</td>\n",
       "      <td>28.0</td>\n",
       "      <td>29.0</td>\n",
       "      <td>-8.0</td>\n",
       "      <td>-2</td>\n",
       "      <td>4</td>\n",
       "    </tr>\n",
       "    <tr>\n",
       "      <th>11231</th>\n",
       "      <td>ID</td>\n",
       "      <td>Indonesia</td>\n",
       "      <td>West Sumatra</td>\n",
       "      <td>ID-SB</td>\n",
       "      <td>2020-12-28</td>\n",
       "      <td>2.0</td>\n",
       "      <td>25.0</td>\n",
       "      <td>32.0</td>\n",
       "      <td>-3.0</td>\n",
       "      <td>-30</td>\n",
       "      <td>9</td>\n",
       "    </tr>\n",
       "    <tr>\n",
       "      <th>11232</th>\n",
       "      <td>ID</td>\n",
       "      <td>Indonesia</td>\n",
       "      <td>West Sumatra</td>\n",
       "      <td>ID-SB</td>\n",
       "      <td>2020-12-29</td>\n",
       "      <td>1.0</td>\n",
       "      <td>26.0</td>\n",
       "      <td>32.0</td>\n",
       "      <td>2.0</td>\n",
       "      <td>-30</td>\n",
       "      <td>8</td>\n",
       "    </tr>\n",
       "    <tr>\n",
       "      <th>11233</th>\n",
       "      <td>ID</td>\n",
       "      <td>Indonesia</td>\n",
       "      <td>West Sumatra</td>\n",
       "      <td>ID-SB</td>\n",
       "      <td>2020-12-30</td>\n",
       "      <td>11.0</td>\n",
       "      <td>38.0</td>\n",
       "      <td>53.0</td>\n",
       "      <td>5.0</td>\n",
       "      <td>-28</td>\n",
       "      <td>8</td>\n",
       "    </tr>\n",
       "    <tr>\n",
       "      <th>11234</th>\n",
       "      <td>ID</td>\n",
       "      <td>Indonesia</td>\n",
       "      <td>West Sumatra</td>\n",
       "      <td>ID-SB</td>\n",
       "      <td>2020-12-31</td>\n",
       "      <td>17.0</td>\n",
       "      <td>50.0</td>\n",
       "      <td>51.0</td>\n",
       "      <td>10.0</td>\n",
       "      <td>-46</td>\n",
       "      <td>10</td>\n",
       "    </tr>\n",
       "  </tbody>\n",
       "</table>\n",
       "<p>11235 rows × 11 columns</p>\n",
       "</div>"
      ],
      "text/plain": [
       "      country_region_code country_region  sub_region_1 iso_3166_2_code  \\\n",
       "0                      ID      Indonesia           NaN             NaN   \n",
       "1                      ID      Indonesia           NaN             NaN   \n",
       "2                      ID      Indonesia           NaN             NaN   \n",
       "3                      ID      Indonesia           NaN             NaN   \n",
       "4                      ID      Indonesia           NaN             NaN   \n",
       "...                   ...            ...           ...             ...   \n",
       "11230                  ID      Indonesia  West Sumatra           ID-SB   \n",
       "11231                  ID      Indonesia  West Sumatra           ID-SB   \n",
       "11232                  ID      Indonesia  West Sumatra           ID-SB   \n",
       "11233                  ID      Indonesia  West Sumatra           ID-SB   \n",
       "11234                  ID      Indonesia  West Sumatra           ID-SB   \n",
       "\n",
       "             date  retail_and_recreation_percent_change_from_baseline  \\\n",
       "0      2020-02-15                                               -2.0    \n",
       "1      2020-02-16                                               -3.0    \n",
       "2      2020-02-17                                               -3.0    \n",
       "3      2020-02-18                                               -3.0    \n",
       "4      2020-02-19                                               -3.0    \n",
       "...           ...                                                ...    \n",
       "11230  2020-12-27                                                4.0    \n",
       "11231  2020-12-28                                                2.0    \n",
       "11232  2020-12-29                                                1.0    \n",
       "11233  2020-12-30                                               11.0    \n",
       "11234  2020-12-31                                               17.0    \n",
       "\n",
       "       grocery_and_pharmacy_percent_change_from_baseline  \\\n",
       "0                                                   -2.0   \n",
       "1                                                   -3.0   \n",
       "2                                                   -4.0   \n",
       "3                                                   -2.0   \n",
       "4                                                   -4.0   \n",
       "...                                                  ...   \n",
       "11230                                               28.0   \n",
       "11231                                               25.0   \n",
       "11232                                               26.0   \n",
       "11233                                               38.0   \n",
       "11234                                               50.0   \n",
       "\n",
       "       parks_percent_change_from_baseline  \\\n",
       "0                                    -8.0   \n",
       "1                                    -7.0   \n",
       "2                                    -7.0   \n",
       "3                                    -4.0   \n",
       "4                                    -3.0   \n",
       "...                                   ...   \n",
       "11230                                29.0   \n",
       "11231                                32.0   \n",
       "11232                                32.0   \n",
       "11233                                53.0   \n",
       "11234                                51.0   \n",
       "\n",
       "       transit_stations_percent_change_from_baseline  \\\n",
       "0                                                1.0   \n",
       "1                                               -4.0   \n",
       "2                                               -1.0   \n",
       "3                                                1.0   \n",
       "4                                                0.0   \n",
       "...                                              ...   \n",
       "11230                                           -8.0   \n",
       "11231                                           -3.0   \n",
       "11232                                            2.0   \n",
       "11233                                            5.0   \n",
       "11234                                           10.0   \n",
       "\n",
       "       workplaces_percent_change_from_baseline  \\\n",
       "0                                            5   \n",
       "1                                            2   \n",
       "2                                            3   \n",
       "3                                            2   \n",
       "4                                            1   \n",
       "...                                        ...   \n",
       "11230                                       -2   \n",
       "11231                                      -30   \n",
       "11232                                      -30   \n",
       "11233                                      -28   \n",
       "11234                                      -46   \n",
       "\n",
       "       residential_percent_change_from_baseline  \n",
       "0                                             1  \n",
       "1                                             2  \n",
       "2                                             1  \n",
       "3                                             1  \n",
       "4                                             1  \n",
       "...                                         ...  \n",
       "11230                                         4  \n",
       "11231                                         9  \n",
       "11232                                         8  \n",
       "11233                                         8  \n",
       "11234                                        10  \n",
       "\n",
       "[11235 rows x 11 columns]"
      ]
     },
     "execution_count": 66,
     "metadata": {},
     "output_type": "execute_result"
    }
   ],
   "source": [
    "df_M"
   ]
  },
  {
   "cell_type": "markdown",
   "metadata": {},
   "source": [
    "### C. Exploratory Data Analysis"
   ]
  },
  {
   "cell_type": "markdown",
   "metadata": {},
   "source": [
    "#### **a. Dataset Daily Update Data Agregat Covid-19 Jakarta**"
   ]
  },
  {
   "cell_type": "markdown",
   "metadata": {},
   "source": [
    "##### Data Jakarta"
   ]
  },
  {
   "cell_type": "code",
   "execution_count": 68,
   "metadata": {},
   "outputs": [
    {
     "data": {
      "text/html": [
       "<div>\n",
       "<style scoped>\n",
       "    .dataframe tbody tr th:only-of-type {\n",
       "        vertical-align: middle;\n",
       "    }\n",
       "\n",
       "    .dataframe tbody tr th {\n",
       "        vertical-align: top;\n",
       "    }\n",
       "\n",
       "    .dataframe thead th {\n",
       "        text-align: right;\n",
       "    }\n",
       "</style>\n",
       "<table border=\"1\" class=\"dataframe\">\n",
       "  <thead>\n",
       "    <tr style=\"text-align: right;\">\n",
       "      <th></th>\n",
       "      <th>Tanggal</th>\n",
       "      <th>Meninggal</th>\n",
       "      <th>Sembuh</th>\n",
       "      <th>Self Isolation</th>\n",
       "      <th>Masih Perawatan</th>\n",
       "      <th>Total Pasien</th>\n",
       "      <th>Positif Harian</th>\n",
       "      <th>Positif Aktif</th>\n",
       "      <th>Sembuh Harian</th>\n",
       "      <th>Tanpa Gejala</th>\n",
       "      <th>Bergejala</th>\n",
       "      <th>Belum Ada Data</th>\n",
       "    </tr>\n",
       "  </thead>\n",
       "  <tbody>\n",
       "    <tr>\n",
       "      <th>0</th>\n",
       "      <td>2020-03-01</td>\n",
       "      <td>0</td>\n",
       "      <td>0</td>\n",
       "      <td>0</td>\n",
       "      <td>0</td>\n",
       "      <td>0</td>\n",
       "      <td>0</td>\n",
       "      <td>0</td>\n",
       "      <td>0</td>\n",
       "      <td>0.0</td>\n",
       "      <td>0.0</td>\n",
       "      <td>0.0</td>\n",
       "    </tr>\n",
       "    <tr>\n",
       "      <th>1</th>\n",
       "      <td>2020-03-02</td>\n",
       "      <td>0</td>\n",
       "      <td>0</td>\n",
       "      <td>0</td>\n",
       "      <td>0</td>\n",
       "      <td>0</td>\n",
       "      <td>0</td>\n",
       "      <td>0</td>\n",
       "      <td>0</td>\n",
       "      <td>0.0</td>\n",
       "      <td>0.0</td>\n",
       "      <td>0.0</td>\n",
       "    </tr>\n",
       "    <tr>\n",
       "      <th>2</th>\n",
       "      <td>2020-03-03</td>\n",
       "      <td>1</td>\n",
       "      <td>0</td>\n",
       "      <td>0</td>\n",
       "      <td>2</td>\n",
       "      <td>3</td>\n",
       "      <td>3</td>\n",
       "      <td>2</td>\n",
       "      <td>0</td>\n",
       "      <td>0.0</td>\n",
       "      <td>0.0</td>\n",
       "      <td>0.0</td>\n",
       "    </tr>\n",
       "    <tr>\n",
       "      <th>3</th>\n",
       "      <td>2020-03-04</td>\n",
       "      <td>1</td>\n",
       "      <td>0</td>\n",
       "      <td>0</td>\n",
       "      <td>2</td>\n",
       "      <td>3</td>\n",
       "      <td>0</td>\n",
       "      <td>2</td>\n",
       "      <td>0</td>\n",
       "      <td>0.0</td>\n",
       "      <td>0.0</td>\n",
       "      <td>0.0</td>\n",
       "    </tr>\n",
       "    <tr>\n",
       "      <th>4</th>\n",
       "      <td>2020-03-05</td>\n",
       "      <td>3</td>\n",
       "      <td>0</td>\n",
       "      <td>0</td>\n",
       "      <td>4</td>\n",
       "      <td>7</td>\n",
       "      <td>4</td>\n",
       "      <td>4</td>\n",
       "      <td>0</td>\n",
       "      <td>0.0</td>\n",
       "      <td>0.0</td>\n",
       "      <td>0.0</td>\n",
       "    </tr>\n",
       "    <tr>\n",
       "      <th>...</th>\n",
       "      <td>...</td>\n",
       "      <td>...</td>\n",
       "      <td>...</td>\n",
       "      <td>...</td>\n",
       "      <td>...</td>\n",
       "      <td>...</td>\n",
       "      <td>...</td>\n",
       "      <td>...</td>\n",
       "      <td>...</td>\n",
       "      <td>...</td>\n",
       "      <td>...</td>\n",
       "      <td>...</td>\n",
       "    </tr>\n",
       "    <tr>\n",
       "      <th>833</th>\n",
       "      <td>2022-06-12</td>\n",
       "      <td>15303</td>\n",
       "      <td>1236002</td>\n",
       "      <td>2000</td>\n",
       "      <td>214</td>\n",
       "      <td>1253519</td>\n",
       "      <td>322</td>\n",
       "      <td>2214</td>\n",
       "      <td>164</td>\n",
       "      <td>0.0</td>\n",
       "      <td>9.0</td>\n",
       "      <td>2205.0</td>\n",
       "    </tr>\n",
       "    <tr>\n",
       "      <th>834</th>\n",
       "      <td>2022-06-13</td>\n",
       "      <td>15304</td>\n",
       "      <td>1236184</td>\n",
       "      <td>2179</td>\n",
       "      <td>200</td>\n",
       "      <td>1253867</td>\n",
       "      <td>348</td>\n",
       "      <td>2379</td>\n",
       "      <td>182</td>\n",
       "      <td>0.0</td>\n",
       "      <td>14.0</td>\n",
       "      <td>2365.0</td>\n",
       "    </tr>\n",
       "    <tr>\n",
       "      <th>835</th>\n",
       "      <td>2022-06-14</td>\n",
       "      <td>15304</td>\n",
       "      <td>1236374</td>\n",
       "      <td>2446</td>\n",
       "      <td>260</td>\n",
       "      <td>1254384</td>\n",
       "      <td>517</td>\n",
       "      <td>2706</td>\n",
       "      <td>190</td>\n",
       "      <td>0.0</td>\n",
       "      <td>14.0</td>\n",
       "      <td>2692.0</td>\n",
       "    </tr>\n",
       "    <tr>\n",
       "      <th>836</th>\n",
       "      <td>2022-06-15</td>\n",
       "      <td>15304</td>\n",
       "      <td>1236528</td>\n",
       "      <td>2980</td>\n",
       "      <td>302</td>\n",
       "      <td>1255114</td>\n",
       "      <td>730</td>\n",
       "      <td>3282</td>\n",
       "      <td>154</td>\n",
       "      <td>0.0</td>\n",
       "      <td>15.0</td>\n",
       "      <td>3267.0</td>\n",
       "    </tr>\n",
       "    <tr>\n",
       "      <th>837</th>\n",
       "      <td>2022-06-16</td>\n",
       "      <td>15305</td>\n",
       "      <td>1236820</td>\n",
       "      <td>3346</td>\n",
       "      <td>339</td>\n",
       "      <td>1255810</td>\n",
       "      <td>696</td>\n",
       "      <td>3685</td>\n",
       "      <td>292</td>\n",
       "      <td>0.0</td>\n",
       "      <td>14.0</td>\n",
       "      <td>3671.0</td>\n",
       "    </tr>\n",
       "  </tbody>\n",
       "</table>\n",
       "<p>838 rows × 12 columns</p>\n",
       "</div>"
      ],
      "text/plain": [
       "       Tanggal  Meninggal   Sembuh  Self Isolation  Masih Perawatan  \\\n",
       "0   2020-03-01          0        0               0                0   \n",
       "1   2020-03-02          0        0               0                0   \n",
       "2   2020-03-03          1        0               0                2   \n",
       "3   2020-03-04          1        0               0                2   \n",
       "4   2020-03-05          3        0               0                4   \n",
       "..         ...        ...      ...             ...              ...   \n",
       "833 2022-06-12      15303  1236002            2000              214   \n",
       "834 2022-06-13      15304  1236184            2179              200   \n",
       "835 2022-06-14      15304  1236374            2446              260   \n",
       "836 2022-06-15      15304  1236528            2980              302   \n",
       "837 2022-06-16      15305  1236820            3346              339   \n",
       "\n",
       "     Total Pasien  Positif Harian  Positif Aktif  Sembuh Harian  Tanpa Gejala  \\\n",
       "0               0               0              0              0           0.0   \n",
       "1               0               0              0              0           0.0   \n",
       "2               3               3              2              0           0.0   \n",
       "3               3               0              2              0           0.0   \n",
       "4               7               4              4              0           0.0   \n",
       "..            ...             ...            ...            ...           ...   \n",
       "833       1253519             322           2214            164           0.0   \n",
       "834       1253867             348           2379            182           0.0   \n",
       "835       1254384             517           2706            190           0.0   \n",
       "836       1255114             730           3282            154           0.0   \n",
       "837       1255810             696           3685            292           0.0   \n",
       "\n",
       "     Bergejala  Belum Ada Data  \n",
       "0          0.0             0.0  \n",
       "1          0.0             0.0  \n",
       "2          0.0             0.0  \n",
       "3          0.0             0.0  \n",
       "4          0.0             0.0  \n",
       "..         ...             ...  \n",
       "833        9.0          2205.0  \n",
       "834       14.0          2365.0  \n",
       "835       14.0          2692.0  \n",
       "836       15.0          3267.0  \n",
       "837       14.0          3671.0  \n",
       "\n",
       "[838 rows x 12 columns]"
      ]
     },
     "execution_count": 68,
     "metadata": {},
     "output_type": "execute_result"
    }
   ],
   "source": [
    "df_DU_Jakarta"
   ]
  },
  {
   "cell_type": "code",
   "execution_count": 84,
   "metadata": {},
   "outputs": [
    {
     "data": {
      "application/vnd.plotly.v1+json": {
       "config": {
        "plotlyServerURL": "https://plot.ly"
       },
       "data": [
        {
         "hovertemplate": "variable=Total Pasien<br>Tanggal=%{x}<br>value=%{y}<extra></extra>",
         "legendgroup": "Total Pasien",
         "line": {
          "color": "#636efa",
          "dash": "solid"
         },
         "marker": {
          "symbol": "circle"
         },
         "mode": "lines",
         "name": "Total Pasien",
         "showlegend": true,
         "type": "scattergl",
         "x": [
          "2020-03-01T00:00:00",
          "2020-03-02T00:00:00",
          "2020-03-03T00:00:00",
          "2020-03-04T00:00:00",
          "2020-03-05T00:00:00",
          "2020-03-06T00:00:00",
          "2020-03-07T00:00:00",
          "2020-03-08T00:00:00",
          "2020-03-09T00:00:00",
          "2020-03-10T00:00:00",
          "2020-03-11T00:00:00",
          "2020-03-12T00:00:00",
          "2020-03-13T00:00:00",
          "2020-03-14T00:00:00",
          "2020-03-15T00:00:00",
          "2020-03-16T00:00:00",
          "2020-03-17T00:00:00",
          "2020-03-18T00:00:00",
          "2020-03-19T00:00:00",
          "2020-03-20T00:00:00",
          "2020-03-21T00:00:00",
          "2020-03-22T00:00:00",
          "2020-03-23T00:00:00",
          "2020-03-24T00:00:00",
          "2020-03-25T00:00:00",
          "2020-03-26T00:00:00",
          "2020-03-27T00:00:00",
          "2020-03-28T00:00:00",
          "2020-03-29T00:00:00",
          "2020-03-30T00:00:00",
          "2020-03-31T00:00:00",
          "2020-04-01T00:00:00",
          "2020-04-02T00:00:00",
          "2020-04-03T00:00:00",
          "2020-04-04T00:00:00",
          "2020-04-05T00:00:00",
          "2020-04-06T00:00:00",
          "2020-04-07T00:00:00",
          "2020-04-08T00:00:00",
          "2020-04-09T00:00:00",
          "2020-04-10T00:00:00",
          "2020-04-11T00:00:00",
          "2020-04-12T00:00:00",
          "2020-04-13T00:00:00",
          "2020-04-14T00:00:00",
          "2020-04-15T00:00:00",
          "2020-04-16T00:00:00",
          "2020-04-17T00:00:00",
          "2020-04-18T00:00:00",
          "2020-04-19T00:00:00",
          "2020-04-20T00:00:00",
          "2020-04-21T00:00:00",
          "2020-04-22T00:00:00",
          "2020-04-23T00:00:00",
          "2020-04-24T00:00:00",
          "2020-04-25T00:00:00",
          "2020-04-26T00:00:00",
          "2020-04-27T00:00:00",
          "2020-04-28T00:00:00",
          "2020-04-29T00:00:00",
          "2020-04-30T00:00:00",
          "2020-05-01T00:00:00",
          "2020-05-02T00:00:00",
          "2020-05-03T00:00:00",
          "2020-05-04T00:00:00",
          "2020-05-05T00:00:00",
          "2020-05-06T00:00:00",
          "2020-05-07T00:00:00",
          "2020-05-08T00:00:00",
          "2020-05-09T00:00:00",
          "2020-05-10T00:00:00",
          "2020-05-11T00:00:00",
          "2020-05-12T00:00:00",
          "2020-05-13T00:00:00",
          "2020-05-14T00:00:00",
          "2020-05-15T00:00:00",
          "2020-05-16T00:00:00",
          "2020-05-17T00:00:00",
          "2020-05-18T00:00:00",
          "2020-05-19T00:00:00",
          "2020-05-20T00:00:00",
          "2020-05-21T00:00:00",
          "2020-05-22T00:00:00",
          "2020-05-23T00:00:00",
          "2020-05-24T00:00:00",
          "2020-05-25T00:00:00",
          "2020-05-26T00:00:00",
          "2020-05-27T00:00:00",
          "2020-05-28T00:00:00",
          "2020-05-29T00:00:00",
          "2020-05-30T00:00:00",
          "2020-05-31T00:00:00",
          "2020-06-01T00:00:00",
          "2020-06-02T00:00:00",
          "2020-06-03T00:00:00",
          "2020-06-04T00:00:00",
          "2020-06-05T00:00:00",
          "2020-06-06T00:00:00",
          "2020-06-07T00:00:00",
          "2020-06-08T00:00:00",
          "2020-06-09T00:00:00",
          "2020-06-10T00:00:00",
          "2020-06-11T00:00:00",
          "2020-06-12T00:00:00",
          "2020-06-13T00:00:00",
          "2020-06-14T00:00:00",
          "2020-06-15T00:00:00",
          "2020-06-16T00:00:00",
          "2020-06-17T00:00:00",
          "2020-06-18T00:00:00",
          "2020-06-19T00:00:00",
          "2020-06-20T00:00:00",
          "2020-06-21T00:00:00",
          "2020-06-22T00:00:00",
          "2020-06-23T00:00:00",
          "2020-06-24T00:00:00",
          "2020-06-25T00:00:00",
          "2020-06-26T00:00:00",
          "2020-06-27T00:00:00",
          "2020-06-28T00:00:00",
          "2020-06-29T00:00:00",
          "2020-06-30T00:00:00",
          "2020-07-01T00:00:00",
          "2020-07-02T00:00:00",
          "2020-07-03T00:00:00",
          "2020-07-04T00:00:00",
          "2020-07-05T00:00:00",
          "2020-07-06T00:00:00",
          "2020-07-07T00:00:00",
          "2020-07-08T00:00:00",
          "2020-07-09T00:00:00",
          "2020-07-10T00:00:00",
          "2020-07-11T00:00:00",
          "2020-07-12T00:00:00",
          "2020-07-13T00:00:00",
          "2020-07-14T00:00:00",
          "2020-07-15T00:00:00",
          "2020-07-16T00:00:00",
          "2020-07-17T00:00:00",
          "2020-07-18T00:00:00",
          "2020-07-19T00:00:00",
          "2020-07-20T00:00:00",
          "2020-07-21T00:00:00",
          "2020-07-22T00:00:00",
          "2020-07-23T00:00:00",
          "2020-07-24T00:00:00",
          "2020-07-25T00:00:00",
          "2020-07-26T00:00:00",
          "2020-07-27T00:00:00",
          "2020-07-28T00:00:00",
          "2020-07-29T00:00:00",
          "2020-07-30T00:00:00",
          "2020-07-31T00:00:00",
          "2020-08-01T00:00:00",
          "2020-08-02T00:00:00",
          "2020-08-03T00:00:00",
          "2020-08-04T00:00:00",
          "2020-08-05T00:00:00",
          "2020-08-06T00:00:00",
          "2020-08-07T00:00:00",
          "2020-08-08T00:00:00",
          "2020-08-09T00:00:00",
          "2020-08-10T00:00:00",
          "2020-08-11T00:00:00",
          "2020-08-12T00:00:00",
          "2020-08-13T00:00:00",
          "2020-08-14T00:00:00",
          "2020-08-15T00:00:00",
          "2020-08-16T00:00:00",
          "2020-08-17T00:00:00",
          "2020-08-18T00:00:00",
          "2020-08-19T00:00:00",
          "2020-08-20T00:00:00",
          "2020-08-21T00:00:00",
          "2020-08-22T00:00:00",
          "2020-08-23T00:00:00",
          "2020-08-24T00:00:00",
          "2020-08-25T00:00:00",
          "2020-08-26T00:00:00",
          "2020-08-27T00:00:00",
          "2020-08-28T00:00:00",
          "2020-08-29T00:00:00",
          "2020-08-30T00:00:00",
          "2020-08-31T00:00:00",
          "2020-09-01T00:00:00",
          "2020-09-02T00:00:00",
          "2020-09-03T00:00:00",
          "2020-09-04T00:00:00",
          "2020-09-05T00:00:00",
          "2020-09-06T00:00:00",
          "2020-09-07T00:00:00",
          "2020-09-08T00:00:00",
          "2020-09-09T00:00:00",
          "2020-09-10T00:00:00",
          "2020-09-11T00:00:00",
          "2020-09-12T00:00:00",
          "2020-09-13T00:00:00",
          "2020-09-14T00:00:00",
          "2020-09-15T00:00:00",
          "2020-09-16T00:00:00",
          "2020-09-17T00:00:00",
          "2020-09-18T00:00:00",
          "2020-09-19T00:00:00",
          "2020-09-20T00:00:00",
          "2020-09-21T00:00:00",
          "2020-09-22T00:00:00",
          "2020-09-23T00:00:00",
          "2020-09-24T00:00:00",
          "2020-09-25T00:00:00",
          "2020-09-26T00:00:00",
          "2020-09-27T00:00:00",
          "2020-09-28T00:00:00",
          "2020-09-29T00:00:00",
          "2020-09-30T00:00:00",
          "2020-10-01T00:00:00",
          "2020-10-02T00:00:00",
          "2020-10-03T00:00:00",
          "2020-10-04T00:00:00",
          "2020-10-05T00:00:00",
          "2020-10-06T00:00:00",
          "2020-10-07T00:00:00",
          "2020-10-08T00:00:00",
          "2020-10-09T00:00:00",
          "2020-10-10T00:00:00",
          "2020-10-11T00:00:00",
          "2020-10-12T00:00:00",
          "2020-10-13T00:00:00",
          "2020-10-14T00:00:00",
          "2020-10-15T00:00:00",
          "2020-10-16T00:00:00",
          "2020-10-17T00:00:00",
          "2020-10-18T00:00:00",
          "2020-10-19T00:00:00",
          "2020-10-20T00:00:00",
          "2020-10-21T00:00:00",
          "2020-10-22T00:00:00",
          "2020-10-23T00:00:00",
          "2020-10-24T00:00:00",
          "2020-10-25T00:00:00",
          "2020-10-26T00:00:00",
          "2020-10-27T00:00:00",
          "2020-10-28T00:00:00",
          "2020-10-29T00:00:00",
          "2020-10-30T00:00:00",
          "2020-10-31T00:00:00",
          "2020-11-01T00:00:00",
          "2020-11-02T00:00:00",
          "2020-11-03T00:00:00",
          "2020-11-04T00:00:00",
          "2020-11-05T00:00:00",
          "2020-11-06T00:00:00",
          "2020-11-07T00:00:00",
          "2020-11-08T00:00:00",
          "2020-11-09T00:00:00",
          "2020-11-10T00:00:00",
          "2020-11-11T00:00:00",
          "2020-11-12T00:00:00",
          "2020-11-13T00:00:00",
          "2020-11-14T00:00:00",
          "2020-11-15T00:00:00",
          "2020-11-16T00:00:00",
          "2020-11-17T00:00:00",
          "2020-11-18T00:00:00",
          "2020-11-19T00:00:00",
          "2020-11-20T00:00:00",
          "2020-11-21T00:00:00",
          "2020-11-22T00:00:00",
          "2020-11-23T00:00:00",
          "2020-11-24T00:00:00",
          "2020-11-25T00:00:00",
          "2020-11-26T00:00:00",
          "2020-11-27T00:00:00",
          "2020-11-28T00:00:00",
          "2020-11-29T00:00:00",
          "2020-11-30T00:00:00",
          "2020-12-01T00:00:00",
          "2020-12-02T00:00:00",
          "2020-12-03T00:00:00",
          "2020-12-04T00:00:00",
          "2020-12-05T00:00:00",
          "2020-12-06T00:00:00",
          "2020-12-07T00:00:00",
          "2020-12-08T00:00:00",
          "2020-12-09T00:00:00",
          "2020-12-10T00:00:00",
          "2020-12-11T00:00:00",
          "2020-12-12T00:00:00",
          "2020-12-13T00:00:00",
          "2020-12-14T00:00:00",
          "2020-12-15T00:00:00",
          "2020-12-16T00:00:00",
          "2020-12-17T00:00:00",
          "2020-12-18T00:00:00",
          "2020-12-19T00:00:00",
          "2020-12-20T00:00:00",
          "2020-12-21T00:00:00",
          "2020-12-22T00:00:00",
          "2020-12-23T00:00:00",
          "2020-12-24T00:00:00",
          "2020-12-25T00:00:00",
          "2020-12-26T00:00:00",
          "2020-12-27T00:00:00",
          "2020-12-28T00:00:00",
          "2020-12-29T00:00:00",
          "2020-12-30T00:00:00",
          "2020-12-31T00:00:00",
          "2021-01-01T00:00:00",
          "2021-01-02T00:00:00",
          "2021-01-03T00:00:00",
          "2021-01-04T00:00:00",
          "2021-01-05T00:00:00",
          "2021-01-06T00:00:00",
          "2021-01-07T00:00:00",
          "2021-01-08T00:00:00",
          "2021-01-09T00:00:00",
          "2021-01-10T00:00:00",
          "2021-01-11T00:00:00",
          "2021-01-12T00:00:00",
          "2021-01-13T00:00:00",
          "2021-01-14T00:00:00",
          "2021-01-15T00:00:00",
          "2021-01-16T00:00:00",
          "2021-01-17T00:00:00",
          "2021-01-18T00:00:00",
          "2021-01-19T00:00:00",
          "2021-01-20T00:00:00",
          "2021-01-21T00:00:00",
          "2021-01-22T00:00:00",
          "2021-01-23T00:00:00",
          "2021-01-24T00:00:00",
          "2021-01-25T00:00:00",
          "2021-01-26T00:00:00",
          "2021-01-27T00:00:00",
          "2021-01-28T00:00:00",
          "2021-01-29T00:00:00",
          "2021-01-30T00:00:00",
          "2021-01-31T00:00:00",
          "2021-02-01T00:00:00",
          "2021-02-02T00:00:00",
          "2021-02-03T00:00:00",
          "2021-02-04T00:00:00",
          "2021-02-05T00:00:00",
          "2021-02-06T00:00:00",
          "2021-02-07T00:00:00",
          "2021-02-08T00:00:00",
          "2021-02-09T00:00:00",
          "2021-02-10T00:00:00",
          "2021-02-11T00:00:00",
          "2021-02-12T00:00:00",
          "2021-02-13T00:00:00",
          "2021-02-14T00:00:00",
          "2021-02-15T00:00:00",
          "2021-02-16T00:00:00",
          "2021-02-17T00:00:00",
          "2021-02-18T00:00:00",
          "2021-02-19T00:00:00",
          "2021-02-20T00:00:00",
          "2021-02-21T00:00:00",
          "2021-02-22T00:00:00",
          "2021-02-23T00:00:00",
          "2021-02-24T00:00:00",
          "2021-02-25T00:00:00",
          "2021-02-26T00:00:00",
          "2021-02-27T00:00:00",
          "2021-02-28T00:00:00",
          "2021-03-01T00:00:00",
          "2021-03-02T00:00:00",
          "2021-03-03T00:00:00",
          "2021-03-04T00:00:00",
          "2021-03-05T00:00:00",
          "2021-03-06T00:00:00",
          "2021-03-07T00:00:00",
          "2021-03-08T00:00:00",
          "2021-03-09T00:00:00",
          "2021-03-10T00:00:00",
          "2021-03-11T00:00:00",
          "2021-03-12T00:00:00",
          "2021-03-13T00:00:00",
          "2021-03-14T00:00:00",
          "2021-03-15T00:00:00",
          "2021-03-16T00:00:00",
          "2021-03-17T00:00:00",
          "2021-03-18T00:00:00",
          "2021-03-19T00:00:00",
          "2021-03-20T00:00:00",
          "2021-03-21T00:00:00",
          "2021-03-22T00:00:00",
          "2021-03-23T00:00:00",
          "2021-03-24T00:00:00",
          "2021-03-25T00:00:00",
          "2021-03-26T00:00:00",
          "2021-03-27T00:00:00",
          "2021-03-28T00:00:00",
          "2021-03-29T00:00:00",
          "2021-03-30T00:00:00",
          "2021-03-31T00:00:00",
          "2021-04-01T00:00:00",
          "2021-04-02T00:00:00",
          "2021-04-03T00:00:00",
          "2021-04-04T00:00:00",
          "2021-04-05T00:00:00",
          "2021-04-06T00:00:00",
          "2021-04-07T00:00:00",
          "2021-04-08T00:00:00",
          "2021-04-09T00:00:00",
          "2021-04-10T00:00:00",
          "2021-04-11T00:00:00",
          "2021-04-12T00:00:00",
          "2021-04-13T00:00:00",
          "2021-04-14T00:00:00",
          "2021-04-15T00:00:00",
          "2021-04-16T00:00:00",
          "2021-04-17T00:00:00",
          "2021-04-18T00:00:00",
          "2021-04-19T00:00:00",
          "2021-04-20T00:00:00",
          "2021-04-21T00:00:00",
          "2021-04-22T00:00:00",
          "2021-04-23T00:00:00",
          "2021-04-24T00:00:00",
          "2021-04-25T00:00:00",
          "2021-04-26T00:00:00",
          "2021-04-27T00:00:00",
          "2021-04-28T00:00:00",
          "2021-04-29T00:00:00",
          "2021-04-30T00:00:00",
          "2021-05-01T00:00:00",
          "2021-05-02T00:00:00",
          "2021-05-03T00:00:00",
          "2021-05-04T00:00:00",
          "2021-05-05T00:00:00",
          "2021-05-06T00:00:00",
          "2021-05-07T00:00:00",
          "2021-05-08T00:00:00",
          "2021-05-09T00:00:00",
          "2021-05-10T00:00:00",
          "2021-05-11T00:00:00",
          "2021-05-12T00:00:00",
          "2021-05-13T00:00:00",
          "2021-05-14T00:00:00",
          "2021-05-15T00:00:00",
          "2021-05-16T00:00:00",
          "2021-05-17T00:00:00",
          "2021-05-18T00:00:00",
          "2021-05-19T00:00:00",
          "2021-05-20T00:00:00",
          "2021-05-21T00:00:00",
          "2021-05-22T00:00:00",
          "2021-05-23T00:00:00",
          "2021-05-24T00:00:00",
          "2021-05-25T00:00:00",
          "2021-05-26T00:00:00",
          "2021-05-27T00:00:00",
          "2021-05-28T00:00:00",
          "2021-05-29T00:00:00",
          "2021-05-30T00:00:00",
          "2021-05-31T00:00:00",
          "2021-06-01T00:00:00",
          "2021-06-02T00:00:00",
          "2021-06-03T00:00:00",
          "2021-06-04T00:00:00",
          "2021-06-05T00:00:00",
          "2021-06-06T00:00:00",
          "2021-06-07T00:00:00",
          "2021-06-08T00:00:00",
          "2021-06-09T00:00:00",
          "2021-06-10T00:00:00",
          "2021-06-11T00:00:00",
          "2021-06-12T00:00:00",
          "2021-06-13T00:00:00",
          "2021-06-14T00:00:00",
          "2021-06-15T00:00:00",
          "2021-06-16T00:00:00",
          "2021-06-17T00:00:00",
          "2021-06-18T00:00:00",
          "2021-06-19T00:00:00",
          "2021-06-20T00:00:00",
          "2021-06-21T00:00:00",
          "2021-06-22T00:00:00",
          "2021-06-23T00:00:00",
          "2021-06-24T00:00:00",
          "2021-06-25T00:00:00",
          "2021-06-26T00:00:00",
          "2021-06-27T00:00:00",
          "2021-06-28T00:00:00",
          "2021-06-29T00:00:00",
          "2021-06-30T00:00:00",
          "2021-07-01T00:00:00",
          "2021-07-02T00:00:00",
          "2021-07-03T00:00:00",
          "2021-07-04T00:00:00",
          "2021-07-05T00:00:00",
          "2021-07-06T00:00:00",
          "2021-07-07T00:00:00",
          "2021-07-08T00:00:00",
          "2021-07-09T00:00:00",
          "2021-07-10T00:00:00",
          "2021-07-11T00:00:00",
          "2021-07-12T00:00:00",
          "2021-07-13T00:00:00",
          "2021-07-14T00:00:00",
          "2021-07-15T00:00:00",
          "2021-07-16T00:00:00",
          "2021-07-17T00:00:00",
          "2021-07-18T00:00:00",
          "2021-07-19T00:00:00",
          "2021-07-20T00:00:00",
          "2021-07-21T00:00:00",
          "2021-07-22T00:00:00",
          "2021-07-23T00:00:00",
          "2021-07-24T00:00:00",
          "2021-07-25T00:00:00",
          "2021-07-26T00:00:00",
          "2021-07-27T00:00:00",
          "2021-07-28T00:00:00",
          "2021-07-29T00:00:00",
          "2021-07-30T00:00:00",
          "2021-07-31T00:00:00",
          "2021-08-01T00:00:00",
          "2021-08-02T00:00:00",
          "2021-08-03T00:00:00",
          "2021-08-04T00:00:00",
          "2021-08-05T00:00:00",
          "2021-08-06T00:00:00",
          "2021-08-07T00:00:00",
          "2021-08-08T00:00:00",
          "2021-08-09T00:00:00",
          "2021-08-10T00:00:00",
          "2021-08-11T00:00:00",
          "2021-08-12T00:00:00",
          "2021-08-13T00:00:00",
          "2021-08-14T00:00:00",
          "2021-08-15T00:00:00",
          "2021-08-16T00:00:00",
          "2021-08-17T00:00:00",
          "2021-08-18T00:00:00",
          "2021-08-19T00:00:00",
          "2021-08-20T00:00:00",
          "2021-08-21T00:00:00",
          "2021-08-22T00:00:00",
          "2021-08-23T00:00:00",
          "2021-08-24T00:00:00",
          "2021-08-25T00:00:00",
          "2021-08-26T00:00:00",
          "2021-08-27T00:00:00",
          "2021-08-28T00:00:00",
          "2021-08-29T00:00:00",
          "2021-08-30T00:00:00",
          "2021-08-31T00:00:00",
          "2021-09-01T00:00:00",
          "2021-09-02T00:00:00",
          "2021-09-03T00:00:00",
          "2021-09-04T00:00:00",
          "2021-09-05T00:00:00",
          "2021-09-06T00:00:00",
          "2021-09-07T00:00:00",
          "2021-09-08T00:00:00",
          "2021-09-09T00:00:00",
          "2021-09-10T00:00:00",
          "2021-09-11T00:00:00",
          "2021-09-12T00:00:00",
          "2021-09-13T00:00:00",
          "2021-09-14T00:00:00",
          "2021-09-15T00:00:00",
          "2021-09-16T00:00:00",
          "2021-09-17T00:00:00",
          "2021-09-18T00:00:00",
          "2021-09-19T00:00:00",
          "2021-09-20T00:00:00",
          "2021-09-21T00:00:00",
          "2021-09-22T00:00:00",
          "2021-09-23T00:00:00",
          "2021-09-24T00:00:00",
          "2021-09-25T00:00:00",
          "2021-09-26T00:00:00",
          "2021-09-27T00:00:00",
          "2021-09-28T00:00:00",
          "2021-09-29T00:00:00",
          "2021-09-30T00:00:00",
          "2021-10-01T00:00:00",
          "2021-10-02T00:00:00",
          "2021-10-03T00:00:00",
          "2021-10-04T00:00:00",
          "2021-10-05T00:00:00",
          "2021-10-06T00:00:00",
          "2021-10-07T00:00:00",
          "2021-10-08T00:00:00",
          "2021-10-09T00:00:00",
          "2021-10-10T00:00:00",
          "2021-10-11T00:00:00",
          "2021-10-12T00:00:00",
          "2021-10-13T00:00:00",
          "2021-10-14T00:00:00",
          "2021-10-15T00:00:00",
          "2021-10-16T00:00:00",
          "2021-10-17T00:00:00",
          "2021-10-18T00:00:00",
          "2021-10-19T00:00:00",
          "2021-10-20T00:00:00",
          "2021-10-21T00:00:00",
          "2021-10-22T00:00:00",
          "2021-10-23T00:00:00",
          "2021-10-24T00:00:00",
          "2021-10-25T00:00:00",
          "2021-10-26T00:00:00",
          "2021-10-27T00:00:00",
          "2021-10-28T00:00:00",
          "2021-10-29T00:00:00",
          "2021-10-30T00:00:00",
          "2021-10-31T00:00:00",
          "2021-11-01T00:00:00",
          "2021-11-02T00:00:00",
          "2021-11-03T00:00:00",
          "2021-11-04T00:00:00",
          "2021-11-05T00:00:00",
          "2021-11-06T00:00:00",
          "2021-11-07T00:00:00",
          "2021-11-08T00:00:00",
          "2021-11-09T00:00:00",
          "2021-11-10T00:00:00",
          "2021-11-11T00:00:00",
          "2021-11-12T00:00:00",
          "2021-11-13T00:00:00",
          "2021-11-14T00:00:00",
          "2021-11-15T00:00:00",
          "2021-11-16T00:00:00",
          "2021-11-17T00:00:00",
          "2021-11-18T00:00:00",
          "2021-11-19T00:00:00",
          "2021-11-20T00:00:00",
          "2021-11-21T00:00:00",
          "2021-11-22T00:00:00",
          "2021-11-23T00:00:00",
          "2021-11-24T00:00:00",
          "2021-11-25T00:00:00",
          "2021-11-26T00:00:00",
          "2021-11-27T00:00:00",
          "2021-11-28T00:00:00",
          "2021-11-29T00:00:00",
          "2021-11-30T00:00:00",
          "2021-12-01T00:00:00",
          "2021-12-02T00:00:00",
          "2021-12-03T00:00:00",
          "2021-12-04T00:00:00",
          "2021-12-05T00:00:00",
          "2021-12-06T00:00:00",
          "2021-12-07T00:00:00",
          "2021-12-08T00:00:00",
          "2021-12-09T00:00:00",
          "2021-12-10T00:00:00",
          "2021-12-11T00:00:00",
          "2021-12-12T00:00:00",
          "2021-12-13T00:00:00",
          "2021-12-14T00:00:00",
          "2021-12-15T00:00:00",
          "2021-12-16T00:00:00",
          "2021-12-17T00:00:00",
          "2021-12-18T00:00:00",
          "2021-12-19T00:00:00",
          "2021-12-20T00:00:00",
          "2021-12-21T00:00:00",
          "2021-12-22T00:00:00",
          "2021-12-23T00:00:00",
          "2021-12-24T00:00:00",
          "2021-12-25T00:00:00",
          "2021-12-26T00:00:00",
          "2021-12-27T00:00:00",
          "2021-12-28T00:00:00",
          "2021-12-29T00:00:00",
          "2021-12-30T00:00:00",
          "2021-12-31T00:00:00",
          "2022-01-01T00:00:00",
          "2022-01-02T00:00:00",
          "2022-01-03T00:00:00",
          "2022-01-04T00:00:00",
          "2022-01-05T00:00:00",
          "2022-01-06T00:00:00",
          "2022-01-07T00:00:00",
          "2022-01-08T00:00:00",
          "2022-01-09T00:00:00",
          "2022-01-10T00:00:00",
          "2022-01-11T00:00:00",
          "2022-01-12T00:00:00",
          "2022-01-13T00:00:00",
          "2022-01-14T00:00:00",
          "2022-01-15T00:00:00",
          "2022-01-16T00:00:00",
          "2022-01-17T00:00:00",
          "2022-01-18T00:00:00",
          "2022-01-19T00:00:00",
          "2022-01-20T00:00:00",
          "2022-01-21T00:00:00",
          "2022-01-22T00:00:00",
          "2022-01-23T00:00:00",
          "2022-01-24T00:00:00",
          "2022-01-25T00:00:00",
          "2022-01-26T00:00:00",
          "2022-01-27T00:00:00",
          "2022-01-28T00:00:00",
          "2022-01-29T00:00:00",
          "2022-01-30T00:00:00",
          "2022-01-31T00:00:00",
          "2022-02-01T00:00:00",
          "2022-02-02T00:00:00",
          "2022-02-03T00:00:00",
          "2022-02-04T00:00:00",
          "2022-02-05T00:00:00",
          "2022-02-06T00:00:00",
          "2022-02-07T00:00:00",
          "2022-02-08T00:00:00",
          "2022-02-09T00:00:00",
          "2022-02-10T00:00:00",
          "2022-02-11T00:00:00",
          "2022-02-12T00:00:00",
          "2022-02-13T00:00:00",
          "2022-02-14T00:00:00",
          "2022-02-15T00:00:00",
          "2022-02-16T00:00:00",
          "2022-02-17T00:00:00",
          "2022-02-18T00:00:00",
          "2022-02-19T00:00:00",
          "2022-02-20T00:00:00",
          "2022-02-21T00:00:00",
          "2022-02-22T00:00:00",
          "2022-02-23T00:00:00",
          "2022-02-24T00:00:00",
          "2022-02-25T00:00:00",
          "2022-02-26T00:00:00",
          "2022-02-27T00:00:00",
          "2022-02-28T00:00:00",
          "2022-03-01T00:00:00",
          "2022-03-02T00:00:00",
          "2022-03-03T00:00:00",
          "2022-03-04T00:00:00",
          "2022-03-05T00:00:00",
          "2022-03-06T00:00:00",
          "2022-03-07T00:00:00",
          "2022-03-08T00:00:00",
          "2022-03-09T00:00:00",
          "2022-03-10T00:00:00",
          "2022-03-11T00:00:00",
          "2022-03-12T00:00:00",
          "2022-03-13T00:00:00",
          "2022-03-14T00:00:00",
          "2022-03-15T00:00:00",
          "2022-03-16T00:00:00",
          "2022-03-17T00:00:00",
          "2022-03-18T00:00:00",
          "2022-03-19T00:00:00",
          "2022-03-20T00:00:00",
          "2022-03-21T00:00:00",
          "2022-03-22T00:00:00",
          "2022-03-23T00:00:00",
          "2022-03-24T00:00:00",
          "2022-03-25T00:00:00",
          "2022-03-26T00:00:00",
          "2022-03-27T00:00:00",
          "2022-03-28T00:00:00",
          "2022-03-29T00:00:00",
          "2022-03-30T00:00:00",
          "2022-03-31T00:00:00",
          "2022-04-01T00:00:00",
          "2022-04-02T00:00:00",
          "2022-04-03T00:00:00",
          "2022-04-04T00:00:00",
          "2022-04-05T00:00:00",
          "2022-04-06T00:00:00",
          "2022-04-07T00:00:00",
          "2022-04-08T00:00:00",
          "2022-04-09T00:00:00",
          "2022-04-10T00:00:00",
          "2022-04-11T00:00:00",
          "2022-04-12T00:00:00",
          "2022-04-13T00:00:00",
          "2022-04-14T00:00:00",
          "2022-04-15T00:00:00",
          "2022-04-16T00:00:00",
          "2022-04-17T00:00:00",
          "2022-04-18T00:00:00",
          "2022-04-19T00:00:00",
          "2022-04-20T00:00:00",
          "2022-04-21T00:00:00",
          "2022-04-22T00:00:00",
          "2022-04-23T00:00:00",
          "2022-04-24T00:00:00",
          "2022-04-25T00:00:00",
          "2022-04-26T00:00:00",
          "2022-04-27T00:00:00",
          "2022-04-28T00:00:00",
          "2022-04-29T00:00:00",
          "2022-04-30T00:00:00",
          "2022-05-01T00:00:00",
          "2022-05-02T00:00:00",
          "2022-05-03T00:00:00",
          "2022-05-04T00:00:00",
          "2022-05-05T00:00:00",
          "2022-05-06T00:00:00",
          "2022-05-07T00:00:00",
          "2022-05-08T00:00:00",
          "2022-05-09T00:00:00",
          "2022-05-10T00:00:00",
          "2022-05-11T00:00:00",
          "2022-05-12T00:00:00",
          "2022-05-13T00:00:00",
          "2022-05-14T00:00:00",
          "2022-05-15T00:00:00",
          "2022-05-16T00:00:00",
          "2022-05-17T00:00:00",
          "2022-05-18T00:00:00",
          "2022-05-19T00:00:00",
          "2022-05-20T00:00:00",
          "2022-05-21T00:00:00",
          "2022-05-22T00:00:00",
          "2022-05-23T00:00:00",
          "2022-05-24T00:00:00",
          "2022-05-25T00:00:00",
          "2022-05-26T00:00:00",
          "2022-05-27T00:00:00",
          "2022-05-28T00:00:00",
          "2022-05-29T00:00:00",
          "2022-05-30T00:00:00",
          "2022-05-31T00:00:00",
          "2022-06-01T00:00:00",
          "2022-06-02T00:00:00",
          "2022-06-03T00:00:00",
          "2022-06-04T00:00:00",
          "2022-06-05T00:00:00",
          "2022-06-06T00:00:00",
          "2022-06-07T00:00:00",
          "2022-06-08T00:00:00",
          "2022-06-09T00:00:00",
          "2022-06-10T00:00:00",
          "2022-06-11T00:00:00",
          "2022-06-12T00:00:00",
          "2022-06-13T00:00:00",
          "2022-06-14T00:00:00",
          "2022-06-15T00:00:00",
          "2022-06-16T00:00:00"
         ],
         "xaxis": "x",
         "y": [
          0,
          0,
          3,
          3,
          7,
          7,
          7,
          7,
          34,
          34,
          36,
          62,
          72,
          79,
          95,
          97,
          122,
          160,
          210,
          224,
          268,
          304,
          355,
          426,
          472,
          515,
          566,
          603,
          701,
          727,
          741,
          816,
          909,
          990,
          1071,
          1151,
          1299,
          1443,
          1552,
          1719,
          1810,
          1903,
          2082,
          2242,
          2349,
          2447,
          2670,
          2823,
          2902,
          3033,
          3112,
          3279,
          3399,
          3506,
          3605,
          3681,
          3746,
          3832,
          3950,
          4033,
          4138,
          4283,
          4355,
          4417,
          4472,
          4641,
          4709,
          4775,
          4901,
          4958,
          5140,
          5195,
          5303,
          5437,
          5617,
          5679,
          5795,
          5922,
          5996,
          6053,
          6150,
          6220,
          6316,
          6443,
          6561,
          6628,
          6689,
          6826,
          6929,
          7053,
          7151,
          7272,
          7383,
          7459,
          7539,
          7600,
          7684,
          7786,
          7946,
          8037,
          8276,
          8423,
          8552,
          8628,
          8748,
          8863,
          8968,
          9092,
          9209,
          9385,
          9525,
          9703,
          9830,
          9957,
          10123,
          10277,
          10472,
          10640,
          10853,
          10985,
          11080,
          11276,
          11482,
          11677,
          11824,
          12039,
          12295,
          12526,
          12725,
          13069,
          13359,
          13598,
          13957,
          14361,
          14639,
          14914,
          15173,
          15466,
          15707,
          16038,
          16351,
          16712,
          17153,
          17529,
          17945,
          18230,
          18623,
          19001,
          19473,
          19885,
          20470,
          20769,
          21201,
          21575,
          21954,
          22443,
          22909,
          23266,
          23863,
          24521,
          25242,
          25714,
          26193,
          26664,
          27242,
          27863,
          28438,
          29036,
          29554,
          30092,
          30597,
          31162,
          31757,
          32398,
          32999,
          33636,
          34295,
          34931,
          35642,
          36462,
          37278,
          38166,
          39280,
          40309,
          41250,
          42303,
          43709,
          44604,
          45446,
          46691,
          47796,
          48811,
          49837,
          51287,
          52321,
          53761,
          54864,
          55926,
          56953,
          58458,
          59472,
          60875,
          61807,
          62886,
          64196,
          65318,
          66505,
          67638,
          68927,
          70184,
          71370,
          72177,
          73309,
          74368,
          75521,
          76619,
          77784,
          79214,
          80036,
          81043,
          82383,
          83392,
          84364,
          85617,
          87006,
          88174,
          89228,
          90266,
          91337,
          92382,
          93356,
          94327,
          95253,
          96217,
          97217,
          98206,
          99158,
          100220,
          100991,
          101897,
          102678,
          103522,
          104235,
          104847,
          105597,
          106205,
          107229,
          107846,
          108620,
          109411,
          110083,
          111201,
          112027,
          112743,
          113756,
          114343,
          115174,
          116207,
          117462,
          118627,
          119633,
          120671,
          121818,
          123003,
          124243,
          125822,
          127164,
          128173,
          129188,
          130461,
          131525,
          132961,
          134331,
          135762,
          136861,
          137919,
          139085,
          140238,
          141270,
          142630,
          143961,
          145427,
          146601,
          147838,
          149018,
          150250,
          151201,
          152499,
          154065,
          155122,
          156343,
          158033,
          159620,
          161519,
          163111,
          164577,
          165888,
          167842,
          169775,
          171871,
          173929,
          175926,
          177604,
          179660,
          181713,
          183735,
          185691,
          187586,
          189243,
          191075,
          192899,
          195301,
          197699,
          200658,
          203411,
          206122,
          208583,
          211252,
          214728,
          217893,
          220434,
          223970,
          227365,
          229726,
          232289,
          236075,
          239226,
          243018,
          246303,
          249815,
          252266,
          254580,
          256416,
          259305,
          262753,
          266244,
          269718,
          273332,
          276694,
          280261,
          283893,
          287233,
          289612,
          293825,
          296969,
          300406,
          303715,
          306229,
          310039,
          313057,
          315553,
          317432,
          319293,
          320738,
          321111,
          323031,
          325903,
          328623,
          331094,
          331876,
          332658,
          334239,
          335900,
          337637,
          339735,
          341793,
          342371,
          343808,
          345816,
          346975,
          348591,
          350425,
          352208,
          353075,
          354115,
          355869,
          357742,
          358776,
          359980,
          361535,
          362370,
          363700,
          365419,
          367007,
          368944,
          370582,
          372056,
          372871,
          373761,
          375487,
          376868,
          378222,
          379692,
          380706,
          381090,
          382055,
          383392,
          384632,
          385730,
          386466,
          386989,
          387476,
          388338,
          389577,
          390590,
          391567,
          392598,
          393290,
          394118,
          394779,
          396109,
          397088,
          398125,
          399075,
          400048,
          400508,
          401110,
          402376,
          403260,
          404167,
          405063,
          405812,
          406205,
          406844,
          407831,
          408620,
          409546,
          410400,
          411157,
          411573,
          412418,
          413323,
          414106,
          414838,
          415647,
          416341,
          416747,
          417403,
          418188,
          418820,
          419047,
          419208,
          419629,
          419920,
          420459,
          421354,
          422210,
          423142,
          424009,
          424828,
          425212,
          425829,
          426769,
          427462,
          428269,
          429333,
          430059,
          430578,
          431179,
          431893,
          432799,
          434116,
          435135,
          436332,
          437087,
          438458,
          440554,
          442847,
          445302,
          448071,
          450793,
          452295,
          454671,
          458815,
          463552,
          468447,
          474029,
          479043,
          482264,
          486957,
          494462,
          501396,
          510667,
          520061,
          528409,
          535788,
          543468,
          551009,
          560408,
          570110,
          580595,
          591498,
          600937,
          610303,
          623277,
          636389,
          649309,
          662442,
          677061,
          689243,
          701910,
          714601,
          727016,
          737184,
          746312,
          751312,
          757525,
          763429,
          770487,
          778520,
          786880,
          792273,
          794935,
          798502,
          804027,
          807872,
          811326,
          814653,
          817354,
          818764,
          820365,
          823346,
          825657,
          827842,
          829850,
          831499,
          832226,
          833651,
          835609,
          836687,
          837897,
          839260,
          840442,
          840955,
          841610,
          842639,
          843370,
          844339,
          845230,
          845931,
          846416,
          846900,
          847689,
          848263,
          848901,
          849369,
          849843,
          850184,
          850583,
          851256,
          851686,
          852029,
          852389,
          852692,
          852909,
          853171,
          853599,
          853907,
          854168,
          854436,
          854742,
          854929,
          855119,
          855424,
          855600,
          855806,
          856006,
          856161,
          856252,
          856358,
          856585,
          856750,
          856931,
          857064,
          857232,
          857335,
          857439,
          857616,
          857765,
          857916,
          858071,
          858198,
          858347,
          858419,
          858622,
          858771,
          858921,
          859021,
          859161,
          859202,
          859345,
          859623,
          859736,
          859860,
          860014,
          860145,
          860252,
          860358,
          860461,
          860550,
          860633,
          860749,
          860880,
          860962,
          860999,
          861104,
          861235,
          861331,
          861427,
          861540,
          861623,
          861700,
          861832,
          861943,
          862061,
          862130,
          862247,
          862276,
          862370,
          862465,
          862572,
          862643,
          862697,
          862789,
          862825,
          862904,
          863034,
          863134,
          863231,
          863345,
          863456,
          863482,
          863551,
          863633,
          863687,
          863757,
          863811,
          863862,
          863903,
          863947,
          864017,
          864045,
          864087,
          864135,
          864178,
          864192,
          864223,
          864264,
          864300,
          864326,
          864358,
          864390,
          864406,
          864426,
          864449,
          864489,
          864527,
          864601,
          864644,
          864682,
          864737,
          864780,
          864796,
          864865,
          864945,
          864992,
          865034,
          865130,
          865157,
          865210,
          865297,
          865415,
          865518,
          865690,
          865805,
          866064,
          866331,
          866631,
          866909,
          867302,
          867662,
          868199,
          868611,
          869089,
          869643,
          870363,
          870929,
          871422,
          872092,
          873104,
          874259,
          875743,
          877568,
          879307,
          881300,
          883490,
          886999,
          891148,
          895706,
          901471,
          908093,
          913355,
          919743,
          928875,
          939192,
          952371,
          965145,
          980970,
          993652,
          1004469,
          1018822,
          1029912,
          1040619,
          1053036,
          1063208,
          1073483,
          1082965,
          1095353,
          1103889,
          1112078,
          1121531,
          1129667,
          1135025,
          1140233,
          1147528,
          1154383,
          1158907,
          1163582,
          1167539,
          1174839,
          1178473,
          1182669,
          1187338,
          1191065,
          1194124,
          1197793,
          1200486,
          1204055,
          1207927,
          1211473,
          1214021,
          1216126,
          1218000,
          1219307,
          1220878,
          1222584,
          1224167,
          1225683,
          1227168,
          1228335,
          1229197,
          1230209,
          1231444,
          1232511,
          1233401,
          1234197,
          1234791,
          1235364,
          1236106,
          1237007,
          1237736,
          1238377,
          1239010,
          1239622,
          1240110,
          1240678,
          1241431,
          1242105,
          1242697,
          1243147,
          1243517,
          1243829,
          1244184,
          1244583,
          1244955,
          1245265,
          1245458,
          1245653,
          1245823,
          1246002,
          1246233,
          1246392,
          1246607,
          1246779,
          1246914,
          1247015,
          1247214,
          1247344,
          1247457,
          1247583,
          1247734,
          1247815,
          1247903,
          1247943,
          1248005,
          1248091,
          1248180,
          1248242,
          1248320,
          1248422,
          1248572,
          1248701,
          1248801,
          1248902,
          1249016,
          1249109,
          1249179,
          1249254,
          1249367,
          1249457,
          1249539,
          1249632,
          1249742,
          1249800,
          1249948,
          1250076,
          1250200,
          1250310,
          1250414,
          1250503,
          1250584,
          1250716,
          1250880,
          1251038,
          1251211,
          1251384,
          1251579,
          1251726,
          1251986,
          1252274,
          1252550,
          1252883,
          1253197,
          1253519,
          1253867,
          1254384,
          1255114,
          1255810
         ],
         "yaxis": "y"
        },
        {
         "hovertemplate": "variable=Meninggal<br>Tanggal=%{x}<br>value=%{y}<extra></extra>",
         "legendgroup": "Meninggal",
         "line": {
          "color": "#EF553B",
          "dash": "solid"
         },
         "marker": {
          "symbol": "circle"
         },
         "mode": "lines",
         "name": "Meninggal",
         "showlegend": true,
         "type": "scattergl",
         "x": [
          "2020-03-01T00:00:00",
          "2020-03-02T00:00:00",
          "2020-03-03T00:00:00",
          "2020-03-04T00:00:00",
          "2020-03-05T00:00:00",
          "2020-03-06T00:00:00",
          "2020-03-07T00:00:00",
          "2020-03-08T00:00:00",
          "2020-03-09T00:00:00",
          "2020-03-10T00:00:00",
          "2020-03-11T00:00:00",
          "2020-03-12T00:00:00",
          "2020-03-13T00:00:00",
          "2020-03-14T00:00:00",
          "2020-03-15T00:00:00",
          "2020-03-16T00:00:00",
          "2020-03-17T00:00:00",
          "2020-03-18T00:00:00",
          "2020-03-19T00:00:00",
          "2020-03-20T00:00:00",
          "2020-03-21T00:00:00",
          "2020-03-22T00:00:00",
          "2020-03-23T00:00:00",
          "2020-03-24T00:00:00",
          "2020-03-25T00:00:00",
          "2020-03-26T00:00:00",
          "2020-03-27T00:00:00",
          "2020-03-28T00:00:00",
          "2020-03-29T00:00:00",
          "2020-03-30T00:00:00",
          "2020-03-31T00:00:00",
          "2020-04-01T00:00:00",
          "2020-04-02T00:00:00",
          "2020-04-03T00:00:00",
          "2020-04-04T00:00:00",
          "2020-04-05T00:00:00",
          "2020-04-06T00:00:00",
          "2020-04-07T00:00:00",
          "2020-04-08T00:00:00",
          "2020-04-09T00:00:00",
          "2020-04-10T00:00:00",
          "2020-04-11T00:00:00",
          "2020-04-12T00:00:00",
          "2020-04-13T00:00:00",
          "2020-04-14T00:00:00",
          "2020-04-15T00:00:00",
          "2020-04-16T00:00:00",
          "2020-04-17T00:00:00",
          "2020-04-18T00:00:00",
          "2020-04-19T00:00:00",
          "2020-04-20T00:00:00",
          "2020-04-21T00:00:00",
          "2020-04-22T00:00:00",
          "2020-04-23T00:00:00",
          "2020-04-24T00:00:00",
          "2020-04-25T00:00:00",
          "2020-04-26T00:00:00",
          "2020-04-27T00:00:00",
          "2020-04-28T00:00:00",
          "2020-04-29T00:00:00",
          "2020-04-30T00:00:00",
          "2020-05-01T00:00:00",
          "2020-05-02T00:00:00",
          "2020-05-03T00:00:00",
          "2020-05-04T00:00:00",
          "2020-05-05T00:00:00",
          "2020-05-06T00:00:00",
          "2020-05-07T00:00:00",
          "2020-05-08T00:00:00",
          "2020-05-09T00:00:00",
          "2020-05-10T00:00:00",
          "2020-05-11T00:00:00",
          "2020-05-12T00:00:00",
          "2020-05-13T00:00:00",
          "2020-05-14T00:00:00",
          "2020-05-15T00:00:00",
          "2020-05-16T00:00:00",
          "2020-05-17T00:00:00",
          "2020-05-18T00:00:00",
          "2020-05-19T00:00:00",
          "2020-05-20T00:00:00",
          "2020-05-21T00:00:00",
          "2020-05-22T00:00:00",
          "2020-05-23T00:00:00",
          "2020-05-24T00:00:00",
          "2020-05-25T00:00:00",
          "2020-05-26T00:00:00",
          "2020-05-27T00:00:00",
          "2020-05-28T00:00:00",
          "2020-05-29T00:00:00",
          "2020-05-30T00:00:00",
          "2020-05-31T00:00:00",
          "2020-06-01T00:00:00",
          "2020-06-02T00:00:00",
          "2020-06-03T00:00:00",
          "2020-06-04T00:00:00",
          "2020-06-05T00:00:00",
          "2020-06-06T00:00:00",
          "2020-06-07T00:00:00",
          "2020-06-08T00:00:00",
          "2020-06-09T00:00:00",
          "2020-06-10T00:00:00",
          "2020-06-11T00:00:00",
          "2020-06-12T00:00:00",
          "2020-06-13T00:00:00",
          "2020-06-14T00:00:00",
          "2020-06-15T00:00:00",
          "2020-06-16T00:00:00",
          "2020-06-17T00:00:00",
          "2020-06-18T00:00:00",
          "2020-06-19T00:00:00",
          "2020-06-20T00:00:00",
          "2020-06-21T00:00:00",
          "2020-06-22T00:00:00",
          "2020-06-23T00:00:00",
          "2020-06-24T00:00:00",
          "2020-06-25T00:00:00",
          "2020-06-26T00:00:00",
          "2020-06-27T00:00:00",
          "2020-06-28T00:00:00",
          "2020-06-29T00:00:00",
          "2020-06-30T00:00:00",
          "2020-07-01T00:00:00",
          "2020-07-02T00:00:00",
          "2020-07-03T00:00:00",
          "2020-07-04T00:00:00",
          "2020-07-05T00:00:00",
          "2020-07-06T00:00:00",
          "2020-07-07T00:00:00",
          "2020-07-08T00:00:00",
          "2020-07-09T00:00:00",
          "2020-07-10T00:00:00",
          "2020-07-11T00:00:00",
          "2020-07-12T00:00:00",
          "2020-07-13T00:00:00",
          "2020-07-14T00:00:00",
          "2020-07-15T00:00:00",
          "2020-07-16T00:00:00",
          "2020-07-17T00:00:00",
          "2020-07-18T00:00:00",
          "2020-07-19T00:00:00",
          "2020-07-20T00:00:00",
          "2020-07-21T00:00:00",
          "2020-07-22T00:00:00",
          "2020-07-23T00:00:00",
          "2020-07-24T00:00:00",
          "2020-07-25T00:00:00",
          "2020-07-26T00:00:00",
          "2020-07-27T00:00:00",
          "2020-07-28T00:00:00",
          "2020-07-29T00:00:00",
          "2020-07-30T00:00:00",
          "2020-07-31T00:00:00",
          "2020-08-01T00:00:00",
          "2020-08-02T00:00:00",
          "2020-08-03T00:00:00",
          "2020-08-04T00:00:00",
          "2020-08-05T00:00:00",
          "2020-08-06T00:00:00",
          "2020-08-07T00:00:00",
          "2020-08-08T00:00:00",
          "2020-08-09T00:00:00",
          "2020-08-10T00:00:00",
          "2020-08-11T00:00:00",
          "2020-08-12T00:00:00",
          "2020-08-13T00:00:00",
          "2020-08-14T00:00:00",
          "2020-08-15T00:00:00",
          "2020-08-16T00:00:00",
          "2020-08-17T00:00:00",
          "2020-08-18T00:00:00",
          "2020-08-19T00:00:00",
          "2020-08-20T00:00:00",
          "2020-08-21T00:00:00",
          "2020-08-22T00:00:00",
          "2020-08-23T00:00:00",
          "2020-08-24T00:00:00",
          "2020-08-25T00:00:00",
          "2020-08-26T00:00:00",
          "2020-08-27T00:00:00",
          "2020-08-28T00:00:00",
          "2020-08-29T00:00:00",
          "2020-08-30T00:00:00",
          "2020-08-31T00:00:00",
          "2020-09-01T00:00:00",
          "2020-09-02T00:00:00",
          "2020-09-03T00:00:00",
          "2020-09-04T00:00:00",
          "2020-09-05T00:00:00",
          "2020-09-06T00:00:00",
          "2020-09-07T00:00:00",
          "2020-09-08T00:00:00",
          "2020-09-09T00:00:00",
          "2020-09-10T00:00:00",
          "2020-09-11T00:00:00",
          "2020-09-12T00:00:00",
          "2020-09-13T00:00:00",
          "2020-09-14T00:00:00",
          "2020-09-15T00:00:00",
          "2020-09-16T00:00:00",
          "2020-09-17T00:00:00",
          "2020-09-18T00:00:00",
          "2020-09-19T00:00:00",
          "2020-09-20T00:00:00",
          "2020-09-21T00:00:00",
          "2020-09-22T00:00:00",
          "2020-09-23T00:00:00",
          "2020-09-24T00:00:00",
          "2020-09-25T00:00:00",
          "2020-09-26T00:00:00",
          "2020-09-27T00:00:00",
          "2020-09-28T00:00:00",
          "2020-09-29T00:00:00",
          "2020-09-30T00:00:00",
          "2020-10-01T00:00:00",
          "2020-10-02T00:00:00",
          "2020-10-03T00:00:00",
          "2020-10-04T00:00:00",
          "2020-10-05T00:00:00",
          "2020-10-06T00:00:00",
          "2020-10-07T00:00:00",
          "2020-10-08T00:00:00",
          "2020-10-09T00:00:00",
          "2020-10-10T00:00:00",
          "2020-10-11T00:00:00",
          "2020-10-12T00:00:00",
          "2020-10-13T00:00:00",
          "2020-10-14T00:00:00",
          "2020-10-15T00:00:00",
          "2020-10-16T00:00:00",
          "2020-10-17T00:00:00",
          "2020-10-18T00:00:00",
          "2020-10-19T00:00:00",
          "2020-10-20T00:00:00",
          "2020-10-21T00:00:00",
          "2020-10-22T00:00:00",
          "2020-10-23T00:00:00",
          "2020-10-24T00:00:00",
          "2020-10-25T00:00:00",
          "2020-10-26T00:00:00",
          "2020-10-27T00:00:00",
          "2020-10-28T00:00:00",
          "2020-10-29T00:00:00",
          "2020-10-30T00:00:00",
          "2020-10-31T00:00:00",
          "2020-11-01T00:00:00",
          "2020-11-02T00:00:00",
          "2020-11-03T00:00:00",
          "2020-11-04T00:00:00",
          "2020-11-05T00:00:00",
          "2020-11-06T00:00:00",
          "2020-11-07T00:00:00",
          "2020-11-08T00:00:00",
          "2020-11-09T00:00:00",
          "2020-11-10T00:00:00",
          "2020-11-11T00:00:00",
          "2020-11-12T00:00:00",
          "2020-11-13T00:00:00",
          "2020-11-14T00:00:00",
          "2020-11-15T00:00:00",
          "2020-11-16T00:00:00",
          "2020-11-17T00:00:00",
          "2020-11-18T00:00:00",
          "2020-11-19T00:00:00",
          "2020-11-20T00:00:00",
          "2020-11-21T00:00:00",
          "2020-11-22T00:00:00",
          "2020-11-23T00:00:00",
          "2020-11-24T00:00:00",
          "2020-11-25T00:00:00",
          "2020-11-26T00:00:00",
          "2020-11-27T00:00:00",
          "2020-11-28T00:00:00",
          "2020-11-29T00:00:00",
          "2020-11-30T00:00:00",
          "2020-12-01T00:00:00",
          "2020-12-02T00:00:00",
          "2020-12-03T00:00:00",
          "2020-12-04T00:00:00",
          "2020-12-05T00:00:00",
          "2020-12-06T00:00:00",
          "2020-12-07T00:00:00",
          "2020-12-08T00:00:00",
          "2020-12-09T00:00:00",
          "2020-12-10T00:00:00",
          "2020-12-11T00:00:00",
          "2020-12-12T00:00:00",
          "2020-12-13T00:00:00",
          "2020-12-14T00:00:00",
          "2020-12-15T00:00:00",
          "2020-12-16T00:00:00",
          "2020-12-17T00:00:00",
          "2020-12-18T00:00:00",
          "2020-12-19T00:00:00",
          "2020-12-20T00:00:00",
          "2020-12-21T00:00:00",
          "2020-12-22T00:00:00",
          "2020-12-23T00:00:00",
          "2020-12-24T00:00:00",
          "2020-12-25T00:00:00",
          "2020-12-26T00:00:00",
          "2020-12-27T00:00:00",
          "2020-12-28T00:00:00",
          "2020-12-29T00:00:00",
          "2020-12-30T00:00:00",
          "2020-12-31T00:00:00",
          "2021-01-01T00:00:00",
          "2021-01-02T00:00:00",
          "2021-01-03T00:00:00",
          "2021-01-04T00:00:00",
          "2021-01-05T00:00:00",
          "2021-01-06T00:00:00",
          "2021-01-07T00:00:00",
          "2021-01-08T00:00:00",
          "2021-01-09T00:00:00",
          "2021-01-10T00:00:00",
          "2021-01-11T00:00:00",
          "2021-01-12T00:00:00",
          "2021-01-13T00:00:00",
          "2021-01-14T00:00:00",
          "2021-01-15T00:00:00",
          "2021-01-16T00:00:00",
          "2021-01-17T00:00:00",
          "2021-01-18T00:00:00",
          "2021-01-19T00:00:00",
          "2021-01-20T00:00:00",
          "2021-01-21T00:00:00",
          "2021-01-22T00:00:00",
          "2021-01-23T00:00:00",
          "2021-01-24T00:00:00",
          "2021-01-25T00:00:00",
          "2021-01-26T00:00:00",
          "2021-01-27T00:00:00",
          "2021-01-28T00:00:00",
          "2021-01-29T00:00:00",
          "2021-01-30T00:00:00",
          "2021-01-31T00:00:00",
          "2021-02-01T00:00:00",
          "2021-02-02T00:00:00",
          "2021-02-03T00:00:00",
          "2021-02-04T00:00:00",
          "2021-02-05T00:00:00",
          "2021-02-06T00:00:00",
          "2021-02-07T00:00:00",
          "2021-02-08T00:00:00",
          "2021-02-09T00:00:00",
          "2021-02-10T00:00:00",
          "2021-02-11T00:00:00",
          "2021-02-12T00:00:00",
          "2021-02-13T00:00:00",
          "2021-02-14T00:00:00",
          "2021-02-15T00:00:00",
          "2021-02-16T00:00:00",
          "2021-02-17T00:00:00",
          "2021-02-18T00:00:00",
          "2021-02-19T00:00:00",
          "2021-02-20T00:00:00",
          "2021-02-21T00:00:00",
          "2021-02-22T00:00:00",
          "2021-02-23T00:00:00",
          "2021-02-24T00:00:00",
          "2021-02-25T00:00:00",
          "2021-02-26T00:00:00",
          "2021-02-27T00:00:00",
          "2021-02-28T00:00:00",
          "2021-03-01T00:00:00",
          "2021-03-02T00:00:00",
          "2021-03-03T00:00:00",
          "2021-03-04T00:00:00",
          "2021-03-05T00:00:00",
          "2021-03-06T00:00:00",
          "2021-03-07T00:00:00",
          "2021-03-08T00:00:00",
          "2021-03-09T00:00:00",
          "2021-03-10T00:00:00",
          "2021-03-11T00:00:00",
          "2021-03-12T00:00:00",
          "2021-03-13T00:00:00",
          "2021-03-14T00:00:00",
          "2021-03-15T00:00:00",
          "2021-03-16T00:00:00",
          "2021-03-17T00:00:00",
          "2021-03-18T00:00:00",
          "2021-03-19T00:00:00",
          "2021-03-20T00:00:00",
          "2021-03-21T00:00:00",
          "2021-03-22T00:00:00",
          "2021-03-23T00:00:00",
          "2021-03-24T00:00:00",
          "2021-03-25T00:00:00",
          "2021-03-26T00:00:00",
          "2021-03-27T00:00:00",
          "2021-03-28T00:00:00",
          "2021-03-29T00:00:00",
          "2021-03-30T00:00:00",
          "2021-03-31T00:00:00",
          "2021-04-01T00:00:00",
          "2021-04-02T00:00:00",
          "2021-04-03T00:00:00",
          "2021-04-04T00:00:00",
          "2021-04-05T00:00:00",
          "2021-04-06T00:00:00",
          "2021-04-07T00:00:00",
          "2021-04-08T00:00:00",
          "2021-04-09T00:00:00",
          "2021-04-10T00:00:00",
          "2021-04-11T00:00:00",
          "2021-04-12T00:00:00",
          "2021-04-13T00:00:00",
          "2021-04-14T00:00:00",
          "2021-04-15T00:00:00",
          "2021-04-16T00:00:00",
          "2021-04-17T00:00:00",
          "2021-04-18T00:00:00",
          "2021-04-19T00:00:00",
          "2021-04-20T00:00:00",
          "2021-04-21T00:00:00",
          "2021-04-22T00:00:00",
          "2021-04-23T00:00:00",
          "2021-04-24T00:00:00",
          "2021-04-25T00:00:00",
          "2021-04-26T00:00:00",
          "2021-04-27T00:00:00",
          "2021-04-28T00:00:00",
          "2021-04-29T00:00:00",
          "2021-04-30T00:00:00",
          "2021-05-01T00:00:00",
          "2021-05-02T00:00:00",
          "2021-05-03T00:00:00",
          "2021-05-04T00:00:00",
          "2021-05-05T00:00:00",
          "2021-05-06T00:00:00",
          "2021-05-07T00:00:00",
          "2021-05-08T00:00:00",
          "2021-05-09T00:00:00",
          "2021-05-10T00:00:00",
          "2021-05-11T00:00:00",
          "2021-05-12T00:00:00",
          "2021-05-13T00:00:00",
          "2021-05-14T00:00:00",
          "2021-05-15T00:00:00",
          "2021-05-16T00:00:00",
          "2021-05-17T00:00:00",
          "2021-05-18T00:00:00",
          "2021-05-19T00:00:00",
          "2021-05-20T00:00:00",
          "2021-05-21T00:00:00",
          "2021-05-22T00:00:00",
          "2021-05-23T00:00:00",
          "2021-05-24T00:00:00",
          "2021-05-25T00:00:00",
          "2021-05-26T00:00:00",
          "2021-05-27T00:00:00",
          "2021-05-28T00:00:00",
          "2021-05-29T00:00:00",
          "2021-05-30T00:00:00",
          "2021-05-31T00:00:00",
          "2021-06-01T00:00:00",
          "2021-06-02T00:00:00",
          "2021-06-03T00:00:00",
          "2021-06-04T00:00:00",
          "2021-06-05T00:00:00",
          "2021-06-06T00:00:00",
          "2021-06-07T00:00:00",
          "2021-06-08T00:00:00",
          "2021-06-09T00:00:00",
          "2021-06-10T00:00:00",
          "2021-06-11T00:00:00",
          "2021-06-12T00:00:00",
          "2021-06-13T00:00:00",
          "2021-06-14T00:00:00",
          "2021-06-15T00:00:00",
          "2021-06-16T00:00:00",
          "2021-06-17T00:00:00",
          "2021-06-18T00:00:00",
          "2021-06-19T00:00:00",
          "2021-06-20T00:00:00",
          "2021-06-21T00:00:00",
          "2021-06-22T00:00:00",
          "2021-06-23T00:00:00",
          "2021-06-24T00:00:00",
          "2021-06-25T00:00:00",
          "2021-06-26T00:00:00",
          "2021-06-27T00:00:00",
          "2021-06-28T00:00:00",
          "2021-06-29T00:00:00",
          "2021-06-30T00:00:00",
          "2021-07-01T00:00:00",
          "2021-07-02T00:00:00",
          "2021-07-03T00:00:00",
          "2021-07-04T00:00:00",
          "2021-07-05T00:00:00",
          "2021-07-06T00:00:00",
          "2021-07-07T00:00:00",
          "2021-07-08T00:00:00",
          "2021-07-09T00:00:00",
          "2021-07-10T00:00:00",
          "2021-07-11T00:00:00",
          "2021-07-12T00:00:00",
          "2021-07-13T00:00:00",
          "2021-07-14T00:00:00",
          "2021-07-15T00:00:00",
          "2021-07-16T00:00:00",
          "2021-07-17T00:00:00",
          "2021-07-18T00:00:00",
          "2021-07-19T00:00:00",
          "2021-07-20T00:00:00",
          "2021-07-21T00:00:00",
          "2021-07-22T00:00:00",
          "2021-07-23T00:00:00",
          "2021-07-24T00:00:00",
          "2021-07-25T00:00:00",
          "2021-07-26T00:00:00",
          "2021-07-27T00:00:00",
          "2021-07-28T00:00:00",
          "2021-07-29T00:00:00",
          "2021-07-30T00:00:00",
          "2021-07-31T00:00:00",
          "2021-08-01T00:00:00",
          "2021-08-02T00:00:00",
          "2021-08-03T00:00:00",
          "2021-08-04T00:00:00",
          "2021-08-05T00:00:00",
          "2021-08-06T00:00:00",
          "2021-08-07T00:00:00",
          "2021-08-08T00:00:00",
          "2021-08-09T00:00:00",
          "2021-08-10T00:00:00",
          "2021-08-11T00:00:00",
          "2021-08-12T00:00:00",
          "2021-08-13T00:00:00",
          "2021-08-14T00:00:00",
          "2021-08-15T00:00:00",
          "2021-08-16T00:00:00",
          "2021-08-17T00:00:00",
          "2021-08-18T00:00:00",
          "2021-08-19T00:00:00",
          "2021-08-20T00:00:00",
          "2021-08-21T00:00:00",
          "2021-08-22T00:00:00",
          "2021-08-23T00:00:00",
          "2021-08-24T00:00:00",
          "2021-08-25T00:00:00",
          "2021-08-26T00:00:00",
          "2021-08-27T00:00:00",
          "2021-08-28T00:00:00",
          "2021-08-29T00:00:00",
          "2021-08-30T00:00:00",
          "2021-08-31T00:00:00",
          "2021-09-01T00:00:00",
          "2021-09-02T00:00:00",
          "2021-09-03T00:00:00",
          "2021-09-04T00:00:00",
          "2021-09-05T00:00:00",
          "2021-09-06T00:00:00",
          "2021-09-07T00:00:00",
          "2021-09-08T00:00:00",
          "2021-09-09T00:00:00",
          "2021-09-10T00:00:00",
          "2021-09-11T00:00:00",
          "2021-09-12T00:00:00",
          "2021-09-13T00:00:00",
          "2021-09-14T00:00:00",
          "2021-09-15T00:00:00",
          "2021-09-16T00:00:00",
          "2021-09-17T00:00:00",
          "2021-09-18T00:00:00",
          "2021-09-19T00:00:00",
          "2021-09-20T00:00:00",
          "2021-09-21T00:00:00",
          "2021-09-22T00:00:00",
          "2021-09-23T00:00:00",
          "2021-09-24T00:00:00",
          "2021-09-25T00:00:00",
          "2021-09-26T00:00:00",
          "2021-09-27T00:00:00",
          "2021-09-28T00:00:00",
          "2021-09-29T00:00:00",
          "2021-09-30T00:00:00",
          "2021-10-01T00:00:00",
          "2021-10-02T00:00:00",
          "2021-10-03T00:00:00",
          "2021-10-04T00:00:00",
          "2021-10-05T00:00:00",
          "2021-10-06T00:00:00",
          "2021-10-07T00:00:00",
          "2021-10-08T00:00:00",
          "2021-10-09T00:00:00",
          "2021-10-10T00:00:00",
          "2021-10-11T00:00:00",
          "2021-10-12T00:00:00",
          "2021-10-13T00:00:00",
          "2021-10-14T00:00:00",
          "2021-10-15T00:00:00",
          "2021-10-16T00:00:00",
          "2021-10-17T00:00:00",
          "2021-10-18T00:00:00",
          "2021-10-19T00:00:00",
          "2021-10-20T00:00:00",
          "2021-10-21T00:00:00",
          "2021-10-22T00:00:00",
          "2021-10-23T00:00:00",
          "2021-10-24T00:00:00",
          "2021-10-25T00:00:00",
          "2021-10-26T00:00:00",
          "2021-10-27T00:00:00",
          "2021-10-28T00:00:00",
          "2021-10-29T00:00:00",
          "2021-10-30T00:00:00",
          "2021-10-31T00:00:00",
          "2021-11-01T00:00:00",
          "2021-11-02T00:00:00",
          "2021-11-03T00:00:00",
          "2021-11-04T00:00:00",
          "2021-11-05T00:00:00",
          "2021-11-06T00:00:00",
          "2021-11-07T00:00:00",
          "2021-11-08T00:00:00",
          "2021-11-09T00:00:00",
          "2021-11-10T00:00:00",
          "2021-11-11T00:00:00",
          "2021-11-12T00:00:00",
          "2021-11-13T00:00:00",
          "2021-11-14T00:00:00",
          "2021-11-15T00:00:00",
          "2021-11-16T00:00:00",
          "2021-11-17T00:00:00",
          "2021-11-18T00:00:00",
          "2021-11-19T00:00:00",
          "2021-11-20T00:00:00",
          "2021-11-21T00:00:00",
          "2021-11-22T00:00:00",
          "2021-11-23T00:00:00",
          "2021-11-24T00:00:00",
          "2021-11-25T00:00:00",
          "2021-11-26T00:00:00",
          "2021-11-27T00:00:00",
          "2021-11-28T00:00:00",
          "2021-11-29T00:00:00",
          "2021-11-30T00:00:00",
          "2021-12-01T00:00:00",
          "2021-12-02T00:00:00",
          "2021-12-03T00:00:00",
          "2021-12-04T00:00:00",
          "2021-12-05T00:00:00",
          "2021-12-06T00:00:00",
          "2021-12-07T00:00:00",
          "2021-12-08T00:00:00",
          "2021-12-09T00:00:00",
          "2021-12-10T00:00:00",
          "2021-12-11T00:00:00",
          "2021-12-12T00:00:00",
          "2021-12-13T00:00:00",
          "2021-12-14T00:00:00",
          "2021-12-15T00:00:00",
          "2021-12-16T00:00:00",
          "2021-12-17T00:00:00",
          "2021-12-18T00:00:00",
          "2021-12-19T00:00:00",
          "2021-12-20T00:00:00",
          "2021-12-21T00:00:00",
          "2021-12-22T00:00:00",
          "2021-12-23T00:00:00",
          "2021-12-24T00:00:00",
          "2021-12-25T00:00:00",
          "2021-12-26T00:00:00",
          "2021-12-27T00:00:00",
          "2021-12-28T00:00:00",
          "2021-12-29T00:00:00",
          "2021-12-30T00:00:00",
          "2021-12-31T00:00:00",
          "2022-01-01T00:00:00",
          "2022-01-02T00:00:00",
          "2022-01-03T00:00:00",
          "2022-01-04T00:00:00",
          "2022-01-05T00:00:00",
          "2022-01-06T00:00:00",
          "2022-01-07T00:00:00",
          "2022-01-08T00:00:00",
          "2022-01-09T00:00:00",
          "2022-01-10T00:00:00",
          "2022-01-11T00:00:00",
          "2022-01-12T00:00:00",
          "2022-01-13T00:00:00",
          "2022-01-14T00:00:00",
          "2022-01-15T00:00:00",
          "2022-01-16T00:00:00",
          "2022-01-17T00:00:00",
          "2022-01-18T00:00:00",
          "2022-01-19T00:00:00",
          "2022-01-20T00:00:00",
          "2022-01-21T00:00:00",
          "2022-01-22T00:00:00",
          "2022-01-23T00:00:00",
          "2022-01-24T00:00:00",
          "2022-01-25T00:00:00",
          "2022-01-26T00:00:00",
          "2022-01-27T00:00:00",
          "2022-01-28T00:00:00",
          "2022-01-29T00:00:00",
          "2022-01-30T00:00:00",
          "2022-01-31T00:00:00",
          "2022-02-01T00:00:00",
          "2022-02-02T00:00:00",
          "2022-02-03T00:00:00",
          "2022-02-04T00:00:00",
          "2022-02-05T00:00:00",
          "2022-02-06T00:00:00",
          "2022-02-07T00:00:00",
          "2022-02-08T00:00:00",
          "2022-02-09T00:00:00",
          "2022-02-10T00:00:00",
          "2022-02-11T00:00:00",
          "2022-02-12T00:00:00",
          "2022-02-13T00:00:00",
          "2022-02-14T00:00:00",
          "2022-02-15T00:00:00",
          "2022-02-16T00:00:00",
          "2022-02-17T00:00:00",
          "2022-02-18T00:00:00",
          "2022-02-19T00:00:00",
          "2022-02-20T00:00:00",
          "2022-02-21T00:00:00",
          "2022-02-22T00:00:00",
          "2022-02-23T00:00:00",
          "2022-02-24T00:00:00",
          "2022-02-25T00:00:00",
          "2022-02-26T00:00:00",
          "2022-02-27T00:00:00",
          "2022-02-28T00:00:00",
          "2022-03-01T00:00:00",
          "2022-03-02T00:00:00",
          "2022-03-03T00:00:00",
          "2022-03-04T00:00:00",
          "2022-03-05T00:00:00",
          "2022-03-06T00:00:00",
          "2022-03-07T00:00:00",
          "2022-03-08T00:00:00",
          "2022-03-09T00:00:00",
          "2022-03-10T00:00:00",
          "2022-03-11T00:00:00",
          "2022-03-12T00:00:00",
          "2022-03-13T00:00:00",
          "2022-03-14T00:00:00",
          "2022-03-15T00:00:00",
          "2022-03-16T00:00:00",
          "2022-03-17T00:00:00",
          "2022-03-18T00:00:00",
          "2022-03-19T00:00:00",
          "2022-03-20T00:00:00",
          "2022-03-21T00:00:00",
          "2022-03-22T00:00:00",
          "2022-03-23T00:00:00",
          "2022-03-24T00:00:00",
          "2022-03-25T00:00:00",
          "2022-03-26T00:00:00",
          "2022-03-27T00:00:00",
          "2022-03-28T00:00:00",
          "2022-03-29T00:00:00",
          "2022-03-30T00:00:00",
          "2022-03-31T00:00:00",
          "2022-04-01T00:00:00",
          "2022-04-02T00:00:00",
          "2022-04-03T00:00:00",
          "2022-04-04T00:00:00",
          "2022-04-05T00:00:00",
          "2022-04-06T00:00:00",
          "2022-04-07T00:00:00",
          "2022-04-08T00:00:00",
          "2022-04-09T00:00:00",
          "2022-04-10T00:00:00",
          "2022-04-11T00:00:00",
          "2022-04-12T00:00:00",
          "2022-04-13T00:00:00",
          "2022-04-14T00:00:00",
          "2022-04-15T00:00:00",
          "2022-04-16T00:00:00",
          "2022-04-17T00:00:00",
          "2022-04-18T00:00:00",
          "2022-04-19T00:00:00",
          "2022-04-20T00:00:00",
          "2022-04-21T00:00:00",
          "2022-04-22T00:00:00",
          "2022-04-23T00:00:00",
          "2022-04-24T00:00:00",
          "2022-04-25T00:00:00",
          "2022-04-26T00:00:00",
          "2022-04-27T00:00:00",
          "2022-04-28T00:00:00",
          "2022-04-29T00:00:00",
          "2022-04-30T00:00:00",
          "2022-05-01T00:00:00",
          "2022-05-02T00:00:00",
          "2022-05-03T00:00:00",
          "2022-05-04T00:00:00",
          "2022-05-05T00:00:00",
          "2022-05-06T00:00:00",
          "2022-05-07T00:00:00",
          "2022-05-08T00:00:00",
          "2022-05-09T00:00:00",
          "2022-05-10T00:00:00",
          "2022-05-11T00:00:00",
          "2022-05-12T00:00:00",
          "2022-05-13T00:00:00",
          "2022-05-14T00:00:00",
          "2022-05-15T00:00:00",
          "2022-05-16T00:00:00",
          "2022-05-17T00:00:00",
          "2022-05-18T00:00:00",
          "2022-05-19T00:00:00",
          "2022-05-20T00:00:00",
          "2022-05-21T00:00:00",
          "2022-05-22T00:00:00",
          "2022-05-23T00:00:00",
          "2022-05-24T00:00:00",
          "2022-05-25T00:00:00",
          "2022-05-26T00:00:00",
          "2022-05-27T00:00:00",
          "2022-05-28T00:00:00",
          "2022-05-29T00:00:00",
          "2022-05-30T00:00:00",
          "2022-05-31T00:00:00",
          "2022-06-01T00:00:00",
          "2022-06-02T00:00:00",
          "2022-06-03T00:00:00",
          "2022-06-04T00:00:00",
          "2022-06-05T00:00:00",
          "2022-06-06T00:00:00",
          "2022-06-07T00:00:00",
          "2022-06-08T00:00:00",
          "2022-06-09T00:00:00",
          "2022-06-10T00:00:00",
          "2022-06-11T00:00:00",
          "2022-06-12T00:00:00",
          "2022-06-13T00:00:00",
          "2022-06-14T00:00:00",
          "2022-06-15T00:00:00",
          "2022-06-16T00:00:00"
         ],
         "xaxis": "x",
         "y": [
          0,
          0,
          1,
          1,
          3,
          3,
          3,
          3,
          3,
          3,
          3,
          5,
          7,
          9,
          11,
          12,
          12,
          15,
          19,
          20,
          23,
          29,
          29,
          34,
          43,
          49,
          57,
          62,
          67,
          78,
          84,
          90,
          95,
          98,
          99,
          123,
          131,
          141,
          144,
          155,
          156,
          168,
          195,
          209,
          243,
          246,
          248,
          250,
          257,
          292,
          297,
          305,
          308,
          316,
          331,
          350,
          357,
          375,
          379,
          381,
          381,
          393,
          400,
          410,
          412,
          414,
          420,
          430,
          431,
          437,
          444,
          453,
          457,
          461,
          466,
          474,
          475,
          478,
          483,
          487,
          493,
          498,
          501,
          504,
          505,
          506,
          508,
          510,
          514,
          517,
          519,
          520,
          521,
          525,
          529,
          530,
          532,
          535,
          537,
          538,
          547,
          551,
          555,
          561,
          564,
          571,
          580,
          583,
          588,
          594,
          599,
          603,
          615,
          618,
          619,
          628,
          631,
          632,
          632,
          635,
          636,
          641,
          644,
          646,
          648,
          650,
          658,
          658,
          664,
          667,
          677,
          684,
          690,
          702,
          710,
          714,
          720,
          722,
          731,
          740,
          748,
          749,
          758,
          766,
          767,
          768,
          769,
          779,
          782,
          795,
          820,
          821,
          836,
          852,
          852,
          867,
          880,
          895,
          908,
          922,
          934,
          939,
          940,
          953,
          968,
          981,
          985,
          991,
          995,
          1011,
          1028,
          1046,
          1061,
          1076,
          1091,
          1107,
          1112,
          1129,
          1144,
          1147,
          1154,
          1172,
          1186,
          1202,
          1219,
          1237,
          1253,
          1260,
          1277,
          1289,
          1318,
          1330,
          1347,
          1365,
          1382,
          1404,
          1410,
          1440,
          1468,
          1498,
          1513,
          1535,
          1546,
          1561,
          1592,
          1624,
          1650,
          1664,
          1677,
          1679,
          1692,
          1704,
          1718,
          1731,
          1737,
          1740,
          1743,
          1761,
          1772,
          1806,
          1819,
          1838,
          1860,
          1877,
          1901,
          1922,
          1944,
          1961,
          1984,
          2008,
          2032,
          2051,
          2064,
          2086,
          2105,
          2120,
          2138,
          2153,
          2164,
          2185,
          2195,
          2211,
          2225,
          2239,
          2255,
          2273,
          2291,
          2300,
          2315,
          2331,
          2348,
          2359,
          2366,
          2377,
          2391,
          2403,
          2414,
          2428,
          2441,
          2448,
          2455,
          2459,
          2470,
          2484,
          2501,
          2515,
          2531,
          2548,
          2567,
          2584,
          2597,
          2614,
          2632,
          2652,
          2671,
          2689,
          2710,
          2734,
          2757,
          2779,
          2799,
          2823,
          2842,
          2860,
          2880,
          2902,
          2922,
          2941,
          2963,
          2990,
          3010,
          3027,
          3048,
          3068,
          3087,
          3097,
          3115,
          3130,
          3146,
          3167,
          3182,
          3204,
          3226,
          3246,
          3266,
          3287,
          3308,
          3334,
          3345,
          3369,
          3392,
          3410,
          3435,
          3463,
          3485,
          3517,
          3551,
          3589,
          3634,
          3675,
          3710,
          3745,
          3779,
          3815,
          3836,
          3868,
          3900,
          3940,
          3980,
          4024,
          4063,
          4108,
          4134,
          4185,
          4224,
          4254,
          4267,
          4337,
          4379,
          4420,
          4461,
          4502,
          4541,
          4587,
          4631,
          4681,
          4725,
          4748,
          4798,
          4850,
          4895,
          4940,
          4987,
          5026,
          5044,
          5081,
          5121,
          5172,
          5206,
          5248,
          5301,
          5346,
          5385,
          5439,
          5478,
          5528,
          5568,
          5613,
          5657,
          5702,
          5748,
          5790,
          5838,
          5883,
          5923,
          5943,
          5969,
          5991,
          6026,
          6038,
          6062,
          6077,
          6100,
          6120,
          6143,
          6160,
          6179,
          6206,
          6224,
          6241,
          6260,
          6281,
          6304,
          6324,
          6327,
          6341,
          6344,
          6351,
          6356,
          6360,
          6372,
          6379,
          6391,
          6410,
          6424,
          6435,
          6450,
          6459,
          6482,
          6489,
          6504,
          6513,
          6520,
          6536,
          6558,
          6569,
          6587,
          6596,
          6612,
          6623,
          6645,
          6660,
          6679,
          6690,
          6710,
          6733,
          6747,
          6767,
          6788,
          6807,
          6830,
          6850,
          6872,
          6896,
          6911,
          6933,
          6952,
          6973,
          6973,
          7003,
          7066,
          7082,
          7107,
          7130,
          7149,
          7169,
          7184,
          7196,
          7207,
          7225,
          7239,
          7250,
          7271,
          7288,
          7296,
          7309,
          7327,
          7349,
          7361,
          7381,
          7402,
          7423,
          7438,
          7457,
          7478,
          7499,
          7523,
          7543,
          7557,
          7571,
          7609,
          7634,
          7665,
          7713,
          7777,
          7836,
          7905,
          7976,
          8014,
          8057,
          8107,
          8177,
          8220,
          8269,
          8348,
          8426,
          8486,
          8528,
          8547,
          8577,
          8652,
          8779,
          8861,
          9042,
          9110,
          9306,
          9357,
          9395,
          9462,
          9541,
          9603,
          9743,
          9845,
          9902,
          10103,
          10345,
          10610,
          10692,
          10865,
          11021,
          11181,
          11333,
          11436,
          11606,
          11688,
          11844,
          11952,
          12135,
          12209,
          12363,
          12433,
          12514,
          12629,
          12682,
          12750,
          12770,
          12783,
          12824,
          12866,
          12908,
          12976,
          13005,
          13022,
          13050,
          13074,
          13087,
          13121,
          13132,
          13152,
          13173,
          13193,
          13203,
          13214,
          13216,
          13232,
          13242,
          13252,
          13261,
          13290,
          13302,
          13312,
          13322,
          13332,
          13342,
          13359,
          13372,
          13386,
          13399,
          13411,
          13431,
          13437,
          13443,
          13445,
          13455,
          13464,
          13469,
          13475,
          13479,
          13482,
          13486,
          13490,
          13493,
          13497,
          13500,
          13503,
          13507,
          13512,
          13516,
          13519,
          13524,
          13529,
          13534,
          13534,
          13538,
          13540,
          13541,
          13541,
          13543,
          13547,
          13549,
          13550,
          13550,
          13550,
          13550,
          13551,
          13551,
          13552,
          13552,
          13552,
          13553,
          13553,
          13555,
          13556,
          13557,
          13558,
          13559,
          13560,
          13560,
          13561,
          13562,
          13562,
          13562,
          13563,
          13564,
          13565,
          13566,
          13566,
          13566,
          13566,
          13566,
          13567,
          13567,
          13567,
          13568,
          13569,
          13569,
          13570,
          13571,
          13573,
          13574,
          13574,
          13574,
          13574,
          13575,
          13576,
          13576,
          13576,
          13576,
          13576,
          13576,
          13576,
          13576,
          13577,
          13578,
          13579,
          13581,
          13582,
          13583,
          13583,
          13583,
          13583,
          13583,
          13583,
          13583,
          13583,
          13583,
          13583,
          13583,
          13583,
          13584,
          13584,
          13584,
          13584,
          13584,
          13584,
          13584,
          13584,
          13585,
          13587,
          13587,
          13588,
          13588,
          13588,
          13588,
          13588,
          13589,
          13589,
          13589,
          13589,
          13589,
          13589,
          13590,
          13590,
          13590,
          13591,
          13591,
          13591,
          13591,
          13591,
          13591,
          13591,
          13591,
          13591,
          13597,
          13597,
          13606,
          13612,
          13615,
          13617,
          13627,
          13639,
          13666,
          13678,
          13689,
          13713,
          13738,
          13767,
          13794,
          13832,
          13872,
          13889,
          13911,
          13950,
          13989,
          14032,
          14085,
          14135,
          14191,
          14255,
          14301,
          14326,
          14358,
          14382,
          14415,
          14466,
          14513,
          14555,
          14585,
          14609,
          14664,
          14690,
          14710,
          14730,
          14754,
          14779,
          14798,
          14828,
          14852,
          14863,
          14881,
          14896,
          14921,
          14955,
          14988,
          15019,
          15031,
          15043,
          15061,
          15073,
          15087,
          15093,
          15102,
          15106,
          15111,
          15116,
          15121,
          15126,
          15138,
          15148,
          15159,
          15167,
          15175,
          15183,
          15190,
          15200,
          15205,
          15207,
          15212,
          15214,
          15217,
          15220,
          15224,
          15229,
          15232,
          15234,
          15238,
          15240,
          15244,
          15250,
          15252,
          15254,
          15258,
          15261,
          15264,
          15265,
          15266,
          15268,
          15271,
          15272,
          15273,
          15274,
          15275,
          15277,
          15278,
          15280,
          15281,
          15282,
          15283,
          15284,
          15285,
          15287,
          15288,
          15290,
          15291,
          15292,
          15293,
          15293,
          15293,
          15294,
          15294,
          15294,
          15294,
          15296,
          15297,
          15300,
          15300,
          15300,
          15300,
          15300,
          15300,
          15303,
          15303,
          15303,
          15303,
          15303,
          15303,
          15303,
          15303,
          15303,
          15303,
          15303,
          15303,
          15303,
          15303,
          15304,
          15304,
          15304,
          15305
         ],
         "yaxis": "y"
        },
        {
         "hovertemplate": "variable=Sembuh<br>Tanggal=%{x}<br>value=%{y}<extra></extra>",
         "legendgroup": "Sembuh",
         "line": {
          "color": "#00cc96",
          "dash": "solid"
         },
         "marker": {
          "symbol": "circle"
         },
         "mode": "lines",
         "name": "Sembuh",
         "showlegend": true,
         "type": "scattergl",
         "x": [
          "2020-03-01T00:00:00",
          "2020-03-02T00:00:00",
          "2020-03-03T00:00:00",
          "2020-03-04T00:00:00",
          "2020-03-05T00:00:00",
          "2020-03-06T00:00:00",
          "2020-03-07T00:00:00",
          "2020-03-08T00:00:00",
          "2020-03-09T00:00:00",
          "2020-03-10T00:00:00",
          "2020-03-11T00:00:00",
          "2020-03-12T00:00:00",
          "2020-03-13T00:00:00",
          "2020-03-14T00:00:00",
          "2020-03-15T00:00:00",
          "2020-03-16T00:00:00",
          "2020-03-17T00:00:00",
          "2020-03-18T00:00:00",
          "2020-03-19T00:00:00",
          "2020-03-20T00:00:00",
          "2020-03-21T00:00:00",
          "2020-03-22T00:00:00",
          "2020-03-23T00:00:00",
          "2020-03-24T00:00:00",
          "2020-03-25T00:00:00",
          "2020-03-26T00:00:00",
          "2020-03-27T00:00:00",
          "2020-03-28T00:00:00",
          "2020-03-29T00:00:00",
          "2020-03-30T00:00:00",
          "2020-03-31T00:00:00",
          "2020-04-01T00:00:00",
          "2020-04-02T00:00:00",
          "2020-04-03T00:00:00",
          "2020-04-04T00:00:00",
          "2020-04-05T00:00:00",
          "2020-04-06T00:00:00",
          "2020-04-07T00:00:00",
          "2020-04-08T00:00:00",
          "2020-04-09T00:00:00",
          "2020-04-10T00:00:00",
          "2020-04-11T00:00:00",
          "2020-04-12T00:00:00",
          "2020-04-13T00:00:00",
          "2020-04-14T00:00:00",
          "2020-04-15T00:00:00",
          "2020-04-16T00:00:00",
          "2020-04-17T00:00:00",
          "2020-04-18T00:00:00",
          "2020-04-19T00:00:00",
          "2020-04-20T00:00:00",
          "2020-04-21T00:00:00",
          "2020-04-22T00:00:00",
          "2020-04-23T00:00:00",
          "2020-04-24T00:00:00",
          "2020-04-25T00:00:00",
          "2020-04-26T00:00:00",
          "2020-04-27T00:00:00",
          "2020-04-28T00:00:00",
          "2020-04-29T00:00:00",
          "2020-04-30T00:00:00",
          "2020-05-01T00:00:00",
          "2020-05-02T00:00:00",
          "2020-05-03T00:00:00",
          "2020-05-04T00:00:00",
          "2020-05-05T00:00:00",
          "2020-05-06T00:00:00",
          "2020-05-07T00:00:00",
          "2020-05-08T00:00:00",
          "2020-05-09T00:00:00",
          "2020-05-10T00:00:00",
          "2020-05-11T00:00:00",
          "2020-05-12T00:00:00",
          "2020-05-13T00:00:00",
          "2020-05-14T00:00:00",
          "2020-05-15T00:00:00",
          "2020-05-16T00:00:00",
          "2020-05-17T00:00:00",
          "2020-05-18T00:00:00",
          "2020-05-19T00:00:00",
          "2020-05-20T00:00:00",
          "2020-05-21T00:00:00",
          "2020-05-22T00:00:00",
          "2020-05-23T00:00:00",
          "2020-05-24T00:00:00",
          "2020-05-25T00:00:00",
          "2020-05-26T00:00:00",
          "2020-05-27T00:00:00",
          "2020-05-28T00:00:00",
          "2020-05-29T00:00:00",
          "2020-05-30T00:00:00",
          "2020-05-31T00:00:00",
          "2020-06-01T00:00:00",
          "2020-06-02T00:00:00",
          "2020-06-03T00:00:00",
          "2020-06-04T00:00:00",
          "2020-06-05T00:00:00",
          "2020-06-06T00:00:00",
          "2020-06-07T00:00:00",
          "2020-06-08T00:00:00",
          "2020-06-09T00:00:00",
          "2020-06-10T00:00:00",
          "2020-06-11T00:00:00",
          "2020-06-12T00:00:00",
          "2020-06-13T00:00:00",
          "2020-06-14T00:00:00",
          "2020-06-15T00:00:00",
          "2020-06-16T00:00:00",
          "2020-06-17T00:00:00",
          "2020-06-18T00:00:00",
          "2020-06-19T00:00:00",
          "2020-06-20T00:00:00",
          "2020-06-21T00:00:00",
          "2020-06-22T00:00:00",
          "2020-06-23T00:00:00",
          "2020-06-24T00:00:00",
          "2020-06-25T00:00:00",
          "2020-06-26T00:00:00",
          "2020-06-27T00:00:00",
          "2020-06-28T00:00:00",
          "2020-06-29T00:00:00",
          "2020-06-30T00:00:00",
          "2020-07-01T00:00:00",
          "2020-07-02T00:00:00",
          "2020-07-03T00:00:00",
          "2020-07-04T00:00:00",
          "2020-07-05T00:00:00",
          "2020-07-06T00:00:00",
          "2020-07-07T00:00:00",
          "2020-07-08T00:00:00",
          "2020-07-09T00:00:00",
          "2020-07-10T00:00:00",
          "2020-07-11T00:00:00",
          "2020-07-12T00:00:00",
          "2020-07-13T00:00:00",
          "2020-07-14T00:00:00",
          "2020-07-15T00:00:00",
          "2020-07-16T00:00:00",
          "2020-07-17T00:00:00",
          "2020-07-18T00:00:00",
          "2020-07-19T00:00:00",
          "2020-07-20T00:00:00",
          "2020-07-21T00:00:00",
          "2020-07-22T00:00:00",
          "2020-07-23T00:00:00",
          "2020-07-24T00:00:00",
          "2020-07-25T00:00:00",
          "2020-07-26T00:00:00",
          "2020-07-27T00:00:00",
          "2020-07-28T00:00:00",
          "2020-07-29T00:00:00",
          "2020-07-30T00:00:00",
          "2020-07-31T00:00:00",
          "2020-08-01T00:00:00",
          "2020-08-02T00:00:00",
          "2020-08-03T00:00:00",
          "2020-08-04T00:00:00",
          "2020-08-05T00:00:00",
          "2020-08-06T00:00:00",
          "2020-08-07T00:00:00",
          "2020-08-08T00:00:00",
          "2020-08-09T00:00:00",
          "2020-08-10T00:00:00",
          "2020-08-11T00:00:00",
          "2020-08-12T00:00:00",
          "2020-08-13T00:00:00",
          "2020-08-14T00:00:00",
          "2020-08-15T00:00:00",
          "2020-08-16T00:00:00",
          "2020-08-17T00:00:00",
          "2020-08-18T00:00:00",
          "2020-08-19T00:00:00",
          "2020-08-20T00:00:00",
          "2020-08-21T00:00:00",
          "2020-08-22T00:00:00",
          "2020-08-23T00:00:00",
          "2020-08-24T00:00:00",
          "2020-08-25T00:00:00",
          "2020-08-26T00:00:00",
          "2020-08-27T00:00:00",
          "2020-08-28T00:00:00",
          "2020-08-29T00:00:00",
          "2020-08-30T00:00:00",
          "2020-08-31T00:00:00",
          "2020-09-01T00:00:00",
          "2020-09-02T00:00:00",
          "2020-09-03T00:00:00",
          "2020-09-04T00:00:00",
          "2020-09-05T00:00:00",
          "2020-09-06T00:00:00",
          "2020-09-07T00:00:00",
          "2020-09-08T00:00:00",
          "2020-09-09T00:00:00",
          "2020-09-10T00:00:00",
          "2020-09-11T00:00:00",
          "2020-09-12T00:00:00",
          "2020-09-13T00:00:00",
          "2020-09-14T00:00:00",
          "2020-09-15T00:00:00",
          "2020-09-16T00:00:00",
          "2020-09-17T00:00:00",
          "2020-09-18T00:00:00",
          "2020-09-19T00:00:00",
          "2020-09-20T00:00:00",
          "2020-09-21T00:00:00",
          "2020-09-22T00:00:00",
          "2020-09-23T00:00:00",
          "2020-09-24T00:00:00",
          "2020-09-25T00:00:00",
          "2020-09-26T00:00:00",
          "2020-09-27T00:00:00",
          "2020-09-28T00:00:00",
          "2020-09-29T00:00:00",
          "2020-09-30T00:00:00",
          "2020-10-01T00:00:00",
          "2020-10-02T00:00:00",
          "2020-10-03T00:00:00",
          "2020-10-04T00:00:00",
          "2020-10-05T00:00:00",
          "2020-10-06T00:00:00",
          "2020-10-07T00:00:00",
          "2020-10-08T00:00:00",
          "2020-10-09T00:00:00",
          "2020-10-10T00:00:00",
          "2020-10-11T00:00:00",
          "2020-10-12T00:00:00",
          "2020-10-13T00:00:00",
          "2020-10-14T00:00:00",
          "2020-10-15T00:00:00",
          "2020-10-16T00:00:00",
          "2020-10-17T00:00:00",
          "2020-10-18T00:00:00",
          "2020-10-19T00:00:00",
          "2020-10-20T00:00:00",
          "2020-10-21T00:00:00",
          "2020-10-22T00:00:00",
          "2020-10-23T00:00:00",
          "2020-10-24T00:00:00",
          "2020-10-25T00:00:00",
          "2020-10-26T00:00:00",
          "2020-10-27T00:00:00",
          "2020-10-28T00:00:00",
          "2020-10-29T00:00:00",
          "2020-10-30T00:00:00",
          "2020-10-31T00:00:00",
          "2020-11-01T00:00:00",
          "2020-11-02T00:00:00",
          "2020-11-03T00:00:00",
          "2020-11-04T00:00:00",
          "2020-11-05T00:00:00",
          "2020-11-06T00:00:00",
          "2020-11-07T00:00:00",
          "2020-11-08T00:00:00",
          "2020-11-09T00:00:00",
          "2020-11-10T00:00:00",
          "2020-11-11T00:00:00",
          "2020-11-12T00:00:00",
          "2020-11-13T00:00:00",
          "2020-11-14T00:00:00",
          "2020-11-15T00:00:00",
          "2020-11-16T00:00:00",
          "2020-11-17T00:00:00",
          "2020-11-18T00:00:00",
          "2020-11-19T00:00:00",
          "2020-11-20T00:00:00",
          "2020-11-21T00:00:00",
          "2020-11-22T00:00:00",
          "2020-11-23T00:00:00",
          "2020-11-24T00:00:00",
          "2020-11-25T00:00:00",
          "2020-11-26T00:00:00",
          "2020-11-27T00:00:00",
          "2020-11-28T00:00:00",
          "2020-11-29T00:00:00",
          "2020-11-30T00:00:00",
          "2020-12-01T00:00:00",
          "2020-12-02T00:00:00",
          "2020-12-03T00:00:00",
          "2020-12-04T00:00:00",
          "2020-12-05T00:00:00",
          "2020-12-06T00:00:00",
          "2020-12-07T00:00:00",
          "2020-12-08T00:00:00",
          "2020-12-09T00:00:00",
          "2020-12-10T00:00:00",
          "2020-12-11T00:00:00",
          "2020-12-12T00:00:00",
          "2020-12-13T00:00:00",
          "2020-12-14T00:00:00",
          "2020-12-15T00:00:00",
          "2020-12-16T00:00:00",
          "2020-12-17T00:00:00",
          "2020-12-18T00:00:00",
          "2020-12-19T00:00:00",
          "2020-12-20T00:00:00",
          "2020-12-21T00:00:00",
          "2020-12-22T00:00:00",
          "2020-12-23T00:00:00",
          "2020-12-24T00:00:00",
          "2020-12-25T00:00:00",
          "2020-12-26T00:00:00",
          "2020-12-27T00:00:00",
          "2020-12-28T00:00:00",
          "2020-12-29T00:00:00",
          "2020-12-30T00:00:00",
          "2020-12-31T00:00:00",
          "2021-01-01T00:00:00",
          "2021-01-02T00:00:00",
          "2021-01-03T00:00:00",
          "2021-01-04T00:00:00",
          "2021-01-05T00:00:00",
          "2021-01-06T00:00:00",
          "2021-01-07T00:00:00",
          "2021-01-08T00:00:00",
          "2021-01-09T00:00:00",
          "2021-01-10T00:00:00",
          "2021-01-11T00:00:00",
          "2021-01-12T00:00:00",
          "2021-01-13T00:00:00",
          "2021-01-14T00:00:00",
          "2021-01-15T00:00:00",
          "2021-01-16T00:00:00",
          "2021-01-17T00:00:00",
          "2021-01-18T00:00:00",
          "2021-01-19T00:00:00",
          "2021-01-20T00:00:00",
          "2021-01-21T00:00:00",
          "2021-01-22T00:00:00",
          "2021-01-23T00:00:00",
          "2021-01-24T00:00:00",
          "2021-01-25T00:00:00",
          "2021-01-26T00:00:00",
          "2021-01-27T00:00:00",
          "2021-01-28T00:00:00",
          "2021-01-29T00:00:00",
          "2021-01-30T00:00:00",
          "2021-01-31T00:00:00",
          "2021-02-01T00:00:00",
          "2021-02-02T00:00:00",
          "2021-02-03T00:00:00",
          "2021-02-04T00:00:00",
          "2021-02-05T00:00:00",
          "2021-02-06T00:00:00",
          "2021-02-07T00:00:00",
          "2021-02-08T00:00:00",
          "2021-02-09T00:00:00",
          "2021-02-10T00:00:00",
          "2021-02-11T00:00:00",
          "2021-02-12T00:00:00",
          "2021-02-13T00:00:00",
          "2021-02-14T00:00:00",
          "2021-02-15T00:00:00",
          "2021-02-16T00:00:00",
          "2021-02-17T00:00:00",
          "2021-02-18T00:00:00",
          "2021-02-19T00:00:00",
          "2021-02-20T00:00:00",
          "2021-02-21T00:00:00",
          "2021-02-22T00:00:00",
          "2021-02-23T00:00:00",
          "2021-02-24T00:00:00",
          "2021-02-25T00:00:00",
          "2021-02-26T00:00:00",
          "2021-02-27T00:00:00",
          "2021-02-28T00:00:00",
          "2021-03-01T00:00:00",
          "2021-03-02T00:00:00",
          "2021-03-03T00:00:00",
          "2021-03-04T00:00:00",
          "2021-03-05T00:00:00",
          "2021-03-06T00:00:00",
          "2021-03-07T00:00:00",
          "2021-03-08T00:00:00",
          "2021-03-09T00:00:00",
          "2021-03-10T00:00:00",
          "2021-03-11T00:00:00",
          "2021-03-12T00:00:00",
          "2021-03-13T00:00:00",
          "2021-03-14T00:00:00",
          "2021-03-15T00:00:00",
          "2021-03-16T00:00:00",
          "2021-03-17T00:00:00",
          "2021-03-18T00:00:00",
          "2021-03-19T00:00:00",
          "2021-03-20T00:00:00",
          "2021-03-21T00:00:00",
          "2021-03-22T00:00:00",
          "2021-03-23T00:00:00",
          "2021-03-24T00:00:00",
          "2021-03-25T00:00:00",
          "2021-03-26T00:00:00",
          "2021-03-27T00:00:00",
          "2021-03-28T00:00:00",
          "2021-03-29T00:00:00",
          "2021-03-30T00:00:00",
          "2021-03-31T00:00:00",
          "2021-04-01T00:00:00",
          "2021-04-02T00:00:00",
          "2021-04-03T00:00:00",
          "2021-04-04T00:00:00",
          "2021-04-05T00:00:00",
          "2021-04-06T00:00:00",
          "2021-04-07T00:00:00",
          "2021-04-08T00:00:00",
          "2021-04-09T00:00:00",
          "2021-04-10T00:00:00",
          "2021-04-11T00:00:00",
          "2021-04-12T00:00:00",
          "2021-04-13T00:00:00",
          "2021-04-14T00:00:00",
          "2021-04-15T00:00:00",
          "2021-04-16T00:00:00",
          "2021-04-17T00:00:00",
          "2021-04-18T00:00:00",
          "2021-04-19T00:00:00",
          "2021-04-20T00:00:00",
          "2021-04-21T00:00:00",
          "2021-04-22T00:00:00",
          "2021-04-23T00:00:00",
          "2021-04-24T00:00:00",
          "2021-04-25T00:00:00",
          "2021-04-26T00:00:00",
          "2021-04-27T00:00:00",
          "2021-04-28T00:00:00",
          "2021-04-29T00:00:00",
          "2021-04-30T00:00:00",
          "2021-05-01T00:00:00",
          "2021-05-02T00:00:00",
          "2021-05-03T00:00:00",
          "2021-05-04T00:00:00",
          "2021-05-05T00:00:00",
          "2021-05-06T00:00:00",
          "2021-05-07T00:00:00",
          "2021-05-08T00:00:00",
          "2021-05-09T00:00:00",
          "2021-05-10T00:00:00",
          "2021-05-11T00:00:00",
          "2021-05-12T00:00:00",
          "2021-05-13T00:00:00",
          "2021-05-14T00:00:00",
          "2021-05-15T00:00:00",
          "2021-05-16T00:00:00",
          "2021-05-17T00:00:00",
          "2021-05-18T00:00:00",
          "2021-05-19T00:00:00",
          "2021-05-20T00:00:00",
          "2021-05-21T00:00:00",
          "2021-05-22T00:00:00",
          "2021-05-23T00:00:00",
          "2021-05-24T00:00:00",
          "2021-05-25T00:00:00",
          "2021-05-26T00:00:00",
          "2021-05-27T00:00:00",
          "2021-05-28T00:00:00",
          "2021-05-29T00:00:00",
          "2021-05-30T00:00:00",
          "2021-05-31T00:00:00",
          "2021-06-01T00:00:00",
          "2021-06-02T00:00:00",
          "2021-06-03T00:00:00",
          "2021-06-04T00:00:00",
          "2021-06-05T00:00:00",
          "2021-06-06T00:00:00",
          "2021-06-07T00:00:00",
          "2021-06-08T00:00:00",
          "2021-06-09T00:00:00",
          "2021-06-10T00:00:00",
          "2021-06-11T00:00:00",
          "2021-06-12T00:00:00",
          "2021-06-13T00:00:00",
          "2021-06-14T00:00:00",
          "2021-06-15T00:00:00",
          "2021-06-16T00:00:00",
          "2021-06-17T00:00:00",
          "2021-06-18T00:00:00",
          "2021-06-19T00:00:00",
          "2021-06-20T00:00:00",
          "2021-06-21T00:00:00",
          "2021-06-22T00:00:00",
          "2021-06-23T00:00:00",
          "2021-06-24T00:00:00",
          "2021-06-25T00:00:00",
          "2021-06-26T00:00:00",
          "2021-06-27T00:00:00",
          "2021-06-28T00:00:00",
          "2021-06-29T00:00:00",
          "2021-06-30T00:00:00",
          "2021-07-01T00:00:00",
          "2021-07-02T00:00:00",
          "2021-07-03T00:00:00",
          "2021-07-04T00:00:00",
          "2021-07-05T00:00:00",
          "2021-07-06T00:00:00",
          "2021-07-07T00:00:00",
          "2021-07-08T00:00:00",
          "2021-07-09T00:00:00",
          "2021-07-10T00:00:00",
          "2021-07-11T00:00:00",
          "2021-07-12T00:00:00",
          "2021-07-13T00:00:00",
          "2021-07-14T00:00:00",
          "2021-07-15T00:00:00",
          "2021-07-16T00:00:00",
          "2021-07-17T00:00:00",
          "2021-07-18T00:00:00",
          "2021-07-19T00:00:00",
          "2021-07-20T00:00:00",
          "2021-07-21T00:00:00",
          "2021-07-22T00:00:00",
          "2021-07-23T00:00:00",
          "2021-07-24T00:00:00",
          "2021-07-25T00:00:00",
          "2021-07-26T00:00:00",
          "2021-07-27T00:00:00",
          "2021-07-28T00:00:00",
          "2021-07-29T00:00:00",
          "2021-07-30T00:00:00",
          "2021-07-31T00:00:00",
          "2021-08-01T00:00:00",
          "2021-08-02T00:00:00",
          "2021-08-03T00:00:00",
          "2021-08-04T00:00:00",
          "2021-08-05T00:00:00",
          "2021-08-06T00:00:00",
          "2021-08-07T00:00:00",
          "2021-08-08T00:00:00",
          "2021-08-09T00:00:00",
          "2021-08-10T00:00:00",
          "2021-08-11T00:00:00",
          "2021-08-12T00:00:00",
          "2021-08-13T00:00:00",
          "2021-08-14T00:00:00",
          "2021-08-15T00:00:00",
          "2021-08-16T00:00:00",
          "2021-08-17T00:00:00",
          "2021-08-18T00:00:00",
          "2021-08-19T00:00:00",
          "2021-08-20T00:00:00",
          "2021-08-21T00:00:00",
          "2021-08-22T00:00:00",
          "2021-08-23T00:00:00",
          "2021-08-24T00:00:00",
          "2021-08-25T00:00:00",
          "2021-08-26T00:00:00",
          "2021-08-27T00:00:00",
          "2021-08-28T00:00:00",
          "2021-08-29T00:00:00",
          "2021-08-30T00:00:00",
          "2021-08-31T00:00:00",
          "2021-09-01T00:00:00",
          "2021-09-02T00:00:00",
          "2021-09-03T00:00:00",
          "2021-09-04T00:00:00",
          "2021-09-05T00:00:00",
          "2021-09-06T00:00:00",
          "2021-09-07T00:00:00",
          "2021-09-08T00:00:00",
          "2021-09-09T00:00:00",
          "2021-09-10T00:00:00",
          "2021-09-11T00:00:00",
          "2021-09-12T00:00:00",
          "2021-09-13T00:00:00",
          "2021-09-14T00:00:00",
          "2021-09-15T00:00:00",
          "2021-09-16T00:00:00",
          "2021-09-17T00:00:00",
          "2021-09-18T00:00:00",
          "2021-09-19T00:00:00",
          "2021-09-20T00:00:00",
          "2021-09-21T00:00:00",
          "2021-09-22T00:00:00",
          "2021-09-23T00:00:00",
          "2021-09-24T00:00:00",
          "2021-09-25T00:00:00",
          "2021-09-26T00:00:00",
          "2021-09-27T00:00:00",
          "2021-09-28T00:00:00",
          "2021-09-29T00:00:00",
          "2021-09-30T00:00:00",
          "2021-10-01T00:00:00",
          "2021-10-02T00:00:00",
          "2021-10-03T00:00:00",
          "2021-10-04T00:00:00",
          "2021-10-05T00:00:00",
          "2021-10-06T00:00:00",
          "2021-10-07T00:00:00",
          "2021-10-08T00:00:00",
          "2021-10-09T00:00:00",
          "2021-10-10T00:00:00",
          "2021-10-11T00:00:00",
          "2021-10-12T00:00:00",
          "2021-10-13T00:00:00",
          "2021-10-14T00:00:00",
          "2021-10-15T00:00:00",
          "2021-10-16T00:00:00",
          "2021-10-17T00:00:00",
          "2021-10-18T00:00:00",
          "2021-10-19T00:00:00",
          "2021-10-20T00:00:00",
          "2021-10-21T00:00:00",
          "2021-10-22T00:00:00",
          "2021-10-23T00:00:00",
          "2021-10-24T00:00:00",
          "2021-10-25T00:00:00",
          "2021-10-26T00:00:00",
          "2021-10-27T00:00:00",
          "2021-10-28T00:00:00",
          "2021-10-29T00:00:00",
          "2021-10-30T00:00:00",
          "2021-10-31T00:00:00",
          "2021-11-01T00:00:00",
          "2021-11-02T00:00:00",
          "2021-11-03T00:00:00",
          "2021-11-04T00:00:00",
          "2021-11-05T00:00:00",
          "2021-11-06T00:00:00",
          "2021-11-07T00:00:00",
          "2021-11-08T00:00:00",
          "2021-11-09T00:00:00",
          "2021-11-10T00:00:00",
          "2021-11-11T00:00:00",
          "2021-11-12T00:00:00",
          "2021-11-13T00:00:00",
          "2021-11-14T00:00:00",
          "2021-11-15T00:00:00",
          "2021-11-16T00:00:00",
          "2021-11-17T00:00:00",
          "2021-11-18T00:00:00",
          "2021-11-19T00:00:00",
          "2021-11-20T00:00:00",
          "2021-11-21T00:00:00",
          "2021-11-22T00:00:00",
          "2021-11-23T00:00:00",
          "2021-11-24T00:00:00",
          "2021-11-25T00:00:00",
          "2021-11-26T00:00:00",
          "2021-11-27T00:00:00",
          "2021-11-28T00:00:00",
          "2021-11-29T00:00:00",
          "2021-11-30T00:00:00",
          "2021-12-01T00:00:00",
          "2021-12-02T00:00:00",
          "2021-12-03T00:00:00",
          "2021-12-04T00:00:00",
          "2021-12-05T00:00:00",
          "2021-12-06T00:00:00",
          "2021-12-07T00:00:00",
          "2021-12-08T00:00:00",
          "2021-12-09T00:00:00",
          "2021-12-10T00:00:00",
          "2021-12-11T00:00:00",
          "2021-12-12T00:00:00",
          "2021-12-13T00:00:00",
          "2021-12-14T00:00:00",
          "2021-12-15T00:00:00",
          "2021-12-16T00:00:00",
          "2021-12-17T00:00:00",
          "2021-12-18T00:00:00",
          "2021-12-19T00:00:00",
          "2021-12-20T00:00:00",
          "2021-12-21T00:00:00",
          "2021-12-22T00:00:00",
          "2021-12-23T00:00:00",
          "2021-12-24T00:00:00",
          "2021-12-25T00:00:00",
          "2021-12-26T00:00:00",
          "2021-12-27T00:00:00",
          "2021-12-28T00:00:00",
          "2021-12-29T00:00:00",
          "2021-12-30T00:00:00",
          "2021-12-31T00:00:00",
          "2022-01-01T00:00:00",
          "2022-01-02T00:00:00",
          "2022-01-03T00:00:00",
          "2022-01-04T00:00:00",
          "2022-01-05T00:00:00",
          "2022-01-06T00:00:00",
          "2022-01-07T00:00:00",
          "2022-01-08T00:00:00",
          "2022-01-09T00:00:00",
          "2022-01-10T00:00:00",
          "2022-01-11T00:00:00",
          "2022-01-12T00:00:00",
          "2022-01-13T00:00:00",
          "2022-01-14T00:00:00",
          "2022-01-15T00:00:00",
          "2022-01-16T00:00:00",
          "2022-01-17T00:00:00",
          "2022-01-18T00:00:00",
          "2022-01-19T00:00:00",
          "2022-01-20T00:00:00",
          "2022-01-21T00:00:00",
          "2022-01-22T00:00:00",
          "2022-01-23T00:00:00",
          "2022-01-24T00:00:00",
          "2022-01-25T00:00:00",
          "2022-01-26T00:00:00",
          "2022-01-27T00:00:00",
          "2022-01-28T00:00:00",
          "2022-01-29T00:00:00",
          "2022-01-30T00:00:00",
          "2022-01-31T00:00:00",
          "2022-02-01T00:00:00",
          "2022-02-02T00:00:00",
          "2022-02-03T00:00:00",
          "2022-02-04T00:00:00",
          "2022-02-05T00:00:00",
          "2022-02-06T00:00:00",
          "2022-02-07T00:00:00",
          "2022-02-08T00:00:00",
          "2022-02-09T00:00:00",
          "2022-02-10T00:00:00",
          "2022-02-11T00:00:00",
          "2022-02-12T00:00:00",
          "2022-02-13T00:00:00",
          "2022-02-14T00:00:00",
          "2022-02-15T00:00:00",
          "2022-02-16T00:00:00",
          "2022-02-17T00:00:00",
          "2022-02-18T00:00:00",
          "2022-02-19T00:00:00",
          "2022-02-20T00:00:00",
          "2022-02-21T00:00:00",
          "2022-02-22T00:00:00",
          "2022-02-23T00:00:00",
          "2022-02-24T00:00:00",
          "2022-02-25T00:00:00",
          "2022-02-26T00:00:00",
          "2022-02-27T00:00:00",
          "2022-02-28T00:00:00",
          "2022-03-01T00:00:00",
          "2022-03-02T00:00:00",
          "2022-03-03T00:00:00",
          "2022-03-04T00:00:00",
          "2022-03-05T00:00:00",
          "2022-03-06T00:00:00",
          "2022-03-07T00:00:00",
          "2022-03-08T00:00:00",
          "2022-03-09T00:00:00",
          "2022-03-10T00:00:00",
          "2022-03-11T00:00:00",
          "2022-03-12T00:00:00",
          "2022-03-13T00:00:00",
          "2022-03-14T00:00:00",
          "2022-03-15T00:00:00",
          "2022-03-16T00:00:00",
          "2022-03-17T00:00:00",
          "2022-03-18T00:00:00",
          "2022-03-19T00:00:00",
          "2022-03-20T00:00:00",
          "2022-03-21T00:00:00",
          "2022-03-22T00:00:00",
          "2022-03-23T00:00:00",
          "2022-03-24T00:00:00",
          "2022-03-25T00:00:00",
          "2022-03-26T00:00:00",
          "2022-03-27T00:00:00",
          "2022-03-28T00:00:00",
          "2022-03-29T00:00:00",
          "2022-03-30T00:00:00",
          "2022-03-31T00:00:00",
          "2022-04-01T00:00:00",
          "2022-04-02T00:00:00",
          "2022-04-03T00:00:00",
          "2022-04-04T00:00:00",
          "2022-04-05T00:00:00",
          "2022-04-06T00:00:00",
          "2022-04-07T00:00:00",
          "2022-04-08T00:00:00",
          "2022-04-09T00:00:00",
          "2022-04-10T00:00:00",
          "2022-04-11T00:00:00",
          "2022-04-12T00:00:00",
          "2022-04-13T00:00:00",
          "2022-04-14T00:00:00",
          "2022-04-15T00:00:00",
          "2022-04-16T00:00:00",
          "2022-04-17T00:00:00",
          "2022-04-18T00:00:00",
          "2022-04-19T00:00:00",
          "2022-04-20T00:00:00",
          "2022-04-21T00:00:00",
          "2022-04-22T00:00:00",
          "2022-04-23T00:00:00",
          "2022-04-24T00:00:00",
          "2022-04-25T00:00:00",
          "2022-04-26T00:00:00",
          "2022-04-27T00:00:00",
          "2022-04-28T00:00:00",
          "2022-04-29T00:00:00",
          "2022-04-30T00:00:00",
          "2022-05-01T00:00:00",
          "2022-05-02T00:00:00",
          "2022-05-03T00:00:00",
          "2022-05-04T00:00:00",
          "2022-05-05T00:00:00",
          "2022-05-06T00:00:00",
          "2022-05-07T00:00:00",
          "2022-05-08T00:00:00",
          "2022-05-09T00:00:00",
          "2022-05-10T00:00:00",
          "2022-05-11T00:00:00",
          "2022-05-12T00:00:00",
          "2022-05-13T00:00:00",
          "2022-05-14T00:00:00",
          "2022-05-15T00:00:00",
          "2022-05-16T00:00:00",
          "2022-05-17T00:00:00",
          "2022-05-18T00:00:00",
          "2022-05-19T00:00:00",
          "2022-05-20T00:00:00",
          "2022-05-21T00:00:00",
          "2022-05-22T00:00:00",
          "2022-05-23T00:00:00",
          "2022-05-24T00:00:00",
          "2022-05-25T00:00:00",
          "2022-05-26T00:00:00",
          "2022-05-27T00:00:00",
          "2022-05-28T00:00:00",
          "2022-05-29T00:00:00",
          "2022-05-30T00:00:00",
          "2022-05-31T00:00:00",
          "2022-06-01T00:00:00",
          "2022-06-02T00:00:00",
          "2022-06-03T00:00:00",
          "2022-06-04T00:00:00",
          "2022-06-05T00:00:00",
          "2022-06-06T00:00:00",
          "2022-06-07T00:00:00",
          "2022-06-08T00:00:00",
          "2022-06-09T00:00:00",
          "2022-06-10T00:00:00",
          "2022-06-11T00:00:00",
          "2022-06-12T00:00:00",
          "2022-06-13T00:00:00",
          "2022-06-14T00:00:00",
          "2022-06-15T00:00:00",
          "2022-06-16T00:00:00"
         ],
         "xaxis": "x",
         "y": [
          0,
          0,
          0,
          0,
          0,
          0,
          0,
          0,
          0,
          0,
          0,
          0,
          0,
          0,
          0,
          0,
          0,
          12,
          13,
          13,
          17,
          21,
          22,
          23,
          27,
          29,
          31,
          43,
          48,
          49,
          49,
          51,
          54,
          56,
          58,
          64,
          68,
          69,
          75,
          82,
          82,
          142,
          142,
          142,
          163,
          164,
          202,
          203,
          206,
          207,
          237,
          286,
          291,
          292,
          327,
          334,
          338,
          338,
          341,
          412,
          412,
          427,
          562,
          622,
          650,
          711,
          713,
          718,
          763,
          767,
          803,
          836,
          1262,
          1277,
          1279,
          1286,
          1292,
          1295,
          1301,
          1417,
          1425,
          1536,
          1558,
          1587,
          1594,
          1648,
          1678,
          1698,
          1719,
          1807,
          2003,
          2102,
          2246,
          2405,
          2534,
          2607,
          2751,
          2840,
          3170,
          3205,
          3369,
          3517,
          3664,
          3780,
          3840,
          4091,
          4198,
          4329,
          4444,
          4592,
          4682,
          4821,
          5054,
          5128,
          5228,
          5322,
          5435,
          5542,
          5610,
          5865,
          6118,
          6512,
          6680,
          6871,
          7109,
          7377,
          7663,
          8033,
          8277,
          8429,
          8647,
          8825,
          9040,
          9200,
          9408,
          9528,
          9721,
          9857,
          9994,
          10117,
          10444,
          10602,
          10864,
          11187,
          11302,
          11585,
          11715,
          11889,
          11996,
          12373,
          12613,
          12801,
          13208,
          13887,
          14027,
          14165,
          14381,
          14760,
          15006,
          15201,
          15710,
          16268,
          16446,
          16927,
          17349,
          17838,
          18528,
          18974,
          19708,
          19916,
          20505,
          21069,
          21795,
          22228,
          22877,
          23567,
          25463,
          25986,
          26750,
          28288,
          29169,
          29768,
          30134,
          30538,
          31267,
          31741,
          32424,
          33260,
          33991,
          34738,
          35431,
          36451,
          37245,
          38226,
          39115,
          40183,
          41014,
          42325,
          43306,
          44251,
          45207,
          46235,
          47260,
          49209,
          49630,
          50473,
          51578,
          52742,
          54352,
          55350,
          56413,
          57741,
          58865,
          60320,
          61444,
          62279,
          63286,
          64319,
          65295,
          66315,
          67310,
          68352,
          69203,
          70487,
          71549,
          72633,
          73733,
          74924,
          75974,
          76956,
          78062,
          79136,
          80261,
          81107,
          82178,
          83338,
          84430,
          85586,
          86815,
          87977,
          89060,
          90157,
          91235,
          92312,
          94434,
          94819,
          95876,
          96902,
          97833,
          98806,
          99830,
          100816,
          101791,
          102844,
          104144,
          105117,
          106189,
          107147,
          108209,
          109181,
          110221,
          111096,
          111948,
          112833,
          113739,
          114863,
          115939,
          117003,
          118062,
          119099,
          120287,
          121082,
          122328,
          123163,
          124078,
          125102,
          126163,
          127136,
          128051,
          129067,
          130136,
          131071,
          132248,
          133318,
          134366,
          135545,
          136489,
          137605,
          138988,
          140225,
          141365,
          142741,
          143959,
          145066,
          146958,
          148308,
          149691,
          151122,
          152491,
          154242,
          156798,
          158615,
          159878,
          161337,
          162911,
          164881,
          166512,
          168781,
          170510,
          173036,
          174131,
          175441,
          176882,
          179562,
          181613,
          184576,
          187086,
          188675,
          191635,
          193719,
          195924,
          198136,
          201907,
          204711,
          209238,
          210983,
          213570,
          215719,
          219287,
          221567,
          224071,
          227010,
          229981,
          232701,
          235140,
          238395,
          242069,
          244202,
          248515,
          249810,
          254155,
          256702,
          261027,
          265369,
          268785,
          271573,
          274817,
          278822,
          284579,
          289189,
          293538,
          295623,
          297695,
          299795,
          302451,
          304995,
          307759,
          310412,
          312748,
          314563,
          317003,
          319326,
          321038,
          322285,
          323892,
          326509,
          328526,
          331016,
          332758,
          334100,
          335617,
          337426,
          338931,
          340587,
          341398,
          342306,
          343351,
          345202,
          347210,
          349002,
          350561,
          351680,
          352827,
          354036,
          355221,
          357100,
          358826,
          360479,
          362248,
          362975,
          363599,
          364251,
          365592,
          366615,
          367819,
          369007,
          369929,
          371254,
          372494,
          373565,
          374542,
          375080,
          375651,
          376270,
          376959,
          377797,
          379210,
          380560,
          381449,
          382091,
          382617,
          383655,
          384652,
          385615,
          386606,
          387507,
          388083,
          388735,
          389445,
          390334,
          391301,
          392595,
          393205,
          393814,
          394403,
          394939,
          395644,
          396594,
          397349,
          397955,
          398610,
          399224,
          399821,
          400403,
          401114,
          401744,
          402374,
          403039,
          403630,
          404187,
          404715,
          404980,
          405229,
          405357,
          405535,
          405714,
          405918,
          406300,
          406669,
          406987,
          407493,
          408019,
          408585,
          409497,
          410508,
          411495,
          412074,
          412593,
          413179,
          413680,
          414496,
          415317,
          416181,
          416994,
          417997,
          419109,
          420211,
          421396,
          422121,
          423056,
          424088,
          425417,
          426695,
          428764,
          431264,
          433499,
          435982,
          439007,
          442059,
          443195,
          445718,
          448288,
          451013,
          454497,
          457935,
          461439,
          464943,
          468461,
          473467,
          479150,
          484949,
          491556,
          497492,
          501199,
          512085,
          526941,
          543867,
          564437,
          584912,
          589486,
          592556,
          595582,
          604033,
          615640,
          627481,
          640171,
          652242,
          662800,
          673424,
          687864,
          702477,
          716838,
          731504,
          746087,
          757122,
          768562,
          779720,
          784668,
          789261,
          791422,
          793928,
          796381,
          799151,
          802373,
          806924,
          808087,
          809087,
          810308,
          811642,
          813898,
          815468,
          816687,
          817764,
          818700,
          819620,
          820517,
          821451,
          822399,
          823314,
          824227,
          824958,
          825573,
          826302,
          827333,
          827674,
          828125,
          828838,
          829668,
          830197,
          831293,
          832130,
          832952,
          833437,
          833765,
          834489,
          835030,
          835700,
          836187,
          836644,
          837033,
          837364,
          837805,
          838306,
          838680,
          839022,
          839379,
          839623,
          839803,
          840212,
          840525,
          840812,
          841065,
          841393,
          841592,
          841719,
          841980,
          842141,
          842336,
          842541,
          842715,
          842842,
          842929,
          843091,
          843239,
          843414,
          843529,
          843738,
          843822,
          843891,
          844189,
          844538,
          844742,
          844839,
          844901,
          845121,
          845248,
          845386,
          845508,
          845650,
          845763,
          845884,
          846056,
          846185,
          846352,
          846525,
          846667,
          846749,
          846799,
          846942,
          847021,
          847066,
          847201,
          847353,
          847403,
          847438,
          847685,
          847808,
          847885,
          848034,
          848093,
          848137,
          848311,
          848419,
          848527,
          848604,
          848710,
          848871,
          849007,
          849111,
          849265,
          849386,
          849448,
          849491,
          849596,
          849638,
          849693,
          849779,
          849831,
          849902,
          849929,
          849979,
          850046,
          850114,
          850175,
          850228,
          850281,
          850319,
          850364,
          850439,
          850475,
          850517,
          850557,
          850595,
          850621,
          850649,
          850685,
          850719,
          850751,
          850797,
          850817,
          850837,
          850858,
          850910,
          850939,
          850984,
          851008,
          851096,
          851138,
          851167,
          851201,
          851222,
          851280,
          851386,
          851408,
          851449,
          851520,
          851572,
          851648,
          851727,
          851839,
          851944,
          852126,
          852269,
          852563,
          852727,
          853003,
          853522,
          853987,
          854204,
          854589,
          855026,
          855676,
          856137,
          856653,
          857215,
          857688,
          859305,
          861203,
          862670,
          864447,
          866477,
          867519,
          869184,
          873212,
          877579,
          883377,
          891571,
          899957,
          905285,
          910435,
          923652,
          929100,
          945079,
          960624,
          975674,
          975770,
          984861,
          992213,
          1008870,
          1020564,
          1031739,
          1043718,
          1055584,
          1064272,
          1071054,
          1082827,
          1091226,
          1100117,
          1109056,
          1120433,
          1126008,
          1129828,
          1137499,
          1143134,
          1148415,
          1152865,
          1156926,
          1161139,
          1164852,
          1168549,
          1173761,
          1178124,
          1180576,
          1184667,
          1187307,
          1189556,
          1193225,
          1196098,
          1198669,
          1200920,
          1202740,
          1204167,
          1205353,
          1207258,
          1208909,
          1210332,
          1211717,
          1213009,
          1213901,
          1214728,
          1216040,
          1217108,
          1218121,
          1218930,
          1219664,
          1220235,
          1220769,
          1221596,
          1222380,
          1223059,
          1223655,
          1224308,
          1224805,
          1225348,
          1226139,
          1226739,
          1227338,
          1227793,
          1228205,
          1228519,
          1228783,
          1229206,
          1229616,
          1229971,
          1230220,
          1230368,
          1230600,
          1230742,
          1230989,
          1231171,
          1231413,
          1231573,
          1231709,
          1231833,
          1231950,
          1232106,
          1232228,
          1232328,
          1232444,
          1232527,
          1232618,
          1232696,
          1232729,
          1232772,
          1232867,
          1232939,
          1233010,
          1233102,
          1233206,
          1233387,
          1233494,
          1233575,
          1233664,
          1233779,
          1233873,
          1233937,
          1234021,
          1234087,
          1234180,
          1234280,
          1234376,
          1234487,
          1234566,
          1234723,
          1234863,
          1234976,
          1235069,
          1235172,
          1235274,
          1235370,
          1235508,
          1235666,
          1235838,
          1236002,
          1236184,
          1236374,
          1236528,
          1236820
         ],
         "yaxis": "y"
        }
       ],
       "layout": {
        "annotations": [
         {
          "align": "center",
          "arrowhead": 2,
          "arrowsize": 1,
          "arrowwidth": 2,
          "ax": -50,
          "ay": -30,
          "bgcolor": "#F15412",
          "bordercolor": "#333",
          "borderpad": 4,
          "borderwidth": 2,
          "font": {
           "color": "#fff"
          },
          "opacity": 0.8,
          "text": "Terjadi Lonjakan covid",
          "x": "2021-06-20",
          "y": 680000
         },
         {
          "align": "center",
          "arrowhead": 2,
          "arrowsize": 1,
          "arrowwidth": 2,
          "ax": -50,
          "ay": -30,
          "bgcolor": "#F15412",
          "bordercolor": "#333",
          "borderpad": 4,
          "borderwidth": 2,
          "font": {
           "color": "#fff"
          },
          "opacity": 0.8,
          "text": "Terjadi Lonjakan covid",
          "x": "2022-02-01",
          "y": 1100000
         }
        ],
        "legend": {
         "title": {
          "text": "variable"
         },
         "tracegroupgap": 0
        },
        "template": {
         "data": {
          "bar": [
           {
            "error_x": {
             "color": "#2a3f5f"
            },
            "error_y": {
             "color": "#2a3f5f"
            },
            "marker": {
             "line": {
              "color": "#E5ECF6",
              "width": 0.5
             },
             "pattern": {
              "fillmode": "overlay",
              "size": 10,
              "solidity": 0.2
             }
            },
            "type": "bar"
           }
          ],
          "barpolar": [
           {
            "marker": {
             "line": {
              "color": "#E5ECF6",
              "width": 0.5
             },
             "pattern": {
              "fillmode": "overlay",
              "size": 10,
              "solidity": 0.2
             }
            },
            "type": "barpolar"
           }
          ],
          "carpet": [
           {
            "aaxis": {
             "endlinecolor": "#2a3f5f",
             "gridcolor": "white",
             "linecolor": "white",
             "minorgridcolor": "white",
             "startlinecolor": "#2a3f5f"
            },
            "baxis": {
             "endlinecolor": "#2a3f5f",
             "gridcolor": "white",
             "linecolor": "white",
             "minorgridcolor": "white",
             "startlinecolor": "#2a3f5f"
            },
            "type": "carpet"
           }
          ],
          "choropleth": [
           {
            "colorbar": {
             "outlinewidth": 0,
             "ticks": ""
            },
            "type": "choropleth"
           }
          ],
          "contour": [
           {
            "colorbar": {
             "outlinewidth": 0,
             "ticks": ""
            },
            "colorscale": [
             [
              0,
              "#0d0887"
             ],
             [
              0.1111111111111111,
              "#46039f"
             ],
             [
              0.2222222222222222,
              "#7201a8"
             ],
             [
              0.3333333333333333,
              "#9c179e"
             ],
             [
              0.4444444444444444,
              "#bd3786"
             ],
             [
              0.5555555555555556,
              "#d8576b"
             ],
             [
              0.6666666666666666,
              "#ed7953"
             ],
             [
              0.7777777777777778,
              "#fb9f3a"
             ],
             [
              0.8888888888888888,
              "#fdca26"
             ],
             [
              1,
              "#f0f921"
             ]
            ],
            "type": "contour"
           }
          ],
          "contourcarpet": [
           {
            "colorbar": {
             "outlinewidth": 0,
             "ticks": ""
            },
            "type": "contourcarpet"
           }
          ],
          "heatmap": [
           {
            "colorbar": {
             "outlinewidth": 0,
             "ticks": ""
            },
            "colorscale": [
             [
              0,
              "#0d0887"
             ],
             [
              0.1111111111111111,
              "#46039f"
             ],
             [
              0.2222222222222222,
              "#7201a8"
             ],
             [
              0.3333333333333333,
              "#9c179e"
             ],
             [
              0.4444444444444444,
              "#bd3786"
             ],
             [
              0.5555555555555556,
              "#d8576b"
             ],
             [
              0.6666666666666666,
              "#ed7953"
             ],
             [
              0.7777777777777778,
              "#fb9f3a"
             ],
             [
              0.8888888888888888,
              "#fdca26"
             ],
             [
              1,
              "#f0f921"
             ]
            ],
            "type": "heatmap"
           }
          ],
          "heatmapgl": [
           {
            "colorbar": {
             "outlinewidth": 0,
             "ticks": ""
            },
            "colorscale": [
             [
              0,
              "#0d0887"
             ],
             [
              0.1111111111111111,
              "#46039f"
             ],
             [
              0.2222222222222222,
              "#7201a8"
             ],
             [
              0.3333333333333333,
              "#9c179e"
             ],
             [
              0.4444444444444444,
              "#bd3786"
             ],
             [
              0.5555555555555556,
              "#d8576b"
             ],
             [
              0.6666666666666666,
              "#ed7953"
             ],
             [
              0.7777777777777778,
              "#fb9f3a"
             ],
             [
              0.8888888888888888,
              "#fdca26"
             ],
             [
              1,
              "#f0f921"
             ]
            ],
            "type": "heatmapgl"
           }
          ],
          "histogram": [
           {
            "marker": {
             "pattern": {
              "fillmode": "overlay",
              "size": 10,
              "solidity": 0.2
             }
            },
            "type": "histogram"
           }
          ],
          "histogram2d": [
           {
            "colorbar": {
             "outlinewidth": 0,
             "ticks": ""
            },
            "colorscale": [
             [
              0,
              "#0d0887"
             ],
             [
              0.1111111111111111,
              "#46039f"
             ],
             [
              0.2222222222222222,
              "#7201a8"
             ],
             [
              0.3333333333333333,
              "#9c179e"
             ],
             [
              0.4444444444444444,
              "#bd3786"
             ],
             [
              0.5555555555555556,
              "#d8576b"
             ],
             [
              0.6666666666666666,
              "#ed7953"
             ],
             [
              0.7777777777777778,
              "#fb9f3a"
             ],
             [
              0.8888888888888888,
              "#fdca26"
             ],
             [
              1,
              "#f0f921"
             ]
            ],
            "type": "histogram2d"
           }
          ],
          "histogram2dcontour": [
           {
            "colorbar": {
             "outlinewidth": 0,
             "ticks": ""
            },
            "colorscale": [
             [
              0,
              "#0d0887"
             ],
             [
              0.1111111111111111,
              "#46039f"
             ],
             [
              0.2222222222222222,
              "#7201a8"
             ],
             [
              0.3333333333333333,
              "#9c179e"
             ],
             [
              0.4444444444444444,
              "#bd3786"
             ],
             [
              0.5555555555555556,
              "#d8576b"
             ],
             [
              0.6666666666666666,
              "#ed7953"
             ],
             [
              0.7777777777777778,
              "#fb9f3a"
             ],
             [
              0.8888888888888888,
              "#fdca26"
             ],
             [
              1,
              "#f0f921"
             ]
            ],
            "type": "histogram2dcontour"
           }
          ],
          "mesh3d": [
           {
            "colorbar": {
             "outlinewidth": 0,
             "ticks": ""
            },
            "type": "mesh3d"
           }
          ],
          "parcoords": [
           {
            "line": {
             "colorbar": {
              "outlinewidth": 0,
              "ticks": ""
             }
            },
            "type": "parcoords"
           }
          ],
          "pie": [
           {
            "automargin": true,
            "type": "pie"
           }
          ],
          "scatter": [
           {
            "marker": {
             "colorbar": {
              "outlinewidth": 0,
              "ticks": ""
             }
            },
            "type": "scatter"
           }
          ],
          "scatter3d": [
           {
            "line": {
             "colorbar": {
              "outlinewidth": 0,
              "ticks": ""
             }
            },
            "marker": {
             "colorbar": {
              "outlinewidth": 0,
              "ticks": ""
             }
            },
            "type": "scatter3d"
           }
          ],
          "scattercarpet": [
           {
            "marker": {
             "colorbar": {
              "outlinewidth": 0,
              "ticks": ""
             }
            },
            "type": "scattercarpet"
           }
          ],
          "scattergeo": [
           {
            "marker": {
             "colorbar": {
              "outlinewidth": 0,
              "ticks": ""
             }
            },
            "type": "scattergeo"
           }
          ],
          "scattergl": [
           {
            "marker": {
             "colorbar": {
              "outlinewidth": 0,
              "ticks": ""
             }
            },
            "type": "scattergl"
           }
          ],
          "scattermapbox": [
           {
            "marker": {
             "colorbar": {
              "outlinewidth": 0,
              "ticks": ""
             }
            },
            "type": "scattermapbox"
           }
          ],
          "scatterpolar": [
           {
            "marker": {
             "colorbar": {
              "outlinewidth": 0,
              "ticks": ""
             }
            },
            "type": "scatterpolar"
           }
          ],
          "scatterpolargl": [
           {
            "marker": {
             "colorbar": {
              "outlinewidth": 0,
              "ticks": ""
             }
            },
            "type": "scatterpolargl"
           }
          ],
          "scatterternary": [
           {
            "marker": {
             "colorbar": {
              "outlinewidth": 0,
              "ticks": ""
             }
            },
            "type": "scatterternary"
           }
          ],
          "surface": [
           {
            "colorbar": {
             "outlinewidth": 0,
             "ticks": ""
            },
            "colorscale": [
             [
              0,
              "#0d0887"
             ],
             [
              0.1111111111111111,
              "#46039f"
             ],
             [
              0.2222222222222222,
              "#7201a8"
             ],
             [
              0.3333333333333333,
              "#9c179e"
             ],
             [
              0.4444444444444444,
              "#bd3786"
             ],
             [
              0.5555555555555556,
              "#d8576b"
             ],
             [
              0.6666666666666666,
              "#ed7953"
             ],
             [
              0.7777777777777778,
              "#fb9f3a"
             ],
             [
              0.8888888888888888,
              "#fdca26"
             ],
             [
              1,
              "#f0f921"
             ]
            ],
            "type": "surface"
           }
          ],
          "table": [
           {
            "cells": {
             "fill": {
              "color": "#EBF0F8"
             },
             "line": {
              "color": "white"
             }
            },
            "header": {
             "fill": {
              "color": "#C8D4E3"
             },
             "line": {
              "color": "white"
             }
            },
            "type": "table"
           }
          ]
         },
         "layout": {
          "annotationdefaults": {
           "arrowcolor": "#2a3f5f",
           "arrowhead": 0,
           "arrowwidth": 1
          },
          "autotypenumbers": "strict",
          "coloraxis": {
           "colorbar": {
            "outlinewidth": 0,
            "ticks": ""
           }
          },
          "colorscale": {
           "diverging": [
            [
             0,
             "#8e0152"
            ],
            [
             0.1,
             "#c51b7d"
            ],
            [
             0.2,
             "#de77ae"
            ],
            [
             0.3,
             "#f1b6da"
            ],
            [
             0.4,
             "#fde0ef"
            ],
            [
             0.5,
             "#f7f7f7"
            ],
            [
             0.6,
             "#e6f5d0"
            ],
            [
             0.7,
             "#b8e186"
            ],
            [
             0.8,
             "#7fbc41"
            ],
            [
             0.9,
             "#4d9221"
            ],
            [
             1,
             "#276419"
            ]
           ],
           "sequential": [
            [
             0,
             "#0d0887"
            ],
            [
             0.1111111111111111,
             "#46039f"
            ],
            [
             0.2222222222222222,
             "#7201a8"
            ],
            [
             0.3333333333333333,
             "#9c179e"
            ],
            [
             0.4444444444444444,
             "#bd3786"
            ],
            [
             0.5555555555555556,
             "#d8576b"
            ],
            [
             0.6666666666666666,
             "#ed7953"
            ],
            [
             0.7777777777777778,
             "#fb9f3a"
            ],
            [
             0.8888888888888888,
             "#fdca26"
            ],
            [
             1,
             "#f0f921"
            ]
           ],
           "sequentialminus": [
            [
             0,
             "#0d0887"
            ],
            [
             0.1111111111111111,
             "#46039f"
            ],
            [
             0.2222222222222222,
             "#7201a8"
            ],
            [
             0.3333333333333333,
             "#9c179e"
            ],
            [
             0.4444444444444444,
             "#bd3786"
            ],
            [
             0.5555555555555556,
             "#d8576b"
            ],
            [
             0.6666666666666666,
             "#ed7953"
            ],
            [
             0.7777777777777778,
             "#fb9f3a"
            ],
            [
             0.8888888888888888,
             "#fdca26"
            ],
            [
             1,
             "#f0f921"
            ]
           ]
          },
          "colorway": [
           "#636efa",
           "#EF553B",
           "#00cc96",
           "#ab63fa",
           "#FFA15A",
           "#19d3f3",
           "#FF6692",
           "#B6E880",
           "#FF97FF",
           "#FECB52"
          ],
          "font": {
           "color": "#2a3f5f"
          },
          "geo": {
           "bgcolor": "white",
           "lakecolor": "white",
           "landcolor": "#E5ECF6",
           "showlakes": true,
           "showland": true,
           "subunitcolor": "white"
          },
          "hoverlabel": {
           "align": "left"
          },
          "hovermode": "closest",
          "mapbox": {
           "style": "light"
          },
          "paper_bgcolor": "white",
          "plot_bgcolor": "#E5ECF6",
          "polar": {
           "angularaxis": {
            "gridcolor": "white",
            "linecolor": "white",
            "ticks": ""
           },
           "bgcolor": "#E5ECF6",
           "radialaxis": {
            "gridcolor": "white",
            "linecolor": "white",
            "ticks": ""
           }
          },
          "scene": {
           "xaxis": {
            "backgroundcolor": "#E5ECF6",
            "gridcolor": "white",
            "gridwidth": 2,
            "linecolor": "white",
            "showbackground": true,
            "ticks": "",
            "zerolinecolor": "white"
           },
           "yaxis": {
            "backgroundcolor": "#E5ECF6",
            "gridcolor": "white",
            "gridwidth": 2,
            "linecolor": "white",
            "showbackground": true,
            "ticks": "",
            "zerolinecolor": "white"
           },
           "zaxis": {
            "backgroundcolor": "#E5ECF6",
            "gridcolor": "white",
            "gridwidth": 2,
            "linecolor": "white",
            "showbackground": true,
            "ticks": "",
            "zerolinecolor": "white"
           }
          },
          "shapedefaults": {
           "line": {
            "color": "#2a3f5f"
           }
          },
          "ternary": {
           "aaxis": {
            "gridcolor": "white",
            "linecolor": "white",
            "ticks": ""
           },
           "baxis": {
            "gridcolor": "white",
            "linecolor": "white",
            "ticks": ""
           },
           "bgcolor": "#E5ECF6",
           "caxis": {
            "gridcolor": "white",
            "linecolor": "white",
            "ticks": ""
           }
          },
          "title": {
           "x": 0.05
          },
          "xaxis": {
           "automargin": true,
           "gridcolor": "white",
           "linecolor": "white",
           "ticks": "",
           "title": {
            "standoff": 15
           },
           "zerolinecolor": "white",
           "zerolinewidth": 2
          },
          "yaxis": {
           "automargin": true,
           "gridcolor": "white",
           "linecolor": "white",
           "ticks": "",
           "title": {
            "standoff": 15
           },
           "zerolinecolor": "white",
           "zerolinewidth": 2
          }
         }
        },
        "title": {
         "text": "Total Pasien Covid, Pasien Meninggal, dan Pasien Sembuh pada Maret 2020 hinga Juni 2022"
        },
        "xaxis": {
         "anchor": "y",
         "domain": [
          0,
          1
         ],
         "title": {
          "text": "Tanggal"
         }
        },
        "yaxis": {
         "anchor": "x",
         "domain": [
          0,
          1
         ],
         "title": {
          "text": "value"
         }
        }
       }
      }
     },
     "metadata": {},
     "output_type": "display_data"
    }
   ],
   "source": [
    "fig = px.line(x='Tanggal', y=['Total Pasien','Meninggal','Sembuh'], data_frame=df_DU_Jakarta,title='Total Pasien Covid, Pasien Meninggal, dan Pasien Sembuh pada Maret 2020 hinga Juni 2022')\n",
    "fig.add_annotation(x='2021-06-20', y=680000,\n",
    "            text=\"Terjadi Lonjakan covid\",\n",
    "            align=\"center\",\n",
    "            arrowhead=2,\n",
    "            arrowsize=1,\n",
    "            arrowwidth=2,\n",
    "            # yshift=40,\n",
    "            # xshift=10,\n",
    "            ax=-50,\n",
    "            ay=-30,\n",
    "            bordercolor=\"#333\",\n",
    "            borderwidth=2,\n",
    "            borderpad=4,\n",
    "            bgcolor=\"#F15412\",\n",
    "            opacity=0.8,\n",
    "            font_color=\"#fff\")\n",
    "\n",
    "fig.add_annotation(x='2022-02-01', y=1100000,\n",
    "            text=\"Terjadi Lonjakan covid\",\n",
    "            align=\"center\",\n",
    "            arrowhead=2,\n",
    "            arrowsize=1,\n",
    "            arrowwidth=2,\n",
    "            # yshift=40,\n",
    "            # xshift=10,\n",
    "            ax=-50,\n",
    "            ay=-30,\n",
    "            bordercolor=\"#333\",\n",
    "            borderwidth=2,\n",
    "            borderpad=4,\n",
    "            bgcolor=\"#F15412\",\n",
    "            opacity=0.8,\n",
    "            font_color=\"#fff\")\n",
    "fig.show()"
   ]
  },
  {
   "cell_type": "markdown",
   "metadata": {},
   "source": [
    "Interpretasi\n",
    "\n",
    "Pada diagram garis diatas menampilkan berkembangan jumlah pasien yang terkena covid, pasien yang meninggal, dan pasien yang sembuh dari tahun 2020 bulan maret hingga tahun 2022 bulan Juni.\n",
    "Lalu dapat dilihat bahwa terjadi 2 kenaikan yang signifikan. Kenaikan pertama pada tahun 2021 bulan Juni akhir hingga bulan juli akhir  dan kenaikan kedua pada awal febuari 2022 hingga akhir febuari.\n",
    "\n",
    "Asumsi kami pada kenaikan pertama hal tersebut dikarenakan pada pada tanggal 20 Juli 2021 terdapat idul adha sehingga terjadi arus mudik dan arus balik. Lalu terdapat varian baru seperti Alpha, Beta, dan Delta. Hal ini juga didukung oleh berita [suara.com](https://www.suara.com/news/2021/06/27/003810/covid-19-di-indonesia-menggila-ini-data-lonjakan-kasus-sepanjang-bulan-juni). Kemudian untuk kenaikan kedua pada awal febuari terjadi karena gelombang kedua covid untuk varian omicron berdasarkan berita [nasional.kontan.co.id](https://nasional.kontan.co.id/news/kasus-covid-19-24-februari-2022-tambah-57426-tapi-ada-kabar-baik)"
   ]
  },
  {
   "cell_type": "code",
   "execution_count": 201,
   "metadata": {},
   "outputs": [
    {
     "data": {
      "application/vnd.plotly.v1+json": {
       "config": {
        "plotlyServerURL": "https://plot.ly"
       },
       "data": [
        {
         "hovertemplate": "variable=Positif Harian<br>Tanggal=%{x}<br>value=%{y}<extra></extra>",
         "legendgroup": "Positif Harian",
         "line": {
          "color": "red",
          "dash": "solid"
         },
         "marker": {
          "symbol": "circle"
         },
         "mode": "lines",
         "name": "Positif Harian",
         "orientation": "v",
         "showlegend": true,
         "type": "scatter",
         "x": [
          "2020-03-01T00:00:00",
          "2020-03-02T00:00:00",
          "2020-03-03T00:00:00",
          "2020-03-04T00:00:00",
          "2020-03-05T00:00:00",
          "2020-03-06T00:00:00",
          "2020-03-07T00:00:00",
          "2020-03-08T00:00:00",
          "2020-03-09T00:00:00",
          "2020-03-10T00:00:00",
          "2020-03-11T00:00:00",
          "2020-03-12T00:00:00",
          "2020-03-13T00:00:00",
          "2020-03-14T00:00:00",
          "2020-03-15T00:00:00",
          "2020-03-16T00:00:00",
          "2020-03-17T00:00:00",
          "2020-03-18T00:00:00",
          "2020-03-19T00:00:00",
          "2020-03-20T00:00:00",
          "2020-03-21T00:00:00",
          "2020-03-22T00:00:00",
          "2020-03-23T00:00:00",
          "2020-03-24T00:00:00",
          "2020-03-25T00:00:00",
          "2020-03-26T00:00:00",
          "2020-03-27T00:00:00",
          "2020-03-28T00:00:00",
          "2020-03-29T00:00:00",
          "2020-03-30T00:00:00",
          "2020-03-31T00:00:00",
          "2020-04-01T00:00:00",
          "2020-04-02T00:00:00",
          "2020-04-03T00:00:00",
          "2020-04-04T00:00:00",
          "2020-04-05T00:00:00",
          "2020-04-06T00:00:00",
          "2020-04-07T00:00:00",
          "2020-04-08T00:00:00",
          "2020-04-09T00:00:00",
          "2020-04-10T00:00:00",
          "2020-04-11T00:00:00",
          "2020-04-12T00:00:00",
          "2020-04-13T00:00:00",
          "2020-04-14T00:00:00",
          "2020-04-15T00:00:00",
          "2020-04-16T00:00:00",
          "2020-04-17T00:00:00",
          "2020-04-18T00:00:00",
          "2020-04-19T00:00:00",
          "2020-04-20T00:00:00",
          "2020-04-21T00:00:00",
          "2020-04-22T00:00:00",
          "2020-04-23T00:00:00",
          "2020-04-24T00:00:00",
          "2020-04-25T00:00:00",
          "2020-04-26T00:00:00",
          "2020-04-27T00:00:00",
          "2020-04-28T00:00:00",
          "2020-04-29T00:00:00",
          "2020-04-30T00:00:00",
          "2020-05-01T00:00:00",
          "2020-05-02T00:00:00",
          "2020-05-03T00:00:00",
          "2020-05-04T00:00:00",
          "2020-05-05T00:00:00",
          "2020-05-06T00:00:00",
          "2020-05-07T00:00:00",
          "2020-05-08T00:00:00",
          "2020-05-09T00:00:00",
          "2020-05-10T00:00:00",
          "2020-05-11T00:00:00",
          "2020-05-12T00:00:00",
          "2020-05-13T00:00:00",
          "2020-05-14T00:00:00",
          "2020-05-15T00:00:00",
          "2020-05-16T00:00:00",
          "2020-05-17T00:00:00",
          "2020-05-18T00:00:00",
          "2020-05-19T00:00:00",
          "2020-05-20T00:00:00",
          "2020-05-21T00:00:00",
          "2020-05-22T00:00:00",
          "2020-05-23T00:00:00",
          "2020-05-24T00:00:00",
          "2020-05-25T00:00:00",
          "2020-05-26T00:00:00",
          "2020-05-27T00:00:00",
          "2020-05-28T00:00:00",
          "2020-05-29T00:00:00",
          "2020-05-30T00:00:00",
          "2020-05-31T00:00:00",
          "2020-06-01T00:00:00",
          "2020-06-02T00:00:00",
          "2020-06-03T00:00:00",
          "2020-06-04T00:00:00",
          "2020-06-05T00:00:00",
          "2020-06-06T00:00:00",
          "2020-06-07T00:00:00",
          "2020-06-08T00:00:00",
          "2020-06-09T00:00:00",
          "2020-06-10T00:00:00",
          "2020-06-11T00:00:00",
          "2020-06-12T00:00:00",
          "2020-06-13T00:00:00",
          "2020-06-14T00:00:00",
          "2020-06-15T00:00:00",
          "2020-06-16T00:00:00",
          "2020-06-17T00:00:00",
          "2020-06-18T00:00:00",
          "2020-06-19T00:00:00",
          "2020-06-20T00:00:00",
          "2020-06-21T00:00:00",
          "2020-06-22T00:00:00",
          "2020-06-23T00:00:00",
          "2020-06-24T00:00:00",
          "2020-06-25T00:00:00",
          "2020-06-26T00:00:00",
          "2020-06-27T00:00:00",
          "2020-06-28T00:00:00",
          "2020-06-29T00:00:00",
          "2020-06-30T00:00:00",
          "2020-07-01T00:00:00",
          "2020-07-02T00:00:00",
          "2020-07-03T00:00:00",
          "2020-07-04T00:00:00",
          "2020-07-05T00:00:00",
          "2020-07-06T00:00:00",
          "2020-07-07T00:00:00",
          "2020-07-08T00:00:00",
          "2020-07-09T00:00:00",
          "2020-07-10T00:00:00",
          "2020-07-11T00:00:00",
          "2020-07-12T00:00:00",
          "2020-07-13T00:00:00",
          "2020-07-14T00:00:00",
          "2020-07-15T00:00:00",
          "2020-07-16T00:00:00",
          "2020-07-17T00:00:00",
          "2020-07-18T00:00:00",
          "2020-07-19T00:00:00",
          "2020-07-20T00:00:00",
          "2020-07-21T00:00:00",
          "2020-07-22T00:00:00",
          "2020-07-23T00:00:00",
          "2020-07-24T00:00:00",
          "2020-07-25T00:00:00",
          "2020-07-26T00:00:00",
          "2020-07-27T00:00:00",
          "2020-07-28T00:00:00",
          "2020-07-29T00:00:00",
          "2020-07-30T00:00:00",
          "2020-07-31T00:00:00",
          "2020-08-01T00:00:00",
          "2020-08-02T00:00:00",
          "2020-08-03T00:00:00",
          "2020-08-04T00:00:00",
          "2020-08-05T00:00:00",
          "2020-08-06T00:00:00",
          "2020-08-07T00:00:00",
          "2020-08-08T00:00:00",
          "2020-08-09T00:00:00",
          "2020-08-10T00:00:00",
          "2020-08-11T00:00:00",
          "2020-08-12T00:00:00",
          "2020-08-13T00:00:00",
          "2020-08-14T00:00:00",
          "2020-08-15T00:00:00",
          "2020-08-16T00:00:00",
          "2020-08-17T00:00:00",
          "2020-08-18T00:00:00",
          "2020-08-19T00:00:00",
          "2020-08-20T00:00:00",
          "2020-08-21T00:00:00",
          "2020-08-22T00:00:00",
          "2020-08-23T00:00:00",
          "2020-08-24T00:00:00",
          "2020-08-25T00:00:00",
          "2020-08-26T00:00:00",
          "2020-08-27T00:00:00",
          "2020-08-28T00:00:00",
          "2020-08-29T00:00:00",
          "2020-08-30T00:00:00",
          "2020-08-31T00:00:00",
          "2020-09-01T00:00:00",
          "2020-09-02T00:00:00",
          "2020-09-03T00:00:00",
          "2020-09-04T00:00:00",
          "2020-09-05T00:00:00",
          "2020-09-06T00:00:00",
          "2020-09-07T00:00:00",
          "2020-09-08T00:00:00",
          "2020-09-09T00:00:00",
          "2020-09-10T00:00:00",
          "2020-09-11T00:00:00",
          "2020-09-12T00:00:00",
          "2020-09-13T00:00:00",
          "2020-09-14T00:00:00",
          "2020-09-15T00:00:00",
          "2020-09-16T00:00:00",
          "2020-09-17T00:00:00",
          "2020-09-18T00:00:00",
          "2020-09-19T00:00:00",
          "2020-09-20T00:00:00",
          "2020-09-21T00:00:00",
          "2020-09-22T00:00:00",
          "2020-09-23T00:00:00",
          "2020-09-24T00:00:00",
          "2020-09-25T00:00:00",
          "2020-09-26T00:00:00",
          "2020-09-27T00:00:00",
          "2020-09-28T00:00:00",
          "2020-09-29T00:00:00",
          "2020-09-30T00:00:00",
          "2020-10-01T00:00:00",
          "2020-10-02T00:00:00",
          "2020-10-03T00:00:00",
          "2020-10-04T00:00:00",
          "2020-10-05T00:00:00",
          "2020-10-06T00:00:00",
          "2020-10-07T00:00:00",
          "2020-10-08T00:00:00",
          "2020-10-09T00:00:00",
          "2020-10-10T00:00:00",
          "2020-10-11T00:00:00",
          "2020-10-12T00:00:00",
          "2020-10-13T00:00:00",
          "2020-10-14T00:00:00",
          "2020-10-15T00:00:00",
          "2020-10-16T00:00:00",
          "2020-10-17T00:00:00",
          "2020-10-18T00:00:00",
          "2020-10-19T00:00:00",
          "2020-10-20T00:00:00",
          "2020-10-21T00:00:00",
          "2020-10-22T00:00:00",
          "2020-10-23T00:00:00",
          "2020-10-24T00:00:00",
          "2020-10-25T00:00:00",
          "2020-10-26T00:00:00",
          "2020-10-27T00:00:00",
          "2020-10-28T00:00:00",
          "2020-10-29T00:00:00",
          "2020-10-30T00:00:00",
          "2020-10-31T00:00:00",
          "2020-11-01T00:00:00",
          "2020-11-02T00:00:00",
          "2020-11-03T00:00:00",
          "2020-11-04T00:00:00",
          "2020-11-05T00:00:00",
          "2020-11-06T00:00:00",
          "2020-11-07T00:00:00",
          "2020-11-08T00:00:00",
          "2020-11-09T00:00:00",
          "2020-11-10T00:00:00",
          "2020-11-11T00:00:00",
          "2020-11-12T00:00:00",
          "2020-11-13T00:00:00",
          "2020-11-14T00:00:00",
          "2020-11-15T00:00:00",
          "2020-11-16T00:00:00",
          "2020-11-17T00:00:00",
          "2020-11-18T00:00:00",
          "2020-11-19T00:00:00",
          "2020-11-20T00:00:00",
          "2020-11-21T00:00:00",
          "2020-11-22T00:00:00",
          "2020-11-23T00:00:00",
          "2020-11-24T00:00:00",
          "2020-11-25T00:00:00",
          "2020-11-26T00:00:00",
          "2020-11-27T00:00:00",
          "2020-11-28T00:00:00",
          "2020-11-29T00:00:00",
          "2020-11-30T00:00:00",
          "2020-12-01T00:00:00",
          "2020-12-02T00:00:00",
          "2020-12-03T00:00:00",
          "2020-12-04T00:00:00",
          "2020-12-05T00:00:00",
          "2020-12-06T00:00:00",
          "2020-12-07T00:00:00",
          "2020-12-08T00:00:00",
          "2020-12-09T00:00:00",
          "2020-12-10T00:00:00",
          "2020-12-11T00:00:00",
          "2020-12-12T00:00:00",
          "2020-12-13T00:00:00",
          "2020-12-14T00:00:00",
          "2020-12-15T00:00:00",
          "2020-12-16T00:00:00",
          "2020-12-17T00:00:00",
          "2020-12-18T00:00:00",
          "2020-12-19T00:00:00",
          "2020-12-20T00:00:00",
          "2020-12-21T00:00:00",
          "2020-12-22T00:00:00",
          "2020-12-23T00:00:00",
          "2020-12-24T00:00:00",
          "2020-12-25T00:00:00",
          "2020-12-26T00:00:00",
          "2020-12-27T00:00:00",
          "2020-12-28T00:00:00",
          "2020-12-29T00:00:00",
          "2020-12-30T00:00:00",
          "2020-12-31T00:00:00",
          "2021-01-01T00:00:00",
          "2021-01-02T00:00:00",
          "2021-01-03T00:00:00",
          "2021-01-04T00:00:00",
          "2021-01-05T00:00:00",
          "2021-01-06T00:00:00",
          "2021-01-07T00:00:00",
          "2021-01-08T00:00:00",
          "2021-01-09T00:00:00",
          "2021-01-10T00:00:00",
          "2021-01-11T00:00:00",
          "2021-01-12T00:00:00",
          "2021-01-13T00:00:00",
          "2021-01-14T00:00:00",
          "2021-01-15T00:00:00",
          "2021-01-16T00:00:00",
          "2021-01-17T00:00:00",
          "2021-01-18T00:00:00",
          "2021-01-19T00:00:00",
          "2021-01-20T00:00:00",
          "2021-01-21T00:00:00",
          "2021-01-22T00:00:00",
          "2021-01-23T00:00:00",
          "2021-01-24T00:00:00",
          "2021-01-25T00:00:00",
          "2021-01-26T00:00:00",
          "2021-01-27T00:00:00",
          "2021-01-28T00:00:00",
          "2021-01-29T00:00:00",
          "2021-01-30T00:00:00",
          "2021-01-31T00:00:00",
          "2021-02-01T00:00:00",
          "2021-02-02T00:00:00",
          "2021-02-03T00:00:00",
          "2021-02-04T00:00:00",
          "2021-02-05T00:00:00",
          "2021-02-06T00:00:00",
          "2021-02-07T00:00:00",
          "2021-02-08T00:00:00",
          "2021-02-09T00:00:00",
          "2021-02-10T00:00:00",
          "2021-02-11T00:00:00",
          "2021-02-12T00:00:00",
          "2021-02-13T00:00:00",
          "2021-02-14T00:00:00",
          "2021-02-15T00:00:00",
          "2021-02-16T00:00:00",
          "2021-02-17T00:00:00",
          "2021-02-18T00:00:00",
          "2021-02-19T00:00:00",
          "2021-02-20T00:00:00",
          "2021-02-21T00:00:00",
          "2021-02-22T00:00:00",
          "2021-02-23T00:00:00",
          "2021-02-24T00:00:00",
          "2021-02-25T00:00:00",
          "2021-02-26T00:00:00",
          "2021-02-27T00:00:00",
          "2021-02-28T00:00:00",
          "2021-03-01T00:00:00",
          "2021-03-02T00:00:00",
          "2021-03-03T00:00:00",
          "2021-03-04T00:00:00",
          "2021-03-05T00:00:00",
          "2021-03-06T00:00:00",
          "2021-03-07T00:00:00",
          "2021-03-08T00:00:00",
          "2021-03-09T00:00:00",
          "2021-03-10T00:00:00",
          "2021-03-11T00:00:00",
          "2021-03-12T00:00:00",
          "2021-03-13T00:00:00",
          "2021-03-14T00:00:00",
          "2021-03-15T00:00:00",
          "2021-03-16T00:00:00",
          "2021-03-17T00:00:00",
          "2021-03-18T00:00:00",
          "2021-03-19T00:00:00",
          "2021-03-20T00:00:00",
          "2021-03-21T00:00:00",
          "2021-03-22T00:00:00",
          "2021-03-23T00:00:00",
          "2021-03-24T00:00:00",
          "2021-03-25T00:00:00",
          "2021-03-26T00:00:00",
          "2021-03-27T00:00:00",
          "2021-03-28T00:00:00",
          "2021-03-29T00:00:00",
          "2021-03-30T00:00:00",
          "2021-03-31T00:00:00",
          "2021-04-01T00:00:00",
          "2021-04-02T00:00:00",
          "2021-04-03T00:00:00",
          "2021-04-04T00:00:00",
          "2021-04-05T00:00:00",
          "2021-04-06T00:00:00",
          "2021-04-07T00:00:00",
          "2021-04-08T00:00:00",
          "2021-04-09T00:00:00",
          "2021-04-10T00:00:00",
          "2021-04-11T00:00:00",
          "2021-04-12T00:00:00",
          "2021-04-13T00:00:00",
          "2021-04-14T00:00:00",
          "2021-04-15T00:00:00",
          "2021-04-16T00:00:00",
          "2021-04-17T00:00:00",
          "2021-04-18T00:00:00",
          "2021-04-19T00:00:00",
          "2021-04-20T00:00:00",
          "2021-04-21T00:00:00",
          "2021-04-22T00:00:00",
          "2021-04-23T00:00:00",
          "2021-04-24T00:00:00",
          "2021-04-25T00:00:00",
          "2021-04-26T00:00:00",
          "2021-04-27T00:00:00",
          "2021-04-28T00:00:00",
          "2021-04-29T00:00:00",
          "2021-04-30T00:00:00",
          "2021-05-01T00:00:00",
          "2021-05-02T00:00:00",
          "2021-05-03T00:00:00",
          "2021-05-04T00:00:00",
          "2021-05-05T00:00:00",
          "2021-05-06T00:00:00",
          "2021-05-07T00:00:00",
          "2021-05-08T00:00:00",
          "2021-05-09T00:00:00",
          "2021-05-10T00:00:00",
          "2021-05-11T00:00:00",
          "2021-05-12T00:00:00",
          "2021-05-13T00:00:00",
          "2021-05-14T00:00:00",
          "2021-05-15T00:00:00",
          "2021-05-16T00:00:00",
          "2021-05-17T00:00:00",
          "2021-05-18T00:00:00",
          "2021-05-19T00:00:00",
          "2021-05-20T00:00:00",
          "2021-05-21T00:00:00",
          "2021-05-22T00:00:00",
          "2021-05-23T00:00:00",
          "2021-05-24T00:00:00",
          "2021-05-25T00:00:00",
          "2021-05-26T00:00:00",
          "2021-05-27T00:00:00",
          "2021-05-28T00:00:00",
          "2021-05-29T00:00:00",
          "2021-05-30T00:00:00",
          "2021-05-31T00:00:00",
          "2021-06-01T00:00:00",
          "2021-06-02T00:00:00",
          "2021-06-03T00:00:00",
          "2021-06-04T00:00:00",
          "2021-06-05T00:00:00",
          "2021-06-06T00:00:00",
          "2021-06-07T00:00:00",
          "2021-06-08T00:00:00",
          "2021-06-09T00:00:00",
          "2021-06-10T00:00:00",
          "2021-06-11T00:00:00",
          "2021-06-12T00:00:00",
          "2021-06-13T00:00:00",
          "2021-06-14T00:00:00",
          "2021-06-15T00:00:00",
          "2021-06-16T00:00:00",
          "2021-06-17T00:00:00",
          "2021-06-18T00:00:00",
          "2021-06-19T00:00:00",
          "2021-06-20T00:00:00",
          "2021-06-21T00:00:00",
          "2021-06-22T00:00:00",
          "2021-06-23T00:00:00",
          "2021-06-24T00:00:00",
          "2021-06-25T00:00:00",
          "2021-06-26T00:00:00",
          "2021-06-27T00:00:00",
          "2021-06-28T00:00:00",
          "2021-06-29T00:00:00",
          "2021-06-30T00:00:00",
          "2021-07-01T00:00:00",
          "2021-07-02T00:00:00",
          "2021-07-03T00:00:00",
          "2021-07-04T00:00:00",
          "2021-07-05T00:00:00",
          "2021-07-06T00:00:00",
          "2021-07-07T00:00:00",
          "2021-07-08T00:00:00",
          "2021-07-09T00:00:00",
          "2021-07-10T00:00:00",
          "2021-07-11T00:00:00",
          "2021-07-12T00:00:00",
          "2021-07-13T00:00:00",
          "2021-07-14T00:00:00",
          "2021-07-15T00:00:00",
          "2021-07-16T00:00:00",
          "2021-07-17T00:00:00",
          "2021-07-18T00:00:00",
          "2021-07-19T00:00:00",
          "2021-07-20T00:00:00",
          "2021-07-21T00:00:00",
          "2021-07-22T00:00:00",
          "2021-07-23T00:00:00",
          "2021-07-24T00:00:00",
          "2021-07-25T00:00:00",
          "2021-07-26T00:00:00",
          "2021-07-27T00:00:00",
          "2021-07-28T00:00:00",
          "2021-07-29T00:00:00",
          "2021-07-30T00:00:00",
          "2021-07-31T00:00:00",
          "2021-08-01T00:00:00",
          "2021-08-02T00:00:00",
          "2021-08-03T00:00:00",
          "2021-08-04T00:00:00",
          "2021-08-05T00:00:00",
          "2021-08-06T00:00:00",
          "2021-08-07T00:00:00",
          "2021-08-08T00:00:00",
          "2021-08-09T00:00:00",
          "2021-08-10T00:00:00",
          "2021-08-11T00:00:00",
          "2021-08-12T00:00:00",
          "2021-08-13T00:00:00",
          "2021-08-14T00:00:00",
          "2021-08-15T00:00:00",
          "2021-08-16T00:00:00",
          "2021-08-17T00:00:00",
          "2021-08-18T00:00:00",
          "2021-08-19T00:00:00",
          "2021-08-20T00:00:00",
          "2021-08-21T00:00:00",
          "2021-08-22T00:00:00",
          "2021-08-23T00:00:00",
          "2021-08-24T00:00:00",
          "2021-08-25T00:00:00",
          "2021-08-26T00:00:00",
          "2021-08-27T00:00:00",
          "2021-08-28T00:00:00",
          "2021-08-29T00:00:00",
          "2021-08-30T00:00:00",
          "2021-08-31T00:00:00",
          "2021-09-01T00:00:00",
          "2021-09-02T00:00:00",
          "2021-09-03T00:00:00",
          "2021-09-04T00:00:00",
          "2021-09-05T00:00:00",
          "2021-09-06T00:00:00",
          "2021-09-07T00:00:00",
          "2021-09-08T00:00:00",
          "2021-09-09T00:00:00",
          "2021-09-10T00:00:00",
          "2021-09-11T00:00:00",
          "2021-09-12T00:00:00",
          "2021-09-13T00:00:00",
          "2021-09-14T00:00:00",
          "2021-09-15T00:00:00",
          "2021-09-16T00:00:00",
          "2021-09-17T00:00:00",
          "2021-09-18T00:00:00",
          "2021-09-19T00:00:00",
          "2021-09-20T00:00:00",
          "2021-09-21T00:00:00",
          "2021-09-22T00:00:00",
          "2021-09-23T00:00:00",
          "2021-09-24T00:00:00",
          "2021-09-25T00:00:00",
          "2021-09-26T00:00:00",
          "2021-09-27T00:00:00",
          "2021-09-28T00:00:00",
          "2021-09-29T00:00:00",
          "2021-09-30T00:00:00",
          "2021-10-01T00:00:00",
          "2021-10-02T00:00:00",
          "2021-10-03T00:00:00",
          "2021-10-04T00:00:00",
          "2021-10-05T00:00:00",
          "2021-10-06T00:00:00",
          "2021-10-07T00:00:00",
          "2021-10-08T00:00:00",
          "2021-10-09T00:00:00",
          "2021-10-10T00:00:00",
          "2021-10-11T00:00:00",
          "2021-10-12T00:00:00",
          "2021-10-13T00:00:00",
          "2021-10-14T00:00:00",
          "2021-10-15T00:00:00",
          "2021-10-16T00:00:00",
          "2021-10-17T00:00:00",
          "2021-10-18T00:00:00",
          "2021-10-19T00:00:00",
          "2021-10-20T00:00:00",
          "2021-10-21T00:00:00",
          "2021-10-22T00:00:00",
          "2021-10-23T00:00:00",
          "2021-10-24T00:00:00",
          "2021-10-25T00:00:00",
          "2021-10-26T00:00:00",
          "2021-10-27T00:00:00",
          "2021-10-28T00:00:00",
          "2021-10-29T00:00:00",
          "2021-10-30T00:00:00",
          "2021-10-31T00:00:00",
          "2021-11-01T00:00:00",
          "2021-11-02T00:00:00",
          "2021-11-03T00:00:00",
          "2021-11-04T00:00:00",
          "2021-11-05T00:00:00",
          "2021-11-06T00:00:00",
          "2021-11-07T00:00:00",
          "2021-11-08T00:00:00",
          "2021-11-09T00:00:00",
          "2021-11-10T00:00:00",
          "2021-11-11T00:00:00",
          "2021-11-12T00:00:00",
          "2021-11-13T00:00:00",
          "2021-11-14T00:00:00",
          "2021-11-15T00:00:00",
          "2021-11-16T00:00:00",
          "2021-11-17T00:00:00",
          "2021-11-18T00:00:00",
          "2021-11-19T00:00:00",
          "2021-11-20T00:00:00",
          "2021-11-21T00:00:00",
          "2021-11-22T00:00:00",
          "2021-11-23T00:00:00",
          "2021-11-24T00:00:00",
          "2021-11-25T00:00:00",
          "2021-11-26T00:00:00",
          "2021-11-27T00:00:00",
          "2021-11-28T00:00:00",
          "2021-11-29T00:00:00",
          "2021-11-30T00:00:00",
          "2021-12-01T00:00:00",
          "2021-12-02T00:00:00",
          "2021-12-03T00:00:00",
          "2021-12-04T00:00:00",
          "2021-12-05T00:00:00",
          "2021-12-06T00:00:00",
          "2021-12-07T00:00:00",
          "2021-12-08T00:00:00",
          "2021-12-09T00:00:00",
          "2021-12-10T00:00:00",
          "2021-12-11T00:00:00",
          "2021-12-12T00:00:00",
          "2021-12-13T00:00:00",
          "2021-12-14T00:00:00",
          "2021-12-15T00:00:00",
          "2021-12-16T00:00:00",
          "2021-12-17T00:00:00",
          "2021-12-18T00:00:00",
          "2021-12-19T00:00:00",
          "2021-12-20T00:00:00",
          "2021-12-21T00:00:00",
          "2021-12-22T00:00:00",
          "2021-12-23T00:00:00",
          "2021-12-24T00:00:00",
          "2021-12-25T00:00:00",
          "2021-12-26T00:00:00",
          "2021-12-27T00:00:00",
          "2021-12-28T00:00:00",
          "2021-12-29T00:00:00",
          "2021-12-30T00:00:00",
          "2021-12-31T00:00:00",
          "2022-01-01T00:00:00",
          "2022-01-02T00:00:00",
          "2022-01-03T00:00:00",
          "2022-01-04T00:00:00",
          "2022-01-05T00:00:00",
          "2022-01-06T00:00:00",
          "2022-01-07T00:00:00",
          "2022-01-08T00:00:00",
          "2022-01-09T00:00:00",
          "2022-01-10T00:00:00",
          "2022-01-11T00:00:00",
          "2022-01-12T00:00:00",
          "2022-01-13T00:00:00",
          "2022-01-14T00:00:00",
          "2022-01-15T00:00:00",
          "2022-01-16T00:00:00",
          "2022-01-17T00:00:00",
          "2022-01-18T00:00:00",
          "2022-01-19T00:00:00",
          "2022-01-20T00:00:00",
          "2022-01-21T00:00:00",
          "2022-01-22T00:00:00",
          "2022-01-23T00:00:00",
          "2022-01-24T00:00:00",
          "2022-01-25T00:00:00",
          "2022-01-26T00:00:00",
          "2022-01-27T00:00:00",
          "2022-01-28T00:00:00",
          "2022-01-29T00:00:00",
          "2022-01-30T00:00:00",
          "2022-01-31T00:00:00",
          "2022-02-01T00:00:00",
          "2022-02-02T00:00:00",
          "2022-02-03T00:00:00",
          "2022-02-04T00:00:00",
          "2022-02-05T00:00:00",
          "2022-02-06T00:00:00",
          "2022-02-07T00:00:00",
          "2022-02-08T00:00:00",
          "2022-02-09T00:00:00",
          "2022-02-10T00:00:00",
          "2022-02-11T00:00:00",
          "2022-02-12T00:00:00",
          "2022-02-13T00:00:00",
          "2022-02-14T00:00:00",
          "2022-02-15T00:00:00",
          "2022-02-16T00:00:00",
          "2022-02-17T00:00:00",
          "2022-02-18T00:00:00",
          "2022-02-19T00:00:00",
          "2022-02-20T00:00:00",
          "2022-02-21T00:00:00",
          "2022-02-22T00:00:00",
          "2022-02-23T00:00:00",
          "2022-02-24T00:00:00",
          "2022-02-25T00:00:00",
          "2022-02-26T00:00:00",
          "2022-02-27T00:00:00",
          "2022-02-28T00:00:00",
          "2022-03-01T00:00:00",
          "2022-03-02T00:00:00",
          "2022-03-03T00:00:00",
          "2022-03-04T00:00:00",
          "2022-03-05T00:00:00",
          "2022-03-06T00:00:00",
          "2022-03-07T00:00:00",
          "2022-03-08T00:00:00",
          "2022-03-09T00:00:00",
          "2022-03-10T00:00:00",
          "2022-03-11T00:00:00",
          "2022-03-12T00:00:00",
          "2022-03-13T00:00:00",
          "2022-03-14T00:00:00",
          "2022-03-15T00:00:00",
          "2022-03-16T00:00:00",
          "2022-03-17T00:00:00",
          "2022-03-18T00:00:00",
          "2022-03-19T00:00:00",
          "2022-03-20T00:00:00",
          "2022-03-21T00:00:00",
          "2022-03-22T00:00:00",
          "2022-03-23T00:00:00",
          "2022-03-24T00:00:00",
          "2022-03-25T00:00:00",
          "2022-03-26T00:00:00",
          "2022-03-27T00:00:00",
          "2022-03-28T00:00:00",
          "2022-03-29T00:00:00",
          "2022-03-30T00:00:00",
          "2022-03-31T00:00:00",
          "2022-04-01T00:00:00",
          "2022-04-02T00:00:00",
          "2022-04-03T00:00:00",
          "2022-04-04T00:00:00",
          "2022-04-05T00:00:00",
          "2022-04-06T00:00:00",
          "2022-04-07T00:00:00",
          "2022-04-08T00:00:00",
          "2022-04-09T00:00:00",
          "2022-04-10T00:00:00",
          "2022-04-11T00:00:00",
          "2022-04-12T00:00:00",
          "2022-04-13T00:00:00",
          "2022-04-14T00:00:00",
          "2022-04-15T00:00:00",
          "2022-04-16T00:00:00",
          "2022-04-17T00:00:00",
          "2022-04-18T00:00:00",
          "2022-04-19T00:00:00",
          "2022-04-20T00:00:00",
          "2022-04-21T00:00:00",
          "2022-04-22T00:00:00",
          "2022-04-23T00:00:00",
          "2022-04-24T00:00:00",
          "2022-04-25T00:00:00",
          "2022-04-26T00:00:00",
          "2022-04-27T00:00:00",
          "2022-04-28T00:00:00",
          "2022-04-29T00:00:00",
          "2022-04-30T00:00:00",
          "2022-05-01T00:00:00",
          "2022-05-02T00:00:00",
          "2022-05-03T00:00:00",
          "2022-05-04T00:00:00",
          "2022-05-05T00:00:00",
          "2022-05-06T00:00:00",
          "2022-05-07T00:00:00",
          "2022-05-08T00:00:00",
          "2022-05-09T00:00:00",
          "2022-05-10T00:00:00",
          "2022-05-11T00:00:00",
          "2022-05-12T00:00:00",
          "2022-05-13T00:00:00",
          "2022-05-14T00:00:00",
          "2022-05-15T00:00:00",
          "2022-05-16T00:00:00",
          "2022-05-17T00:00:00",
          "2022-05-18T00:00:00",
          "2022-05-19T00:00:00",
          "2022-05-20T00:00:00",
          "2022-05-21T00:00:00",
          "2022-05-22T00:00:00",
          "2022-05-23T00:00:00",
          "2022-05-24T00:00:00",
          "2022-05-25T00:00:00",
          "2022-05-26T00:00:00",
          "2022-05-27T00:00:00",
          "2022-05-28T00:00:00",
          "2022-05-29T00:00:00",
          "2022-05-30T00:00:00",
          "2022-05-31T00:00:00",
          "2022-06-01T00:00:00",
          "2022-06-02T00:00:00",
          "2022-06-03T00:00:00",
          "2022-06-04T00:00:00",
          "2022-06-05T00:00:00",
          "2022-06-06T00:00:00",
          "2022-06-07T00:00:00",
          "2022-06-08T00:00:00",
          "2022-06-09T00:00:00",
          "2022-06-10T00:00:00",
          "2022-06-11T00:00:00",
          "2022-06-12T00:00:00",
          "2022-06-13T00:00:00",
          "2022-06-14T00:00:00",
          "2022-06-15T00:00:00",
          "2022-06-16T00:00:00"
         ],
         "xaxis": "x",
         "y": [
          0,
          0,
          3,
          0,
          4,
          0,
          0,
          0,
          27,
          0,
          2,
          26,
          10,
          7,
          16,
          2,
          25,
          38,
          50,
          14,
          44,
          36,
          51,
          71,
          46,
          43,
          51,
          37,
          98,
          26,
          14,
          75,
          93,
          81,
          81,
          80,
          148,
          144,
          109,
          167,
          91,
          93,
          179,
          160,
          107,
          98,
          223,
          153,
          79,
          131,
          79,
          167,
          120,
          107,
          99,
          76,
          65,
          86,
          118,
          83,
          105,
          145,
          72,
          62,
          55,
          169,
          68,
          66,
          126,
          57,
          182,
          55,
          108,
          134,
          180,
          62,
          116,
          127,
          74,
          57,
          97,
          70,
          96,
          127,
          118,
          67,
          61,
          137,
          103,
          124,
          98,
          121,
          111,
          76,
          80,
          61,
          84,
          102,
          160,
          91,
          239,
          147,
          129,
          76,
          120,
          115,
          105,
          124,
          117,
          176,
          140,
          178,
          127,
          127,
          166,
          154,
          195,
          168,
          213,
          132,
          95,
          196,
          206,
          195,
          147,
          215,
          256,
          231,
          199,
          344,
          290,
          239,
          359,
          404,
          278,
          275,
          259,
          293,
          241,
          331,
          313,
          361,
          441,
          376,
          416,
          285,
          393,
          378,
          472,
          412,
          585,
          299,
          432,
          374,
          379,
          489,
          466,
          357,
          597,
          658,
          721,
          472,
          479,
          471,
          578,
          621,
          575,
          598,
          518,
          538,
          505,
          565,
          595,
          641,
          601,
          637,
          659,
          636,
          711,
          820,
          816,
          888,
          1114,
          1029,
          941,
          1053,
          1406,
          895,
          842,
          1245,
          1105,
          1015,
          1026,
          1450,
          1034,
          1440,
          1103,
          1062,
          1027,
          1505,
          1014,
          1403,
          932,
          1079,
          1310,
          1122,
          1187,
          1133,
          1289,
          1257,
          1186,
          807,
          1132,
          1059,
          1153,
          1098,
          1165,
          1430,
          822,
          1007,
          1340,
          1009,
          972,
          1253,
          1389,
          1168,
          1054,
          1038,
          1071,
          1045,
          974,
          971,
          926,
          964,
          1000,
          989,
          952,
          1062,
          771,
          906,
          781,
          844,
          713,
          612,
          750,
          608,
          1024,
          617,
          774,
          791,
          672,
          1118,
          826,
          716,
          1013,
          587,
          831,
          1033,
          1255,
          1165,
          1006,
          1038,
          1147,
          1185,
          1240,
          1579,
          1342,
          1009,
          1015,
          1273,
          1064,
          1436,
          1370,
          1431,
          1099,
          1058,
          1166,
          1153,
          1032,
          1360,
          1331,
          1466,
          1174,
          1237,
          1180,
          1232,
          951,
          1298,
          1566,
          1057,
          1221,
          1690,
          1587,
          1899,
          1592,
          1466,
          1311,
          1954,
          1933,
          2096,
          2058,
          1997,
          1678,
          2056,
          2053,
          2022,
          1956,
          1895,
          1657,
          1832,
          1824,
          2402,
          2398,
          2959,
          2753,
          2711,
          2461,
          2669,
          3476,
          3165,
          2541,
          3536,
          3395,
          2361,
          2563,
          3786,
          3151,
          3792,
          3285,
          3512,
          2451,
          2314,
          1836,
          2889,
          3448,
          3491,
          3474,
          3614,
          3362,
          3567,
          3632,
          3340,
          2379,
          4213,
          3144,
          3437,
          3309,
          2514,
          3810,
          3018,
          2496,
          1879,
          1861,
          1445,
          373,
          1920,
          2872,
          2720,
          2471,
          782,
          782,
          1581,
          1661,
          1737,
          2098,
          2058,
          578,
          1437,
          2008,
          1159,
          1616,
          1834,
          1783,
          867,
          1040,
          1754,
          1873,
          1034,
          1204,
          1555,
          835,
          1330,
          1719,
          1588,
          1937,
          1638,
          1474,
          815,
          890,
          1726,
          1381,
          1354,
          1470,
          1014,
          384,
          965,
          1337,
          1240,
          1098,
          736,
          523,
          487,
          862,
          1239,
          1013,
          977,
          1031,
          692,
          828,
          661,
          1330,
          979,
          1037,
          950,
          973,
          460,
          602,
          1266,
          884,
          907,
          896,
          749,
          393,
          639,
          987,
          789,
          926,
          854,
          757,
          416,
          845,
          905,
          783,
          732,
          809,
          694,
          406,
          656,
          785,
          632,
          227,
          161,
          421,
          291,
          539,
          895,
          856,
          932,
          867,
          819,
          384,
          617,
          940,
          693,
          807,
          1064,
          726,
          519,
          601,
          714,
          906,
          1317,
          1019,
          1197,
          755,
          1371,
          2096,
          2293,
          2455,
          2769,
          2722,
          1502,
          2376,
          4144,
          4737,
          4895,
          5582,
          5014,
          3221,
          4693,
          7505,
          6934,
          9271,
          9394,
          8348,
          7379,
          7680,
          7541,
          9399,
          9702,
          10485,
          10903,
          9439,
          9366,
          12974,
          13112,
          12920,
          13133,
          14619,
          12182,
          12667,
          12691,
          12415,
          10168,
          9128,
          5000,
          6213,
          5904,
          7058,
          8033,
          8360,
          5393,
          2662,
          3567,
          5525,
          3845,
          3454,
          3327,
          2701,
          1410,
          1601,
          2981,
          2311,
          2185,
          2008,
          1649,
          727,
          1425,
          1958,
          1078,
          1210,
          1363,
          1182,
          513,
          655,
          1029,
          731,
          969,
          891,
          701,
          485,
          484,
          789,
          574,
          638,
          468,
          474,
          341,
          399,
          673,
          430,
          343,
          360,
          303,
          217,
          262,
          428,
          308,
          261,
          268,
          306,
          187,
          190,
          305,
          176,
          206,
          200,
          155,
          91,
          106,
          227,
          165,
          181,
          133,
          168,
          103,
          104,
          177,
          149,
          151,
          155,
          127,
          149,
          72,
          203,
          149,
          150,
          100,
          140,
          41,
          143,
          278,
          113,
          124,
          154,
          131,
          107,
          106,
          103,
          89,
          83,
          116,
          131,
          82,
          37,
          105,
          131,
          96,
          96,
          113,
          83,
          77,
          132,
          111,
          118,
          69,
          117,
          29,
          94,
          95,
          107,
          71,
          54,
          92,
          36,
          79,
          130,
          100,
          97,
          114,
          111,
          26,
          69,
          82,
          54,
          70,
          54,
          51,
          41,
          44,
          70,
          28,
          42,
          48,
          43,
          14,
          31,
          41,
          36,
          26,
          32,
          32,
          16,
          20,
          23,
          40,
          38,
          74,
          43,
          38,
          55,
          43,
          16,
          69,
          80,
          47,
          42,
          96,
          27,
          53,
          87,
          118,
          103,
          172,
          115,
          259,
          267,
          300,
          278,
          393,
          360,
          537,
          412,
          478,
          554,
          720,
          566,
          493,
          670,
          1012,
          1155,
          1484,
          1825,
          1739,
          1993,
          2190,
          3509,
          4149,
          4558,
          5765,
          6622,
          5262,
          6388,
          9132,
          10317,
          13179,
          12774,
          15825,
          12682,
          10817,
          14353,
          11090,
          10707,
          12417,
          10172,
          10275,
          9482,
          12388,
          8536,
          8189,
          9453,
          8136,
          5358,
          5208,
          7295,
          6855,
          4524,
          4675,
          3957,
          7300,
          3634,
          4196,
          4669,
          3727,
          3059,
          3669,
          2693,
          3569,
          3872,
          3546,
          2548,
          2105,
          1874,
          1307,
          1571,
          1706,
          1583,
          1516,
          1485,
          1167,
          862,
          1012,
          1235,
          1067,
          890,
          796,
          594,
          573,
          742,
          901,
          729,
          641,
          633,
          612,
          488,
          568,
          753,
          674,
          592,
          450,
          370,
          312,
          355,
          399,
          372,
          310,
          193,
          195,
          170,
          179,
          231,
          159,
          215,
          172,
          135,
          101,
          199,
          130,
          113,
          126,
          151,
          81,
          88,
          40,
          62,
          86,
          89,
          62,
          78,
          102,
          150,
          129,
          100,
          101,
          114,
          93,
          70,
          75,
          113,
          90,
          82,
          93,
          110,
          58,
          148,
          128,
          124,
          110,
          104,
          89,
          81,
          132,
          164,
          158,
          173,
          173,
          195,
          147,
          260,
          288,
          276,
          333,
          314,
          322,
          348,
          517,
          730,
          696
         ],
         "yaxis": "y"
        }
       ],
       "layout": {
        "legend": {
         "title": {
          "text": "variable"
         },
         "tracegroupgap": 0
        },
        "template": {
         "data": {
          "bar": [
           {
            "error_x": {
             "color": "#2a3f5f"
            },
            "error_y": {
             "color": "#2a3f5f"
            },
            "marker": {
             "line": {
              "color": "#E5ECF6",
              "width": 0.5
             },
             "pattern": {
              "fillmode": "overlay",
              "size": 10,
              "solidity": 0.2
             }
            },
            "type": "bar"
           }
          ],
          "barpolar": [
           {
            "marker": {
             "line": {
              "color": "#E5ECF6",
              "width": 0.5
             },
             "pattern": {
              "fillmode": "overlay",
              "size": 10,
              "solidity": 0.2
             }
            },
            "type": "barpolar"
           }
          ],
          "carpet": [
           {
            "aaxis": {
             "endlinecolor": "#2a3f5f",
             "gridcolor": "white",
             "linecolor": "white",
             "minorgridcolor": "white",
             "startlinecolor": "#2a3f5f"
            },
            "baxis": {
             "endlinecolor": "#2a3f5f",
             "gridcolor": "white",
             "linecolor": "white",
             "minorgridcolor": "white",
             "startlinecolor": "#2a3f5f"
            },
            "type": "carpet"
           }
          ],
          "choropleth": [
           {
            "colorbar": {
             "outlinewidth": 0,
             "ticks": ""
            },
            "type": "choropleth"
           }
          ],
          "contour": [
           {
            "colorbar": {
             "outlinewidth": 0,
             "ticks": ""
            },
            "colorscale": [
             [
              0,
              "#0d0887"
             ],
             [
              0.1111111111111111,
              "#46039f"
             ],
             [
              0.2222222222222222,
              "#7201a8"
             ],
             [
              0.3333333333333333,
              "#9c179e"
             ],
             [
              0.4444444444444444,
              "#bd3786"
             ],
             [
              0.5555555555555556,
              "#d8576b"
             ],
             [
              0.6666666666666666,
              "#ed7953"
             ],
             [
              0.7777777777777778,
              "#fb9f3a"
             ],
             [
              0.8888888888888888,
              "#fdca26"
             ],
             [
              1,
              "#f0f921"
             ]
            ],
            "type": "contour"
           }
          ],
          "contourcarpet": [
           {
            "colorbar": {
             "outlinewidth": 0,
             "ticks": ""
            },
            "type": "contourcarpet"
           }
          ],
          "heatmap": [
           {
            "colorbar": {
             "outlinewidth": 0,
             "ticks": ""
            },
            "colorscale": [
             [
              0,
              "#0d0887"
             ],
             [
              0.1111111111111111,
              "#46039f"
             ],
             [
              0.2222222222222222,
              "#7201a8"
             ],
             [
              0.3333333333333333,
              "#9c179e"
             ],
             [
              0.4444444444444444,
              "#bd3786"
             ],
             [
              0.5555555555555556,
              "#d8576b"
             ],
             [
              0.6666666666666666,
              "#ed7953"
             ],
             [
              0.7777777777777778,
              "#fb9f3a"
             ],
             [
              0.8888888888888888,
              "#fdca26"
             ],
             [
              1,
              "#f0f921"
             ]
            ],
            "type": "heatmap"
           }
          ],
          "heatmapgl": [
           {
            "colorbar": {
             "outlinewidth": 0,
             "ticks": ""
            },
            "colorscale": [
             [
              0,
              "#0d0887"
             ],
             [
              0.1111111111111111,
              "#46039f"
             ],
             [
              0.2222222222222222,
              "#7201a8"
             ],
             [
              0.3333333333333333,
              "#9c179e"
             ],
             [
              0.4444444444444444,
              "#bd3786"
             ],
             [
              0.5555555555555556,
              "#d8576b"
             ],
             [
              0.6666666666666666,
              "#ed7953"
             ],
             [
              0.7777777777777778,
              "#fb9f3a"
             ],
             [
              0.8888888888888888,
              "#fdca26"
             ],
             [
              1,
              "#f0f921"
             ]
            ],
            "type": "heatmapgl"
           }
          ],
          "histogram": [
           {
            "marker": {
             "pattern": {
              "fillmode": "overlay",
              "size": 10,
              "solidity": 0.2
             }
            },
            "type": "histogram"
           }
          ],
          "histogram2d": [
           {
            "colorbar": {
             "outlinewidth": 0,
             "ticks": ""
            },
            "colorscale": [
             [
              0,
              "#0d0887"
             ],
             [
              0.1111111111111111,
              "#46039f"
             ],
             [
              0.2222222222222222,
              "#7201a8"
             ],
             [
              0.3333333333333333,
              "#9c179e"
             ],
             [
              0.4444444444444444,
              "#bd3786"
             ],
             [
              0.5555555555555556,
              "#d8576b"
             ],
             [
              0.6666666666666666,
              "#ed7953"
             ],
             [
              0.7777777777777778,
              "#fb9f3a"
             ],
             [
              0.8888888888888888,
              "#fdca26"
             ],
             [
              1,
              "#f0f921"
             ]
            ],
            "type": "histogram2d"
           }
          ],
          "histogram2dcontour": [
           {
            "colorbar": {
             "outlinewidth": 0,
             "ticks": ""
            },
            "colorscale": [
             [
              0,
              "#0d0887"
             ],
             [
              0.1111111111111111,
              "#46039f"
             ],
             [
              0.2222222222222222,
              "#7201a8"
             ],
             [
              0.3333333333333333,
              "#9c179e"
             ],
             [
              0.4444444444444444,
              "#bd3786"
             ],
             [
              0.5555555555555556,
              "#d8576b"
             ],
             [
              0.6666666666666666,
              "#ed7953"
             ],
             [
              0.7777777777777778,
              "#fb9f3a"
             ],
             [
              0.8888888888888888,
              "#fdca26"
             ],
             [
              1,
              "#f0f921"
             ]
            ],
            "type": "histogram2dcontour"
           }
          ],
          "mesh3d": [
           {
            "colorbar": {
             "outlinewidth": 0,
             "ticks": ""
            },
            "type": "mesh3d"
           }
          ],
          "parcoords": [
           {
            "line": {
             "colorbar": {
              "outlinewidth": 0,
              "ticks": ""
             }
            },
            "type": "parcoords"
           }
          ],
          "pie": [
           {
            "automargin": true,
            "type": "pie"
           }
          ],
          "scatter": [
           {
            "marker": {
             "colorbar": {
              "outlinewidth": 0,
              "ticks": ""
             }
            },
            "type": "scatter"
           }
          ],
          "scatter3d": [
           {
            "line": {
             "colorbar": {
              "outlinewidth": 0,
              "ticks": ""
             }
            },
            "marker": {
             "colorbar": {
              "outlinewidth": 0,
              "ticks": ""
             }
            },
            "type": "scatter3d"
           }
          ],
          "scattercarpet": [
           {
            "marker": {
             "colorbar": {
              "outlinewidth": 0,
              "ticks": ""
             }
            },
            "type": "scattercarpet"
           }
          ],
          "scattergeo": [
           {
            "marker": {
             "colorbar": {
              "outlinewidth": 0,
              "ticks": ""
             }
            },
            "type": "scattergeo"
           }
          ],
          "scattergl": [
           {
            "marker": {
             "colorbar": {
              "outlinewidth": 0,
              "ticks": ""
             }
            },
            "type": "scattergl"
           }
          ],
          "scattermapbox": [
           {
            "marker": {
             "colorbar": {
              "outlinewidth": 0,
              "ticks": ""
             }
            },
            "type": "scattermapbox"
           }
          ],
          "scatterpolar": [
           {
            "marker": {
             "colorbar": {
              "outlinewidth": 0,
              "ticks": ""
             }
            },
            "type": "scatterpolar"
           }
          ],
          "scatterpolargl": [
           {
            "marker": {
             "colorbar": {
              "outlinewidth": 0,
              "ticks": ""
             }
            },
            "type": "scatterpolargl"
           }
          ],
          "scatterternary": [
           {
            "marker": {
             "colorbar": {
              "outlinewidth": 0,
              "ticks": ""
             }
            },
            "type": "scatterternary"
           }
          ],
          "surface": [
           {
            "colorbar": {
             "outlinewidth": 0,
             "ticks": ""
            },
            "colorscale": [
             [
              0,
              "#0d0887"
             ],
             [
              0.1111111111111111,
              "#46039f"
             ],
             [
              0.2222222222222222,
              "#7201a8"
             ],
             [
              0.3333333333333333,
              "#9c179e"
             ],
             [
              0.4444444444444444,
              "#bd3786"
             ],
             [
              0.5555555555555556,
              "#d8576b"
             ],
             [
              0.6666666666666666,
              "#ed7953"
             ],
             [
              0.7777777777777778,
              "#fb9f3a"
             ],
             [
              0.8888888888888888,
              "#fdca26"
             ],
             [
              1,
              "#f0f921"
             ]
            ],
            "type": "surface"
           }
          ],
          "table": [
           {
            "cells": {
             "fill": {
              "color": "#EBF0F8"
             },
             "line": {
              "color": "white"
             }
            },
            "header": {
             "fill": {
              "color": "#C8D4E3"
             },
             "line": {
              "color": "white"
             }
            },
            "type": "table"
           }
          ]
         },
         "layout": {
          "annotationdefaults": {
           "arrowcolor": "#2a3f5f",
           "arrowhead": 0,
           "arrowwidth": 1
          },
          "autotypenumbers": "strict",
          "coloraxis": {
           "colorbar": {
            "outlinewidth": 0,
            "ticks": ""
           }
          },
          "colorscale": {
           "diverging": [
            [
             0,
             "#8e0152"
            ],
            [
             0.1,
             "#c51b7d"
            ],
            [
             0.2,
             "#de77ae"
            ],
            [
             0.3,
             "#f1b6da"
            ],
            [
             0.4,
             "#fde0ef"
            ],
            [
             0.5,
             "#f7f7f7"
            ],
            [
             0.6,
             "#e6f5d0"
            ],
            [
             0.7,
             "#b8e186"
            ],
            [
             0.8,
             "#7fbc41"
            ],
            [
             0.9,
             "#4d9221"
            ],
            [
             1,
             "#276419"
            ]
           ],
           "sequential": [
            [
             0,
             "#0d0887"
            ],
            [
             0.1111111111111111,
             "#46039f"
            ],
            [
             0.2222222222222222,
             "#7201a8"
            ],
            [
             0.3333333333333333,
             "#9c179e"
            ],
            [
             0.4444444444444444,
             "#bd3786"
            ],
            [
             0.5555555555555556,
             "#d8576b"
            ],
            [
             0.6666666666666666,
             "#ed7953"
            ],
            [
             0.7777777777777778,
             "#fb9f3a"
            ],
            [
             0.8888888888888888,
             "#fdca26"
            ],
            [
             1,
             "#f0f921"
            ]
           ],
           "sequentialminus": [
            [
             0,
             "#0d0887"
            ],
            [
             0.1111111111111111,
             "#46039f"
            ],
            [
             0.2222222222222222,
             "#7201a8"
            ],
            [
             0.3333333333333333,
             "#9c179e"
            ],
            [
             0.4444444444444444,
             "#bd3786"
            ],
            [
             0.5555555555555556,
             "#d8576b"
            ],
            [
             0.6666666666666666,
             "#ed7953"
            ],
            [
             0.7777777777777778,
             "#fb9f3a"
            ],
            [
             0.8888888888888888,
             "#fdca26"
            ],
            [
             1,
             "#f0f921"
            ]
           ]
          },
          "colorway": [
           "#636efa",
           "#EF553B",
           "#00cc96",
           "#ab63fa",
           "#FFA15A",
           "#19d3f3",
           "#FF6692",
           "#B6E880",
           "#FF97FF",
           "#FECB52"
          ],
          "font": {
           "color": "#2a3f5f"
          },
          "geo": {
           "bgcolor": "white",
           "lakecolor": "white",
           "landcolor": "#E5ECF6",
           "showlakes": true,
           "showland": true,
           "subunitcolor": "white"
          },
          "hoverlabel": {
           "align": "left"
          },
          "hovermode": "closest",
          "mapbox": {
           "style": "light"
          },
          "paper_bgcolor": "white",
          "plot_bgcolor": "#E5ECF6",
          "polar": {
           "angularaxis": {
            "gridcolor": "white",
            "linecolor": "white",
            "ticks": ""
           },
           "bgcolor": "#E5ECF6",
           "radialaxis": {
            "gridcolor": "white",
            "linecolor": "white",
            "ticks": ""
           }
          },
          "scene": {
           "xaxis": {
            "backgroundcolor": "#E5ECF6",
            "gridcolor": "white",
            "gridwidth": 2,
            "linecolor": "white",
            "showbackground": true,
            "ticks": "",
            "zerolinecolor": "white"
           },
           "yaxis": {
            "backgroundcolor": "#E5ECF6",
            "gridcolor": "white",
            "gridwidth": 2,
            "linecolor": "white",
            "showbackground": true,
            "ticks": "",
            "zerolinecolor": "white"
           },
           "zaxis": {
            "backgroundcolor": "#E5ECF6",
            "gridcolor": "white",
            "gridwidth": 2,
            "linecolor": "white",
            "showbackground": true,
            "ticks": "",
            "zerolinecolor": "white"
           }
          },
          "shapedefaults": {
           "line": {
            "color": "#2a3f5f"
           }
          },
          "ternary": {
           "aaxis": {
            "gridcolor": "white",
            "linecolor": "white",
            "ticks": ""
           },
           "baxis": {
            "gridcolor": "white",
            "linecolor": "white",
            "ticks": ""
           },
           "bgcolor": "#E5ECF6",
           "caxis": {
            "gridcolor": "white",
            "linecolor": "white",
            "ticks": ""
           }
          },
          "title": {
           "x": 0.05
          },
          "xaxis": {
           "automargin": true,
           "gridcolor": "white",
           "linecolor": "white",
           "ticks": "",
           "title": {
            "standoff": 15
           },
           "zerolinecolor": "white",
           "zerolinewidth": 2
          },
          "yaxis": {
           "automargin": true,
           "gridcolor": "white",
           "linecolor": "white",
           "ticks": "",
           "title": {
            "standoff": 15
           },
           "zerolinecolor": "white",
           "zerolinewidth": 2
          }
         }
        },
        "title": {
         "text": "Data Pasien covid Positif Harian"
        },
        "xaxis": {
         "anchor": "y",
         "domain": [
          0,
          1
         ],
         "title": {
          "text": "Tanggal"
         }
        },
        "yaxis": {
         "anchor": "x",
         "domain": [
          0,
          1
         ],
         "title": {
          "text": "value"
         }
        }
       }
      }
     },
     "metadata": {},
     "output_type": "display_data"
    }
   ],
   "source": [
    "px.line(x='Tanggal', y=['Positif Harian'], data_frame=df_DU_Jakarta,title='Data Pasien covid Positif Harian',color_discrete_sequence=['red'])"
   ]
  },
  {
   "cell_type": "markdown",
   "metadata": {},
   "source": [
    "Interpretasi\n",
    "\n",
    "Hal tersebut dapat dilihat lebih jelas pada data covid positif harian yang memiliki kenaikan pada bulan juli dan febuari."
   ]
  },
  {
   "cell_type": "code",
   "execution_count": 100,
   "metadata": {},
   "outputs": [
    {
     "name": "stdout",
     "output_type": "stream",
     "text": [
      "Data positif covid tanpa gejala         :  2584819.0\n",
      "Data positif covid dengan gejala        :  3501548.0\n",
      "Data positif covid yang tidak diketahui :  5389258.0\n"
     ]
    }
   ],
   "source": [
    "print('Data positif covid tanpa gejala         : ',df_DU_Jakarta['Tanpa Gejala'].sum())\n",
    "print('Data positif covid dengan gejala        : ',df_DU_Jakarta['Bergejala'].sum())\n",
    "print('Data positif covid yang tidak diketahui : ',df_DU_Jakarta['Belum Ada Data'].sum())"
   ]
  },
  {
   "cell_type": "code",
   "execution_count": 127,
   "metadata": {},
   "outputs": [
    {
     "data": {
      "text/plain": [
       "11475625.0"
      ]
     },
     "execution_count": 127,
     "metadata": {},
     "output_type": "execute_result"
    }
   ],
   "source": [
    "df_DU_Jakarta[['Tanpa Gejala','Bergejala','Belum Ada Data']].sum().sum()"
   ]
  },
  {
   "cell_type": "code",
   "execution_count": 184,
   "metadata": {},
   "outputs": [
    {
     "data": {
      "application/vnd.plotly.v1+json": {
       "config": {
        "plotlyServerURL": "https://plot.ly"
       },
       "data": [
        {
         "domain": {
          "x": [
           0,
           1
          ],
          "y": [
           0,
           1
          ]
         },
         "hole": 0.4,
         "hovertemplate": "label=%{label}<br>value=%{value}<extra></extra>",
         "labels": [
          "Tanpa Gejala",
          "Bergejala",
          "Belum Ada Data"
         ],
         "legendgroup": "",
         "marker": {
          "line": {
           "color": "#000000",
           "width": 2
          }
         },
         "name": "",
         "showlegend": true,
         "textinfo": "percent+label",
         "textposition": "inside",
         "type": "pie",
         "values": [
          2584819,
          3501548,
          5389258
         ]
        }
       ],
       "layout": {
        "annotations": [
         {
          "font": {
           "size": 15
          },
          "showarrow": false,
          "text": "Total :",
          "x": 0.5,
          "y": 0.56
         },
         {
          "font": {
           "size": 13
          },
          "showarrow": false,
          "text": "11475625.0",
          "x": 0.5,
          "y": 0.46
         }
        ],
        "legend": {
         "tracegroupgap": 0
        },
        "piecolorway": [
         "rgb(103,0,31)",
         "rgb(178,24,43)",
         "rgb(214,96,77)",
         "rgb(244,165,130)",
         "rgb(253,219,199)",
         "rgb(247,247,247)",
         "rgb(209,229,240)",
         "rgb(146,197,222)",
         "rgb(67,147,195)",
         "rgb(33,102,172)",
         "rgb(5,48,97)"
        ],
        "template": {
         "data": {
          "bar": [
           {
            "error_x": {
             "color": "#2a3f5f"
            },
            "error_y": {
             "color": "#2a3f5f"
            },
            "marker": {
             "line": {
              "color": "#E5ECF6",
              "width": 0.5
             },
             "pattern": {
              "fillmode": "overlay",
              "size": 10,
              "solidity": 0.2
             }
            },
            "type": "bar"
           }
          ],
          "barpolar": [
           {
            "marker": {
             "line": {
              "color": "#E5ECF6",
              "width": 0.5
             },
             "pattern": {
              "fillmode": "overlay",
              "size": 10,
              "solidity": 0.2
             }
            },
            "type": "barpolar"
           }
          ],
          "carpet": [
           {
            "aaxis": {
             "endlinecolor": "#2a3f5f",
             "gridcolor": "white",
             "linecolor": "white",
             "minorgridcolor": "white",
             "startlinecolor": "#2a3f5f"
            },
            "baxis": {
             "endlinecolor": "#2a3f5f",
             "gridcolor": "white",
             "linecolor": "white",
             "minorgridcolor": "white",
             "startlinecolor": "#2a3f5f"
            },
            "type": "carpet"
           }
          ],
          "choropleth": [
           {
            "colorbar": {
             "outlinewidth": 0,
             "ticks": ""
            },
            "type": "choropleth"
           }
          ],
          "contour": [
           {
            "colorbar": {
             "outlinewidth": 0,
             "ticks": ""
            },
            "colorscale": [
             [
              0,
              "#0d0887"
             ],
             [
              0.1111111111111111,
              "#46039f"
             ],
             [
              0.2222222222222222,
              "#7201a8"
             ],
             [
              0.3333333333333333,
              "#9c179e"
             ],
             [
              0.4444444444444444,
              "#bd3786"
             ],
             [
              0.5555555555555556,
              "#d8576b"
             ],
             [
              0.6666666666666666,
              "#ed7953"
             ],
             [
              0.7777777777777778,
              "#fb9f3a"
             ],
             [
              0.8888888888888888,
              "#fdca26"
             ],
             [
              1,
              "#f0f921"
             ]
            ],
            "type": "contour"
           }
          ],
          "contourcarpet": [
           {
            "colorbar": {
             "outlinewidth": 0,
             "ticks": ""
            },
            "type": "contourcarpet"
           }
          ],
          "heatmap": [
           {
            "colorbar": {
             "outlinewidth": 0,
             "ticks": ""
            },
            "colorscale": [
             [
              0,
              "#0d0887"
             ],
             [
              0.1111111111111111,
              "#46039f"
             ],
             [
              0.2222222222222222,
              "#7201a8"
             ],
             [
              0.3333333333333333,
              "#9c179e"
             ],
             [
              0.4444444444444444,
              "#bd3786"
             ],
             [
              0.5555555555555556,
              "#d8576b"
             ],
             [
              0.6666666666666666,
              "#ed7953"
             ],
             [
              0.7777777777777778,
              "#fb9f3a"
             ],
             [
              0.8888888888888888,
              "#fdca26"
             ],
             [
              1,
              "#f0f921"
             ]
            ],
            "type": "heatmap"
           }
          ],
          "heatmapgl": [
           {
            "colorbar": {
             "outlinewidth": 0,
             "ticks": ""
            },
            "colorscale": [
             [
              0,
              "#0d0887"
             ],
             [
              0.1111111111111111,
              "#46039f"
             ],
             [
              0.2222222222222222,
              "#7201a8"
             ],
             [
              0.3333333333333333,
              "#9c179e"
             ],
             [
              0.4444444444444444,
              "#bd3786"
             ],
             [
              0.5555555555555556,
              "#d8576b"
             ],
             [
              0.6666666666666666,
              "#ed7953"
             ],
             [
              0.7777777777777778,
              "#fb9f3a"
             ],
             [
              0.8888888888888888,
              "#fdca26"
             ],
             [
              1,
              "#f0f921"
             ]
            ],
            "type": "heatmapgl"
           }
          ],
          "histogram": [
           {
            "marker": {
             "pattern": {
              "fillmode": "overlay",
              "size": 10,
              "solidity": 0.2
             }
            },
            "type": "histogram"
           }
          ],
          "histogram2d": [
           {
            "colorbar": {
             "outlinewidth": 0,
             "ticks": ""
            },
            "colorscale": [
             [
              0,
              "#0d0887"
             ],
             [
              0.1111111111111111,
              "#46039f"
             ],
             [
              0.2222222222222222,
              "#7201a8"
             ],
             [
              0.3333333333333333,
              "#9c179e"
             ],
             [
              0.4444444444444444,
              "#bd3786"
             ],
             [
              0.5555555555555556,
              "#d8576b"
             ],
             [
              0.6666666666666666,
              "#ed7953"
             ],
             [
              0.7777777777777778,
              "#fb9f3a"
             ],
             [
              0.8888888888888888,
              "#fdca26"
             ],
             [
              1,
              "#f0f921"
             ]
            ],
            "type": "histogram2d"
           }
          ],
          "histogram2dcontour": [
           {
            "colorbar": {
             "outlinewidth": 0,
             "ticks": ""
            },
            "colorscale": [
             [
              0,
              "#0d0887"
             ],
             [
              0.1111111111111111,
              "#46039f"
             ],
             [
              0.2222222222222222,
              "#7201a8"
             ],
             [
              0.3333333333333333,
              "#9c179e"
             ],
             [
              0.4444444444444444,
              "#bd3786"
             ],
             [
              0.5555555555555556,
              "#d8576b"
             ],
             [
              0.6666666666666666,
              "#ed7953"
             ],
             [
              0.7777777777777778,
              "#fb9f3a"
             ],
             [
              0.8888888888888888,
              "#fdca26"
             ],
             [
              1,
              "#f0f921"
             ]
            ],
            "type": "histogram2dcontour"
           }
          ],
          "mesh3d": [
           {
            "colorbar": {
             "outlinewidth": 0,
             "ticks": ""
            },
            "type": "mesh3d"
           }
          ],
          "parcoords": [
           {
            "line": {
             "colorbar": {
              "outlinewidth": 0,
              "ticks": ""
             }
            },
            "type": "parcoords"
           }
          ],
          "pie": [
           {
            "automargin": true,
            "type": "pie"
           }
          ],
          "scatter": [
           {
            "marker": {
             "colorbar": {
              "outlinewidth": 0,
              "ticks": ""
             }
            },
            "type": "scatter"
           }
          ],
          "scatter3d": [
           {
            "line": {
             "colorbar": {
              "outlinewidth": 0,
              "ticks": ""
             }
            },
            "marker": {
             "colorbar": {
              "outlinewidth": 0,
              "ticks": ""
             }
            },
            "type": "scatter3d"
           }
          ],
          "scattercarpet": [
           {
            "marker": {
             "colorbar": {
              "outlinewidth": 0,
              "ticks": ""
             }
            },
            "type": "scattercarpet"
           }
          ],
          "scattergeo": [
           {
            "marker": {
             "colorbar": {
              "outlinewidth": 0,
              "ticks": ""
             }
            },
            "type": "scattergeo"
           }
          ],
          "scattergl": [
           {
            "marker": {
             "colorbar": {
              "outlinewidth": 0,
              "ticks": ""
             }
            },
            "type": "scattergl"
           }
          ],
          "scattermapbox": [
           {
            "marker": {
             "colorbar": {
              "outlinewidth": 0,
              "ticks": ""
             }
            },
            "type": "scattermapbox"
           }
          ],
          "scatterpolar": [
           {
            "marker": {
             "colorbar": {
              "outlinewidth": 0,
              "ticks": ""
             }
            },
            "type": "scatterpolar"
           }
          ],
          "scatterpolargl": [
           {
            "marker": {
             "colorbar": {
              "outlinewidth": 0,
              "ticks": ""
             }
            },
            "type": "scatterpolargl"
           }
          ],
          "scatterternary": [
           {
            "marker": {
             "colorbar": {
              "outlinewidth": 0,
              "ticks": ""
             }
            },
            "type": "scatterternary"
           }
          ],
          "surface": [
           {
            "colorbar": {
             "outlinewidth": 0,
             "ticks": ""
            },
            "colorscale": [
             [
              0,
              "#0d0887"
             ],
             [
              0.1111111111111111,
              "#46039f"
             ],
             [
              0.2222222222222222,
              "#7201a8"
             ],
             [
              0.3333333333333333,
              "#9c179e"
             ],
             [
              0.4444444444444444,
              "#bd3786"
             ],
             [
              0.5555555555555556,
              "#d8576b"
             ],
             [
              0.6666666666666666,
              "#ed7953"
             ],
             [
              0.7777777777777778,
              "#fb9f3a"
             ],
             [
              0.8888888888888888,
              "#fdca26"
             ],
             [
              1,
              "#f0f921"
             ]
            ],
            "type": "surface"
           }
          ],
          "table": [
           {
            "cells": {
             "fill": {
              "color": "#EBF0F8"
             },
             "line": {
              "color": "white"
             }
            },
            "header": {
             "fill": {
              "color": "#C8D4E3"
             },
             "line": {
              "color": "white"
             }
            },
            "type": "table"
           }
          ]
         },
         "layout": {
          "annotationdefaults": {
           "arrowcolor": "#2a3f5f",
           "arrowhead": 0,
           "arrowwidth": 1
          },
          "autotypenumbers": "strict",
          "coloraxis": {
           "colorbar": {
            "outlinewidth": 0,
            "ticks": ""
           }
          },
          "colorscale": {
           "diverging": [
            [
             0,
             "#8e0152"
            ],
            [
             0.1,
             "#c51b7d"
            ],
            [
             0.2,
             "#de77ae"
            ],
            [
             0.3,
             "#f1b6da"
            ],
            [
             0.4,
             "#fde0ef"
            ],
            [
             0.5,
             "#f7f7f7"
            ],
            [
             0.6,
             "#e6f5d0"
            ],
            [
             0.7,
             "#b8e186"
            ],
            [
             0.8,
             "#7fbc41"
            ],
            [
             0.9,
             "#4d9221"
            ],
            [
             1,
             "#276419"
            ]
           ],
           "sequential": [
            [
             0,
             "#0d0887"
            ],
            [
             0.1111111111111111,
             "#46039f"
            ],
            [
             0.2222222222222222,
             "#7201a8"
            ],
            [
             0.3333333333333333,
             "#9c179e"
            ],
            [
             0.4444444444444444,
             "#bd3786"
            ],
            [
             0.5555555555555556,
             "#d8576b"
            ],
            [
             0.6666666666666666,
             "#ed7953"
            ],
            [
             0.7777777777777778,
             "#fb9f3a"
            ],
            [
             0.8888888888888888,
             "#fdca26"
            ],
            [
             1,
             "#f0f921"
            ]
           ],
           "sequentialminus": [
            [
             0,
             "#0d0887"
            ],
            [
             0.1111111111111111,
             "#46039f"
            ],
            [
             0.2222222222222222,
             "#7201a8"
            ],
            [
             0.3333333333333333,
             "#9c179e"
            ],
            [
             0.4444444444444444,
             "#bd3786"
            ],
            [
             0.5555555555555556,
             "#d8576b"
            ],
            [
             0.6666666666666666,
             "#ed7953"
            ],
            [
             0.7777777777777778,
             "#fb9f3a"
            ],
            [
             0.8888888888888888,
             "#fdca26"
            ],
            [
             1,
             "#f0f921"
            ]
           ]
          },
          "colorway": [
           "#636efa",
           "#EF553B",
           "#00cc96",
           "#ab63fa",
           "#FFA15A",
           "#19d3f3",
           "#FF6692",
           "#B6E880",
           "#FF97FF",
           "#FECB52"
          ],
          "font": {
           "color": "#2a3f5f"
          },
          "geo": {
           "bgcolor": "white",
           "lakecolor": "white",
           "landcolor": "#E5ECF6",
           "showlakes": true,
           "showland": true,
           "subunitcolor": "white"
          },
          "hoverlabel": {
           "align": "left"
          },
          "hovermode": "closest",
          "mapbox": {
           "style": "light"
          },
          "paper_bgcolor": "white",
          "plot_bgcolor": "#E5ECF6",
          "polar": {
           "angularaxis": {
            "gridcolor": "white",
            "linecolor": "white",
            "ticks": ""
           },
           "bgcolor": "#E5ECF6",
           "radialaxis": {
            "gridcolor": "white",
            "linecolor": "white",
            "ticks": ""
           }
          },
          "scene": {
           "xaxis": {
            "backgroundcolor": "#E5ECF6",
            "gridcolor": "white",
            "gridwidth": 2,
            "linecolor": "white",
            "showbackground": true,
            "ticks": "",
            "zerolinecolor": "white"
           },
           "yaxis": {
            "backgroundcolor": "#E5ECF6",
            "gridcolor": "white",
            "gridwidth": 2,
            "linecolor": "white",
            "showbackground": true,
            "ticks": "",
            "zerolinecolor": "white"
           },
           "zaxis": {
            "backgroundcolor": "#E5ECF6",
            "gridcolor": "white",
            "gridwidth": 2,
            "linecolor": "white",
            "showbackground": true,
            "ticks": "",
            "zerolinecolor": "white"
           }
          },
          "shapedefaults": {
           "line": {
            "color": "#2a3f5f"
           }
          },
          "ternary": {
           "aaxis": {
            "gridcolor": "white",
            "linecolor": "white",
            "ticks": ""
           },
           "baxis": {
            "gridcolor": "white",
            "linecolor": "white",
            "ticks": ""
           },
           "bgcolor": "#E5ECF6",
           "caxis": {
            "gridcolor": "white",
            "linecolor": "white",
            "ticks": ""
           }
          },
          "title": {
           "x": 0.05
          },
          "xaxis": {
           "automargin": true,
           "gridcolor": "white",
           "linecolor": "white",
           "ticks": "",
           "title": {
            "standoff": 15
           },
           "zerolinecolor": "white",
           "zerolinewidth": 2
          },
          "yaxis": {
           "automargin": true,
           "gridcolor": "white",
           "linecolor": "white",
           "ticks": "",
           "title": {
            "standoff": 15
           },
           "zerolinecolor": "white",
           "zerolinewidth": 2
          }
         }
        },
        "title": {
         "text": "Data Pasien covid Positif Harian"
        }
       }
      }
     },
     "metadata": {},
     "output_type": "display_data"
    }
   ],
   "source": [
    "fig = px.pie(names=['Tanpa Gejala','Bergejala','Belum Ada Data'],values=df_DU_Jakarta[['Tanpa Gejala','Bergejala','Belum Ada Data']].sum().values,title='Data Pasien covid Positif Harian', color_discrete_sequence=px.colors.sequential.RdBu,hole=.4)\n",
    "fig.update_traces(textposition='inside', textinfo='percent+label', marker=dict(line=dict(color='#000000', width=2)))\n",
    "fig.update_layout(\n",
    "    # Add annotations in the center of the donut pies.\n",
    "    annotations=[dict(text='Total :', x=0.5, y=0.56, font_size=15, showarrow=False),\n",
    "                 dict(text='11475625.0', x=0.5, y=0.46, font_size=13, showarrow=False)])\n",
    "fig.show()"
   ]
  },
  {
   "cell_type": "markdown",
   "metadata": {},
   "source": [
    "Interpretasi\n",
    "\n",
    "Dari 11475625 pasien covid 30.5% mengalami gejala dan 22.5% pasien covid tidak mengalami gejala.\n",
    "\n",
    "dari perbedaan yang sedikit tersebut yaitu 8%, kami asumsikan gejala tidak dapat menjadi faktor utama untuk mengetahui bahwa apakah seorang itu mengalami covid atau tidak."
   ]
  },
  {
   "cell_type": "code",
   "execution_count": 187,
   "metadata": {},
   "outputs": [
    {
     "data": {
      "text/plain": [
       "Sembuh       407740901\n",
       "Meninggal      6277939\n",
       "dtype: int64"
      ]
     },
     "execution_count": 187,
     "metadata": {},
     "output_type": "execute_result"
    }
   ],
   "source": [
    "df_DU_Jakarta[['Sembuh','Meninggal']].sum()"
   ]
  },
  {
   "cell_type": "code",
   "execution_count": 194,
   "metadata": {},
   "outputs": [
    {
     "data": {
      "text/plain": [
       "414018840"
      ]
     },
     "execution_count": 194,
     "metadata": {},
     "output_type": "execute_result"
    }
   ],
   "source": [
    "df_DU_Jakarta[['Sembuh','Meninggal']].sum().sum()"
   ]
  },
  {
   "cell_type": "code",
   "execution_count": 200,
   "metadata": {},
   "outputs": [
    {
     "data": {
      "application/vnd.plotly.v1+json": {
       "config": {
        "plotlyServerURL": "https://plot.ly"
       },
       "data": [
        {
         "domain": {
          "x": [
           0,
           1
          ],
          "y": [
           0,
           1
          ]
         },
         "hole": 0.4,
         "hovertemplate": "label=%{label}<br>value=%{value}<extra></extra>",
         "labels": [
          "Sembuh",
          "Meninggal"
         ],
         "legendgroup": "",
         "marker": {
          "line": {
           "color": "#000000",
           "width": 2
          }
         },
         "name": "",
         "showlegend": true,
         "textinfo": "percent+label",
         "type": "pie",
         "values": [
          407740901,
          6277930
         ]
        }
       ],
       "layout": {
        "annotations": [
         {
          "font": {
           "size": 15
          },
          "showarrow": false,
          "text": "Total :",
          "x": 0.5,
          "y": 0.56
         },
         {
          "font": {
           "size": 13
          },
          "showarrow": false,
          "text": "414018840",
          "x": 0.5,
          "y": 0.46
         }
        ],
        "legend": {
         "tracegroupgap": 0
        },
        "piecolorway": [
         "rgb(103,0,31)",
         "rgb(178,24,43)",
         "rgb(214,96,77)",
         "rgb(244,165,130)",
         "rgb(253,219,199)",
         "rgb(247,247,247)",
         "rgb(209,229,240)",
         "rgb(146,197,222)",
         "rgb(67,147,195)",
         "rgb(33,102,172)",
         "rgb(5,48,97)"
        ],
        "template": {
         "data": {
          "bar": [
           {
            "error_x": {
             "color": "#2a3f5f"
            },
            "error_y": {
             "color": "#2a3f5f"
            },
            "marker": {
             "line": {
              "color": "#E5ECF6",
              "width": 0.5
             },
             "pattern": {
              "fillmode": "overlay",
              "size": 10,
              "solidity": 0.2
             }
            },
            "type": "bar"
           }
          ],
          "barpolar": [
           {
            "marker": {
             "line": {
              "color": "#E5ECF6",
              "width": 0.5
             },
             "pattern": {
              "fillmode": "overlay",
              "size": 10,
              "solidity": 0.2
             }
            },
            "type": "barpolar"
           }
          ],
          "carpet": [
           {
            "aaxis": {
             "endlinecolor": "#2a3f5f",
             "gridcolor": "white",
             "linecolor": "white",
             "minorgridcolor": "white",
             "startlinecolor": "#2a3f5f"
            },
            "baxis": {
             "endlinecolor": "#2a3f5f",
             "gridcolor": "white",
             "linecolor": "white",
             "minorgridcolor": "white",
             "startlinecolor": "#2a3f5f"
            },
            "type": "carpet"
           }
          ],
          "choropleth": [
           {
            "colorbar": {
             "outlinewidth": 0,
             "ticks": ""
            },
            "type": "choropleth"
           }
          ],
          "contour": [
           {
            "colorbar": {
             "outlinewidth": 0,
             "ticks": ""
            },
            "colorscale": [
             [
              0,
              "#0d0887"
             ],
             [
              0.1111111111111111,
              "#46039f"
             ],
             [
              0.2222222222222222,
              "#7201a8"
             ],
             [
              0.3333333333333333,
              "#9c179e"
             ],
             [
              0.4444444444444444,
              "#bd3786"
             ],
             [
              0.5555555555555556,
              "#d8576b"
             ],
             [
              0.6666666666666666,
              "#ed7953"
             ],
             [
              0.7777777777777778,
              "#fb9f3a"
             ],
             [
              0.8888888888888888,
              "#fdca26"
             ],
             [
              1,
              "#f0f921"
             ]
            ],
            "type": "contour"
           }
          ],
          "contourcarpet": [
           {
            "colorbar": {
             "outlinewidth": 0,
             "ticks": ""
            },
            "type": "contourcarpet"
           }
          ],
          "heatmap": [
           {
            "colorbar": {
             "outlinewidth": 0,
             "ticks": ""
            },
            "colorscale": [
             [
              0,
              "#0d0887"
             ],
             [
              0.1111111111111111,
              "#46039f"
             ],
             [
              0.2222222222222222,
              "#7201a8"
             ],
             [
              0.3333333333333333,
              "#9c179e"
             ],
             [
              0.4444444444444444,
              "#bd3786"
             ],
             [
              0.5555555555555556,
              "#d8576b"
             ],
             [
              0.6666666666666666,
              "#ed7953"
             ],
             [
              0.7777777777777778,
              "#fb9f3a"
             ],
             [
              0.8888888888888888,
              "#fdca26"
             ],
             [
              1,
              "#f0f921"
             ]
            ],
            "type": "heatmap"
           }
          ],
          "heatmapgl": [
           {
            "colorbar": {
             "outlinewidth": 0,
             "ticks": ""
            },
            "colorscale": [
             [
              0,
              "#0d0887"
             ],
             [
              0.1111111111111111,
              "#46039f"
             ],
             [
              0.2222222222222222,
              "#7201a8"
             ],
             [
              0.3333333333333333,
              "#9c179e"
             ],
             [
              0.4444444444444444,
              "#bd3786"
             ],
             [
              0.5555555555555556,
              "#d8576b"
             ],
             [
              0.6666666666666666,
              "#ed7953"
             ],
             [
              0.7777777777777778,
              "#fb9f3a"
             ],
             [
              0.8888888888888888,
              "#fdca26"
             ],
             [
              1,
              "#f0f921"
             ]
            ],
            "type": "heatmapgl"
           }
          ],
          "histogram": [
           {
            "marker": {
             "pattern": {
              "fillmode": "overlay",
              "size": 10,
              "solidity": 0.2
             }
            },
            "type": "histogram"
           }
          ],
          "histogram2d": [
           {
            "colorbar": {
             "outlinewidth": 0,
             "ticks": ""
            },
            "colorscale": [
             [
              0,
              "#0d0887"
             ],
             [
              0.1111111111111111,
              "#46039f"
             ],
             [
              0.2222222222222222,
              "#7201a8"
             ],
             [
              0.3333333333333333,
              "#9c179e"
             ],
             [
              0.4444444444444444,
              "#bd3786"
             ],
             [
              0.5555555555555556,
              "#d8576b"
             ],
             [
              0.6666666666666666,
              "#ed7953"
             ],
             [
              0.7777777777777778,
              "#fb9f3a"
             ],
             [
              0.8888888888888888,
              "#fdca26"
             ],
             [
              1,
              "#f0f921"
             ]
            ],
            "type": "histogram2d"
           }
          ],
          "histogram2dcontour": [
           {
            "colorbar": {
             "outlinewidth": 0,
             "ticks": ""
            },
            "colorscale": [
             [
              0,
              "#0d0887"
             ],
             [
              0.1111111111111111,
              "#46039f"
             ],
             [
              0.2222222222222222,
              "#7201a8"
             ],
             [
              0.3333333333333333,
              "#9c179e"
             ],
             [
              0.4444444444444444,
              "#bd3786"
             ],
             [
              0.5555555555555556,
              "#d8576b"
             ],
             [
              0.6666666666666666,
              "#ed7953"
             ],
             [
              0.7777777777777778,
              "#fb9f3a"
             ],
             [
              0.8888888888888888,
              "#fdca26"
             ],
             [
              1,
              "#f0f921"
             ]
            ],
            "type": "histogram2dcontour"
           }
          ],
          "mesh3d": [
           {
            "colorbar": {
             "outlinewidth": 0,
             "ticks": ""
            },
            "type": "mesh3d"
           }
          ],
          "parcoords": [
           {
            "line": {
             "colorbar": {
              "outlinewidth": 0,
              "ticks": ""
             }
            },
            "type": "parcoords"
           }
          ],
          "pie": [
           {
            "automargin": true,
            "type": "pie"
           }
          ],
          "scatter": [
           {
            "marker": {
             "colorbar": {
              "outlinewidth": 0,
              "ticks": ""
             }
            },
            "type": "scatter"
           }
          ],
          "scatter3d": [
           {
            "line": {
             "colorbar": {
              "outlinewidth": 0,
              "ticks": ""
             }
            },
            "marker": {
             "colorbar": {
              "outlinewidth": 0,
              "ticks": ""
             }
            },
            "type": "scatter3d"
           }
          ],
          "scattercarpet": [
           {
            "marker": {
             "colorbar": {
              "outlinewidth": 0,
              "ticks": ""
             }
            },
            "type": "scattercarpet"
           }
          ],
          "scattergeo": [
           {
            "marker": {
             "colorbar": {
              "outlinewidth": 0,
              "ticks": ""
             }
            },
            "type": "scattergeo"
           }
          ],
          "scattergl": [
           {
            "marker": {
             "colorbar": {
              "outlinewidth": 0,
              "ticks": ""
             }
            },
            "type": "scattergl"
           }
          ],
          "scattermapbox": [
           {
            "marker": {
             "colorbar": {
              "outlinewidth": 0,
              "ticks": ""
             }
            },
            "type": "scattermapbox"
           }
          ],
          "scatterpolar": [
           {
            "marker": {
             "colorbar": {
              "outlinewidth": 0,
              "ticks": ""
             }
            },
            "type": "scatterpolar"
           }
          ],
          "scatterpolargl": [
           {
            "marker": {
             "colorbar": {
              "outlinewidth": 0,
              "ticks": ""
             }
            },
            "type": "scatterpolargl"
           }
          ],
          "scatterternary": [
           {
            "marker": {
             "colorbar": {
              "outlinewidth": 0,
              "ticks": ""
             }
            },
            "type": "scatterternary"
           }
          ],
          "surface": [
           {
            "colorbar": {
             "outlinewidth": 0,
             "ticks": ""
            },
            "colorscale": [
             [
              0,
              "#0d0887"
             ],
             [
              0.1111111111111111,
              "#46039f"
             ],
             [
              0.2222222222222222,
              "#7201a8"
             ],
             [
              0.3333333333333333,
              "#9c179e"
             ],
             [
              0.4444444444444444,
              "#bd3786"
             ],
             [
              0.5555555555555556,
              "#d8576b"
             ],
             [
              0.6666666666666666,
              "#ed7953"
             ],
             [
              0.7777777777777778,
              "#fb9f3a"
             ],
             [
              0.8888888888888888,
              "#fdca26"
             ],
             [
              1,
              "#f0f921"
             ]
            ],
            "type": "surface"
           }
          ],
          "table": [
           {
            "cells": {
             "fill": {
              "color": "#EBF0F8"
             },
             "line": {
              "color": "white"
             }
            },
            "header": {
             "fill": {
              "color": "#C8D4E3"
             },
             "line": {
              "color": "white"
             }
            },
            "type": "table"
           }
          ]
         },
         "layout": {
          "annotationdefaults": {
           "arrowcolor": "#2a3f5f",
           "arrowhead": 0,
           "arrowwidth": 1
          },
          "autotypenumbers": "strict",
          "coloraxis": {
           "colorbar": {
            "outlinewidth": 0,
            "ticks": ""
           }
          },
          "colorscale": {
           "diverging": [
            [
             0,
             "#8e0152"
            ],
            [
             0.1,
             "#c51b7d"
            ],
            [
             0.2,
             "#de77ae"
            ],
            [
             0.3,
             "#f1b6da"
            ],
            [
             0.4,
             "#fde0ef"
            ],
            [
             0.5,
             "#f7f7f7"
            ],
            [
             0.6,
             "#e6f5d0"
            ],
            [
             0.7,
             "#b8e186"
            ],
            [
             0.8,
             "#7fbc41"
            ],
            [
             0.9,
             "#4d9221"
            ],
            [
             1,
             "#276419"
            ]
           ],
           "sequential": [
            [
             0,
             "#0d0887"
            ],
            [
             0.1111111111111111,
             "#46039f"
            ],
            [
             0.2222222222222222,
             "#7201a8"
            ],
            [
             0.3333333333333333,
             "#9c179e"
            ],
            [
             0.4444444444444444,
             "#bd3786"
            ],
            [
             0.5555555555555556,
             "#d8576b"
            ],
            [
             0.6666666666666666,
             "#ed7953"
            ],
            [
             0.7777777777777778,
             "#fb9f3a"
            ],
            [
             0.8888888888888888,
             "#fdca26"
            ],
            [
             1,
             "#f0f921"
            ]
           ],
           "sequentialminus": [
            [
             0,
             "#0d0887"
            ],
            [
             0.1111111111111111,
             "#46039f"
            ],
            [
             0.2222222222222222,
             "#7201a8"
            ],
            [
             0.3333333333333333,
             "#9c179e"
            ],
            [
             0.4444444444444444,
             "#bd3786"
            ],
            [
             0.5555555555555556,
             "#d8576b"
            ],
            [
             0.6666666666666666,
             "#ed7953"
            ],
            [
             0.7777777777777778,
             "#fb9f3a"
            ],
            [
             0.8888888888888888,
             "#fdca26"
            ],
            [
             1,
             "#f0f921"
            ]
           ]
          },
          "colorway": [
           "#636efa",
           "#EF553B",
           "#00cc96",
           "#ab63fa",
           "#FFA15A",
           "#19d3f3",
           "#FF6692",
           "#B6E880",
           "#FF97FF",
           "#FECB52"
          ],
          "font": {
           "color": "#2a3f5f"
          },
          "geo": {
           "bgcolor": "white",
           "lakecolor": "white",
           "landcolor": "#E5ECF6",
           "showlakes": true,
           "showland": true,
           "subunitcolor": "white"
          },
          "hoverlabel": {
           "align": "left"
          },
          "hovermode": "closest",
          "mapbox": {
           "style": "light"
          },
          "paper_bgcolor": "white",
          "plot_bgcolor": "#E5ECF6",
          "polar": {
           "angularaxis": {
            "gridcolor": "white",
            "linecolor": "white",
            "ticks": ""
           },
           "bgcolor": "#E5ECF6",
           "radialaxis": {
            "gridcolor": "white",
            "linecolor": "white",
            "ticks": ""
           }
          },
          "scene": {
           "xaxis": {
            "backgroundcolor": "#E5ECF6",
            "gridcolor": "white",
            "gridwidth": 2,
            "linecolor": "white",
            "showbackground": true,
            "ticks": "",
            "zerolinecolor": "white"
           },
           "yaxis": {
            "backgroundcolor": "#E5ECF6",
            "gridcolor": "white",
            "gridwidth": 2,
            "linecolor": "white",
            "showbackground": true,
            "ticks": "",
            "zerolinecolor": "white"
           },
           "zaxis": {
            "backgroundcolor": "#E5ECF6",
            "gridcolor": "white",
            "gridwidth": 2,
            "linecolor": "white",
            "showbackground": true,
            "ticks": "",
            "zerolinecolor": "white"
           }
          },
          "shapedefaults": {
           "line": {
            "color": "#2a3f5f"
           }
          },
          "ternary": {
           "aaxis": {
            "gridcolor": "white",
            "linecolor": "white",
            "ticks": ""
           },
           "baxis": {
            "gridcolor": "white",
            "linecolor": "white",
            "ticks": ""
           },
           "bgcolor": "#E5ECF6",
           "caxis": {
            "gridcolor": "white",
            "linecolor": "white",
            "ticks": ""
           }
          },
          "title": {
           "x": 0.05
          },
          "xaxis": {
           "automargin": true,
           "gridcolor": "white",
           "linecolor": "white",
           "ticks": "",
           "title": {
            "standoff": 15
           },
           "zerolinecolor": "white",
           "zerolinewidth": 2
          },
          "yaxis": {
           "automargin": true,
           "gridcolor": "white",
           "linecolor": "white",
           "ticks": "",
           "title": {
            "standoff": 15
           },
           "zerolinecolor": "white",
           "zerolinewidth": 2
          }
         }
        },
        "title": {
         "text": "Persentase Kesembuhan Covid"
        }
       }
      }
     },
     "metadata": {},
     "output_type": "display_data"
    }
   ],
   "source": [
    "fig = px.pie(names=['Sembuh','Meninggal'],values=[407740901,6277930],title='Persentase Kesembuhan Covid',color_discrete_sequence=px.colors.sequential.RdBu,hole=.4)\n",
    "fig.update_traces(textinfo='percent+label', marker=dict(line=dict(color='#000000', width=2)))\n",
    "fig.update_layout(\n",
    "    # Add annotations in the center of the donut pies.\n",
    "    annotations=[dict(text='Total :', x=0.5, y=0.56, font_size=15, showarrow=False),\n",
    "                 dict(text='414018840', x=0.5, y=0.46, font_size=13, showarrow=False)])\n",
    "fig.show()"
   ]
  },
  {
   "cell_type": "markdown",
   "metadata": {},
   "source": [
    "Interpretasi\n",
    "\n",
    "Dari 414018840 Pasien 98.48% pasien covid sembuh dan 1.52% pasien meninggal dengan angka kesembuhan pasien yang tinggi kami asumsikan bahwa covid bukanlah penyakit yang mematikan, tetapi memiliki penularan yang tinggi oleh karena itu mesti tetap waspada"
   ]
  },
  {
   "cell_type": "markdown",
   "metadata": {},
   "source": [
    "##### Daily Vaksinasi Wilayah"
   ]
  },
  {
   "cell_type": "code",
   "execution_count": 202,
   "metadata": {},
   "outputs": [
    {
     "data": {
      "text/html": [
       "<div>\n",
       "<style scoped>\n",
       "    .dataframe tbody tr th:only-of-type {\n",
       "        vertical-align: middle;\n",
       "    }\n",
       "\n",
       "    .dataframe tbody tr th {\n",
       "        vertical-align: top;\n",
       "    }\n",
       "\n",
       "    .dataframe thead th {\n",
       "        text-align: right;\n",
       "    }\n",
       "</style>\n",
       "<table border=\"1\" class=\"dataframe\">\n",
       "  <thead>\n",
       "    <tr style=\"text-align: right;\">\n",
       "      <th></th>\n",
       "      <th>Tanggal</th>\n",
       "      <th>Cakupan Suntik 1</th>\n",
       "      <th>Cakupan Suntik 2</th>\n",
       "    </tr>\n",
       "  </thead>\n",
       "  <tbody>\n",
       "    <tr>\n",
       "      <th>0</th>\n",
       "      <td>2021-06-12</td>\n",
       "      <td>19281.0</td>\n",
       "      <td>1173.0</td>\n",
       "    </tr>\n",
       "    <tr>\n",
       "      <th>1</th>\n",
       "      <td>2021-06-13</td>\n",
       "      <td>198.0</td>\n",
       "      <td>29.0</td>\n",
       "    </tr>\n",
       "    <tr>\n",
       "      <th>2</th>\n",
       "      <td>2021-06-14</td>\n",
       "      <td>79491.0</td>\n",
       "      <td>3691.0</td>\n",
       "    </tr>\n",
       "    <tr>\n",
       "      <th>3</th>\n",
       "      <td>2021-06-15</td>\n",
       "      <td>81545.0</td>\n",
       "      <td>3385.0</td>\n",
       "    </tr>\n",
       "    <tr>\n",
       "      <th>4</th>\n",
       "      <td>2021-06-16</td>\n",
       "      <td>92210.0</td>\n",
       "      <td>3436.0</td>\n",
       "    </tr>\n",
       "    <tr>\n",
       "      <th>...</th>\n",
       "      <td>...</td>\n",
       "      <td>...</td>\n",
       "      <td>...</td>\n",
       "    </tr>\n",
       "    <tr>\n",
       "      <th>364</th>\n",
       "      <td>2022-06-11</td>\n",
       "      <td>430.0</td>\n",
       "      <td>280.0</td>\n",
       "    </tr>\n",
       "    <tr>\n",
       "      <th>365</th>\n",
       "      <td>2022-06-12</td>\n",
       "      <td>300.0</td>\n",
       "      <td>194.0</td>\n",
       "    </tr>\n",
       "    <tr>\n",
       "      <th>366</th>\n",
       "      <td>2022-06-13</td>\n",
       "      <td>900.0</td>\n",
       "      <td>1272.0</td>\n",
       "    </tr>\n",
       "    <tr>\n",
       "      <th>367</th>\n",
       "      <td>2022-06-14</td>\n",
       "      <td>1028.0</td>\n",
       "      <td>1112.0</td>\n",
       "    </tr>\n",
       "    <tr>\n",
       "      <th>368</th>\n",
       "      <td>2022-06-15</td>\n",
       "      <td>1141.0</td>\n",
       "      <td>1003.0</td>\n",
       "    </tr>\n",
       "  </tbody>\n",
       "</table>\n",
       "<p>369 rows × 3 columns</p>\n",
       "</div>"
      ],
      "text/plain": [
       "       Tanggal  Cakupan Suntik 1  Cakupan Suntik 2\n",
       "0   2021-06-12           19281.0            1173.0\n",
       "1   2021-06-13             198.0              29.0\n",
       "2   2021-06-14           79491.0            3691.0\n",
       "3   2021-06-15           81545.0            3385.0\n",
       "4   2021-06-16           92210.0            3436.0\n",
       "..         ...               ...               ...\n",
       "364 2022-06-11             430.0             280.0\n",
       "365 2022-06-12             300.0             194.0\n",
       "366 2022-06-13             900.0            1272.0\n",
       "367 2022-06-14            1028.0            1112.0\n",
       "368 2022-06-15            1141.0            1003.0\n",
       "\n",
       "[369 rows x 3 columns]"
      ]
     },
     "execution_count": 202,
     "metadata": {},
     "output_type": "execute_result"
    }
   ],
   "source": [
    "df_DU_DVW"
   ]
  },
  {
   "cell_type": "code",
   "execution_count": 203,
   "metadata": {},
   "outputs": [
    {
     "data": {
      "application/vnd.plotly.v1+json": {
       "config": {
        "plotlyServerURL": "https://plot.ly"
       },
       "data": [
        {
         "hovertemplate": "variable=Cakupan Suntik 1<br>Tanggal=%{x}<br>value=%{y}<extra></extra>",
         "legendgroup": "Cakupan Suntik 1",
         "line": {
          "color": "#636efa",
          "dash": "solid"
         },
         "marker": {
          "symbol": "circle"
         },
         "mode": "lines",
         "name": "Cakupan Suntik 1",
         "orientation": "v",
         "showlegend": true,
         "type": "scatter",
         "x": [
          "2021-06-12T00:00:00",
          "2021-06-13T00:00:00",
          "2021-06-14T00:00:00",
          "2021-06-15T00:00:00",
          "2021-06-16T00:00:00",
          "2021-06-17T00:00:00",
          "2021-06-18T00:00:00",
          "2021-06-19T00:00:00",
          "2021-06-20T00:00:00",
          "2021-06-21T00:00:00",
          "2021-06-22T00:00:00",
          "2021-06-23T00:00:00",
          "2021-06-24T00:00:00",
          "2021-06-25T00:00:00",
          "2021-06-26T00:00:00",
          "2021-06-27T00:00:00",
          "2021-06-28T00:00:00",
          "2021-06-29T00:00:00",
          "2021-06-30T00:00:00",
          "2021-07-01T00:00:00",
          "2021-07-02T00:00:00",
          "2021-07-03T00:00:00",
          "2021-07-04T00:00:00",
          "2021-07-05T00:00:00",
          "2021-07-06T00:00:00",
          "2021-07-07T00:00:00",
          "2021-07-08T00:00:00",
          "2021-07-09T00:00:00",
          "2021-07-10T00:00:00",
          "2021-07-11T00:00:00",
          "2021-07-12T00:00:00",
          "2021-07-13T00:00:00",
          "2021-07-14T00:00:00",
          "2021-07-15T00:00:00",
          "2021-07-16T00:00:00",
          "2021-07-17T00:00:00",
          "2021-07-18T00:00:00",
          "2021-07-19T00:00:00",
          "2021-07-20T00:00:00",
          "2021-07-21T00:00:00",
          "2021-07-22T00:00:00",
          "2021-07-23T00:00:00",
          "2021-07-24T00:00:00",
          "2021-07-25T00:00:00",
          "2021-07-26T00:00:00",
          "2021-07-27T00:00:00",
          "2021-07-28T00:00:00",
          "2021-07-29T00:00:00",
          "2021-07-30T00:00:00",
          "2021-07-31T00:00:00",
          "2021-08-01T00:00:00",
          "2021-08-02T00:00:00",
          "2021-08-03T00:00:00",
          "2021-08-04T00:00:00",
          "2021-08-05T00:00:00",
          "2021-08-06T00:00:00",
          "2021-08-07T00:00:00",
          "2021-08-08T00:00:00",
          "2021-08-09T00:00:00",
          "2021-08-10T00:00:00",
          "2021-08-11T00:00:00",
          "2021-08-12T00:00:00",
          "2021-08-13T00:00:00",
          "2021-08-14T00:00:00",
          "2021-08-15T00:00:00",
          "2021-08-16T00:00:00",
          "2021-08-17T00:00:00",
          "2021-08-18T00:00:00",
          "2021-08-19T00:00:00",
          "2021-08-20T00:00:00",
          "2021-08-21T00:00:00",
          "2021-08-22T00:00:00",
          "2021-08-23T00:00:00",
          "2021-08-24T00:00:00",
          "2021-08-25T00:00:00",
          "2021-08-26T00:00:00",
          "2021-08-27T00:00:00",
          "2021-08-28T00:00:00",
          "2021-08-29T00:00:00",
          "2021-08-30T00:00:00",
          "2021-08-31T00:00:00",
          "2021-09-01T00:00:00",
          "2021-09-02T00:00:00",
          "2021-09-03T00:00:00",
          "2021-09-04T00:00:00",
          "2021-09-05T00:00:00",
          "2021-09-06T00:00:00",
          "2021-09-07T00:00:00",
          "2021-09-08T00:00:00",
          "2021-09-09T00:00:00",
          "2021-09-10T00:00:00",
          "2021-09-11T00:00:00",
          "2021-09-12T00:00:00",
          "2021-09-13T00:00:00",
          "2021-09-14T00:00:00",
          "2021-09-15T00:00:00",
          "2021-09-16T00:00:00",
          "2021-09-17T00:00:00",
          "2021-09-18T00:00:00",
          "2021-09-19T00:00:00",
          "2021-09-20T00:00:00",
          "2021-09-21T00:00:00",
          "2021-09-22T00:00:00",
          "2021-09-23T00:00:00",
          "2021-09-24T00:00:00",
          "2021-09-25T00:00:00",
          "2021-09-26T00:00:00",
          "2021-09-27T00:00:00",
          "2021-09-28T00:00:00",
          "2021-09-29T00:00:00",
          "2021-09-30T00:00:00",
          "2021-10-01T00:00:00",
          "2021-10-02T00:00:00",
          "2021-10-03T00:00:00",
          "2021-10-04T00:00:00",
          "2021-10-05T00:00:00",
          "2021-10-06T00:00:00",
          "2021-10-07T00:00:00",
          "2021-10-08T00:00:00",
          "2021-10-09T00:00:00",
          "2021-10-10T00:00:00",
          "2021-10-11T00:00:00",
          "2021-10-12T00:00:00",
          "2021-10-13T00:00:00",
          "2021-10-14T00:00:00",
          "2021-10-15T00:00:00",
          "2021-10-16T00:00:00",
          "2021-10-17T00:00:00",
          "2021-10-18T00:00:00",
          "2021-10-19T00:00:00",
          "2021-10-20T00:00:00",
          "2021-10-21T00:00:00",
          "2021-10-22T00:00:00",
          "2021-10-23T00:00:00",
          "2021-10-24T00:00:00",
          "2021-10-25T00:00:00",
          "2021-10-26T00:00:00",
          "2021-10-27T00:00:00",
          "2021-10-28T00:00:00",
          "2021-10-29T00:00:00",
          "2021-10-30T00:00:00",
          "2021-10-31T00:00:00",
          "2021-11-01T00:00:00",
          "2021-11-02T00:00:00",
          "2021-11-03T00:00:00",
          "2021-11-04T00:00:00",
          "2021-11-05T00:00:00",
          "2021-11-06T00:00:00",
          "2021-11-07T00:00:00",
          "2021-11-08T00:00:00",
          "2021-11-09T00:00:00",
          "2021-11-10T00:00:00",
          "2021-11-11T00:00:00",
          "2021-11-12T00:00:00",
          "2021-11-13T00:00:00",
          "2021-11-14T00:00:00",
          "2021-11-15T00:00:00",
          "2021-11-16T00:00:00",
          "2021-11-17T00:00:00",
          "2021-11-18T00:00:00",
          "2021-11-19T00:00:00",
          "2021-11-20T00:00:00",
          "2021-11-21T00:00:00",
          "2021-11-22T00:00:00",
          "2021-11-23T00:00:00",
          "2021-11-24T00:00:00",
          "2021-11-25T00:00:00",
          "2021-11-26T00:00:00",
          "2021-11-27T00:00:00",
          "2021-11-28T00:00:00",
          "2021-11-29T00:00:00",
          "2021-11-30T00:00:00",
          "2021-12-01T00:00:00",
          "2021-12-02T00:00:00",
          "2021-12-03T00:00:00",
          "2021-12-04T00:00:00",
          "2021-12-05T00:00:00",
          "2021-12-06T00:00:00",
          "2021-12-07T00:00:00",
          "2021-12-08T00:00:00",
          "2021-12-09T00:00:00",
          "2021-12-10T00:00:00",
          "2021-12-11T00:00:00",
          "2021-12-12T00:00:00",
          "2021-12-13T00:00:00",
          "2021-12-14T00:00:00",
          "2021-12-15T00:00:00",
          "2021-12-16T00:00:00",
          "2021-12-17T00:00:00",
          "2021-12-18T00:00:00",
          "2021-12-19T00:00:00",
          "2021-12-20T00:00:00",
          "2021-12-21T00:00:00",
          "2021-12-22T00:00:00",
          "2021-12-23T00:00:00",
          "2021-12-24T00:00:00",
          "2021-12-25T00:00:00",
          "2021-12-26T00:00:00",
          "2021-12-27T00:00:00",
          "2021-12-28T00:00:00",
          "2021-12-29T00:00:00",
          "2021-12-30T00:00:00",
          "2021-12-31T00:00:00",
          "2022-01-01T00:00:00",
          "2022-01-02T00:00:00",
          "2022-01-03T00:00:00",
          "2022-01-04T00:00:00",
          "2022-01-05T00:00:00",
          "2022-01-06T00:00:00",
          "2022-01-07T00:00:00",
          "2022-01-08T00:00:00",
          "2022-01-09T00:00:00",
          "2022-01-10T00:00:00",
          "2022-01-11T00:00:00",
          "2022-01-12T00:00:00",
          "2022-01-13T00:00:00",
          "2022-01-14T00:00:00",
          "2022-01-15T00:00:00",
          "2022-01-16T00:00:00",
          "2022-01-17T00:00:00",
          "2022-01-18T00:00:00",
          "2022-01-19T00:00:00",
          "2022-01-20T00:00:00",
          "2022-01-21T00:00:00",
          "2022-01-22T00:00:00",
          "2022-01-23T00:00:00",
          "2022-01-24T00:00:00",
          "2022-01-25T00:00:00",
          "2022-01-26T00:00:00",
          "2022-01-27T00:00:00",
          "2022-01-28T00:00:00",
          "2022-01-29T00:00:00",
          "2022-01-30T00:00:00",
          "2022-01-31T00:00:00",
          "2022-02-01T00:00:00",
          "2022-02-02T00:00:00",
          "2022-02-03T00:00:00",
          "2022-02-04T00:00:00",
          "2022-02-05T00:00:00",
          "2022-02-06T00:00:00",
          "2022-02-07T00:00:00",
          "2022-02-08T00:00:00",
          "2022-02-09T00:00:00",
          "2022-02-10T00:00:00",
          "2022-02-11T00:00:00",
          "2022-02-12T00:00:00",
          "2022-02-13T00:00:00",
          "2022-02-14T00:00:00",
          "2022-02-15T00:00:00",
          "2022-02-16T00:00:00",
          "2022-02-17T00:00:00",
          "2022-02-18T00:00:00",
          "2022-02-19T00:00:00",
          "2022-02-20T00:00:00",
          "2022-02-21T00:00:00",
          "2022-02-22T00:00:00",
          "2022-02-23T00:00:00",
          "2022-02-24T00:00:00",
          "2022-02-25T00:00:00",
          "2022-02-26T00:00:00",
          "2022-02-27T00:00:00",
          "2022-02-28T00:00:00",
          "2022-03-01T00:00:00",
          "2022-03-02T00:00:00",
          "2022-03-03T00:00:00",
          "2022-03-04T00:00:00",
          "2022-03-05T00:00:00",
          "2022-03-06T00:00:00",
          "2022-03-07T00:00:00",
          "2022-03-08T00:00:00",
          "2022-03-09T00:00:00",
          "2022-03-10T00:00:00",
          "2022-03-11T00:00:00",
          "2022-03-12T00:00:00",
          "2022-03-13T00:00:00",
          "2022-03-14T00:00:00",
          "2022-03-15T00:00:00",
          "2022-03-16T00:00:00",
          "2022-03-17T00:00:00",
          "2022-03-18T00:00:00",
          "2022-03-19T00:00:00",
          "2022-03-20T00:00:00",
          "2022-03-21T00:00:00",
          "2022-03-22T00:00:00",
          "2022-03-23T00:00:00",
          "2022-03-24T00:00:00",
          "2022-03-25T00:00:00",
          "2022-03-26T00:00:00",
          "2022-03-27T00:00:00",
          "2022-03-28T00:00:00",
          "2022-03-29T00:00:00",
          "2022-03-30T00:00:00",
          "2022-03-31T00:00:00",
          "2022-04-01T00:00:00",
          "2022-04-02T00:00:00",
          "2022-04-03T00:00:00",
          "2022-04-04T00:00:00",
          "2022-04-05T00:00:00",
          "2022-04-06T00:00:00",
          "2022-04-07T00:00:00",
          "2022-04-08T00:00:00",
          "2022-04-09T00:00:00",
          "2022-04-10T00:00:00",
          "2022-04-11T00:00:00",
          "2022-04-12T00:00:00",
          "2022-04-13T00:00:00",
          "2022-04-14T00:00:00",
          "2022-04-15T00:00:00",
          "2022-04-16T00:00:00",
          "2022-04-17T00:00:00",
          "2022-04-18T00:00:00",
          "2022-04-19T00:00:00",
          "2022-04-20T00:00:00",
          "2022-04-21T00:00:00",
          "2022-04-22T00:00:00",
          "2022-04-23T00:00:00",
          "2022-04-24T00:00:00",
          "2022-04-25T00:00:00",
          "2022-04-26T00:00:00",
          "2022-04-27T00:00:00",
          "2022-04-28T00:00:00",
          "2022-04-29T00:00:00",
          "2022-04-30T00:00:00",
          "2022-05-01T00:00:00",
          "2022-05-02T00:00:00",
          "2022-05-03T00:00:00",
          "2022-05-04T00:00:00",
          "2022-05-05T00:00:00",
          "2022-05-06T00:00:00",
          "2022-05-07T00:00:00",
          "2022-05-08T00:00:00",
          "2022-05-09T00:00:00",
          "2022-05-10T00:00:00",
          "2022-05-11T00:00:00",
          "2022-05-12T00:00:00",
          "2022-05-13T00:00:00",
          "2022-05-14T00:00:00",
          "2022-05-15T00:00:00",
          "2022-05-16T00:00:00",
          "2022-05-17T00:00:00",
          "2022-05-18T00:00:00",
          "2022-05-19T00:00:00",
          "2022-05-20T00:00:00",
          "2022-05-21T00:00:00",
          "2022-05-22T00:00:00",
          "2022-05-23T00:00:00",
          "2022-05-24T00:00:00",
          "2022-05-25T00:00:00",
          "2022-05-26T00:00:00",
          "2022-05-27T00:00:00",
          "2022-05-28T00:00:00",
          "2022-05-29T00:00:00",
          "2022-05-30T00:00:00",
          "2022-05-31T00:00:00",
          "2022-06-01T00:00:00",
          "2022-06-02T00:00:00",
          "2022-06-03T00:00:00",
          "2022-06-04T00:00:00",
          "2022-06-05T00:00:00",
          "2022-06-06T00:00:00",
          "2022-06-07T00:00:00",
          "2022-06-08T00:00:00",
          "2022-06-09T00:00:00",
          "2022-06-10T00:00:00",
          "2022-06-11T00:00:00",
          "2022-06-12T00:00:00",
          "2022-06-13T00:00:00",
          "2022-06-14T00:00:00",
          "2022-06-15T00:00:00"
         ],
         "xaxis": "x",
         "y": [
          19281,
          198,
          79491,
          81545,
          92210,
          93650,
          110177,
          40149,
          14701,
          109783,
          75171,
          156482,
          126843,
          129228,
          56926,
          20517,
          121706,
          129802,
          128620,
          102322,
          74157,
          121176,
          24669,
          80282,
          160288,
          87866,
          121040,
          50257,
          14810,
          23927,
          61797,
          293767,
          110759,
          125316,
          127120,
          66309,
          43114,
          79866,
          4794,
          72982,
          82062,
          79315,
          49995,
          34948,
          76411,
          79658,
          87911,
          93038,
          86851,
          78021,
          63494,
          132402,
          99805,
          20479,
          53992,
          118785,
          208447,
          164541,
          117523,
          85612,
          46298,
          82036,
          83464,
          63300,
          50650,
          77686,
          38930,
          45024,
          39934,
          32842,
          29095,
          11910,
          41958,
          45245,
          44805,
          41027,
          61615,
          6705,
          612,
          54198,
          42552,
          32949,
          44510,
          41872,
          22108,
          10334,
          32323,
          34665,
          33553,
          20153,
          37756,
          4840,
          6887,
          27528,
          18152,
          25281,
          16550,
          30422,
          10859,
          8341,
          10879,
          32817,
          17104,
          25551,
          17880,
          14096,
          11467,
          23242,
          19278,
          17959,
          17119,
          18303,
          6629,
          13088,
          18855,
          16129,
          17743,
          23845,
          17834,
          22208,
          4787,
          17048,
          18099,
          15958,
          26321,
          47055,
          15587,
          3639,
          16464,
          805,
          21655,
          11692,
          19107,
          6038,
          3795,
          14921,
          9364,
          9759,
          6031,
          18017,
          3514,
          2441,
          11320,
          11163,
          10995,
          166,
          8471,
          739,
          1631,
          13260,
          3483,
          3123,
          5494,
          15449,
          1879,
          1391,
          8696,
          8269,
          0,
          0,
          0,
          1777,
          1187,
          7629,
          9175,
          7822,
          6046,
          5697,
          1984,
          1516,
          7003,
          6465,
          5953,
          6283,
          6107,
          1401,
          691,
          5709,
          3082,
          5399,
          5507,
          7099,
          1555,
          784,
          5514,
          6078,
          6025,
          6543,
          6344,
          1727,
          393,
          6703,
          4377,
          74821,
          61987,
          59211,
          2032,
          2399,
          34984,
          61348,
          42261,
          42942,
          30324,
          1308,
          1594,
          26447,
          23610,
          30899,
          26696,
          23929,
          8268,
          10099,
          15772,
          877,
          36763,
          14652,
          11877,
          4910,
          4761,
          9423,
          6914,
          6813,
          7101,
          6002,
          1454,
          373,
          6512,
          5571,
          5042,
          4849,
          4260,
          1059,
          296,
          4758,
          360,
          2869,
          3936,
          3078,
          846,
          154,
          3422,
          2185,
          2688,
          2505,
          1374,
          802,
          234,
          2225,
          2450,
          2291,
          2286,
          2182,
          713,
          262,
          3146,
          840,
          2077,
          2525,
          981,
          1,
          0,
          38,
          1647,
          2485,
          2706,
          2,
          2844,
          252,
          1873,
          0,
          0,
          50854,
          3684,
          3053,
          1285,
          1023,
          10657,
          722,
          9749,
          2873,
          2168,
          1240,
          635,
          7996,
          771,
          2388,
          5847,
          4106,
          1734,
          3435,
          12441,
          5040,
          3871,
          7096,
          258,
          2374,
          1119,
          6730,
          3803,
          3928,
          3887,
          2357,
          959,
          3472,
          2391,
          6523,
          4797,
          1683,
          3018,
          1699,
          2619,
          3625,
          3354,
          3017,
          3446,
          2973,
          2019,
          2146,
          1325,
          1809,
          905,
          1396,
          0,
          0,
          0,
          0,
          492,
          408,
          402,
          426,
          209,
          607,
          647,
          961,
          1136,
          1055,
          386,
          291,
          203,
          1602,
          632,
          1425,
          1471,
          247,
          157,
          1436,
          1347,
          1484,
          187,
          1330,
          275,
          231,
          1592,
          1145,
          347,
          1283,
          1269,
          355,
          124,
          2317,
          1096,
          1062,
          1129,
          1279,
          430,
          300,
          900,
          1028,
          1141
         ],
         "yaxis": "y"
        },
        {
         "hovertemplate": "variable=Cakupan Suntik 2<br>Tanggal=%{x}<br>value=%{y}<extra></extra>",
         "legendgroup": "Cakupan Suntik 2",
         "line": {
          "color": "#EF553B",
          "dash": "solid"
         },
         "marker": {
          "symbol": "circle"
         },
         "mode": "lines",
         "name": "Cakupan Suntik 2",
         "orientation": "v",
         "showlegend": true,
         "type": "scatter",
         "x": [
          "2021-06-12T00:00:00",
          "2021-06-13T00:00:00",
          "2021-06-14T00:00:00",
          "2021-06-15T00:00:00",
          "2021-06-16T00:00:00",
          "2021-06-17T00:00:00",
          "2021-06-18T00:00:00",
          "2021-06-19T00:00:00",
          "2021-06-20T00:00:00",
          "2021-06-21T00:00:00",
          "2021-06-22T00:00:00",
          "2021-06-23T00:00:00",
          "2021-06-24T00:00:00",
          "2021-06-25T00:00:00",
          "2021-06-26T00:00:00",
          "2021-06-27T00:00:00",
          "2021-06-28T00:00:00",
          "2021-06-29T00:00:00",
          "2021-06-30T00:00:00",
          "2021-07-01T00:00:00",
          "2021-07-02T00:00:00",
          "2021-07-03T00:00:00",
          "2021-07-04T00:00:00",
          "2021-07-05T00:00:00",
          "2021-07-06T00:00:00",
          "2021-07-07T00:00:00",
          "2021-07-08T00:00:00",
          "2021-07-09T00:00:00",
          "2021-07-10T00:00:00",
          "2021-07-11T00:00:00",
          "2021-07-12T00:00:00",
          "2021-07-13T00:00:00",
          "2021-07-14T00:00:00",
          "2021-07-15T00:00:00",
          "2021-07-16T00:00:00",
          "2021-07-17T00:00:00",
          "2021-07-18T00:00:00",
          "2021-07-19T00:00:00",
          "2021-07-20T00:00:00",
          "2021-07-21T00:00:00",
          "2021-07-22T00:00:00",
          "2021-07-23T00:00:00",
          "2021-07-24T00:00:00",
          "2021-07-25T00:00:00",
          "2021-07-26T00:00:00",
          "2021-07-27T00:00:00",
          "2021-07-28T00:00:00",
          "2021-07-29T00:00:00",
          "2021-07-30T00:00:00",
          "2021-07-31T00:00:00",
          "2021-08-01T00:00:00",
          "2021-08-02T00:00:00",
          "2021-08-03T00:00:00",
          "2021-08-04T00:00:00",
          "2021-08-05T00:00:00",
          "2021-08-06T00:00:00",
          "2021-08-07T00:00:00",
          "2021-08-08T00:00:00",
          "2021-08-09T00:00:00",
          "2021-08-10T00:00:00",
          "2021-08-11T00:00:00",
          "2021-08-12T00:00:00",
          "2021-08-13T00:00:00",
          "2021-08-14T00:00:00",
          "2021-08-15T00:00:00",
          "2021-08-16T00:00:00",
          "2021-08-17T00:00:00",
          "2021-08-18T00:00:00",
          "2021-08-19T00:00:00",
          "2021-08-20T00:00:00",
          "2021-08-21T00:00:00",
          "2021-08-22T00:00:00",
          "2021-08-23T00:00:00",
          "2021-08-24T00:00:00",
          "2021-08-25T00:00:00",
          "2021-08-26T00:00:00",
          "2021-08-27T00:00:00",
          "2021-08-28T00:00:00",
          "2021-08-29T00:00:00",
          "2021-08-30T00:00:00",
          "2021-08-31T00:00:00",
          "2021-09-01T00:00:00",
          "2021-09-02T00:00:00",
          "2021-09-03T00:00:00",
          "2021-09-04T00:00:00",
          "2021-09-05T00:00:00",
          "2021-09-06T00:00:00",
          "2021-09-07T00:00:00",
          "2021-09-08T00:00:00",
          "2021-09-09T00:00:00",
          "2021-09-10T00:00:00",
          "2021-09-11T00:00:00",
          "2021-09-12T00:00:00",
          "2021-09-13T00:00:00",
          "2021-09-14T00:00:00",
          "2021-09-15T00:00:00",
          "2021-09-16T00:00:00",
          "2021-09-17T00:00:00",
          "2021-09-18T00:00:00",
          "2021-09-19T00:00:00",
          "2021-09-20T00:00:00",
          "2021-09-21T00:00:00",
          "2021-09-22T00:00:00",
          "2021-09-23T00:00:00",
          "2021-09-24T00:00:00",
          "2021-09-25T00:00:00",
          "2021-09-26T00:00:00",
          "2021-09-27T00:00:00",
          "2021-09-28T00:00:00",
          "2021-09-29T00:00:00",
          "2021-09-30T00:00:00",
          "2021-10-01T00:00:00",
          "2021-10-02T00:00:00",
          "2021-10-03T00:00:00",
          "2021-10-04T00:00:00",
          "2021-10-05T00:00:00",
          "2021-10-06T00:00:00",
          "2021-10-07T00:00:00",
          "2021-10-08T00:00:00",
          "2021-10-09T00:00:00",
          "2021-10-10T00:00:00",
          "2021-10-11T00:00:00",
          "2021-10-12T00:00:00",
          "2021-10-13T00:00:00",
          "2021-10-14T00:00:00",
          "2021-10-15T00:00:00",
          "2021-10-16T00:00:00",
          "2021-10-17T00:00:00",
          "2021-10-18T00:00:00",
          "2021-10-19T00:00:00",
          "2021-10-20T00:00:00",
          "2021-10-21T00:00:00",
          "2021-10-22T00:00:00",
          "2021-10-23T00:00:00",
          "2021-10-24T00:00:00",
          "2021-10-25T00:00:00",
          "2021-10-26T00:00:00",
          "2021-10-27T00:00:00",
          "2021-10-28T00:00:00",
          "2021-10-29T00:00:00",
          "2021-10-30T00:00:00",
          "2021-10-31T00:00:00",
          "2021-11-01T00:00:00",
          "2021-11-02T00:00:00",
          "2021-11-03T00:00:00",
          "2021-11-04T00:00:00",
          "2021-11-05T00:00:00",
          "2021-11-06T00:00:00",
          "2021-11-07T00:00:00",
          "2021-11-08T00:00:00",
          "2021-11-09T00:00:00",
          "2021-11-10T00:00:00",
          "2021-11-11T00:00:00",
          "2021-11-12T00:00:00",
          "2021-11-13T00:00:00",
          "2021-11-14T00:00:00",
          "2021-11-15T00:00:00",
          "2021-11-16T00:00:00",
          "2021-11-17T00:00:00",
          "2021-11-18T00:00:00",
          "2021-11-19T00:00:00",
          "2021-11-20T00:00:00",
          "2021-11-21T00:00:00",
          "2021-11-22T00:00:00",
          "2021-11-23T00:00:00",
          "2021-11-24T00:00:00",
          "2021-11-25T00:00:00",
          "2021-11-26T00:00:00",
          "2021-11-27T00:00:00",
          "2021-11-28T00:00:00",
          "2021-11-29T00:00:00",
          "2021-11-30T00:00:00",
          "2021-12-01T00:00:00",
          "2021-12-02T00:00:00",
          "2021-12-03T00:00:00",
          "2021-12-04T00:00:00",
          "2021-12-05T00:00:00",
          "2021-12-06T00:00:00",
          "2021-12-07T00:00:00",
          "2021-12-08T00:00:00",
          "2021-12-09T00:00:00",
          "2021-12-10T00:00:00",
          "2021-12-11T00:00:00",
          "2021-12-12T00:00:00",
          "2021-12-13T00:00:00",
          "2021-12-14T00:00:00",
          "2021-12-15T00:00:00",
          "2021-12-16T00:00:00",
          "2021-12-17T00:00:00",
          "2021-12-18T00:00:00",
          "2021-12-19T00:00:00",
          "2021-12-20T00:00:00",
          "2021-12-21T00:00:00",
          "2021-12-22T00:00:00",
          "2021-12-23T00:00:00",
          "2021-12-24T00:00:00",
          "2021-12-25T00:00:00",
          "2021-12-26T00:00:00",
          "2021-12-27T00:00:00",
          "2021-12-28T00:00:00",
          "2021-12-29T00:00:00",
          "2021-12-30T00:00:00",
          "2021-12-31T00:00:00",
          "2022-01-01T00:00:00",
          "2022-01-02T00:00:00",
          "2022-01-03T00:00:00",
          "2022-01-04T00:00:00",
          "2022-01-05T00:00:00",
          "2022-01-06T00:00:00",
          "2022-01-07T00:00:00",
          "2022-01-08T00:00:00",
          "2022-01-09T00:00:00",
          "2022-01-10T00:00:00",
          "2022-01-11T00:00:00",
          "2022-01-12T00:00:00",
          "2022-01-13T00:00:00",
          "2022-01-14T00:00:00",
          "2022-01-15T00:00:00",
          "2022-01-16T00:00:00",
          "2022-01-17T00:00:00",
          "2022-01-18T00:00:00",
          "2022-01-19T00:00:00",
          "2022-01-20T00:00:00",
          "2022-01-21T00:00:00",
          "2022-01-22T00:00:00",
          "2022-01-23T00:00:00",
          "2022-01-24T00:00:00",
          "2022-01-25T00:00:00",
          "2022-01-26T00:00:00",
          "2022-01-27T00:00:00",
          "2022-01-28T00:00:00",
          "2022-01-29T00:00:00",
          "2022-01-30T00:00:00",
          "2022-01-31T00:00:00",
          "2022-02-01T00:00:00",
          "2022-02-02T00:00:00",
          "2022-02-03T00:00:00",
          "2022-02-04T00:00:00",
          "2022-02-05T00:00:00",
          "2022-02-06T00:00:00",
          "2022-02-07T00:00:00",
          "2022-02-08T00:00:00",
          "2022-02-09T00:00:00",
          "2022-02-10T00:00:00",
          "2022-02-11T00:00:00",
          "2022-02-12T00:00:00",
          "2022-02-13T00:00:00",
          "2022-02-14T00:00:00",
          "2022-02-15T00:00:00",
          "2022-02-16T00:00:00",
          "2022-02-17T00:00:00",
          "2022-02-18T00:00:00",
          "2022-02-19T00:00:00",
          "2022-02-20T00:00:00",
          "2022-02-21T00:00:00",
          "2022-02-22T00:00:00",
          "2022-02-23T00:00:00",
          "2022-02-24T00:00:00",
          "2022-02-25T00:00:00",
          "2022-02-26T00:00:00",
          "2022-02-27T00:00:00",
          "2022-02-28T00:00:00",
          "2022-03-01T00:00:00",
          "2022-03-02T00:00:00",
          "2022-03-03T00:00:00",
          "2022-03-04T00:00:00",
          "2022-03-05T00:00:00",
          "2022-03-06T00:00:00",
          "2022-03-07T00:00:00",
          "2022-03-08T00:00:00",
          "2022-03-09T00:00:00",
          "2022-03-10T00:00:00",
          "2022-03-11T00:00:00",
          "2022-03-12T00:00:00",
          "2022-03-13T00:00:00",
          "2022-03-14T00:00:00",
          "2022-03-15T00:00:00",
          "2022-03-16T00:00:00",
          "2022-03-17T00:00:00",
          "2022-03-18T00:00:00",
          "2022-03-19T00:00:00",
          "2022-03-20T00:00:00",
          "2022-03-21T00:00:00",
          "2022-03-22T00:00:00",
          "2022-03-23T00:00:00",
          "2022-03-24T00:00:00",
          "2022-03-25T00:00:00",
          "2022-03-26T00:00:00",
          "2022-03-27T00:00:00",
          "2022-03-28T00:00:00",
          "2022-03-29T00:00:00",
          "2022-03-30T00:00:00",
          "2022-03-31T00:00:00",
          "2022-04-01T00:00:00",
          "2022-04-02T00:00:00",
          "2022-04-03T00:00:00",
          "2022-04-04T00:00:00",
          "2022-04-05T00:00:00",
          "2022-04-06T00:00:00",
          "2022-04-07T00:00:00",
          "2022-04-08T00:00:00",
          "2022-04-09T00:00:00",
          "2022-04-10T00:00:00",
          "2022-04-11T00:00:00",
          "2022-04-12T00:00:00",
          "2022-04-13T00:00:00",
          "2022-04-14T00:00:00",
          "2022-04-15T00:00:00",
          "2022-04-16T00:00:00",
          "2022-04-17T00:00:00",
          "2022-04-18T00:00:00",
          "2022-04-19T00:00:00",
          "2022-04-20T00:00:00",
          "2022-04-21T00:00:00",
          "2022-04-22T00:00:00",
          "2022-04-23T00:00:00",
          "2022-04-24T00:00:00",
          "2022-04-25T00:00:00",
          "2022-04-26T00:00:00",
          "2022-04-27T00:00:00",
          "2022-04-28T00:00:00",
          "2022-04-29T00:00:00",
          "2022-04-30T00:00:00",
          "2022-05-01T00:00:00",
          "2022-05-02T00:00:00",
          "2022-05-03T00:00:00",
          "2022-05-04T00:00:00",
          "2022-05-05T00:00:00",
          "2022-05-06T00:00:00",
          "2022-05-07T00:00:00",
          "2022-05-08T00:00:00",
          "2022-05-09T00:00:00",
          "2022-05-10T00:00:00",
          "2022-05-11T00:00:00",
          "2022-05-12T00:00:00",
          "2022-05-13T00:00:00",
          "2022-05-14T00:00:00",
          "2022-05-15T00:00:00",
          "2022-05-16T00:00:00",
          "2022-05-17T00:00:00",
          "2022-05-18T00:00:00",
          "2022-05-19T00:00:00",
          "2022-05-20T00:00:00",
          "2022-05-21T00:00:00",
          "2022-05-22T00:00:00",
          "2022-05-23T00:00:00",
          "2022-05-24T00:00:00",
          "2022-05-25T00:00:00",
          "2022-05-26T00:00:00",
          "2022-05-27T00:00:00",
          "2022-05-28T00:00:00",
          "2022-05-29T00:00:00",
          "2022-05-30T00:00:00",
          "2022-05-31T00:00:00",
          "2022-06-01T00:00:00",
          "2022-06-02T00:00:00",
          "2022-06-03T00:00:00",
          "2022-06-04T00:00:00",
          "2022-06-05T00:00:00",
          "2022-06-06T00:00:00",
          "2022-06-07T00:00:00",
          "2022-06-08T00:00:00",
          "2022-06-09T00:00:00",
          "2022-06-10T00:00:00",
          "2022-06-11T00:00:00",
          "2022-06-12T00:00:00",
          "2022-06-13T00:00:00",
          "2022-06-14T00:00:00",
          "2022-06-15T00:00:00"
         ],
         "xaxis": "x",
         "y": [
          1173,
          29,
          3691,
          3385,
          3436,
          3636,
          3178,
          322,
          90,
          2063,
          2440,
          2468,
          2455,
          2264,
          742,
          88,
          2973,
          1236,
          2064,
          1942,
          1239,
          1898.023,
          135,
          122510,
          3608,
          1423,
          3796,
          1124,
          435,
          199,
          868,
          9324,
          3474,
          3168,
          3734,
          3636,
          2154,
          14543,
          282,
          39094,
          52320,
          62948,
          27747,
          16293,
          80680,
          85440,
          109547,
          115374,
          120853,
          45853,
          27123,
          114037,
          108179,
          74027,
          18756,
          82412,
          227024,
          115868,
          108292,
          88403,
          31439,
          145321,
          132652,
          63485,
          39330,
          94486,
          11117,
          86316,
          86494,
          63986,
          63053,
          26052,
          72603,
          76025,
          84896,
          92856,
          138355,
          14545,
          395,
          126988,
          96310,
          96155,
          121164,
          128549,
          34606,
          19813,
          118321,
          125714,
          109689,
          117054,
          141399,
          18759,
          18551,
          106847,
          89338,
          99312,
          33399,
          98240,
          46228,
          14219,
          3107,
          63521,
          21067,
          56683,
          36106,
          20322,
          14623,
          29130,
          28167,
          21548,
          22405,
          22961,
          5657,
          4917,
          21538,
          15680,
          24055,
          18478,
          32214,
          33990,
          3770,
          22788,
          18545,
          30648,
          31922,
          41807,
          19602,
          6260,
          25192,
          3449,
          24483,
          18493,
          37141,
          7982,
          3399,
          28256,
          16615,
          21965,
          9717,
          42172,
          5912,
          6101,
          23743,
          29908,
          27184,
          17388,
          26137,
          4949,
          4144,
          27674,
          20913,
          94,
          20900,
          60763,
          9390,
          3940,
          30129,
          28161,
          0,
          0,
          3856,
          7557,
          3581,
          26062,
          27322,
          26341,
          16716,
          9691,
          19751,
          5207,
          22931,
          19219,
          16059,
          16667,
          17356,
          3884,
          969,
          14901,
          7110,
          13836,
          13359,
          13711,
          3064,
          1414,
          10456,
          11938,
          9847,
          9908,
          9402,
          2496,
          395,
          9257,
          7202,
          11125,
          10088,
          8745,
          715,
          1260,
          9881,
          10245,
          9456,
          9119,
          7421,
          540,
          272,
          6345,
          1524,
          10398,
          6068,
          6203,
          1758,
          3680,
          2875,
          206,
          38651,
          36031,
          36284,
          3883,
          4176,
          45204,
          51267,
          51410,
          52265,
          40773,
          2750,
          490,
          45215,
          41251,
          37975,
          36450,
          30354,
          3505,
          318,
          26001,
          821,
          25684,
          25870,
          23192,
          3233,
          41,
          22883,
          17161,
          18253,
          17257,
          14377,
          3171,
          983,
          10226,
          11574,
          10623,
          10287,
          9343,
          1652,
          1031,
          101860,
          2656,
          8182,
          11458,
          4436,
          2,
          0,
          45,
          4592,
          12048,
          714,
          6,
          6415,
          300,
          4987,
          0,
          0,
          190592,
          4670,
          13263,
          537,
          1221,
          6138,
          1459,
          10650,
          2242,
          519,
          527,
          14791,
          9332,
          877,
          1795,
          15351,
          3562,
          547,
          7581,
          8186,
          4977,
          4636,
          7569,
          1381,
          2591,
          1787,
          6042,
          1530,
          4208,
          3909,
          17691,
          1493,
          3810,
          1925,
          4326,
          3214,
          3445,
          3405,
          1680,
          4779,
          3172,
          3857,
          5164,
          1627,
          1080,
          429,
          3442,
          5487,
          4978,
          3070,
          417,
          1759,
          4311,
          526,
          952,
          104,
          108,
          122,
          102,
          93,
          1750,
          2307,
          2035,
          1744,
          1887,
          1426,
          135,
          470,
          1195,
          1432,
          2926,
          2075,
          610,
          198,
          1141,
          1267,
          1249,
          455,
          1193,
          321,
          90,
          919,
          1287,
          306,
          1175,
          883,
          617,
          230,
          974,
          1052,
          960,
          827,
          894,
          280,
          194,
          1272,
          1112,
          1003
         ],
         "yaxis": "y"
        }
       ],
       "layout": {
        "legend": {
         "title": {
          "text": "variable"
         },
         "tracegroupgap": 0
        },
        "template": {
         "data": {
          "bar": [
           {
            "error_x": {
             "color": "#2a3f5f"
            },
            "error_y": {
             "color": "#2a3f5f"
            },
            "marker": {
             "line": {
              "color": "#E5ECF6",
              "width": 0.5
             },
             "pattern": {
              "fillmode": "overlay",
              "size": 10,
              "solidity": 0.2
             }
            },
            "type": "bar"
           }
          ],
          "barpolar": [
           {
            "marker": {
             "line": {
              "color": "#E5ECF6",
              "width": 0.5
             },
             "pattern": {
              "fillmode": "overlay",
              "size": 10,
              "solidity": 0.2
             }
            },
            "type": "barpolar"
           }
          ],
          "carpet": [
           {
            "aaxis": {
             "endlinecolor": "#2a3f5f",
             "gridcolor": "white",
             "linecolor": "white",
             "minorgridcolor": "white",
             "startlinecolor": "#2a3f5f"
            },
            "baxis": {
             "endlinecolor": "#2a3f5f",
             "gridcolor": "white",
             "linecolor": "white",
             "minorgridcolor": "white",
             "startlinecolor": "#2a3f5f"
            },
            "type": "carpet"
           }
          ],
          "choropleth": [
           {
            "colorbar": {
             "outlinewidth": 0,
             "ticks": ""
            },
            "type": "choropleth"
           }
          ],
          "contour": [
           {
            "colorbar": {
             "outlinewidth": 0,
             "ticks": ""
            },
            "colorscale": [
             [
              0,
              "#0d0887"
             ],
             [
              0.1111111111111111,
              "#46039f"
             ],
             [
              0.2222222222222222,
              "#7201a8"
             ],
             [
              0.3333333333333333,
              "#9c179e"
             ],
             [
              0.4444444444444444,
              "#bd3786"
             ],
             [
              0.5555555555555556,
              "#d8576b"
             ],
             [
              0.6666666666666666,
              "#ed7953"
             ],
             [
              0.7777777777777778,
              "#fb9f3a"
             ],
             [
              0.8888888888888888,
              "#fdca26"
             ],
             [
              1,
              "#f0f921"
             ]
            ],
            "type": "contour"
           }
          ],
          "contourcarpet": [
           {
            "colorbar": {
             "outlinewidth": 0,
             "ticks": ""
            },
            "type": "contourcarpet"
           }
          ],
          "heatmap": [
           {
            "colorbar": {
             "outlinewidth": 0,
             "ticks": ""
            },
            "colorscale": [
             [
              0,
              "#0d0887"
             ],
             [
              0.1111111111111111,
              "#46039f"
             ],
             [
              0.2222222222222222,
              "#7201a8"
             ],
             [
              0.3333333333333333,
              "#9c179e"
             ],
             [
              0.4444444444444444,
              "#bd3786"
             ],
             [
              0.5555555555555556,
              "#d8576b"
             ],
             [
              0.6666666666666666,
              "#ed7953"
             ],
             [
              0.7777777777777778,
              "#fb9f3a"
             ],
             [
              0.8888888888888888,
              "#fdca26"
             ],
             [
              1,
              "#f0f921"
             ]
            ],
            "type": "heatmap"
           }
          ],
          "heatmapgl": [
           {
            "colorbar": {
             "outlinewidth": 0,
             "ticks": ""
            },
            "colorscale": [
             [
              0,
              "#0d0887"
             ],
             [
              0.1111111111111111,
              "#46039f"
             ],
             [
              0.2222222222222222,
              "#7201a8"
             ],
             [
              0.3333333333333333,
              "#9c179e"
             ],
             [
              0.4444444444444444,
              "#bd3786"
             ],
             [
              0.5555555555555556,
              "#d8576b"
             ],
             [
              0.6666666666666666,
              "#ed7953"
             ],
             [
              0.7777777777777778,
              "#fb9f3a"
             ],
             [
              0.8888888888888888,
              "#fdca26"
             ],
             [
              1,
              "#f0f921"
             ]
            ],
            "type": "heatmapgl"
           }
          ],
          "histogram": [
           {
            "marker": {
             "pattern": {
              "fillmode": "overlay",
              "size": 10,
              "solidity": 0.2
             }
            },
            "type": "histogram"
           }
          ],
          "histogram2d": [
           {
            "colorbar": {
             "outlinewidth": 0,
             "ticks": ""
            },
            "colorscale": [
             [
              0,
              "#0d0887"
             ],
             [
              0.1111111111111111,
              "#46039f"
             ],
             [
              0.2222222222222222,
              "#7201a8"
             ],
             [
              0.3333333333333333,
              "#9c179e"
             ],
             [
              0.4444444444444444,
              "#bd3786"
             ],
             [
              0.5555555555555556,
              "#d8576b"
             ],
             [
              0.6666666666666666,
              "#ed7953"
             ],
             [
              0.7777777777777778,
              "#fb9f3a"
             ],
             [
              0.8888888888888888,
              "#fdca26"
             ],
             [
              1,
              "#f0f921"
             ]
            ],
            "type": "histogram2d"
           }
          ],
          "histogram2dcontour": [
           {
            "colorbar": {
             "outlinewidth": 0,
             "ticks": ""
            },
            "colorscale": [
             [
              0,
              "#0d0887"
             ],
             [
              0.1111111111111111,
              "#46039f"
             ],
             [
              0.2222222222222222,
              "#7201a8"
             ],
             [
              0.3333333333333333,
              "#9c179e"
             ],
             [
              0.4444444444444444,
              "#bd3786"
             ],
             [
              0.5555555555555556,
              "#d8576b"
             ],
             [
              0.6666666666666666,
              "#ed7953"
             ],
             [
              0.7777777777777778,
              "#fb9f3a"
             ],
             [
              0.8888888888888888,
              "#fdca26"
             ],
             [
              1,
              "#f0f921"
             ]
            ],
            "type": "histogram2dcontour"
           }
          ],
          "mesh3d": [
           {
            "colorbar": {
             "outlinewidth": 0,
             "ticks": ""
            },
            "type": "mesh3d"
           }
          ],
          "parcoords": [
           {
            "line": {
             "colorbar": {
              "outlinewidth": 0,
              "ticks": ""
             }
            },
            "type": "parcoords"
           }
          ],
          "pie": [
           {
            "automargin": true,
            "type": "pie"
           }
          ],
          "scatter": [
           {
            "marker": {
             "colorbar": {
              "outlinewidth": 0,
              "ticks": ""
             }
            },
            "type": "scatter"
           }
          ],
          "scatter3d": [
           {
            "line": {
             "colorbar": {
              "outlinewidth": 0,
              "ticks": ""
             }
            },
            "marker": {
             "colorbar": {
              "outlinewidth": 0,
              "ticks": ""
             }
            },
            "type": "scatter3d"
           }
          ],
          "scattercarpet": [
           {
            "marker": {
             "colorbar": {
              "outlinewidth": 0,
              "ticks": ""
             }
            },
            "type": "scattercarpet"
           }
          ],
          "scattergeo": [
           {
            "marker": {
             "colorbar": {
              "outlinewidth": 0,
              "ticks": ""
             }
            },
            "type": "scattergeo"
           }
          ],
          "scattergl": [
           {
            "marker": {
             "colorbar": {
              "outlinewidth": 0,
              "ticks": ""
             }
            },
            "type": "scattergl"
           }
          ],
          "scattermapbox": [
           {
            "marker": {
             "colorbar": {
              "outlinewidth": 0,
              "ticks": ""
             }
            },
            "type": "scattermapbox"
           }
          ],
          "scatterpolar": [
           {
            "marker": {
             "colorbar": {
              "outlinewidth": 0,
              "ticks": ""
             }
            },
            "type": "scatterpolar"
           }
          ],
          "scatterpolargl": [
           {
            "marker": {
             "colorbar": {
              "outlinewidth": 0,
              "ticks": ""
             }
            },
            "type": "scatterpolargl"
           }
          ],
          "scatterternary": [
           {
            "marker": {
             "colorbar": {
              "outlinewidth": 0,
              "ticks": ""
             }
            },
            "type": "scatterternary"
           }
          ],
          "surface": [
           {
            "colorbar": {
             "outlinewidth": 0,
             "ticks": ""
            },
            "colorscale": [
             [
              0,
              "#0d0887"
             ],
             [
              0.1111111111111111,
              "#46039f"
             ],
             [
              0.2222222222222222,
              "#7201a8"
             ],
             [
              0.3333333333333333,
              "#9c179e"
             ],
             [
              0.4444444444444444,
              "#bd3786"
             ],
             [
              0.5555555555555556,
              "#d8576b"
             ],
             [
              0.6666666666666666,
              "#ed7953"
             ],
             [
              0.7777777777777778,
              "#fb9f3a"
             ],
             [
              0.8888888888888888,
              "#fdca26"
             ],
             [
              1,
              "#f0f921"
             ]
            ],
            "type": "surface"
           }
          ],
          "table": [
           {
            "cells": {
             "fill": {
              "color": "#EBF0F8"
             },
             "line": {
              "color": "white"
             }
            },
            "header": {
             "fill": {
              "color": "#C8D4E3"
             },
             "line": {
              "color": "white"
             }
            },
            "type": "table"
           }
          ]
         },
         "layout": {
          "annotationdefaults": {
           "arrowcolor": "#2a3f5f",
           "arrowhead": 0,
           "arrowwidth": 1
          },
          "autotypenumbers": "strict",
          "coloraxis": {
           "colorbar": {
            "outlinewidth": 0,
            "ticks": ""
           }
          },
          "colorscale": {
           "diverging": [
            [
             0,
             "#8e0152"
            ],
            [
             0.1,
             "#c51b7d"
            ],
            [
             0.2,
             "#de77ae"
            ],
            [
             0.3,
             "#f1b6da"
            ],
            [
             0.4,
             "#fde0ef"
            ],
            [
             0.5,
             "#f7f7f7"
            ],
            [
             0.6,
             "#e6f5d0"
            ],
            [
             0.7,
             "#b8e186"
            ],
            [
             0.8,
             "#7fbc41"
            ],
            [
             0.9,
             "#4d9221"
            ],
            [
             1,
             "#276419"
            ]
           ],
           "sequential": [
            [
             0,
             "#0d0887"
            ],
            [
             0.1111111111111111,
             "#46039f"
            ],
            [
             0.2222222222222222,
             "#7201a8"
            ],
            [
             0.3333333333333333,
             "#9c179e"
            ],
            [
             0.4444444444444444,
             "#bd3786"
            ],
            [
             0.5555555555555556,
             "#d8576b"
            ],
            [
             0.6666666666666666,
             "#ed7953"
            ],
            [
             0.7777777777777778,
             "#fb9f3a"
            ],
            [
             0.8888888888888888,
             "#fdca26"
            ],
            [
             1,
             "#f0f921"
            ]
           ],
           "sequentialminus": [
            [
             0,
             "#0d0887"
            ],
            [
             0.1111111111111111,
             "#46039f"
            ],
            [
             0.2222222222222222,
             "#7201a8"
            ],
            [
             0.3333333333333333,
             "#9c179e"
            ],
            [
             0.4444444444444444,
             "#bd3786"
            ],
            [
             0.5555555555555556,
             "#d8576b"
            ],
            [
             0.6666666666666666,
             "#ed7953"
            ],
            [
             0.7777777777777778,
             "#fb9f3a"
            ],
            [
             0.8888888888888888,
             "#fdca26"
            ],
            [
             1,
             "#f0f921"
            ]
           ]
          },
          "colorway": [
           "#636efa",
           "#EF553B",
           "#00cc96",
           "#ab63fa",
           "#FFA15A",
           "#19d3f3",
           "#FF6692",
           "#B6E880",
           "#FF97FF",
           "#FECB52"
          ],
          "font": {
           "color": "#2a3f5f"
          },
          "geo": {
           "bgcolor": "white",
           "lakecolor": "white",
           "landcolor": "#E5ECF6",
           "showlakes": true,
           "showland": true,
           "subunitcolor": "white"
          },
          "hoverlabel": {
           "align": "left"
          },
          "hovermode": "closest",
          "mapbox": {
           "style": "light"
          },
          "paper_bgcolor": "white",
          "plot_bgcolor": "#E5ECF6",
          "polar": {
           "angularaxis": {
            "gridcolor": "white",
            "linecolor": "white",
            "ticks": ""
           },
           "bgcolor": "#E5ECF6",
           "radialaxis": {
            "gridcolor": "white",
            "linecolor": "white",
            "ticks": ""
           }
          },
          "scene": {
           "xaxis": {
            "backgroundcolor": "#E5ECF6",
            "gridcolor": "white",
            "gridwidth": 2,
            "linecolor": "white",
            "showbackground": true,
            "ticks": "",
            "zerolinecolor": "white"
           },
           "yaxis": {
            "backgroundcolor": "#E5ECF6",
            "gridcolor": "white",
            "gridwidth": 2,
            "linecolor": "white",
            "showbackground": true,
            "ticks": "",
            "zerolinecolor": "white"
           },
           "zaxis": {
            "backgroundcolor": "#E5ECF6",
            "gridcolor": "white",
            "gridwidth": 2,
            "linecolor": "white",
            "showbackground": true,
            "ticks": "",
            "zerolinecolor": "white"
           }
          },
          "shapedefaults": {
           "line": {
            "color": "#2a3f5f"
           }
          },
          "ternary": {
           "aaxis": {
            "gridcolor": "white",
            "linecolor": "white",
            "ticks": ""
           },
           "baxis": {
            "gridcolor": "white",
            "linecolor": "white",
            "ticks": ""
           },
           "bgcolor": "#E5ECF6",
           "caxis": {
            "gridcolor": "white",
            "linecolor": "white",
            "ticks": ""
           }
          },
          "title": {
           "x": 0.05
          },
          "xaxis": {
           "automargin": true,
           "gridcolor": "white",
           "linecolor": "white",
           "ticks": "",
           "title": {
            "standoff": 15
           },
           "zerolinecolor": "white",
           "zerolinewidth": 2
          },
          "yaxis": {
           "automargin": true,
           "gridcolor": "white",
           "linecolor": "white",
           "ticks": "",
           "title": {
            "standoff": 15
           },
           "zerolinecolor": "white",
           "zerolinewidth": 2
          }
         }
        },
        "title": {
         "text": "Cakupan Suntik Covid-19 Jakarta"
        },
        "xaxis": {
         "anchor": "y",
         "domain": [
          0,
          1
         ],
         "title": {
          "text": "Tanggal"
         }
        },
        "yaxis": {
         "anchor": "x",
         "domain": [
          0,
          1
         ],
         "title": {
          "text": "value"
         }
        }
       }
      }
     },
     "metadata": {},
     "output_type": "display_data"
    }
   ],
   "source": [
    "px.line(x='Tanggal',y=['Cakupan Suntik 1','Cakupan Suntik 2'],data_frame=df_DU_DVW,title='Cakupan Suntik Covid-19 Jakarta')"
   ]
  },
  {
   "cell_type": "code",
   "execution_count": 204,
   "metadata": {},
   "outputs": [
    {
     "data": {
      "text/plain": [
       "Cakupan Suntik 1    8594205.000\n",
       "Cakupan Suntik 2    8207295.023\n",
       "dtype: float64"
      ]
     },
     "execution_count": 204,
     "metadata": {},
     "output_type": "execute_result"
    }
   ],
   "source": [
    "df_DU_DVW[['Cakupan Suntik 1','Cakupan Suntik 2']].sum()"
   ]
  },
  {
   "cell_type": "code",
   "execution_count": 240,
   "metadata": {},
   "outputs": [
    {
     "data": {
      "text/plain": [
       "16801500.023000002"
      ]
     },
     "execution_count": 240,
     "metadata": {},
     "output_type": "execute_result"
    }
   ],
   "source": [
    "df_DU_DVW[['Cakupan Suntik 1','Cakupan Suntik 2']].sum().sum()"
   ]
  },
  {
   "cell_type": "code",
   "execution_count": 255,
   "metadata": {},
   "outputs": [],
   "source": [
    "# import plotly.graph_objs as go\n",
    "\n",
    "# data = [\n",
    "#     # Portfolio (inner donut)\n",
    "#     go.Pie(values=[8594205,8207295,261950861],\n",
    "#     labels=['Reds','Blues','Greens'],\n",
    "#     domain={'x':[0.2,0.8], 'y':[0.1,0.9]},\n",
    "#     hole=0.5,\n",
    "#     direction='clockwise',\n",
    "#     sort=False,\n",
    "#     marker={'colors':['#CB4335','#2E86C1']}),\n",
    "    \n",
    "#     # Individual components (outer donut)\n",
    "#     go.Pie(values=[16801500,278752361],\n",
    "#     labels=['Medium Red','Light Red','Medium Blue','Light Blue'],\n",
    "#     domain={'x':[0.1,0.9], 'y':[0,1]},\n",
    "#     hole=0.75,\n",
    "#     direction='clockwise',\n",
    "#     sort=False,\n",
    "#     marker={'colors':['#EC7063','#85C1E9','#F1948A','#5DADE2']},\n",
    "#     showlegend=False)\n",
    "# ]\n",
    "\n",
    "# fig = go.Figure(data=data, layout={'title':'Nested Pie Chart'})\n",
    "# fig.show()"
   ]
  },
  {
   "cell_type": "code",
   "execution_count": 260,
   "metadata": {},
   "outputs": [
    {
     "data": {
      "application/vnd.plotly.v1+json": {
       "config": {
        "plotlyServerURL": "https://plot.ly"
       },
       "data": [
        {
         "domain": {
          "x": [
           0,
           1
          ],
          "y": [
           0,
           1
          ]
         },
         "hole": 0.4,
         "hovertemplate": "label=%{label}<br>value=%{value}<extra></extra>",
         "labels": [
          "Cakupan Suntik 1 ",
          "Cakupan Suntik 2 ",
          "Total Penduduk Indonesia"
         ],
         "legendgroup": "",
         "marker": {
          "line": {
           "color": "#000000",
           "width": 2
          }
         },
         "name": "",
         "showlegend": true,
         "textinfo": "percent+label",
         "type": "pie",
         "values": [
          8594205,
          8207295,
          278752361
         ]
        }
       ],
       "layout": {
        "annotations": [
         {
          "font": {
           "size": 15
          },
          "showarrow": false,
          "text": "Total :",
          "x": 0.5,
          "y": 0.56
         },
         {
          "font": {
           "size": 13
          },
          "showarrow": false,
          "text": "278.752.361",
          "x": 0.5,
          "y": 0.46
         }
        ],
        "legend": {
         "tracegroupgap": 0
        },
        "piecolorway": [
         "rgb(103,0,31)",
         "rgb(178,24,43)",
         "rgb(214,96,77)",
         "rgb(244,165,130)",
         "rgb(253,219,199)",
         "rgb(247,247,247)",
         "rgb(209,229,240)",
         "rgb(146,197,222)",
         "rgb(67,147,195)",
         "rgb(33,102,172)",
         "rgb(5,48,97)"
        ],
        "template": {
         "data": {
          "bar": [
           {
            "error_x": {
             "color": "#2a3f5f"
            },
            "error_y": {
             "color": "#2a3f5f"
            },
            "marker": {
             "line": {
              "color": "#E5ECF6",
              "width": 0.5
             },
             "pattern": {
              "fillmode": "overlay",
              "size": 10,
              "solidity": 0.2
             }
            },
            "type": "bar"
           }
          ],
          "barpolar": [
           {
            "marker": {
             "line": {
              "color": "#E5ECF6",
              "width": 0.5
             },
             "pattern": {
              "fillmode": "overlay",
              "size": 10,
              "solidity": 0.2
             }
            },
            "type": "barpolar"
           }
          ],
          "carpet": [
           {
            "aaxis": {
             "endlinecolor": "#2a3f5f",
             "gridcolor": "white",
             "linecolor": "white",
             "minorgridcolor": "white",
             "startlinecolor": "#2a3f5f"
            },
            "baxis": {
             "endlinecolor": "#2a3f5f",
             "gridcolor": "white",
             "linecolor": "white",
             "minorgridcolor": "white",
             "startlinecolor": "#2a3f5f"
            },
            "type": "carpet"
           }
          ],
          "choropleth": [
           {
            "colorbar": {
             "outlinewidth": 0,
             "ticks": ""
            },
            "type": "choropleth"
           }
          ],
          "contour": [
           {
            "colorbar": {
             "outlinewidth": 0,
             "ticks": ""
            },
            "colorscale": [
             [
              0,
              "#0d0887"
             ],
             [
              0.1111111111111111,
              "#46039f"
             ],
             [
              0.2222222222222222,
              "#7201a8"
             ],
             [
              0.3333333333333333,
              "#9c179e"
             ],
             [
              0.4444444444444444,
              "#bd3786"
             ],
             [
              0.5555555555555556,
              "#d8576b"
             ],
             [
              0.6666666666666666,
              "#ed7953"
             ],
             [
              0.7777777777777778,
              "#fb9f3a"
             ],
             [
              0.8888888888888888,
              "#fdca26"
             ],
             [
              1,
              "#f0f921"
             ]
            ],
            "type": "contour"
           }
          ],
          "contourcarpet": [
           {
            "colorbar": {
             "outlinewidth": 0,
             "ticks": ""
            },
            "type": "contourcarpet"
           }
          ],
          "heatmap": [
           {
            "colorbar": {
             "outlinewidth": 0,
             "ticks": ""
            },
            "colorscale": [
             [
              0,
              "#0d0887"
             ],
             [
              0.1111111111111111,
              "#46039f"
             ],
             [
              0.2222222222222222,
              "#7201a8"
             ],
             [
              0.3333333333333333,
              "#9c179e"
             ],
             [
              0.4444444444444444,
              "#bd3786"
             ],
             [
              0.5555555555555556,
              "#d8576b"
             ],
             [
              0.6666666666666666,
              "#ed7953"
             ],
             [
              0.7777777777777778,
              "#fb9f3a"
             ],
             [
              0.8888888888888888,
              "#fdca26"
             ],
             [
              1,
              "#f0f921"
             ]
            ],
            "type": "heatmap"
           }
          ],
          "heatmapgl": [
           {
            "colorbar": {
             "outlinewidth": 0,
             "ticks": ""
            },
            "colorscale": [
             [
              0,
              "#0d0887"
             ],
             [
              0.1111111111111111,
              "#46039f"
             ],
             [
              0.2222222222222222,
              "#7201a8"
             ],
             [
              0.3333333333333333,
              "#9c179e"
             ],
             [
              0.4444444444444444,
              "#bd3786"
             ],
             [
              0.5555555555555556,
              "#d8576b"
             ],
             [
              0.6666666666666666,
              "#ed7953"
             ],
             [
              0.7777777777777778,
              "#fb9f3a"
             ],
             [
              0.8888888888888888,
              "#fdca26"
             ],
             [
              1,
              "#f0f921"
             ]
            ],
            "type": "heatmapgl"
           }
          ],
          "histogram": [
           {
            "marker": {
             "pattern": {
              "fillmode": "overlay",
              "size": 10,
              "solidity": 0.2
             }
            },
            "type": "histogram"
           }
          ],
          "histogram2d": [
           {
            "colorbar": {
             "outlinewidth": 0,
             "ticks": ""
            },
            "colorscale": [
             [
              0,
              "#0d0887"
             ],
             [
              0.1111111111111111,
              "#46039f"
             ],
             [
              0.2222222222222222,
              "#7201a8"
             ],
             [
              0.3333333333333333,
              "#9c179e"
             ],
             [
              0.4444444444444444,
              "#bd3786"
             ],
             [
              0.5555555555555556,
              "#d8576b"
             ],
             [
              0.6666666666666666,
              "#ed7953"
             ],
             [
              0.7777777777777778,
              "#fb9f3a"
             ],
             [
              0.8888888888888888,
              "#fdca26"
             ],
             [
              1,
              "#f0f921"
             ]
            ],
            "type": "histogram2d"
           }
          ],
          "histogram2dcontour": [
           {
            "colorbar": {
             "outlinewidth": 0,
             "ticks": ""
            },
            "colorscale": [
             [
              0,
              "#0d0887"
             ],
             [
              0.1111111111111111,
              "#46039f"
             ],
             [
              0.2222222222222222,
              "#7201a8"
             ],
             [
              0.3333333333333333,
              "#9c179e"
             ],
             [
              0.4444444444444444,
              "#bd3786"
             ],
             [
              0.5555555555555556,
              "#d8576b"
             ],
             [
              0.6666666666666666,
              "#ed7953"
             ],
             [
              0.7777777777777778,
              "#fb9f3a"
             ],
             [
              0.8888888888888888,
              "#fdca26"
             ],
             [
              1,
              "#f0f921"
             ]
            ],
            "type": "histogram2dcontour"
           }
          ],
          "mesh3d": [
           {
            "colorbar": {
             "outlinewidth": 0,
             "ticks": ""
            },
            "type": "mesh3d"
           }
          ],
          "parcoords": [
           {
            "line": {
             "colorbar": {
              "outlinewidth": 0,
              "ticks": ""
             }
            },
            "type": "parcoords"
           }
          ],
          "pie": [
           {
            "automargin": true,
            "type": "pie"
           }
          ],
          "scatter": [
           {
            "marker": {
             "colorbar": {
              "outlinewidth": 0,
              "ticks": ""
             }
            },
            "type": "scatter"
           }
          ],
          "scatter3d": [
           {
            "line": {
             "colorbar": {
              "outlinewidth": 0,
              "ticks": ""
             }
            },
            "marker": {
             "colorbar": {
              "outlinewidth": 0,
              "ticks": ""
             }
            },
            "type": "scatter3d"
           }
          ],
          "scattercarpet": [
           {
            "marker": {
             "colorbar": {
              "outlinewidth": 0,
              "ticks": ""
             }
            },
            "type": "scattercarpet"
           }
          ],
          "scattergeo": [
           {
            "marker": {
             "colorbar": {
              "outlinewidth": 0,
              "ticks": ""
             }
            },
            "type": "scattergeo"
           }
          ],
          "scattergl": [
           {
            "marker": {
             "colorbar": {
              "outlinewidth": 0,
              "ticks": ""
             }
            },
            "type": "scattergl"
           }
          ],
          "scattermapbox": [
           {
            "marker": {
             "colorbar": {
              "outlinewidth": 0,
              "ticks": ""
             }
            },
            "type": "scattermapbox"
           }
          ],
          "scatterpolar": [
           {
            "marker": {
             "colorbar": {
              "outlinewidth": 0,
              "ticks": ""
             }
            },
            "type": "scatterpolar"
           }
          ],
          "scatterpolargl": [
           {
            "marker": {
             "colorbar": {
              "outlinewidth": 0,
              "ticks": ""
             }
            },
            "type": "scatterpolargl"
           }
          ],
          "scatterternary": [
           {
            "marker": {
             "colorbar": {
              "outlinewidth": 0,
              "ticks": ""
             }
            },
            "type": "scatterternary"
           }
          ],
          "surface": [
           {
            "colorbar": {
             "outlinewidth": 0,
             "ticks": ""
            },
            "colorscale": [
             [
              0,
              "#0d0887"
             ],
             [
              0.1111111111111111,
              "#46039f"
             ],
             [
              0.2222222222222222,
              "#7201a8"
             ],
             [
              0.3333333333333333,
              "#9c179e"
             ],
             [
              0.4444444444444444,
              "#bd3786"
             ],
             [
              0.5555555555555556,
              "#d8576b"
             ],
             [
              0.6666666666666666,
              "#ed7953"
             ],
             [
              0.7777777777777778,
              "#fb9f3a"
             ],
             [
              0.8888888888888888,
              "#fdca26"
             ],
             [
              1,
              "#f0f921"
             ]
            ],
            "type": "surface"
           }
          ],
          "table": [
           {
            "cells": {
             "fill": {
              "color": "#EBF0F8"
             },
             "line": {
              "color": "white"
             }
            },
            "header": {
             "fill": {
              "color": "#C8D4E3"
             },
             "line": {
              "color": "white"
             }
            },
            "type": "table"
           }
          ]
         },
         "layout": {
          "annotationdefaults": {
           "arrowcolor": "#2a3f5f",
           "arrowhead": 0,
           "arrowwidth": 1
          },
          "autotypenumbers": "strict",
          "coloraxis": {
           "colorbar": {
            "outlinewidth": 0,
            "ticks": ""
           }
          },
          "colorscale": {
           "diverging": [
            [
             0,
             "#8e0152"
            ],
            [
             0.1,
             "#c51b7d"
            ],
            [
             0.2,
             "#de77ae"
            ],
            [
             0.3,
             "#f1b6da"
            ],
            [
             0.4,
             "#fde0ef"
            ],
            [
             0.5,
             "#f7f7f7"
            ],
            [
             0.6,
             "#e6f5d0"
            ],
            [
             0.7,
             "#b8e186"
            ],
            [
             0.8,
             "#7fbc41"
            ],
            [
             0.9,
             "#4d9221"
            ],
            [
             1,
             "#276419"
            ]
           ],
           "sequential": [
            [
             0,
             "#0d0887"
            ],
            [
             0.1111111111111111,
             "#46039f"
            ],
            [
             0.2222222222222222,
             "#7201a8"
            ],
            [
             0.3333333333333333,
             "#9c179e"
            ],
            [
             0.4444444444444444,
             "#bd3786"
            ],
            [
             0.5555555555555556,
             "#d8576b"
            ],
            [
             0.6666666666666666,
             "#ed7953"
            ],
            [
             0.7777777777777778,
             "#fb9f3a"
            ],
            [
             0.8888888888888888,
             "#fdca26"
            ],
            [
             1,
             "#f0f921"
            ]
           ],
           "sequentialminus": [
            [
             0,
             "#0d0887"
            ],
            [
             0.1111111111111111,
             "#46039f"
            ],
            [
             0.2222222222222222,
             "#7201a8"
            ],
            [
             0.3333333333333333,
             "#9c179e"
            ],
            [
             0.4444444444444444,
             "#bd3786"
            ],
            [
             0.5555555555555556,
             "#d8576b"
            ],
            [
             0.6666666666666666,
             "#ed7953"
            ],
            [
             0.7777777777777778,
             "#fb9f3a"
            ],
            [
             0.8888888888888888,
             "#fdca26"
            ],
            [
             1,
             "#f0f921"
            ]
           ]
          },
          "colorway": [
           "#636efa",
           "#EF553B",
           "#00cc96",
           "#ab63fa",
           "#FFA15A",
           "#19d3f3",
           "#FF6692",
           "#B6E880",
           "#FF97FF",
           "#FECB52"
          ],
          "font": {
           "color": "#2a3f5f"
          },
          "geo": {
           "bgcolor": "white",
           "lakecolor": "white",
           "landcolor": "#E5ECF6",
           "showlakes": true,
           "showland": true,
           "subunitcolor": "white"
          },
          "hoverlabel": {
           "align": "left"
          },
          "hovermode": "closest",
          "mapbox": {
           "style": "light"
          },
          "paper_bgcolor": "white",
          "plot_bgcolor": "#E5ECF6",
          "polar": {
           "angularaxis": {
            "gridcolor": "white",
            "linecolor": "white",
            "ticks": ""
           },
           "bgcolor": "#E5ECF6",
           "radialaxis": {
            "gridcolor": "white",
            "linecolor": "white",
            "ticks": ""
           }
          },
          "scene": {
           "xaxis": {
            "backgroundcolor": "#E5ECF6",
            "gridcolor": "white",
            "gridwidth": 2,
            "linecolor": "white",
            "showbackground": true,
            "ticks": "",
            "zerolinecolor": "white"
           },
           "yaxis": {
            "backgroundcolor": "#E5ECF6",
            "gridcolor": "white",
            "gridwidth": 2,
            "linecolor": "white",
            "showbackground": true,
            "ticks": "",
            "zerolinecolor": "white"
           },
           "zaxis": {
            "backgroundcolor": "#E5ECF6",
            "gridcolor": "white",
            "gridwidth": 2,
            "linecolor": "white",
            "showbackground": true,
            "ticks": "",
            "zerolinecolor": "white"
           }
          },
          "shapedefaults": {
           "line": {
            "color": "#2a3f5f"
           }
          },
          "ternary": {
           "aaxis": {
            "gridcolor": "white",
            "linecolor": "white",
            "ticks": ""
           },
           "baxis": {
            "gridcolor": "white",
            "linecolor": "white",
            "ticks": ""
           },
           "bgcolor": "#E5ECF6",
           "caxis": {
            "gridcolor": "white",
            "linecolor": "white",
            "ticks": ""
           }
          },
          "title": {
           "x": 0.05
          },
          "xaxis": {
           "automargin": true,
           "gridcolor": "white",
           "linecolor": "white",
           "ticks": "",
           "title": {
            "standoff": 15
           },
           "zerolinecolor": "white",
           "zerolinewidth": 2
          },
          "yaxis": {
           "automargin": true,
           "gridcolor": "white",
           "linecolor": "white",
           "ticks": "",
           "title": {
            "standoff": 15
           },
           "zerolinecolor": "white",
           "zerolinewidth": 2
          }
         }
        },
        "title": {
         "text": "Persentase Kesembuhan Covid"
        }
       }
      }
     },
     "metadata": {},
     "output_type": "display_data"
    }
   ],
   "source": [
    "fig = px.pie(names=['Cakupan Suntik 1 ','Cakupan Suntik 2 ','Total Penduduk Indonesia'],values=[8594205,8207295,278752361],title='Persentase Kesembuhan Covid',color_discrete_sequence=px.colors.sequential.RdBu,hole=.4)\n",
    "fig.update_traces(textinfo='percent+label', marker=dict(line=dict(color='#000000', width=2)))\n",
    "fig.update_layout(\n",
    "    # Add annotations in the center of the donut pies.\n",
    "    annotations=[dict(text='Total :', x=0.5, y=0.56, font_size=15, showarrow=False),\n",
    "                 dict(text='278.752.361', x=0.5, y=0.46, font_size=13, showarrow=False)])\n",
    "fig.show()"
   ]
  },
  {
   "cell_type": "markdown",
   "metadata": {},
   "source": [
    "Interpretasi\n",
    "Berdasarkan https://nasional.kompas.com/read/2022/04/27/03000051/jumlah-penduduk-indonesia-2022?page=all#:~:text=Worldometer%20merilis%20data%20jumlah%20penduduk,Perserikatan%20Bangsa%2Dbangsa%20atau%20PBB.&text=Jumlah%20penduduk%20Indonesia%20merupakan%203%2C51%20persen%20dari%20total%20penduduk%20dunia. jumlah penduduk di indonesia adalah 278 juta dan baru 2.91% cakupan suntik 1 dan 2.78% cakupan suntik 2"
   ]
  },
  {
   "cell_type": "markdown",
   "metadata": {},
   "source": [
    "##### Vaksinisasi WIlayah"
   ]
  },
  {
   "cell_type": "code",
   "execution_count": 264,
   "metadata": {},
   "outputs": [
    {
     "data": {
      "text/html": [
       "<div>\n",
       "<style scoped>\n",
       "    .dataframe tbody tr th:only-of-type {\n",
       "        vertical-align: middle;\n",
       "    }\n",
       "\n",
       "    .dataframe tbody tr th {\n",
       "        vertical-align: top;\n",
       "    }\n",
       "\n",
       "    .dataframe thead th {\n",
       "        text-align: right;\n",
       "    }\n",
       "</style>\n",
       "<table border=\"1\" class=\"dataframe\">\n",
       "  <thead>\n",
       "    <tr style=\"text-align: right;\">\n",
       "      <th></th>\n",
       "      <th>No.</th>\n",
       "      <th>Kecamatan</th>\n",
       "      <th>Kota / Kabupaten</th>\n",
       "      <th>Target Total per Kecamatan</th>\n",
       "      <th>Target Harian per Kecamatan</th>\n",
       "      <th>Cakupan Suntik 1</th>\n",
       "      <th>Keterangan</th>\n",
       "      <th>Cakupan Suntik 2</th>\n",
       "      <th>Cakupan Suntik 1.1</th>\n",
       "      <th>Keterangan.1</th>\n",
       "      <th>...</th>\n",
       "      <th>Cakupan Suntik 2.366</th>\n",
       "      <th>Cakupan Suntik 1.367</th>\n",
       "      <th>Keterangan.367</th>\n",
       "      <th>Cakupan Suntik 2.367</th>\n",
       "      <th>Cakupan Suntik 1.368</th>\n",
       "      <th>Keterangan.368</th>\n",
       "      <th>Cakupan Suntik 2.368</th>\n",
       "      <th>Cakupan Suntik 1.369</th>\n",
       "      <th>Keterangan.369</th>\n",
       "      <th>Cakupan Suntik 2.369</th>\n",
       "    </tr>\n",
       "  </thead>\n",
       "  <tbody>\n",
       "    <tr>\n",
       "      <th>0</th>\n",
       "      <td>1</td>\n",
       "      <td>Cakung</td>\n",
       "      <td>Jakarta Timur</td>\n",
       "      <td>515628</td>\n",
       "      <td>5333</td>\n",
       "      <td>74966</td>\n",
       "      <td>Tidak Tercapai</td>\n",
       "      <td>37590</td>\n",
       "      <td>897</td>\n",
       "      <td>Tidak Tercapai</td>\n",
       "      <td>...</td>\n",
       "      <td>2</td>\n",
       "      <td>56</td>\n",
       "      <td>Tidak Tercapai</td>\n",
       "      <td>41</td>\n",
       "      <td>35</td>\n",
       "      <td>Tidak Tercapai</td>\n",
       "      <td>46</td>\n",
       "      <td>56</td>\n",
       "      <td>Tidak Tercapai</td>\n",
       "      <td>48</td>\n",
       "    </tr>\n",
       "    <tr>\n",
       "      <th>1</th>\n",
       "      <td>2</td>\n",
       "      <td>Cengkareng</td>\n",
       "      <td>Jakarta Barat</td>\n",
       "      <td>519118</td>\n",
       "      <td>5041</td>\n",
       "      <td>85668</td>\n",
       "      <td>Tidak Tercapai</td>\n",
       "      <td>47581</td>\n",
       "      <td>429</td>\n",
       "      <td>Tidak Tercapai</td>\n",
       "      <td>...</td>\n",
       "      <td>1</td>\n",
       "      <td>53</td>\n",
       "      <td>Tidak Tercapai</td>\n",
       "      <td>48</td>\n",
       "      <td>29</td>\n",
       "      <td>Tidak Tercapai</td>\n",
       "      <td>54</td>\n",
       "      <td>33</td>\n",
       "      <td>Tidak Tercapai</td>\n",
       "      <td>35</td>\n",
       "    </tr>\n",
       "    <tr>\n",
       "      <th>2</th>\n",
       "      <td>3</td>\n",
       "      <td>Kali Deres</td>\n",
       "      <td>Jakarta Barat</td>\n",
       "      <td>406018</td>\n",
       "      <td>4295</td>\n",
       "      <td>42991</td>\n",
       "      <td>Tidak Tercapai</td>\n",
       "      <td>23222</td>\n",
       "      <td>162</td>\n",
       "      <td>Tidak Tercapai</td>\n",
       "      <td>...</td>\n",
       "      <td>0</td>\n",
       "      <td>32</td>\n",
       "      <td>Tidak Tercapai</td>\n",
       "      <td>25</td>\n",
       "      <td>44</td>\n",
       "      <td>Tidak Tercapai</td>\n",
       "      <td>29</td>\n",
       "      <td>25</td>\n",
       "      <td>Tidak Tercapai</td>\n",
       "      <td>28</td>\n",
       "    </tr>\n",
       "    <tr>\n",
       "      <th>3</th>\n",
       "      <td>4</td>\n",
       "      <td>Cilincing</td>\n",
       "      <td>Jakarta Utara</td>\n",
       "      <td>392136</td>\n",
       "      <td>4073</td>\n",
       "      <td>41494</td>\n",
       "      <td>Tidak Tercapai</td>\n",
       "      <td>22305</td>\n",
       "      <td>17</td>\n",
       "      <td>Tidak Tercapai</td>\n",
       "      <td>...</td>\n",
       "      <td>3</td>\n",
       "      <td>52</td>\n",
       "      <td>Tidak Tercapai</td>\n",
       "      <td>76</td>\n",
       "      <td>38</td>\n",
       "      <td>Tidak Tercapai</td>\n",
       "      <td>57</td>\n",
       "      <td>64</td>\n",
       "      <td>Tidak Tercapai</td>\n",
       "      <td>52</td>\n",
       "    </tr>\n",
       "    <tr>\n",
       "      <th>4</th>\n",
       "      <td>5</td>\n",
       "      <td>Duren Sawit</td>\n",
       "      <td>Jakarta Timur</td>\n",
       "      <td>404329</td>\n",
       "      <td>4006</td>\n",
       "      <td>41413</td>\n",
       "      <td>Tidak Tercapai</td>\n",
       "      <td>28993</td>\n",
       "      <td>7</td>\n",
       "      <td>Tidak Tercapai</td>\n",
       "      <td>...</td>\n",
       "      <td>3</td>\n",
       "      <td>15</td>\n",
       "      <td>Tidak Tercapai</td>\n",
       "      <td>31</td>\n",
       "      <td>26</td>\n",
       "      <td>Tidak Tercapai</td>\n",
       "      <td>27</td>\n",
       "      <td>32</td>\n",
       "      <td>Tidak Tercapai</td>\n",
       "      <td>25</td>\n",
       "    </tr>\n",
       "    <tr>\n",
       "      <th>5</th>\n",
       "      <td>6</td>\n",
       "      <td>Tanjung Priok</td>\n",
       "      <td>Jakarta Utara</td>\n",
       "      <td>377764</td>\n",
       "      <td>3728</td>\n",
       "      <td>81521</td>\n",
       "      <td>Tidak Tercapai</td>\n",
       "      <td>51856</td>\n",
       "      <td>1031</td>\n",
       "      <td>Tidak Tercapai</td>\n",
       "      <td>...</td>\n",
       "      <td>3</td>\n",
       "      <td>51</td>\n",
       "      <td>Tidak Tercapai</td>\n",
       "      <td>67</td>\n",
       "      <td>85</td>\n",
       "      <td>Tidak Tercapai</td>\n",
       "      <td>63</td>\n",
       "      <td>69</td>\n",
       "      <td>Tidak Tercapai</td>\n",
       "      <td>36</td>\n",
       "    </tr>\n",
       "    <tr>\n",
       "      <th>6</th>\n",
       "      <td>7</td>\n",
       "      <td>Jagakarsa</td>\n",
       "      <td>Jakarta Selatan</td>\n",
       "      <td>329378</td>\n",
       "      <td>3291</td>\n",
       "      <td>33493</td>\n",
       "      <td>Tidak Tercapai</td>\n",
       "      <td>21193</td>\n",
       "      <td>39</td>\n",
       "      <td>Tidak Tercapai</td>\n",
       "      <td>...</td>\n",
       "      <td>0</td>\n",
       "      <td>27</td>\n",
       "      <td>Tidak Tercapai</td>\n",
       "      <td>14</td>\n",
       "      <td>21</td>\n",
       "      <td>Tidak Tercapai</td>\n",
       "      <td>24</td>\n",
       "      <td>11</td>\n",
       "      <td>Tidak Tercapai</td>\n",
       "      <td>17</td>\n",
       "    </tr>\n",
       "    <tr>\n",
       "      <th>7</th>\n",
       "      <td>8</td>\n",
       "      <td>Kebon Jeruk</td>\n",
       "      <td>Jakarta Barat</td>\n",
       "      <td>327860</td>\n",
       "      <td>3285</td>\n",
       "      <td>53785</td>\n",
       "      <td>Tidak Tercapai</td>\n",
       "      <td>38086</td>\n",
       "      <td>366</td>\n",
       "      <td>Tidak Tercapai</td>\n",
       "      <td>...</td>\n",
       "      <td>2</td>\n",
       "      <td>20</td>\n",
       "      <td>Tidak Tercapai</td>\n",
       "      <td>26</td>\n",
       "      <td>11</td>\n",
       "      <td>Tidak Tercapai</td>\n",
       "      <td>30</td>\n",
       "      <td>23</td>\n",
       "      <td>Tidak Tercapai</td>\n",
       "      <td>24</td>\n",
       "    </tr>\n",
       "    <tr>\n",
       "      <th>8</th>\n",
       "      <td>9</td>\n",
       "      <td>Koja</td>\n",
       "      <td>Jakarta Utara</td>\n",
       "      <td>309976</td>\n",
       "      <td>3253</td>\n",
       "      <td>40095</td>\n",
       "      <td>Tidak Tercapai</td>\n",
       "      <td>23217</td>\n",
       "      <td>188</td>\n",
       "      <td>Tidak Tercapai</td>\n",
       "      <td>...</td>\n",
       "      <td>1</td>\n",
       "      <td>21</td>\n",
       "      <td>Tidak Tercapai</td>\n",
       "      <td>38</td>\n",
       "      <td>26</td>\n",
       "      <td>Tidak Tercapai</td>\n",
       "      <td>24</td>\n",
       "      <td>30</td>\n",
       "      <td>Tidak Tercapai</td>\n",
       "      <td>17</td>\n",
       "    </tr>\n",
       "    <tr>\n",
       "      <th>9</th>\n",
       "      <td>10</td>\n",
       "      <td>Kebayoran Lama</td>\n",
       "      <td>Jakarta Selatan</td>\n",
       "      <td>299047</td>\n",
       "      <td>3018</td>\n",
       "      <td>50278</td>\n",
       "      <td>Tidak Tercapai</td>\n",
       "      <td>39551</td>\n",
       "      <td>150</td>\n",
       "      <td>Tidak Tercapai</td>\n",
       "      <td>...</td>\n",
       "      <td>4</td>\n",
       "      <td>11</td>\n",
       "      <td>Tidak Tercapai</td>\n",
       "      <td>37</td>\n",
       "      <td>20</td>\n",
       "      <td>Tidak Tercapai</td>\n",
       "      <td>21</td>\n",
       "      <td>27</td>\n",
       "      <td>Tidak Tercapai</td>\n",
       "      <td>31</td>\n",
       "    </tr>\n",
       "    <tr>\n",
       "      <th>10</th>\n",
       "      <td>11</td>\n",
       "      <td>Jatinegara</td>\n",
       "      <td>Jakarta Timur</td>\n",
       "      <td>295073</td>\n",
       "      <td>3010</td>\n",
       "      <td>63222</td>\n",
       "      <td>Tidak Tercapai</td>\n",
       "      <td>37131</td>\n",
       "      <td>1053</td>\n",
       "      <td>Tidak Tercapai</td>\n",
       "      <td>...</td>\n",
       "      <td>0</td>\n",
       "      <td>27</td>\n",
       "      <td>Tidak Tercapai</td>\n",
       "      <td>39</td>\n",
       "      <td>33</td>\n",
       "      <td>Tidak Tercapai</td>\n",
       "      <td>17</td>\n",
       "      <td>26</td>\n",
       "      <td>Tidak Tercapai</td>\n",
       "      <td>32</td>\n",
       "    </tr>\n",
       "    <tr>\n",
       "      <th>11</th>\n",
       "      <td>12</td>\n",
       "      <td>Kramat Jati</td>\n",
       "      <td>Jakarta Timur</td>\n",
       "      <td>286172</td>\n",
       "      <td>2939</td>\n",
       "      <td>52251</td>\n",
       "      <td>Tidak Tercapai</td>\n",
       "      <td>36077</td>\n",
       "      <td>271</td>\n",
       "      <td>Tidak Tercapai</td>\n",
       "      <td>...</td>\n",
       "      <td>10</td>\n",
       "      <td>27</td>\n",
       "      <td>Tidak Tercapai</td>\n",
       "      <td>34</td>\n",
       "      <td>38</td>\n",
       "      <td>Tidak Tercapai</td>\n",
       "      <td>44</td>\n",
       "      <td>42</td>\n",
       "      <td>Tidak Tercapai</td>\n",
       "      <td>49</td>\n",
       "    </tr>\n",
       "    <tr>\n",
       "      <th>12</th>\n",
       "      <td>13</td>\n",
       "      <td>Pasar Minggu</td>\n",
       "      <td>Jakarta Selatan</td>\n",
       "      <td>300472</td>\n",
       "      <td>2937</td>\n",
       "      <td>43323</td>\n",
       "      <td>Tidak Tercapai</td>\n",
       "      <td>27425</td>\n",
       "      <td>107</td>\n",
       "      <td>Tidak Tercapai</td>\n",
       "      <td>...</td>\n",
       "      <td>0</td>\n",
       "      <td>29</td>\n",
       "      <td>Tidak Tercapai</td>\n",
       "      <td>35</td>\n",
       "      <td>22</td>\n",
       "      <td>Tidak Tercapai</td>\n",
       "      <td>26</td>\n",
       "      <td>19</td>\n",
       "      <td>Tidak Tercapai</td>\n",
       "      <td>34</td>\n",
       "    </tr>\n",
       "    <tr>\n",
       "      <th>13</th>\n",
       "      <td>14</td>\n",
       "      <td>Penjaringan</td>\n",
       "      <td>Jakarta Utara</td>\n",
       "      <td>292546</td>\n",
       "      <td>2860</td>\n",
       "      <td>90895</td>\n",
       "      <td>Tidak Tercapai</td>\n",
       "      <td>46467</td>\n",
       "      <td>994</td>\n",
       "      <td>Tidak Tercapai</td>\n",
       "      <td>...</td>\n",
       "      <td>1</td>\n",
       "      <td>23</td>\n",
       "      <td>Tidak Tercapai</td>\n",
       "      <td>48</td>\n",
       "      <td>22</td>\n",
       "      <td>Tidak Tercapai</td>\n",
       "      <td>57</td>\n",
       "      <td>33</td>\n",
       "      <td>Tidak Tercapai</td>\n",
       "      <td>29</td>\n",
       "    </tr>\n",
       "    <tr>\n",
       "      <th>14</th>\n",
       "      <td>15</td>\n",
       "      <td>Ciracas</td>\n",
       "      <td>Jakarta Timur</td>\n",
       "      <td>286157</td>\n",
       "      <td>2800</td>\n",
       "      <td>32047</td>\n",
       "      <td>Tidak Tercapai</td>\n",
       "      <td>20888</td>\n",
       "      <td>59</td>\n",
       "      <td>Tidak Tercapai</td>\n",
       "      <td>...</td>\n",
       "      <td>5</td>\n",
       "      <td>12</td>\n",
       "      <td>Tidak Tercapai</td>\n",
       "      <td>22</td>\n",
       "      <td>33</td>\n",
       "      <td>Tidak Tercapai</td>\n",
       "      <td>27</td>\n",
       "      <td>5</td>\n",
       "      <td>Tidak Tercapai</td>\n",
       "      <td>8</td>\n",
       "    </tr>\n",
       "    <tr>\n",
       "      <th>15</th>\n",
       "      <td>16</td>\n",
       "      <td>Pulo Gadung</td>\n",
       "      <td>Jakarta Timur</td>\n",
       "      <td>280197</td>\n",
       "      <td>2779</td>\n",
       "      <td>48208</td>\n",
       "      <td>Tidak Tercapai</td>\n",
       "      <td>30966</td>\n",
       "      <td>0</td>\n",
       "      <td>Tidak Tercapai</td>\n",
       "      <td>...</td>\n",
       "      <td>2</td>\n",
       "      <td>26</td>\n",
       "      <td>Tidak Tercapai</td>\n",
       "      <td>27</td>\n",
       "      <td>18</td>\n",
       "      <td>Tidak Tercapai</td>\n",
       "      <td>21</td>\n",
       "      <td>36</td>\n",
       "      <td>Tidak Tercapai</td>\n",
       "      <td>23</td>\n",
       "    </tr>\n",
       "    <tr>\n",
       "      <th>16</th>\n",
       "      <td>17</td>\n",
       "      <td>Kembangan</td>\n",
       "      <td>Jakarta Barat</td>\n",
       "      <td>275438</td>\n",
       "      <td>2686</td>\n",
       "      <td>51430</td>\n",
       "      <td>Tidak Tercapai</td>\n",
       "      <td>33548</td>\n",
       "      <td>276</td>\n",
       "      <td>Tidak Tercapai</td>\n",
       "      <td>...</td>\n",
       "      <td>12</td>\n",
       "      <td>30</td>\n",
       "      <td>Tidak Tercapai</td>\n",
       "      <td>22</td>\n",
       "      <td>34</td>\n",
       "      <td>Tidak Tercapai</td>\n",
       "      <td>37</td>\n",
       "      <td>41</td>\n",
       "      <td>Tidak Tercapai</td>\n",
       "      <td>21</td>\n",
       "    </tr>\n",
       "    <tr>\n",
       "      <th>17</th>\n",
       "      <td>18</td>\n",
       "      <td>Cipayung</td>\n",
       "      <td>Jakarta Timur</td>\n",
       "      <td>263441</td>\n",
       "      <td>2658</td>\n",
       "      <td>62833</td>\n",
       "      <td>Tidak Tercapai</td>\n",
       "      <td>47865</td>\n",
       "      <td>203</td>\n",
       "      <td>Tidak Tercapai</td>\n",
       "      <td>...</td>\n",
       "      <td>2</td>\n",
       "      <td>20</td>\n",
       "      <td>Tidak Tercapai</td>\n",
       "      <td>34</td>\n",
       "      <td>16</td>\n",
       "      <td>Tidak Tercapai</td>\n",
       "      <td>29</td>\n",
       "      <td>24</td>\n",
       "      <td>Tidak Tercapai</td>\n",
       "      <td>27</td>\n",
       "    </tr>\n",
       "    <tr>\n",
       "      <th>18</th>\n",
       "      <td>19</td>\n",
       "      <td>Tambora</td>\n",
       "      <td>Jakarta Barat</td>\n",
       "      <td>247014</td>\n",
       "      <td>2565</td>\n",
       "      <td>28635</td>\n",
       "      <td>Tidak Tercapai</td>\n",
       "      <td>16484</td>\n",
       "      <td>165</td>\n",
       "      <td>Tidak Tercapai</td>\n",
       "      <td>...</td>\n",
       "      <td>4</td>\n",
       "      <td>9</td>\n",
       "      <td>Tidak Tercapai</td>\n",
       "      <td>16</td>\n",
       "      <td>14</td>\n",
       "      <td>Tidak Tercapai</td>\n",
       "      <td>17</td>\n",
       "      <td>17</td>\n",
       "      <td>Tidak Tercapai</td>\n",
       "      <td>19</td>\n",
       "    </tr>\n",
       "    <tr>\n",
       "      <th>19</th>\n",
       "      <td>20</td>\n",
       "      <td>Pesanggrahan</td>\n",
       "      <td>Jakarta Selatan</td>\n",
       "      <td>239745</td>\n",
       "      <td>2378</td>\n",
       "      <td>31145</td>\n",
       "      <td>Tidak Tercapai</td>\n",
       "      <td>19138</td>\n",
       "      <td>16</td>\n",
       "      <td>Tidak Tercapai</td>\n",
       "      <td>...</td>\n",
       "      <td>15</td>\n",
       "      <td>21</td>\n",
       "      <td>Tidak Tercapai</td>\n",
       "      <td>43</td>\n",
       "      <td>27</td>\n",
       "      <td>Tidak Tercapai</td>\n",
       "      <td>32</td>\n",
       "      <td>28</td>\n",
       "      <td>Tidak Tercapai</td>\n",
       "      <td>22</td>\n",
       "    </tr>\n",
       "    <tr>\n",
       "      <th>20</th>\n",
       "      <td>21</td>\n",
       "      <td>Kemayoran</td>\n",
       "      <td>Jakarta Pusat</td>\n",
       "      <td>231712</td>\n",
       "      <td>2364</td>\n",
       "      <td>85087</td>\n",
       "      <td>Tidak Tercapai</td>\n",
       "      <td>53498</td>\n",
       "      <td>969</td>\n",
       "      <td>Tidak Tercapai</td>\n",
       "      <td>...</td>\n",
       "      <td>1</td>\n",
       "      <td>47</td>\n",
       "      <td>Tidak Tercapai</td>\n",
       "      <td>58</td>\n",
       "      <td>14</td>\n",
       "      <td>Tidak Tercapai</td>\n",
       "      <td>16</td>\n",
       "      <td>33</td>\n",
       "      <td>Tidak Tercapai</td>\n",
       "      <td>33</td>\n",
       "    </tr>\n",
       "    <tr>\n",
       "      <th>21</th>\n",
       "      <td>22</td>\n",
       "      <td>Tebet</td>\n",
       "      <td>Jakarta Selatan</td>\n",
       "      <td>219339</td>\n",
       "      <td>2177</td>\n",
       "      <td>45813</td>\n",
       "      <td>Tidak Tercapai</td>\n",
       "      <td>28089</td>\n",
       "      <td>1188</td>\n",
       "      <td>Tidak Tercapai</td>\n",
       "      <td>...</td>\n",
       "      <td>1</td>\n",
       "      <td>6</td>\n",
       "      <td>Tidak Tercapai</td>\n",
       "      <td>10</td>\n",
       "      <td>19</td>\n",
       "      <td>Tidak Tercapai</td>\n",
       "      <td>8</td>\n",
       "      <td>16</td>\n",
       "      <td>Tidak Tercapai</td>\n",
       "      <td>13</td>\n",
       "    </tr>\n",
       "    <tr>\n",
       "      <th>22</th>\n",
       "      <td>23</td>\n",
       "      <td>Grogol Petamburan</td>\n",
       "      <td>Jakarta Barat</td>\n",
       "      <td>218293</td>\n",
       "      <td>2095</td>\n",
       "      <td>93121</td>\n",
       "      <td>Tidak Tercapai</td>\n",
       "      <td>37259</td>\n",
       "      <td>842</td>\n",
       "      <td>Tidak Tercapai</td>\n",
       "      <td>...</td>\n",
       "      <td>3</td>\n",
       "      <td>12</td>\n",
       "      <td>Tidak Tercapai</td>\n",
       "      <td>33</td>\n",
       "      <td>22</td>\n",
       "      <td>Tidak Tercapai</td>\n",
       "      <td>24</td>\n",
       "      <td>16</td>\n",
       "      <td>Tidak Tercapai</td>\n",
       "      <td>25</td>\n",
       "    </tr>\n",
       "    <tr>\n",
       "      <th>23</th>\n",
       "      <td>24</td>\n",
       "      <td>Palmerah</td>\n",
       "      <td>Jakarta Barat</td>\n",
       "      <td>209979</td>\n",
       "      <td>2077</td>\n",
       "      <td>45162</td>\n",
       "      <td>Tidak Tercapai</td>\n",
       "      <td>156991</td>\n",
       "      <td>520</td>\n",
       "      <td>Tidak Tercapai</td>\n",
       "      <td>...</td>\n",
       "      <td>5</td>\n",
       "      <td>0</td>\n",
       "      <td>Tidak Tercapai</td>\n",
       "      <td>17</td>\n",
       "      <td>42</td>\n",
       "      <td>Tidak Tercapai</td>\n",
       "      <td>27</td>\n",
       "      <td>70</td>\n",
       "      <td>Tidak Tercapai</td>\n",
       "      <td>22</td>\n",
       "    </tr>\n",
       "    <tr>\n",
       "      <th>24</th>\n",
       "      <td>25</td>\n",
       "      <td>Pasar Rebo</td>\n",
       "      <td>Jakarta Timur</td>\n",
       "      <td>211912</td>\n",
       "      <td>2071</td>\n",
       "      <td>31829</td>\n",
       "      <td>Tidak Tercapai</td>\n",
       "      <td>21996</td>\n",
       "      <td>157</td>\n",
       "      <td>Tidak Tercapai</td>\n",
       "      <td>...</td>\n",
       "      <td>8</td>\n",
       "      <td>23</td>\n",
       "      <td>Tidak Tercapai</td>\n",
       "      <td>28</td>\n",
       "      <td>37</td>\n",
       "      <td>Tidak Tercapai</td>\n",
       "      <td>25</td>\n",
       "      <td>20</td>\n",
       "      <td>Tidak Tercapai</td>\n",
       "      <td>25</td>\n",
       "    </tr>\n",
       "    <tr>\n",
       "      <th>25</th>\n",
       "      <td>26</td>\n",
       "      <td>Cilandak</td>\n",
       "      <td>Jakarta Selatan</td>\n",
       "      <td>206339</td>\n",
       "      <td>2047</td>\n",
       "      <td>54250</td>\n",
       "      <td>Tidak Tercapai</td>\n",
       "      <td>38481</td>\n",
       "      <td>48</td>\n",
       "      <td>Tidak Tercapai</td>\n",
       "      <td>...</td>\n",
       "      <td>2</td>\n",
       "      <td>6</td>\n",
       "      <td>Tidak Tercapai</td>\n",
       "      <td>14</td>\n",
       "      <td>8</td>\n",
       "      <td>Tidak Tercapai</td>\n",
       "      <td>10</td>\n",
       "      <td>21</td>\n",
       "      <td>Tidak Tercapai</td>\n",
       "      <td>16</td>\n",
       "    </tr>\n",
       "    <tr>\n",
       "      <th>26</th>\n",
       "      <td>27</td>\n",
       "      <td>Makasar</td>\n",
       "      <td>Jakarta Timur</td>\n",
       "      <td>201749</td>\n",
       "      <td>1927</td>\n",
       "      <td>55656</td>\n",
       "      <td>Tidak Tercapai</td>\n",
       "      <td>38990</td>\n",
       "      <td>701</td>\n",
       "      <td>Tidak Tercapai</td>\n",
       "      <td>...</td>\n",
       "      <td>8</td>\n",
       "      <td>2</td>\n",
       "      <td>Tidak Tercapai</td>\n",
       "      <td>24</td>\n",
       "      <td>13</td>\n",
       "      <td>Tidak Tercapai</td>\n",
       "      <td>7</td>\n",
       "      <td>8</td>\n",
       "      <td>Tidak Tercapai</td>\n",
       "      <td>19</td>\n",
       "    </tr>\n",
       "    <tr>\n",
       "      <th>27</th>\n",
       "      <td>28</td>\n",
       "      <td>Matraman</td>\n",
       "      <td>Jakarta Timur</td>\n",
       "      <td>173223</td>\n",
       "      <td>1745</td>\n",
       "      <td>25955</td>\n",
       "      <td>Tidak Tercapai</td>\n",
       "      <td>18699</td>\n",
       "      <td>1</td>\n",
       "      <td>Tidak Tercapai</td>\n",
       "      <td>...</td>\n",
       "      <td>33</td>\n",
       "      <td>50</td>\n",
       "      <td>Tidak Tercapai</td>\n",
       "      <td>84</td>\n",
       "      <td>51</td>\n",
       "      <td>Tidak Tercapai</td>\n",
       "      <td>49</td>\n",
       "      <td>48</td>\n",
       "      <td>Tidak Tercapai</td>\n",
       "      <td>66</td>\n",
       "    </tr>\n",
       "    <tr>\n",
       "      <th>28</th>\n",
       "      <td>29</td>\n",
       "      <td>Tanah Abang</td>\n",
       "      <td>Jakarta Pusat</td>\n",
       "      <td>159859</td>\n",
       "      <td>1647</td>\n",
       "      <td>511564</td>\n",
       "      <td>Tidak Tercapai</td>\n",
       "      <td>128537</td>\n",
       "      <td>1</td>\n",
       "      <td>Tidak Tercapai</td>\n",
       "      <td>...</td>\n",
       "      <td>1</td>\n",
       "      <td>57</td>\n",
       "      <td>Tidak Tercapai</td>\n",
       "      <td>3</td>\n",
       "      <td>0</td>\n",
       "      <td>Tidak Tercapai</td>\n",
       "      <td>6</td>\n",
       "      <td>0</td>\n",
       "      <td>Tidak Tercapai</td>\n",
       "      <td>10</td>\n",
       "    </tr>\n",
       "    <tr>\n",
       "      <th>29</th>\n",
       "      <td>30</td>\n",
       "      <td>Pancoran</td>\n",
       "      <td>Jakarta Selatan</td>\n",
       "      <td>160208</td>\n",
       "      <td>1612</td>\n",
       "      <td>32563</td>\n",
       "      <td>Tidak Tercapai</td>\n",
       "      <td>16683</td>\n",
       "      <td>2322</td>\n",
       "      <td>Tercapai</td>\n",
       "      <td>...</td>\n",
       "      <td>1</td>\n",
       "      <td>6</td>\n",
       "      <td>Tidak Tercapai</td>\n",
       "      <td>14</td>\n",
       "      <td>12</td>\n",
       "      <td>Tidak Tercapai</td>\n",
       "      <td>15</td>\n",
       "      <td>5</td>\n",
       "      <td>Tidak Tercapai</td>\n",
       "      <td>12</td>\n",
       "    </tr>\n",
       "    <tr>\n",
       "      <th>30</th>\n",
       "      <td>31</td>\n",
       "      <td>Pademangan</td>\n",
       "      <td>Jakarta Utara</td>\n",
       "      <td>153617</td>\n",
       "      <td>1492</td>\n",
       "      <td>76901</td>\n",
       "      <td>Tidak Tercapai</td>\n",
       "      <td>50323</td>\n",
       "      <td>315</td>\n",
       "      <td>Tidak Tercapai</td>\n",
       "      <td>...</td>\n",
       "      <td>2</td>\n",
       "      <td>37</td>\n",
       "      <td>Tidak Tercapai</td>\n",
       "      <td>45</td>\n",
       "      <td>32</td>\n",
       "      <td>Tidak Tercapai</td>\n",
       "      <td>36</td>\n",
       "      <td>23</td>\n",
       "      <td>Tidak Tercapai</td>\n",
       "      <td>26</td>\n",
       "    </tr>\n",
       "    <tr>\n",
       "      <th>31</th>\n",
       "      <td>32</td>\n",
       "      <td>Mampang Prapatan</td>\n",
       "      <td>Jakarta Selatan</td>\n",
       "      <td>144281</td>\n",
       "      <td>1483</td>\n",
       "      <td>28263</td>\n",
       "      <td>Tidak Tercapai</td>\n",
       "      <td>16416</td>\n",
       "      <td>43</td>\n",
       "      <td>Tidak Tercapai</td>\n",
       "      <td>...</td>\n",
       "      <td>0</td>\n",
       "      <td>8</td>\n",
       "      <td>Tidak Tercapai</td>\n",
       "      <td>9</td>\n",
       "      <td>7</td>\n",
       "      <td>Tidak Tercapai</td>\n",
       "      <td>19</td>\n",
       "      <td>7</td>\n",
       "      <td>Tidak Tercapai</td>\n",
       "      <td>17</td>\n",
       "    </tr>\n",
       "    <tr>\n",
       "      <th>32</th>\n",
       "      <td>33</td>\n",
       "      <td>Kebayoran Baru</td>\n",
       "      <td>Jakarta Selatan</td>\n",
       "      <td>143481</td>\n",
       "      <td>1342</td>\n",
       "      <td>114730</td>\n",
       "      <td>Tidak Tercapai</td>\n",
       "      <td>215545</td>\n",
       "      <td>2296</td>\n",
       "      <td>Tercapai</td>\n",
       "      <td>...</td>\n",
       "      <td>20</td>\n",
       "      <td>0</td>\n",
       "      <td>Tidak Tercapai</td>\n",
       "      <td>71</td>\n",
       "      <td>61</td>\n",
       "      <td>Tidak Tercapai</td>\n",
       "      <td>47</td>\n",
       "      <td>103</td>\n",
       "      <td>Tidak Tercapai</td>\n",
       "      <td>33</td>\n",
       "    </tr>\n",
       "    <tr>\n",
       "      <th>33</th>\n",
       "      <td>34</td>\n",
       "      <td>Taman Sari</td>\n",
       "      <td>Jakarta Barat</td>\n",
       "      <td>118051</td>\n",
       "      <td>1149</td>\n",
       "      <td>25199</td>\n",
       "      <td>Tidak Tercapai</td>\n",
       "      <td>16819</td>\n",
       "      <td>0</td>\n",
       "      <td>Tidak Tercapai</td>\n",
       "      <td>...</td>\n",
       "      <td>10</td>\n",
       "      <td>1</td>\n",
       "      <td>Tidak Tercapai</td>\n",
       "      <td>29</td>\n",
       "      <td>7</td>\n",
       "      <td>Tidak Tercapai</td>\n",
       "      <td>15</td>\n",
       "      <td>8</td>\n",
       "      <td>Tidak Tercapai</td>\n",
       "      <td>10</td>\n",
       "    </tr>\n",
       "    <tr>\n",
       "      <th>34</th>\n",
       "      <td>35</td>\n",
       "      <td>Sawah Besar</td>\n",
       "      <td>Jakarta Pusat</td>\n",
       "      <td>113400</td>\n",
       "      <td>1120</td>\n",
       "      <td>39451</td>\n",
       "      <td>Tidak Tercapai</td>\n",
       "      <td>22174</td>\n",
       "      <td>9</td>\n",
       "      <td>Tidak Tercapai</td>\n",
       "      <td>...</td>\n",
       "      <td>5</td>\n",
       "      <td>0</td>\n",
       "      <td>Tidak Tercapai</td>\n",
       "      <td>9</td>\n",
       "      <td>22</td>\n",
       "      <td>Tidak Tercapai</td>\n",
       "      <td>15</td>\n",
       "      <td>12</td>\n",
       "      <td>Tidak Tercapai</td>\n",
       "      <td>9</td>\n",
       "    </tr>\n",
       "    <tr>\n",
       "      <th>35</th>\n",
       "      <td>36</td>\n",
       "      <td>Kelapa Gading</td>\n",
       "      <td>Jakarta Utara</td>\n",
       "      <td>132180</td>\n",
       "      <td>1114</td>\n",
       "      <td>76263</td>\n",
       "      <td>Tidak Tercapai</td>\n",
       "      <td>42103</td>\n",
       "      <td>1237</td>\n",
       "      <td>Tercapai</td>\n",
       "      <td>...</td>\n",
       "      <td>6</td>\n",
       "      <td>9</td>\n",
       "      <td>Tidak Tercapai</td>\n",
       "      <td>8</td>\n",
       "      <td>28</td>\n",
       "      <td>Tidak Tercapai</td>\n",
       "      <td>28</td>\n",
       "      <td>16</td>\n",
       "      <td>Tidak Tercapai</td>\n",
       "      <td>18</td>\n",
       "    </tr>\n",
       "    <tr>\n",
       "      <th>36</th>\n",
       "      <td>37</td>\n",
       "      <td>Johar Baru</td>\n",
       "      <td>Jakarta Pusat</td>\n",
       "      <td>128851</td>\n",
       "      <td>1102</td>\n",
       "      <td>45816</td>\n",
       "      <td>Tidak Tercapai</td>\n",
       "      <td>15372</td>\n",
       "      <td>248</td>\n",
       "      <td>Tidak Tercapai</td>\n",
       "      <td>...</td>\n",
       "      <td>2</td>\n",
       "      <td>7</td>\n",
       "      <td>Tidak Tercapai</td>\n",
       "      <td>11</td>\n",
       "      <td>14</td>\n",
       "      <td>Tidak Tercapai</td>\n",
       "      <td>13</td>\n",
       "      <td>13</td>\n",
       "      <td>Tidak Tercapai</td>\n",
       "      <td>10</td>\n",
       "    </tr>\n",
       "    <tr>\n",
       "      <th>37</th>\n",
       "      <td>38</td>\n",
       "      <td>Senen</td>\n",
       "      <td>Jakarta Pusat</td>\n",
       "      <td>116078</td>\n",
       "      <td>1099</td>\n",
       "      <td>77377</td>\n",
       "      <td>Tidak Tercapai</td>\n",
       "      <td>57501</td>\n",
       "      <td>427</td>\n",
       "      <td>Tidak Tercapai</td>\n",
       "      <td>...</td>\n",
       "      <td>1</td>\n",
       "      <td>7</td>\n",
       "      <td>Tidak Tercapai</td>\n",
       "      <td>12</td>\n",
       "      <td>9</td>\n",
       "      <td>Tidak Tercapai</td>\n",
       "      <td>3</td>\n",
       "      <td>14</td>\n",
       "      <td>Tidak Tercapai</td>\n",
       "      <td>11</td>\n",
       "    </tr>\n",
       "    <tr>\n",
       "      <th>38</th>\n",
       "      <td>39</td>\n",
       "      <td>Setia Budi</td>\n",
       "      <td>Jakarta Selatan</td>\n",
       "      <td>107175</td>\n",
       "      <td>1019</td>\n",
       "      <td>93862</td>\n",
       "      <td>Tidak Tercapai</td>\n",
       "      <td>67141</td>\n",
       "      <td>1073</td>\n",
       "      <td>Tercapai</td>\n",
       "      <td>...</td>\n",
       "      <td>2</td>\n",
       "      <td>11</td>\n",
       "      <td>Tidak Tercapai</td>\n",
       "      <td>6</td>\n",
       "      <td>1</td>\n",
       "      <td>Tidak Tercapai</td>\n",
       "      <td>7</td>\n",
       "      <td>13</td>\n",
       "      <td>Tidak Tercapai</td>\n",
       "      <td>13</td>\n",
       "    </tr>\n",
       "    <tr>\n",
       "      <th>39</th>\n",
       "      <td>40</td>\n",
       "      <td>Cempaka Putih</td>\n",
       "      <td>Jakarta Pusat</td>\n",
       "      <td>91267</td>\n",
       "      <td>893</td>\n",
       "      <td>23538</td>\n",
       "      <td>Tidak Tercapai</td>\n",
       "      <td>18224</td>\n",
       "      <td>189</td>\n",
       "      <td>Tidak Tercapai</td>\n",
       "      <td>...</td>\n",
       "      <td>3</td>\n",
       "      <td>19</td>\n",
       "      <td>Tidak Tercapai</td>\n",
       "      <td>27</td>\n",
       "      <td>8</td>\n",
       "      <td>Tidak Tercapai</td>\n",
       "      <td>17</td>\n",
       "      <td>4</td>\n",
       "      <td>Tidak Tercapai</td>\n",
       "      <td>5</td>\n",
       "    </tr>\n",
       "    <tr>\n",
       "      <th>40</th>\n",
       "      <td>41</td>\n",
       "      <td>Gambir</td>\n",
       "      <td>Jakarta Pusat</td>\n",
       "      <td>87798</td>\n",
       "      <td>879</td>\n",
       "      <td>128051</td>\n",
       "      <td>Tidak Tercapai</td>\n",
       "      <td>106825</td>\n",
       "      <td>208</td>\n",
       "      <td>Tidak Tercapai</td>\n",
       "      <td>...</td>\n",
       "      <td>5</td>\n",
       "      <td>19</td>\n",
       "      <td>Tidak Tercapai</td>\n",
       "      <td>21</td>\n",
       "      <td>18</td>\n",
       "      <td>Tidak Tercapai</td>\n",
       "      <td>31</td>\n",
       "      <td>36</td>\n",
       "      <td>Tidak Tercapai</td>\n",
       "      <td>26</td>\n",
       "    </tr>\n",
       "    <tr>\n",
       "      <th>41</th>\n",
       "      <td>42</td>\n",
       "      <td>Menteng</td>\n",
       "      <td>Jakarta Pusat</td>\n",
       "      <td>81850</td>\n",
       "      <td>770</td>\n",
       "      <td>51423</td>\n",
       "      <td>Tidak Tercapai</td>\n",
       "      <td>32895</td>\n",
       "      <td>57</td>\n",
       "      <td>Tidak Tercapai</td>\n",
       "      <td>...</td>\n",
       "      <td>5</td>\n",
       "      <td>10</td>\n",
       "      <td>Tidak Tercapai</td>\n",
       "      <td>15</td>\n",
       "      <td>10</td>\n",
       "      <td>Tidak Tercapai</td>\n",
       "      <td>12</td>\n",
       "      <td>14</td>\n",
       "      <td>Tidak Tercapai</td>\n",
       "      <td>6</td>\n",
       "    </tr>\n",
       "    <tr>\n",
       "      <th>42</th>\n",
       "      <td>43</td>\n",
       "      <td>Kep. Seribu Utara</td>\n",
       "      <td>Kepulauan Seribu</td>\n",
       "      <td>14892</td>\n",
       "      <td>122</td>\n",
       "      <td>3996</td>\n",
       "      <td>Tidak Tercapai</td>\n",
       "      <td>2850</td>\n",
       "      <td>0</td>\n",
       "      <td>Tidak Tercapai</td>\n",
       "      <td>...</td>\n",
       "      <td>0</td>\n",
       "      <td>0</td>\n",
       "      <td>Tidak Tercapai</td>\n",
       "      <td>1</td>\n",
       "      <td>1</td>\n",
       "      <td>Tidak Tercapai</td>\n",
       "      <td>0</td>\n",
       "      <td>0</td>\n",
       "      <td>Tidak Tercapai</td>\n",
       "      <td>0</td>\n",
       "    </tr>\n",
       "    <tr>\n",
       "      <th>43</th>\n",
       "      <td>44</td>\n",
       "      <td>Kep. Seribu Selatan</td>\n",
       "      <td>Kepulauan Seribu</td>\n",
       "      <td>10673</td>\n",
       "      <td>82</td>\n",
       "      <td>4363</td>\n",
       "      <td>Tidak Tercapai</td>\n",
       "      <td>2818</td>\n",
       "      <td>0</td>\n",
       "      <td>Tidak Tercapai</td>\n",
       "      <td>...</td>\n",
       "      <td>0</td>\n",
       "      <td>1</td>\n",
       "      <td>Tidak Tercapai</td>\n",
       "      <td>0</td>\n",
       "      <td>0</td>\n",
       "      <td>Tidak Tercapai</td>\n",
       "      <td>0</td>\n",
       "      <td>0</td>\n",
       "      <td>Tidak Tercapai</td>\n",
       "      <td>1</td>\n",
       "    </tr>\n",
       "  </tbody>\n",
       "</table>\n",
       "<p>44 rows × 1114 columns</p>\n",
       "</div>"
      ],
      "text/plain": [
       "    No.            Kecamatan  Kota / Kabupaten  Target Total per Kecamatan  \\\n",
       "0     1               Cakung     Jakarta Timur                      515628   \n",
       "1     2           Cengkareng     Jakarta Barat                      519118   \n",
       "2     3           Kali Deres     Jakarta Barat                      406018   \n",
       "3     4            Cilincing     Jakarta Utara                      392136   \n",
       "4     5          Duren Sawit     Jakarta Timur                      404329   \n",
       "5     6        Tanjung Priok     Jakarta Utara                      377764   \n",
       "6     7            Jagakarsa   Jakarta Selatan                      329378   \n",
       "7     8          Kebon Jeruk     Jakarta Barat                      327860   \n",
       "8     9                 Koja     Jakarta Utara                      309976   \n",
       "9    10       Kebayoran Lama   Jakarta Selatan                      299047   \n",
       "10   11           Jatinegara     Jakarta Timur                      295073   \n",
       "11   12          Kramat Jati     Jakarta Timur                      286172   \n",
       "12   13         Pasar Minggu   Jakarta Selatan                      300472   \n",
       "13   14          Penjaringan     Jakarta Utara                      292546   \n",
       "14   15              Ciracas     Jakarta Timur                      286157   \n",
       "15   16          Pulo Gadung     Jakarta Timur                      280197   \n",
       "16   17            Kembangan     Jakarta Barat                      275438   \n",
       "17   18             Cipayung     Jakarta Timur                      263441   \n",
       "18   19              Tambora     Jakarta Barat                      247014   \n",
       "19   20         Pesanggrahan   Jakarta Selatan                      239745   \n",
       "20   21            Kemayoran     Jakarta Pusat                      231712   \n",
       "21   22                Tebet   Jakarta Selatan                      219339   \n",
       "22   23    Grogol Petamburan     Jakarta Barat                      218293   \n",
       "23   24             Palmerah     Jakarta Barat                      209979   \n",
       "24   25           Pasar Rebo     Jakarta Timur                      211912   \n",
       "25   26             Cilandak   Jakarta Selatan                      206339   \n",
       "26   27              Makasar     Jakarta Timur                      201749   \n",
       "27   28             Matraman     Jakarta Timur                      173223   \n",
       "28   29          Tanah Abang     Jakarta Pusat                      159859   \n",
       "29   30             Pancoran   Jakarta Selatan                      160208   \n",
       "30   31           Pademangan     Jakarta Utara                      153617   \n",
       "31   32     Mampang Prapatan   Jakarta Selatan                      144281   \n",
       "32   33       Kebayoran Baru   Jakarta Selatan                      143481   \n",
       "33   34           Taman Sari     Jakarta Barat                      118051   \n",
       "34   35          Sawah Besar     Jakarta Pusat                      113400   \n",
       "35   36        Kelapa Gading     Jakarta Utara                      132180   \n",
       "36   37           Johar Baru     Jakarta Pusat                      128851   \n",
       "37   38                Senen     Jakarta Pusat                      116078   \n",
       "38   39           Setia Budi   Jakarta Selatan                      107175   \n",
       "39   40        Cempaka Putih     Jakarta Pusat                       91267   \n",
       "40   41               Gambir     Jakarta Pusat                       87798   \n",
       "41   42              Menteng     Jakarta Pusat                       81850   \n",
       "42   43    Kep. Seribu Utara  Kepulauan Seribu                       14892   \n",
       "43   44  Kep. Seribu Selatan  Kepulauan Seribu                       10673   \n",
       "\n",
       "    Target Harian per Kecamatan  Cakupan Suntik 1      Keterangan  \\\n",
       "0                          5333             74966  Tidak Tercapai   \n",
       "1                          5041             85668  Tidak Tercapai   \n",
       "2                          4295             42991  Tidak Tercapai   \n",
       "3                          4073             41494  Tidak Tercapai   \n",
       "4                          4006             41413  Tidak Tercapai   \n",
       "5                          3728             81521  Tidak Tercapai   \n",
       "6                          3291             33493  Tidak Tercapai   \n",
       "7                          3285             53785  Tidak Tercapai   \n",
       "8                          3253             40095  Tidak Tercapai   \n",
       "9                          3018             50278  Tidak Tercapai   \n",
       "10                         3010             63222  Tidak Tercapai   \n",
       "11                         2939             52251  Tidak Tercapai   \n",
       "12                         2937             43323  Tidak Tercapai   \n",
       "13                         2860             90895  Tidak Tercapai   \n",
       "14                         2800             32047  Tidak Tercapai   \n",
       "15                         2779             48208  Tidak Tercapai   \n",
       "16                         2686             51430  Tidak Tercapai   \n",
       "17                         2658             62833  Tidak Tercapai   \n",
       "18                         2565             28635  Tidak Tercapai   \n",
       "19                         2378             31145  Tidak Tercapai   \n",
       "20                         2364             85087  Tidak Tercapai   \n",
       "21                         2177             45813  Tidak Tercapai   \n",
       "22                         2095             93121  Tidak Tercapai   \n",
       "23                         2077             45162  Tidak Tercapai   \n",
       "24                         2071             31829  Tidak Tercapai   \n",
       "25                         2047             54250  Tidak Tercapai   \n",
       "26                         1927             55656  Tidak Tercapai   \n",
       "27                         1745             25955  Tidak Tercapai   \n",
       "28                         1647            511564  Tidak Tercapai   \n",
       "29                         1612             32563  Tidak Tercapai   \n",
       "30                         1492             76901  Tidak Tercapai   \n",
       "31                         1483             28263  Tidak Tercapai   \n",
       "32                         1342            114730  Tidak Tercapai   \n",
       "33                         1149             25199  Tidak Tercapai   \n",
       "34                         1120             39451  Tidak Tercapai   \n",
       "35                         1114             76263  Tidak Tercapai   \n",
       "36                         1102             45816  Tidak Tercapai   \n",
       "37                         1099             77377  Tidak Tercapai   \n",
       "38                         1019             93862  Tidak Tercapai   \n",
       "39                          893             23538  Tidak Tercapai   \n",
       "40                          879            128051  Tidak Tercapai   \n",
       "41                          770             51423  Tidak Tercapai   \n",
       "42                          122              3996  Tidak Tercapai   \n",
       "43                           82              4363  Tidak Tercapai   \n",
       "\n",
       "    Cakupan Suntik 2  Cakupan Suntik 1.1    Keterangan.1  ...  \\\n",
       "0              37590                 897  Tidak Tercapai  ...   \n",
       "1              47581                 429  Tidak Tercapai  ...   \n",
       "2              23222                 162  Tidak Tercapai  ...   \n",
       "3              22305                  17  Tidak Tercapai  ...   \n",
       "4              28993                   7  Tidak Tercapai  ...   \n",
       "5              51856                1031  Tidak Tercapai  ...   \n",
       "6              21193                  39  Tidak Tercapai  ...   \n",
       "7              38086                 366  Tidak Tercapai  ...   \n",
       "8              23217                 188  Tidak Tercapai  ...   \n",
       "9              39551                 150  Tidak Tercapai  ...   \n",
       "10             37131                1053  Tidak Tercapai  ...   \n",
       "11             36077                 271  Tidak Tercapai  ...   \n",
       "12             27425                 107  Tidak Tercapai  ...   \n",
       "13             46467                 994  Tidak Tercapai  ...   \n",
       "14             20888                  59  Tidak Tercapai  ...   \n",
       "15             30966                   0  Tidak Tercapai  ...   \n",
       "16             33548                 276  Tidak Tercapai  ...   \n",
       "17             47865                 203  Tidak Tercapai  ...   \n",
       "18             16484                 165  Tidak Tercapai  ...   \n",
       "19             19138                  16  Tidak Tercapai  ...   \n",
       "20             53498                 969  Tidak Tercapai  ...   \n",
       "21             28089                1188  Tidak Tercapai  ...   \n",
       "22             37259                 842  Tidak Tercapai  ...   \n",
       "23            156991                 520  Tidak Tercapai  ...   \n",
       "24             21996                 157  Tidak Tercapai  ...   \n",
       "25             38481                  48  Tidak Tercapai  ...   \n",
       "26             38990                 701  Tidak Tercapai  ...   \n",
       "27             18699                   1  Tidak Tercapai  ...   \n",
       "28            128537                   1  Tidak Tercapai  ...   \n",
       "29             16683                2322        Tercapai  ...   \n",
       "30             50323                 315  Tidak Tercapai  ...   \n",
       "31             16416                  43  Tidak Tercapai  ...   \n",
       "32            215545                2296        Tercapai  ...   \n",
       "33             16819                   0  Tidak Tercapai  ...   \n",
       "34             22174                   9  Tidak Tercapai  ...   \n",
       "35             42103                1237        Tercapai  ...   \n",
       "36             15372                 248  Tidak Tercapai  ...   \n",
       "37             57501                 427  Tidak Tercapai  ...   \n",
       "38             67141                1073        Tercapai  ...   \n",
       "39             18224                 189  Tidak Tercapai  ...   \n",
       "40            106825                 208  Tidak Tercapai  ...   \n",
       "41             32895                  57  Tidak Tercapai  ...   \n",
       "42              2850                   0  Tidak Tercapai  ...   \n",
       "43              2818                   0  Tidak Tercapai  ...   \n",
       "\n",
       "    Cakupan Suntik 2.366  Cakupan Suntik 1.367  Keterangan.367  \\\n",
       "0                      2                    56  Tidak Tercapai   \n",
       "1                      1                    53  Tidak Tercapai   \n",
       "2                      0                    32  Tidak Tercapai   \n",
       "3                      3                    52  Tidak Tercapai   \n",
       "4                      3                    15  Tidak Tercapai   \n",
       "5                      3                    51  Tidak Tercapai   \n",
       "6                      0                    27  Tidak Tercapai   \n",
       "7                      2                    20  Tidak Tercapai   \n",
       "8                      1                    21  Tidak Tercapai   \n",
       "9                      4                    11  Tidak Tercapai   \n",
       "10                     0                    27  Tidak Tercapai   \n",
       "11                    10                    27  Tidak Tercapai   \n",
       "12                     0                    29  Tidak Tercapai   \n",
       "13                     1                    23  Tidak Tercapai   \n",
       "14                     5                    12  Tidak Tercapai   \n",
       "15                     2                    26  Tidak Tercapai   \n",
       "16                    12                    30  Tidak Tercapai   \n",
       "17                     2                    20  Tidak Tercapai   \n",
       "18                     4                     9  Tidak Tercapai   \n",
       "19                    15                    21  Tidak Tercapai   \n",
       "20                     1                    47  Tidak Tercapai   \n",
       "21                     1                     6  Tidak Tercapai   \n",
       "22                     3                    12  Tidak Tercapai   \n",
       "23                     5                     0  Tidak Tercapai   \n",
       "24                     8                    23  Tidak Tercapai   \n",
       "25                     2                     6  Tidak Tercapai   \n",
       "26                     8                     2  Tidak Tercapai   \n",
       "27                    33                    50  Tidak Tercapai   \n",
       "28                     1                    57  Tidak Tercapai   \n",
       "29                     1                     6  Tidak Tercapai   \n",
       "30                     2                    37  Tidak Tercapai   \n",
       "31                     0                     8  Tidak Tercapai   \n",
       "32                    20                     0  Tidak Tercapai   \n",
       "33                    10                     1  Tidak Tercapai   \n",
       "34                     5                     0  Tidak Tercapai   \n",
       "35                     6                     9  Tidak Tercapai   \n",
       "36                     2                     7  Tidak Tercapai   \n",
       "37                     1                     7  Tidak Tercapai   \n",
       "38                     2                    11  Tidak Tercapai   \n",
       "39                     3                    19  Tidak Tercapai   \n",
       "40                     5                    19  Tidak Tercapai   \n",
       "41                     5                    10  Tidak Tercapai   \n",
       "42                     0                     0  Tidak Tercapai   \n",
       "43                     0                     1  Tidak Tercapai   \n",
       "\n",
       "    Cakupan Suntik 2.367  Cakupan Suntik 1.368  Keterangan.368  \\\n",
       "0                     41                    35  Tidak Tercapai   \n",
       "1                     48                    29  Tidak Tercapai   \n",
       "2                     25                    44  Tidak Tercapai   \n",
       "3                     76                    38  Tidak Tercapai   \n",
       "4                     31                    26  Tidak Tercapai   \n",
       "5                     67                    85  Tidak Tercapai   \n",
       "6                     14                    21  Tidak Tercapai   \n",
       "7                     26                    11  Tidak Tercapai   \n",
       "8                     38                    26  Tidak Tercapai   \n",
       "9                     37                    20  Tidak Tercapai   \n",
       "10                    39                    33  Tidak Tercapai   \n",
       "11                    34                    38  Tidak Tercapai   \n",
       "12                    35                    22  Tidak Tercapai   \n",
       "13                    48                    22  Tidak Tercapai   \n",
       "14                    22                    33  Tidak Tercapai   \n",
       "15                    27                    18  Tidak Tercapai   \n",
       "16                    22                    34  Tidak Tercapai   \n",
       "17                    34                    16  Tidak Tercapai   \n",
       "18                    16                    14  Tidak Tercapai   \n",
       "19                    43                    27  Tidak Tercapai   \n",
       "20                    58                    14  Tidak Tercapai   \n",
       "21                    10                    19  Tidak Tercapai   \n",
       "22                    33                    22  Tidak Tercapai   \n",
       "23                    17                    42  Tidak Tercapai   \n",
       "24                    28                    37  Tidak Tercapai   \n",
       "25                    14                     8  Tidak Tercapai   \n",
       "26                    24                    13  Tidak Tercapai   \n",
       "27                    84                    51  Tidak Tercapai   \n",
       "28                     3                     0  Tidak Tercapai   \n",
       "29                    14                    12  Tidak Tercapai   \n",
       "30                    45                    32  Tidak Tercapai   \n",
       "31                     9                     7  Tidak Tercapai   \n",
       "32                    71                    61  Tidak Tercapai   \n",
       "33                    29                     7  Tidak Tercapai   \n",
       "34                     9                    22  Tidak Tercapai   \n",
       "35                     8                    28  Tidak Tercapai   \n",
       "36                    11                    14  Tidak Tercapai   \n",
       "37                    12                     9  Tidak Tercapai   \n",
       "38                     6                     1  Tidak Tercapai   \n",
       "39                    27                     8  Tidak Tercapai   \n",
       "40                    21                    18  Tidak Tercapai   \n",
       "41                    15                    10  Tidak Tercapai   \n",
       "42                     1                     1  Tidak Tercapai   \n",
       "43                     0                     0  Tidak Tercapai   \n",
       "\n",
       "    Cakupan Suntik 2.368  Cakupan Suntik 1.369  Keterangan.369  \\\n",
       "0                     46                    56  Tidak Tercapai   \n",
       "1                     54                    33  Tidak Tercapai   \n",
       "2                     29                    25  Tidak Tercapai   \n",
       "3                     57                    64  Tidak Tercapai   \n",
       "4                     27                    32  Tidak Tercapai   \n",
       "5                     63                    69  Tidak Tercapai   \n",
       "6                     24                    11  Tidak Tercapai   \n",
       "7                     30                    23  Tidak Tercapai   \n",
       "8                     24                    30  Tidak Tercapai   \n",
       "9                     21                    27  Tidak Tercapai   \n",
       "10                    17                    26  Tidak Tercapai   \n",
       "11                    44                    42  Tidak Tercapai   \n",
       "12                    26                    19  Tidak Tercapai   \n",
       "13                    57                    33  Tidak Tercapai   \n",
       "14                    27                     5  Tidak Tercapai   \n",
       "15                    21                    36  Tidak Tercapai   \n",
       "16                    37                    41  Tidak Tercapai   \n",
       "17                    29                    24  Tidak Tercapai   \n",
       "18                    17                    17  Tidak Tercapai   \n",
       "19                    32                    28  Tidak Tercapai   \n",
       "20                    16                    33  Tidak Tercapai   \n",
       "21                     8                    16  Tidak Tercapai   \n",
       "22                    24                    16  Tidak Tercapai   \n",
       "23                    27                    70  Tidak Tercapai   \n",
       "24                    25                    20  Tidak Tercapai   \n",
       "25                    10                    21  Tidak Tercapai   \n",
       "26                     7                     8  Tidak Tercapai   \n",
       "27                    49                    48  Tidak Tercapai   \n",
       "28                     6                     0  Tidak Tercapai   \n",
       "29                    15                     5  Tidak Tercapai   \n",
       "30                    36                    23  Tidak Tercapai   \n",
       "31                    19                     7  Tidak Tercapai   \n",
       "32                    47                   103  Tidak Tercapai   \n",
       "33                    15                     8  Tidak Tercapai   \n",
       "34                    15                    12  Tidak Tercapai   \n",
       "35                    28                    16  Tidak Tercapai   \n",
       "36                    13                    13  Tidak Tercapai   \n",
       "37                     3                    14  Tidak Tercapai   \n",
       "38                     7                    13  Tidak Tercapai   \n",
       "39                    17                     4  Tidak Tercapai   \n",
       "40                    31                    36  Tidak Tercapai   \n",
       "41                    12                    14  Tidak Tercapai   \n",
       "42                     0                     0  Tidak Tercapai   \n",
       "43                     0                     0  Tidak Tercapai   \n",
       "\n",
       "    Cakupan Suntik 2.369  \n",
       "0                     48  \n",
       "1                     35  \n",
       "2                     28  \n",
       "3                     52  \n",
       "4                     25  \n",
       "5                     36  \n",
       "6                     17  \n",
       "7                     24  \n",
       "8                     17  \n",
       "9                     31  \n",
       "10                    32  \n",
       "11                    49  \n",
       "12                    34  \n",
       "13                    29  \n",
       "14                     8  \n",
       "15                    23  \n",
       "16                    21  \n",
       "17                    27  \n",
       "18                    19  \n",
       "19                    22  \n",
       "20                    33  \n",
       "21                    13  \n",
       "22                    25  \n",
       "23                    22  \n",
       "24                    25  \n",
       "25                    16  \n",
       "26                    19  \n",
       "27                    66  \n",
       "28                    10  \n",
       "29                    12  \n",
       "30                    26  \n",
       "31                    17  \n",
       "32                    33  \n",
       "33                    10  \n",
       "34                     9  \n",
       "35                    18  \n",
       "36                    10  \n",
       "37                    11  \n",
       "38                    13  \n",
       "39                     5  \n",
       "40                    26  \n",
       "41                     6  \n",
       "42                     0  \n",
       "43                     1  \n",
       "\n",
       "[44 rows x 1114 columns]"
      ]
     },
     "execution_count": 264,
     "metadata": {},
     "output_type": "execute_result"
    }
   ],
   "source": [
    "df_DU_VW"
   ]
  },
  {
   "cell_type": "code",
   "execution_count": 265,
   "metadata": {},
   "outputs": [
    {
     "data": {
      "text/html": [
       "<div>\n",
       "<style scoped>\n",
       "    .dataframe tbody tr th:only-of-type {\n",
       "        vertical-align: middle;\n",
       "    }\n",
       "\n",
       "    .dataframe tbody tr th {\n",
       "        vertical-align: top;\n",
       "    }\n",
       "\n",
       "    .dataframe thead th {\n",
       "        text-align: right;\n",
       "    }\n",
       "</style>\n",
       "<table border=\"1\" class=\"dataframe\">\n",
       "  <thead>\n",
       "    <tr style=\"text-align: right;\">\n",
       "      <th></th>\n",
       "      <th>Total Vaksinasi</th>\n",
       "    </tr>\n",
       "    <tr>\n",
       "      <th>Kota / Kabupaten</th>\n",
       "      <th></th>\n",
       "    </tr>\n",
       "  </thead>\n",
       "  <tbody>\n",
       "    <tr>\n",
       "      <th>Jakarta Barat</th>\n",
       "      <td>3889204</td>\n",
       "    </tr>\n",
       "    <tr>\n",
       "      <th>Jakarta Pusat</th>\n",
       "      <td>3905840</td>\n",
       "    </tr>\n",
       "    <tr>\n",
       "      <th>Jakarta Selatan</th>\n",
       "      <td>5564185</td>\n",
       "    </tr>\n",
       "    <tr>\n",
       "      <th>Jakarta Timur</th>\n",
       "      <td>4721845</td>\n",
       "    </tr>\n",
       "    <tr>\n",
       "      <th>Jakarta Utara</th>\n",
       "      <td>3348347</td>\n",
       "    </tr>\n",
       "    <tr>\n",
       "      <th>Kepulauan Seribu</th>\n",
       "      <td>45919</td>\n",
       "    </tr>\n",
       "  </tbody>\n",
       "</table>\n",
       "</div>"
      ],
      "text/plain": [
       "                  Total Vaksinasi\n",
       "Kota / Kabupaten                 \n",
       "Jakarta Barat             3889204\n",
       "Jakarta Pusat             3905840\n",
       "Jakarta Selatan           5564185\n",
       "Jakarta Timur             4721845\n",
       "Jakarta Utara             3348347\n",
       "Kepulauan Seribu            45919"
      ]
     },
     "execution_count": 265,
     "metadata": {},
     "output_type": "execute_result"
    }
   ],
   "source": [
    "df_DU_VW_grouped_kota"
   ]
  },
  {
   "cell_type": "code",
   "execution_count": 262,
   "metadata": {},
   "outputs": [
    {
     "data": {
      "text/plain": [
       "Total Vaksinasi    21475340\n",
       "dtype: int64"
      ]
     },
     "execution_count": 262,
     "metadata": {},
     "output_type": "execute_result"
    }
   ],
   "source": [
    "df_DU_VW_grouped_kota.sum()"
   ]
  },
  {
   "cell_type": "code",
   "execution_count": 268,
   "metadata": {},
   "outputs": [
    {
     "data": {
      "application/vnd.plotly.v1+json": {
       "config": {
        "plotlyServerURL": "https://plot.ly"
       },
       "data": [
        {
         "alignmentgroup": "True",
         "hovertemplate": "Kota / Kabupaten=%{x}<br>value=%{y}<extra></extra>",
         "legendgroup": "Jakarta Barat",
         "marker": {
          "color": "#636efa",
          "pattern": {
           "shape": ""
          }
         },
         "name": "Jakarta Barat",
         "offsetgroup": "Jakarta Barat",
         "orientation": "v",
         "showlegend": true,
         "textposition": "auto",
         "texttemplate": "%{y}",
         "type": "bar",
         "x": [
          "Jakarta Barat"
         ],
         "xaxis": "x",
         "y": [
          3889204
         ],
         "yaxis": "y"
        },
        {
         "alignmentgroup": "True",
         "hovertemplate": "Kota / Kabupaten=%{x}<br>value=%{y}<extra></extra>",
         "legendgroup": "Jakarta Pusat",
         "marker": {
          "color": "#EF553B",
          "pattern": {
           "shape": ""
          }
         },
         "name": "Jakarta Pusat",
         "offsetgroup": "Jakarta Pusat",
         "orientation": "v",
         "showlegend": true,
         "textposition": "auto",
         "texttemplate": "%{y}",
         "type": "bar",
         "x": [
          "Jakarta Pusat"
         ],
         "xaxis": "x",
         "y": [
          3905840
         ],
         "yaxis": "y"
        },
        {
         "alignmentgroup": "True",
         "hovertemplate": "Kota / Kabupaten=%{x}<br>value=%{y}<extra></extra>",
         "legendgroup": "Jakarta Selatan",
         "marker": {
          "color": "#00cc96",
          "pattern": {
           "shape": ""
          }
         },
         "name": "Jakarta Selatan",
         "offsetgroup": "Jakarta Selatan",
         "orientation": "v",
         "showlegend": true,
         "textposition": "auto",
         "texttemplate": "%{y}",
         "type": "bar",
         "x": [
          "Jakarta Selatan"
         ],
         "xaxis": "x",
         "y": [
          5564185
         ],
         "yaxis": "y"
        },
        {
         "alignmentgroup": "True",
         "hovertemplate": "Kota / Kabupaten=%{x}<br>value=%{y}<extra></extra>",
         "legendgroup": "Jakarta Timur",
         "marker": {
          "color": "#ab63fa",
          "pattern": {
           "shape": ""
          }
         },
         "name": "Jakarta Timur",
         "offsetgroup": "Jakarta Timur",
         "orientation": "v",
         "showlegend": true,
         "textposition": "auto",
         "texttemplate": "%{y}",
         "type": "bar",
         "x": [
          "Jakarta Timur"
         ],
         "xaxis": "x",
         "y": [
          4721845
         ],
         "yaxis": "y"
        },
        {
         "alignmentgroup": "True",
         "hovertemplate": "Kota / Kabupaten=%{x}<br>value=%{y}<extra></extra>",
         "legendgroup": "Jakarta Utara",
         "marker": {
          "color": "#FFA15A",
          "pattern": {
           "shape": ""
          }
         },
         "name": "Jakarta Utara",
         "offsetgroup": "Jakarta Utara",
         "orientation": "v",
         "showlegend": true,
         "textposition": "auto",
         "texttemplate": "%{y}",
         "type": "bar",
         "x": [
          "Jakarta Utara"
         ],
         "xaxis": "x",
         "y": [
          3348347
         ],
         "yaxis": "y"
        },
        {
         "alignmentgroup": "True",
         "hovertemplate": "Kota / Kabupaten=%{x}<br>value=%{y}<extra></extra>",
         "legendgroup": "Kepulauan Seribu",
         "marker": {
          "color": "#19d3f3",
          "pattern": {
           "shape": ""
          }
         },
         "name": "Kepulauan Seribu",
         "offsetgroup": "Kepulauan Seribu",
         "orientation": "v",
         "showlegend": true,
         "textposition": "auto",
         "texttemplate": "%{y}",
         "type": "bar",
         "x": [
          "Kepulauan Seribu"
         ],
         "xaxis": "x",
         "y": [
          45919
         ],
         "yaxis": "y"
        }
       ],
       "layout": {
        "barmode": "relative",
        "legend": {
         "title": {
          "text": "Kota / Kabupaten"
         },
         "tracegroupgap": 0
        },
        "margin": {
         "t": 60
        },
        "template": {
         "data": {
          "bar": [
           {
            "error_x": {
             "color": "#2a3f5f"
            },
            "error_y": {
             "color": "#2a3f5f"
            },
            "marker": {
             "line": {
              "color": "#E5ECF6",
              "width": 0.5
             },
             "pattern": {
              "fillmode": "overlay",
              "size": 10,
              "solidity": 0.2
             }
            },
            "type": "bar"
           }
          ],
          "barpolar": [
           {
            "marker": {
             "line": {
              "color": "#E5ECF6",
              "width": 0.5
             },
             "pattern": {
              "fillmode": "overlay",
              "size": 10,
              "solidity": 0.2
             }
            },
            "type": "barpolar"
           }
          ],
          "carpet": [
           {
            "aaxis": {
             "endlinecolor": "#2a3f5f",
             "gridcolor": "white",
             "linecolor": "white",
             "minorgridcolor": "white",
             "startlinecolor": "#2a3f5f"
            },
            "baxis": {
             "endlinecolor": "#2a3f5f",
             "gridcolor": "white",
             "linecolor": "white",
             "minorgridcolor": "white",
             "startlinecolor": "#2a3f5f"
            },
            "type": "carpet"
           }
          ],
          "choropleth": [
           {
            "colorbar": {
             "outlinewidth": 0,
             "ticks": ""
            },
            "type": "choropleth"
           }
          ],
          "contour": [
           {
            "colorbar": {
             "outlinewidth": 0,
             "ticks": ""
            },
            "colorscale": [
             [
              0,
              "#0d0887"
             ],
             [
              0.1111111111111111,
              "#46039f"
             ],
             [
              0.2222222222222222,
              "#7201a8"
             ],
             [
              0.3333333333333333,
              "#9c179e"
             ],
             [
              0.4444444444444444,
              "#bd3786"
             ],
             [
              0.5555555555555556,
              "#d8576b"
             ],
             [
              0.6666666666666666,
              "#ed7953"
             ],
             [
              0.7777777777777778,
              "#fb9f3a"
             ],
             [
              0.8888888888888888,
              "#fdca26"
             ],
             [
              1,
              "#f0f921"
             ]
            ],
            "type": "contour"
           }
          ],
          "contourcarpet": [
           {
            "colorbar": {
             "outlinewidth": 0,
             "ticks": ""
            },
            "type": "contourcarpet"
           }
          ],
          "heatmap": [
           {
            "colorbar": {
             "outlinewidth": 0,
             "ticks": ""
            },
            "colorscale": [
             [
              0,
              "#0d0887"
             ],
             [
              0.1111111111111111,
              "#46039f"
             ],
             [
              0.2222222222222222,
              "#7201a8"
             ],
             [
              0.3333333333333333,
              "#9c179e"
             ],
             [
              0.4444444444444444,
              "#bd3786"
             ],
             [
              0.5555555555555556,
              "#d8576b"
             ],
             [
              0.6666666666666666,
              "#ed7953"
             ],
             [
              0.7777777777777778,
              "#fb9f3a"
             ],
             [
              0.8888888888888888,
              "#fdca26"
             ],
             [
              1,
              "#f0f921"
             ]
            ],
            "type": "heatmap"
           }
          ],
          "heatmapgl": [
           {
            "colorbar": {
             "outlinewidth": 0,
             "ticks": ""
            },
            "colorscale": [
             [
              0,
              "#0d0887"
             ],
             [
              0.1111111111111111,
              "#46039f"
             ],
             [
              0.2222222222222222,
              "#7201a8"
             ],
             [
              0.3333333333333333,
              "#9c179e"
             ],
             [
              0.4444444444444444,
              "#bd3786"
             ],
             [
              0.5555555555555556,
              "#d8576b"
             ],
             [
              0.6666666666666666,
              "#ed7953"
             ],
             [
              0.7777777777777778,
              "#fb9f3a"
             ],
             [
              0.8888888888888888,
              "#fdca26"
             ],
             [
              1,
              "#f0f921"
             ]
            ],
            "type": "heatmapgl"
           }
          ],
          "histogram": [
           {
            "marker": {
             "pattern": {
              "fillmode": "overlay",
              "size": 10,
              "solidity": 0.2
             }
            },
            "type": "histogram"
           }
          ],
          "histogram2d": [
           {
            "colorbar": {
             "outlinewidth": 0,
             "ticks": ""
            },
            "colorscale": [
             [
              0,
              "#0d0887"
             ],
             [
              0.1111111111111111,
              "#46039f"
             ],
             [
              0.2222222222222222,
              "#7201a8"
             ],
             [
              0.3333333333333333,
              "#9c179e"
             ],
             [
              0.4444444444444444,
              "#bd3786"
             ],
             [
              0.5555555555555556,
              "#d8576b"
             ],
             [
              0.6666666666666666,
              "#ed7953"
             ],
             [
              0.7777777777777778,
              "#fb9f3a"
             ],
             [
              0.8888888888888888,
              "#fdca26"
             ],
             [
              1,
              "#f0f921"
             ]
            ],
            "type": "histogram2d"
           }
          ],
          "histogram2dcontour": [
           {
            "colorbar": {
             "outlinewidth": 0,
             "ticks": ""
            },
            "colorscale": [
             [
              0,
              "#0d0887"
             ],
             [
              0.1111111111111111,
              "#46039f"
             ],
             [
              0.2222222222222222,
              "#7201a8"
             ],
             [
              0.3333333333333333,
              "#9c179e"
             ],
             [
              0.4444444444444444,
              "#bd3786"
             ],
             [
              0.5555555555555556,
              "#d8576b"
             ],
             [
              0.6666666666666666,
              "#ed7953"
             ],
             [
              0.7777777777777778,
              "#fb9f3a"
             ],
             [
              0.8888888888888888,
              "#fdca26"
             ],
             [
              1,
              "#f0f921"
             ]
            ],
            "type": "histogram2dcontour"
           }
          ],
          "mesh3d": [
           {
            "colorbar": {
             "outlinewidth": 0,
             "ticks": ""
            },
            "type": "mesh3d"
           }
          ],
          "parcoords": [
           {
            "line": {
             "colorbar": {
              "outlinewidth": 0,
              "ticks": ""
             }
            },
            "type": "parcoords"
           }
          ],
          "pie": [
           {
            "automargin": true,
            "type": "pie"
           }
          ],
          "scatter": [
           {
            "marker": {
             "colorbar": {
              "outlinewidth": 0,
              "ticks": ""
             }
            },
            "type": "scatter"
           }
          ],
          "scatter3d": [
           {
            "line": {
             "colorbar": {
              "outlinewidth": 0,
              "ticks": ""
             }
            },
            "marker": {
             "colorbar": {
              "outlinewidth": 0,
              "ticks": ""
             }
            },
            "type": "scatter3d"
           }
          ],
          "scattercarpet": [
           {
            "marker": {
             "colorbar": {
              "outlinewidth": 0,
              "ticks": ""
             }
            },
            "type": "scattercarpet"
           }
          ],
          "scattergeo": [
           {
            "marker": {
             "colorbar": {
              "outlinewidth": 0,
              "ticks": ""
             }
            },
            "type": "scattergeo"
           }
          ],
          "scattergl": [
           {
            "marker": {
             "colorbar": {
              "outlinewidth": 0,
              "ticks": ""
             }
            },
            "type": "scattergl"
           }
          ],
          "scattermapbox": [
           {
            "marker": {
             "colorbar": {
              "outlinewidth": 0,
              "ticks": ""
             }
            },
            "type": "scattermapbox"
           }
          ],
          "scatterpolar": [
           {
            "marker": {
             "colorbar": {
              "outlinewidth": 0,
              "ticks": ""
             }
            },
            "type": "scatterpolar"
           }
          ],
          "scatterpolargl": [
           {
            "marker": {
             "colorbar": {
              "outlinewidth": 0,
              "ticks": ""
             }
            },
            "type": "scatterpolargl"
           }
          ],
          "scatterternary": [
           {
            "marker": {
             "colorbar": {
              "outlinewidth": 0,
              "ticks": ""
             }
            },
            "type": "scatterternary"
           }
          ],
          "surface": [
           {
            "colorbar": {
             "outlinewidth": 0,
             "ticks": ""
            },
            "colorscale": [
             [
              0,
              "#0d0887"
             ],
             [
              0.1111111111111111,
              "#46039f"
             ],
             [
              0.2222222222222222,
              "#7201a8"
             ],
             [
              0.3333333333333333,
              "#9c179e"
             ],
             [
              0.4444444444444444,
              "#bd3786"
             ],
             [
              0.5555555555555556,
              "#d8576b"
             ],
             [
              0.6666666666666666,
              "#ed7953"
             ],
             [
              0.7777777777777778,
              "#fb9f3a"
             ],
             [
              0.8888888888888888,
              "#fdca26"
             ],
             [
              1,
              "#f0f921"
             ]
            ],
            "type": "surface"
           }
          ],
          "table": [
           {
            "cells": {
             "fill": {
              "color": "#EBF0F8"
             },
             "line": {
              "color": "white"
             }
            },
            "header": {
             "fill": {
              "color": "#C8D4E3"
             },
             "line": {
              "color": "white"
             }
            },
            "type": "table"
           }
          ]
         },
         "layout": {
          "annotationdefaults": {
           "arrowcolor": "#2a3f5f",
           "arrowhead": 0,
           "arrowwidth": 1
          },
          "autotypenumbers": "strict",
          "coloraxis": {
           "colorbar": {
            "outlinewidth": 0,
            "ticks": ""
           }
          },
          "colorscale": {
           "diverging": [
            [
             0,
             "#8e0152"
            ],
            [
             0.1,
             "#c51b7d"
            ],
            [
             0.2,
             "#de77ae"
            ],
            [
             0.3,
             "#f1b6da"
            ],
            [
             0.4,
             "#fde0ef"
            ],
            [
             0.5,
             "#f7f7f7"
            ],
            [
             0.6,
             "#e6f5d0"
            ],
            [
             0.7,
             "#b8e186"
            ],
            [
             0.8,
             "#7fbc41"
            ],
            [
             0.9,
             "#4d9221"
            ],
            [
             1,
             "#276419"
            ]
           ],
           "sequential": [
            [
             0,
             "#0d0887"
            ],
            [
             0.1111111111111111,
             "#46039f"
            ],
            [
             0.2222222222222222,
             "#7201a8"
            ],
            [
             0.3333333333333333,
             "#9c179e"
            ],
            [
             0.4444444444444444,
             "#bd3786"
            ],
            [
             0.5555555555555556,
             "#d8576b"
            ],
            [
             0.6666666666666666,
             "#ed7953"
            ],
            [
             0.7777777777777778,
             "#fb9f3a"
            ],
            [
             0.8888888888888888,
             "#fdca26"
            ],
            [
             1,
             "#f0f921"
            ]
           ],
           "sequentialminus": [
            [
             0,
             "#0d0887"
            ],
            [
             0.1111111111111111,
             "#46039f"
            ],
            [
             0.2222222222222222,
             "#7201a8"
            ],
            [
             0.3333333333333333,
             "#9c179e"
            ],
            [
             0.4444444444444444,
             "#bd3786"
            ],
            [
             0.5555555555555556,
             "#d8576b"
            ],
            [
             0.6666666666666666,
             "#ed7953"
            ],
            [
             0.7777777777777778,
             "#fb9f3a"
            ],
            [
             0.8888888888888888,
             "#fdca26"
            ],
            [
             1,
             "#f0f921"
            ]
           ]
          },
          "colorway": [
           "#636efa",
           "#EF553B",
           "#00cc96",
           "#ab63fa",
           "#FFA15A",
           "#19d3f3",
           "#FF6692",
           "#B6E880",
           "#FF97FF",
           "#FECB52"
          ],
          "font": {
           "color": "#2a3f5f"
          },
          "geo": {
           "bgcolor": "white",
           "lakecolor": "white",
           "landcolor": "#E5ECF6",
           "showlakes": true,
           "showland": true,
           "subunitcolor": "white"
          },
          "hoverlabel": {
           "align": "left"
          },
          "hovermode": "closest",
          "mapbox": {
           "style": "light"
          },
          "paper_bgcolor": "white",
          "plot_bgcolor": "#E5ECF6",
          "polar": {
           "angularaxis": {
            "gridcolor": "white",
            "linecolor": "white",
            "ticks": ""
           },
           "bgcolor": "#E5ECF6",
           "radialaxis": {
            "gridcolor": "white",
            "linecolor": "white",
            "ticks": ""
           }
          },
          "scene": {
           "xaxis": {
            "backgroundcolor": "#E5ECF6",
            "gridcolor": "white",
            "gridwidth": 2,
            "linecolor": "white",
            "showbackground": true,
            "ticks": "",
            "zerolinecolor": "white"
           },
           "yaxis": {
            "backgroundcolor": "#E5ECF6",
            "gridcolor": "white",
            "gridwidth": 2,
            "linecolor": "white",
            "showbackground": true,
            "ticks": "",
            "zerolinecolor": "white"
           },
           "zaxis": {
            "backgroundcolor": "#E5ECF6",
            "gridcolor": "white",
            "gridwidth": 2,
            "linecolor": "white",
            "showbackground": true,
            "ticks": "",
            "zerolinecolor": "white"
           }
          },
          "shapedefaults": {
           "line": {
            "color": "#2a3f5f"
           }
          },
          "ternary": {
           "aaxis": {
            "gridcolor": "white",
            "linecolor": "white",
            "ticks": ""
           },
           "baxis": {
            "gridcolor": "white",
            "linecolor": "white",
            "ticks": ""
           },
           "bgcolor": "#E5ECF6",
           "caxis": {
            "gridcolor": "white",
            "linecolor": "white",
            "ticks": ""
           }
          },
          "title": {
           "x": 0.05
          },
          "xaxis": {
           "automargin": true,
           "gridcolor": "white",
           "linecolor": "white",
           "ticks": "",
           "title": {
            "standoff": 15
           },
           "zerolinecolor": "white",
           "zerolinewidth": 2
          },
          "yaxis": {
           "automargin": true,
           "gridcolor": "white",
           "linecolor": "white",
           "ticks": "",
           "title": {
            "standoff": 15
           },
           "zerolinecolor": "white",
           "zerolinewidth": 2
          }
         }
        },
        "xaxis": {
         "anchor": "y",
         "categoryarray": [
          "Jakarta Barat",
          "Jakarta Pusat",
          "Jakarta Selatan",
          "Jakarta Timur",
          "Jakarta Utara",
          "Kepulauan Seribu"
         ],
         "categoryorder": "array",
         "domain": [
          0,
          1
         ],
         "title": {
          "text": "Kota / Kabupaten"
         }
        },
        "yaxis": {
         "anchor": "x",
         "domain": [
          0,
          1
         ],
         "title": {
          "text": "value"
         }
        }
       }
      }
     },
     "metadata": {},
     "output_type": "display_data"
    }
   ],
   "source": [
    "px.bar(df_DU_VW_grouped_kota,color=df_DU_VW_grouped_kota.index,text_auto=True)"
   ]
  },
  {
   "cell_type": "markdown",
   "metadata": {},
   "source": [
    "### F. Daftar Pustaka"
   ]
  },
  {
   "cell_type": "markdown",
   "metadata": {},
   "source": [
    "https://www.suara.com/news/2021/06/27/003810/covid-19-di-indonesia-menggila-ini-data-lonjakan-kasus-sepanjang-bulan-juni"
   ]
  }
 ],
 "metadata": {
  "kernelspec": {
   "display_name": "Python 3.9.7 ('base')",
   "language": "python",
   "name": "python3"
  },
  "language_info": {
   "codemirror_mode": {
    "name": "ipython",
    "version": 3
   },
   "file_extension": ".py",
   "mimetype": "text/x-python",
   "name": "python",
   "nbconvert_exporter": "python",
   "pygments_lexer": "ipython3",
   "version": "3.9.7"
  },
  "orig_nbformat": 4,
  "vscode": {
   "interpreter": {
    "hash": "ab4cfb695e4995928d8d48b937410e7989a45ba361d6003efd8e9b7b9498f677"
   }
  }
 },
 "nbformat": 4,
 "nbformat_minor": 2
}
